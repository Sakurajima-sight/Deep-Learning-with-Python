{
 "cells": [
  {
   "cell_type": "code",
   "execution_count": 1,
   "id": "ff5c8f4d",
   "metadata": {
    "ExecuteTime": {
     "end_time": "2022-09-20T11:17:08.550642Z",
     "start_time": "2022-09-20T11:17:07.903625Z"
    }
   },
   "outputs": [
    {
     "ename": "ModuleNotFoundError",
     "evalue": "No module named 'matplotlib'",
     "output_type": "error",
     "traceback": [
      "\u001b[1;31m---------------------------------------------------------------------------\u001b[0m",
      "\u001b[1;31mModuleNotFoundError\u001b[0m                       Traceback (most recent call last)",
      "Input \u001b[1;32mIn [1]\u001b[0m, in \u001b[0;36m<cell line: 5>\u001b[1;34m()\u001b[0m\n\u001b[0;32m      3\u001b[0m \u001b[38;5;28;01mimport\u001b[39;00m \u001b[38;5;21;01mscipy\u001b[39;00m\u001b[38;5;21;01m.\u001b[39;00m\u001b[38;5;21;01mspecial\u001b[39;00m\n\u001b[0;32m      4\u001b[0m \u001b[38;5;66;03m# ensure the plots are inside this notebook, not an external window\u001b[39;00m\n\u001b[1;32m----> 5\u001b[0m \u001b[38;5;28;01mimport\u001b[39;00m \u001b[38;5;21;01mmatplotlib\u001b[39;00m\u001b[38;5;21;01m.\u001b[39;00m\u001b[38;5;21;01mpyplot\u001b[39;00m\n\u001b[0;32m      6\u001b[0m get_ipython()\u001b[38;5;241m.\u001b[39mrun_line_magic(\u001b[38;5;124m'\u001b[39m\u001b[38;5;124mmatplotlib\u001b[39m\u001b[38;5;124m'\u001b[39m, \u001b[38;5;124m'\u001b[39m\u001b[38;5;124minline\u001b[39m\u001b[38;5;124m'\u001b[39m)\n",
      "\u001b[1;31mModuleNotFoundError\u001b[0m: No module named 'matplotlib'"
     ]
    }
   ],
   "source": [
    "import numpy\n",
    "# scipy.special for the sigmoid function expit()\n",
    "import scipy.special\n",
    "# ensure the plots are inside this notebook, not an external window\n",
    "import matplotlib.pyplot\n",
    "%matplotlib inline"
   ]
  },
  {
   "cell_type": "code",
   "execution_count": null,
   "id": "34f7b3f2",
   "metadata": {
    "ExecuteTime": {
     "end_time": "2022-09-20T11:17:08.555631Z",
     "start_time": "2022-09-20T11:17:08.555631Z"
    }
   },
   "outputs": [],
   "source": [
    "# neural network class definition\n",
    "class neuralNetwork:\n",
    "    \n",
    "    # initialise the neural network    \n",
    "    def __init__(self,inputnodes,hiddennodes,outputnodes,learningrate):\n",
    "        # set number of nodes in each input,hidden,output layer         \n",
    "        self.inodes=inputnodes\n",
    "        self.hnodes=hiddennodes\n",
    "        self.onodes=outputnodes\n",
    "    \n",
    "        # link weight matrices,wih and who\n",
    "        # weight inside the arrays are w_i_j,where link is from node i to node j in the next layer\n",
    "        # w11 w21\n",
    "        # w12 w22 etc\n",
    "        # self.wih=(numpy.random.rand(self.hnodes,self.inodes)-0.5)\n",
    "        # self.who=(numpy.random.rand(self.onodes,self.hnodes)-0.5)\n",
    "        self.wih=numpy.random.normal(0.0,pow(self.hnodes,-0.5),(self.hnodes,self.inodes))\n",
    "        self.who=numpy.random.normal(0.0,pow(self.onodes,-0.5),(self.onodes,self.hnodes))\n",
    "        \n",
    "        # learning rate         \n",
    "        self.lr=learningrate\n",
    "        \n",
    "        # activation function is the sigmoid function\n",
    "        self.activation_function=lambda x:scipy.special.expit(x)\n",
    "        \n",
    "        pass\n",
    "        \n",
    "    # train the neural network\n",
    "    def train(self,input_list,targets_list):\n",
    "        # convert inputs list to 2d array\n",
    "        inputs=numpy.array(input_list,ndmin=2).T\n",
    "        targets=numpy.array(targets_list,ndmin=2).T\n",
    "        \n",
    "        # calculate signals into hidden layer\n",
    "        hidden_inputs=numpy.dot(self.wih,inputs)\n",
    "        # calculate the signals emerging from hidden layer\n",
    "        hidden_outputs=self.activation_function(hidden_inputs)\n",
    "        \n",
    "        # calculate signals into final output layer\n",
    "        final_inputs=numpy.dot(self.who,hidden_outputs)\n",
    "        # calculate the signals emerging from final output layer\n",
    "        final_outputs=self.activation_function(final_inputs)\n",
    "        # error is the (target-actual)\n",
    "        output_errors=targets-final_outputs\n",
    "        # hidden layer error is the output_errors,split by weights,recombined at hidden nodes\n",
    "        hidden_errors=numpy.dot(self.who.T,output_errors)\n",
    "        \n",
    "        # update the weights for the links between the hidden and output layers\n",
    "        self.who+=self.lr*numpy.dot((output_errors*final_outputs*(1.0-final_outputs)),numpy.transpose(hidden_outputs))\n",
    "        \n",
    "        # update the weights for the links between the hidden and output layers\n",
    "        self.wih+=self.lr*numpy.dot((hidden_errors*hidden_outputs*(1.0-hidden_outputs)),numpy.transpose(inputs))\n",
    "        pass\n",
    "    \n",
    "    # query the neural network\n",
    "    def query(self,input_list):\n",
    "        # convert inputs list to 2d array\n",
    "        inputs=numpy.array(input_list,ndmin=2).T\n",
    "        \n",
    "        # calculate signals into hidden layer\n",
    "        hidden_inputs=numpy.dot(self.wih,inputs)\n",
    "        # calculate the signals emerging from hidden layer\n",
    "        hidden_outputs=self.activation_function(hidden_inputs)\n",
    "        \n",
    "        # calculate signals into final output layer\n",
    "        final_inputs=numpy.dot(self.who,hidden_outputs)\n",
    "        # calculate the signals emerging from final output layer\n",
    "        final_outputs=self.activation_function(final_inputs)\n",
    "        \n",
    "        return final_outputs"
   ]
  },
  {
   "cell_type": "code",
   "execution_count": null,
   "id": "67fcfb3b",
   "metadata": {
    "ExecuteTime": {
     "end_time": "2022-09-20T11:17:08.556633Z",
     "start_time": "2022-09-20T11:17:08.556633Z"
    }
   },
   "outputs": [],
   "source": [
    "# number of input,hidden and output nodes\n",
    "input_nodes=784\n",
    "hidden_nodes=200\n",
    "output_nodes=10\n",
    "\n",
    "# learning rate is 0.1\n",
    "learning_rate=0.1\n",
    "\n",
    "# create instance of neural network\n",
    "n=neuralNetwork(input_nodes,hidden_nodes,output_nodes,learning_rate)\n",
    "\n",
    "# load the mnist training data CSV file into a list\n",
    "training_data_file=open('mnist_dataset/mnist_train.csv','r')\n",
    "training_data_list=training_data_file.readlines()\n",
    "training_data_file.close()\n",
    "\n",
    "# train the neural network\n",
    "\n",
    "# epochs is the number of times the training data set is used for training\n",
    "epochs=7\n",
    "\n",
    "for e in range(epochs):\n",
    "    # go through all records in the training data set \n",
    "    for record in training_data_list:\n",
    "        # split the record by the ',' commas\n",
    "        all_values=record.split(',')\n",
    "        # scale and shift the inputs\n",
    "        inputs=(numpy.asfarray(all_values[1:])/255.0*0.99)+0.01\n",
    "        # create the target output values (all 0.01,expect the desired label which is 0.99)\n",
    "        targets=numpy.zeros(output_nodes)+0.01\n",
    "        # all_values[0] is the target label for this record\n",
    "        targets[int(all_values[0])]=0.99\n",
    "        n.train(inputs,targets)\n",
    "        pass"
   ]
  },
  {
   "cell_type": "code",
   "execution_count": null,
   "id": "6db5fae0",
   "metadata": {
    "ExecuteTime": {
     "end_time": "2022-09-20T11:17:08.557629Z",
     "start_time": "2022-09-20T11:17:08.557629Z"
    }
   },
   "outputs": [],
   "source": [
    "# load the mnist test data CSV file into a list\n",
    "test_data_file=open('mnist_dataset/mnist_train.csv','r')\n",
    "test_data_list=test_data_file.readlines()\n",
    "test_data_file.close()"
   ]
  },
  {
   "cell_type": "code",
   "execution_count": null,
   "id": "2679f1ad",
   "metadata": {
    "ExecuteTime": {
     "end_time": "2022-09-20T11:17:08.558624Z",
     "start_time": "2022-09-20T11:17:08.558624Z"
    }
   },
   "outputs": [],
   "source": [
    "# test the neural network\n",
    "\n",
    "# scorecard for how well the network performs,initially empty\n",
    "scorecard=[]\n",
    "\n",
    "# go through all the records in the test data set\n",
    "for record in test_data_list:\n",
    "    # split the record the by the ',' commas\n",
    "    all_values=record.split(',')\n",
    "    # correct answer is first value\n",
    "    correct_label=int(all_values[0])\n",
    "    # scale and shift the inputs\n",
    "    inputs=(numpy.asfarray(all_values[1:])/255.0*0.99)+0.01\n",
    "    # query the network\n",
    "    outputs=n.query(inputs)\n",
    "    # the index of the highest value corresponds to the label\n",
    "    label=numpy.argmax(outputs)\n",
    "    # append correct or incorrect to list\n",
    "    if (label==correct_label):\n",
    "        # network's answer matches correct answer,add 1 to scorecard\n",
    "        scorecard.append(1)\n",
    "    else:\n",
    "        # network's answer doesn't match correct answer,add 0 to scorecard\n",
    "        scorecard.append(0)\n",
    "        pass\n",
    "    pass"
   ]
  },
  {
   "cell_type": "code",
   "execution_count": null,
   "id": "b89a7ce3",
   "metadata": {
    "ExecuteTime": {
     "end_time": "2022-09-20T11:17:08.559627Z",
     "start_time": "2022-09-20T11:17:08.559627Z"
    }
   },
   "outputs": [],
   "source": [
    "# calculate the performance score,the function of correct answers\n",
    "scorecard_array=numpy.asarray(scorecard)\n",
    "print(\"performance = \",scorecard_array.sum()/scorecard_array.size)"
   ]
  },
  {
   "cell_type": "code",
   "execution_count": null,
   "id": "22a0b87e",
   "metadata": {
    "ExecuteTime": {
     "end_time": "2022-09-20T11:17:08.560624Z",
     "start_time": "2022-09-20T11:17:08.560624Z"
    }
   },
   "outputs": [],
   "source": [
    "import imageio\n",
    "img_array=imageio.imread('my_own_images/bird_5.png',as_gray=True)"
   ]
  },
  {
   "cell_type": "code",
   "execution_count": null,
   "id": "ac1e05f4",
   "metadata": {
    "ExecuteTime": {
     "end_time": "2022-09-20T11:17:08.561624Z",
     "start_time": "2022-09-20T11:17:08.561624Z"
    }
   },
   "outputs": [],
   "source": [
    "img_data=255.0-img_array\n",
    "img_data=(img_data/255.0*0.99)+0.01\n",
    "matplotlib.pyplot.imshow(img_data,cmap='Greys',interpolation='None')"
   ]
  },
  {
   "cell_type": "code",
   "execution_count": null,
   "id": "d59dfd82",
   "metadata": {
    "ExecuteTime": {
     "end_time": "2022-09-20T11:17:08.561624Z",
     "start_time": "2022-09-20T11:17:08.561624Z"
    }
   },
   "outputs": [],
   "source": [
    "img_data=255.0-img_array.reshape(784)\n",
    "img_data=(img_data/255.0*0.99)+0.01"
   ]
  },
  {
   "cell_type": "code",
   "execution_count": null,
   "id": "89b60640",
   "metadata": {
    "ExecuteTime": {
     "end_time": "2022-09-20T11:17:08.562623Z",
     "start_time": "2022-09-20T11:17:08.562623Z"
    }
   },
   "outputs": [],
   "source": [
    "numpy.argmax(n.query(img_data))"
   ]
  },
  {
   "cell_type": "code",
   "execution_count": null,
   "id": "fc0f42a3",
   "metadata": {
    "ExecuteTime": {
     "end_time": "2022-09-20T11:17:08.563625Z",
     "start_time": "2022-09-20T11:17:08.563625Z"
    }
   },
   "outputs": [],
   "source": [
    "def use_your_mnist_test(image,correct_label):\n",
    "    img_array=imageio.imread(image,as_gray=True)\n",
    "    img_show=255.0-img_array\n",
    "    matplotlib.pyplot.imshow(img_show,cmap='Greys',interpolation='None')\n",
    "    img_data=255.0-img_array.reshape(784)\n",
    "    img_data=(img_data/255.0*0.99)+0.01\n",
    "    result=n.query(img_data)\n",
    "    print(result)\n",
    "    network_label=numpy.argmax(result)\n",
    "    print('network says ',network_label)\n",
    "    if network_label==correct_label:\n",
    "        print('match!')\n",
    "    else:\n",
    "        print('no match!')"
   ]
  },
  {
   "cell_type": "code",
   "execution_count": null,
   "id": "232d7415",
   "metadata": {
    "ExecuteTime": {
     "end_time": "2022-09-20T11:17:08.564625Z",
     "start_time": "2022-09-20T11:17:08.564625Z"
    }
   },
   "outputs": [],
   "source": [
    "use_your_mnist_test('my_own_images/bird_5.png',5)"
   ]
  },
  {
   "cell_type": "code",
   "execution_count": null,
   "id": "a0e4838e",
   "metadata": {
    "ExecuteTime": {
     "end_time": "2022-09-20T11:17:08.565626Z",
     "start_time": "2022-09-20T11:17:08.565626Z"
    }
   },
   "outputs": [],
   "source": [
    "use_your_mnist_test('my_own_images/my_own_3.png',3)"
   ]
  },
  {
   "cell_type": "code",
   "execution_count": null,
   "id": "b7eff334",
   "metadata": {
    "ExecuteTime": {
     "end_time": "2022-09-20T11:17:08.567627Z",
     "start_time": "2022-09-20T11:17:08.567627Z"
    }
   },
   "outputs": [],
   "source": [
    "use_your_mnist_test('my_own_images/2828_my_own_2.png',2)"
   ]
  },
  {
   "cell_type": "code",
   "execution_count": null,
   "id": "65c29ccf",
   "metadata": {
    "ExecuteTime": {
     "end_time": "2022-09-20T11:17:08.569626Z",
     "start_time": "2022-09-20T11:17:08.569626Z"
    }
   },
   "outputs": [],
   "source": [
    "use_your_mnist_test('my_own_images/2828_my_own_3.png',3)"
   ]
  },
  {
   "cell_type": "code",
   "execution_count": null,
   "id": "857f3355",
   "metadata": {
    "ExecuteTime": {
     "end_time": "2022-09-20T11:17:08.570626Z",
     "start_time": "2022-09-20T11:17:08.570626Z"
    }
   },
   "outputs": [],
   "source": [
    "use_your_mnist_test('my_own_images/2828_my_own_4.png',4)"
   ]
  },
  {
   "cell_type": "code",
   "execution_count": null,
   "id": "c15d9ba5",
   "metadata": {
    "ExecuteTime": {
     "end_time": "2022-09-20T11:17:08.571627Z",
     "start_time": "2022-09-20T11:17:08.571627Z"
    }
   },
   "outputs": [],
   "source": [
    "use_your_mnist_test('my_own_images/2828_my_own_5.png',5)"
   ]
  },
  {
   "cell_type": "code",
   "execution_count": null,
   "id": "a964bebd",
   "metadata": {
    "ExecuteTime": {
     "end_time": "2022-09-20T11:17:08.573629Z",
     "start_time": "2022-09-20T11:17:08.573629Z"
    }
   },
   "outputs": [],
   "source": [
    "use_your_mnist_test('my_own_images/2828_my_own_6.png',6)"
   ]
  },
  {
   "cell_type": "code",
   "execution_count": null,
   "id": "774bee8f",
   "metadata": {
    "ExecuteTime": {
     "end_time": "2022-09-20T11:17:08.574625Z",
     "start_time": "2022-09-20T11:17:08.574625Z"
    }
   },
   "outputs": [],
   "source": [
    "use_your_mnist_test('my_own_images/2828_my_own_image.png',3)"
   ]
  },
  {
   "cell_type": "code",
   "execution_count": null,
   "id": "0c3843ea",
   "metadata": {
    "ExecuteTime": {
     "end_time": "2022-09-20T11:17:08.575626Z",
     "start_time": "2022-09-20T11:17:08.575626Z"
    }
   },
   "outputs": [],
   "source": [
    "use_your_mnist_test('my_own_images/2828_my_own_noisy_6.png',6)"
   ]
  },
  {
   "cell_type": "code",
   "execution_count": null,
   "id": "fae66b84",
   "metadata": {
    "ExecuteTime": {
     "end_time": "2022-09-20T11:17:08.576626Z",
     "start_time": "2022-09-20T11:17:08.576626Z"
    }
   },
   "outputs": [],
   "source": [
    "use_your_mnist_test('my_own_images/5.png',5)"
   ]
  },
  {
   "cell_type": "code",
   "execution_count": null,
   "id": "50562b5b",
   "metadata": {},
   "outputs": [],
   "source": []
  }
 ],
 "metadata": {
  "hide_input": false,
  "kernelspec": {
   "display_name": "tensorflow-gpu",
   "language": "python",
   "name": "tensorflow-gpu"
  },
  "language_info": {
   "codemirror_mode": {
    "name": "ipython",
    "version": 3
   },
   "file_extension": ".py",
   "mimetype": "text/x-python",
   "name": "python",
   "nbconvert_exporter": "python",
   "pygments_lexer": "ipython3",
   "version": "3.9.13"
  },
  "nbTranslate": {
   "displayLangs": [
    "*"
   ],
   "hotkey": "alt-t",
   "langInMainMenu": true,
   "sourceLang": "en",
   "targetLang": "fr",
   "useGoogleTranslate": true
  },
  "toc": {
   "base_numbering": 1,
   "nav_menu": {},
   "number_sections": true,
   "sideBar": true,
   "skip_h1_title": false,
   "title_cell": "Table of Contents",
   "title_sidebar": "Contents",
   "toc_cell": false,
   "toc_position": {},
   "toc_section_display": true,
   "toc_window_display": false
  },
  "varInspector": {
   "cols": {
    "lenName": 16,
    "lenType": 16,
    "lenVar": 40
   },
   "kernels_config": {
    "python": {
     "delete_cmd_postfix": "",
     "delete_cmd_prefix": "del ",
     "library": "var_list.py",
     "varRefreshCmd": "print(var_dic_list())"
    },
    "r": {
     "delete_cmd_postfix": ") ",
     "delete_cmd_prefix": "rm(",
     "library": "var_list.r",
     "varRefreshCmd": "cat(var_dic_list()) "
    }
   },
   "types_to_exclude": [
    "module",
    "function",
    "builtin_function_or_method",
    "instance",
    "_Feature"
   ],
   "window_display": false
  }
 },
 "nbformat": 4,
 "nbformat_minor": 5
}
