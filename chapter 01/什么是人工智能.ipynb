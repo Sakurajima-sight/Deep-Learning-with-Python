{
 "cells": [
  {
   "cell_type": "markdown",
   "id": "b6cf32d6",
   "metadata": {},
   "source": [
    "# 人工智能、机器学习与深度学习"
   ]
  },
  {
   "cell_type": "markdown",
   "id": "33d157b3",
   "metadata": {
    "ExecuteTime": {
     "end_time": "2022-09-23T03:34:32.419185Z",
     "start_time": "2022-09-23T03:34:32.406192Z"
    }
   },
   "source": [
    "## 人工智能"
   ]
  },
  {
   "cell_type": "markdown",
   "id": "f962e8b0",
   "metadata": {},
   "source": [
    "## 机器学习"
   ]
  },
  {
   "cell_type": "code",
   "execution_count": 2,
   "id": "a01b1312",
   "metadata": {
    "ExecuteTime": {
     "end_time": "2022-09-23T03:35:00.782590Z",
     "start_time": "2022-09-23T03:35:00.768582Z"
    }
   },
   "outputs": [],
   "source": [
    "## 从数据中学习表示"
   ]
  },
  {
   "cell_type": "code",
   "execution_count": 3,
   "id": "5040b745",
   "metadata": {
    "ExecuteTime": {
     "end_time": "2022-09-23T03:35:25.825317Z",
     "start_time": "2022-09-23T03:35:25.807308Z"
    }
   },
   "outputs": [],
   "source": [
    "## 深度学习之“深度”"
   ]
  },
  {
   "cell_type": "code",
   "execution_count": 4,
   "id": "fad08422",
   "metadata": {
    "ExecuteTime": {
     "end_time": "2022-09-23T03:35:49.379720Z",
     "start_time": "2022-09-23T03:35:49.365718Z"
    }
   },
   "outputs": [],
   "source": [
    "## 用三张图理解深度学习的工作原理"
   ]
  },
  {
   "cell_type": "code",
   "execution_count": 5,
   "id": "ac690dd0",
   "metadata": {
    "ExecuteTime": {
     "end_time": "2022-09-23T03:36:02.202584Z",
     "start_time": "2022-09-23T03:36:02.188568Z"
    }
   },
   "outputs": [],
   "source": [
    "## 深度学习已经取得的进展"
   ]
  },
  {
   "cell_type": "code",
   "execution_count": 6,
   "id": "9afc813f",
   "metadata": {
    "ExecuteTime": {
     "end_time": "2022-09-23T03:36:25.904407Z",
     "start_time": "2022-09-23T03:36:25.887410Z"
    }
   },
   "outputs": [],
   "source": [
    "## 不要相信短期炒作"
   ]
  },
  {
   "cell_type": "code",
   "execution_count": 7,
   "id": "669ff0d8",
   "metadata": {
    "ExecuteTime": {
     "end_time": "2022-09-23T03:36:34.495668Z",
     "start_time": "2022-09-23T03:36:34.492670Z"
    }
   },
   "outputs": [],
   "source": [
    "## 人工智能的未来"
   ]
  },
  {
   "cell_type": "code",
   "execution_count": 8,
   "id": "47241fa8",
   "metadata": {
    "ExecuteTime": {
     "end_time": "2022-09-23T03:36:54.566901Z",
     "start_time": "2022-09-23T03:36:54.561900Z"
    }
   },
   "outputs": [],
   "source": [
    "# 深度学习之前：机器学习简史"
   ]
  },
  {
   "cell_type": "code",
   "execution_count": 9,
   "id": "0ef1e325",
   "metadata": {
    "ExecuteTime": {
     "end_time": "2022-09-23T03:37:03.769868Z",
     "start_time": "2022-09-23T03:37:03.766880Z"
    }
   },
   "outputs": [],
   "source": [
    "## 概率建模"
   ]
  },
  {
   "cell_type": "code",
   "execution_count": 10,
   "id": "c13a4986",
   "metadata": {
    "ExecuteTime": {
     "end_time": "2022-09-23T03:37:14.168873Z",
     "start_time": "2022-09-23T03:37:14.163890Z"
    }
   },
   "outputs": [],
   "source": [
    "## 早期神经网络"
   ]
  },
  {
   "cell_type": "code",
   "execution_count": 11,
   "id": "2a8fd279",
   "metadata": {
    "ExecuteTime": {
     "end_time": "2022-09-23T03:37:25.971476Z",
     "start_time": "2022-09-23T03:37:25.962458Z"
    }
   },
   "outputs": [],
   "source": [
    "## 核方法"
   ]
  },
  {
   "cell_type": "code",
   "execution_count": 12,
   "id": "1fb42bbf",
   "metadata": {
    "ExecuteTime": {
     "end_time": "2022-09-23T03:37:48.221435Z",
     "start_time": "2022-09-23T03:37:48.204456Z"
    }
   },
   "outputs": [],
   "source": [
    "## 决策树、随机森林与梯度提升机"
   ]
  },
  {
   "cell_type": "code",
   "execution_count": 13,
   "id": "fa19798e",
   "metadata": {
    "ExecuteTime": {
     "end_time": "2022-09-23T03:37:57.841243Z",
     "start_time": "2022-09-23T03:37:57.827235Z"
    }
   },
   "outputs": [],
   "source": [
    "## 回到神经网络"
   ]
  },
  {
   "cell_type": "code",
   "execution_count": 14,
   "id": "b029ae04",
   "metadata": {
    "ExecuteTime": {
     "end_time": "2022-09-23T03:38:07.385603Z",
     "start_time": "2022-09-23T03:38:07.379603Z"
    }
   },
   "outputs": [],
   "source": [
    "## 深度学习有何不同"
   ]
  },
  {
   "cell_type": "code",
   "execution_count": 15,
   "id": "d30c1bb2",
   "metadata": {
    "ExecuteTime": {
     "end_time": "2022-09-23T03:38:43.723014Z",
     "start_time": "2022-09-23T03:38:43.712017Z"
    }
   },
   "outputs": [],
   "source": [
    "## 机器学习现状"
   ]
  },
  {
   "cell_type": "code",
   "execution_count": 16,
   "id": "b71f0f02",
   "metadata": {
    "ExecuteTime": {
     "end_time": "2022-09-23T03:38:55.878452Z",
     "start_time": "2022-09-23T03:38:55.873455Z"
    }
   },
   "outputs": [],
   "source": [
    "# 为什么是深度学习，为什么是现在"
   ]
  },
  {
   "cell_type": "code",
   "execution_count": 17,
   "id": "a4c89f0d",
   "metadata": {
    "ExecuteTime": {
     "end_time": "2022-09-23T03:39:00.464599Z",
     "start_time": "2022-09-23T03:39:00.460606Z"
    }
   },
   "outputs": [],
   "source": [
    "## 硬件"
   ]
  },
  {
   "cell_type": "code",
   "execution_count": 19,
   "id": "48bf45bc",
   "metadata": {
    "ExecuteTime": {
     "end_time": "2022-09-23T03:39:05.155373Z",
     "start_time": "2022-09-23T03:39:05.149373Z"
    }
   },
   "outputs": [],
   "source": [
    "## 数据"
   ]
  },
  {
   "cell_type": "code",
   "execution_count": 20,
   "id": "cf0951d1",
   "metadata": {
    "ExecuteTime": {
     "end_time": "2022-09-23T03:39:11.375441Z",
     "start_time": "2022-09-23T03:39:11.359443Z"
    }
   },
   "outputs": [],
   "source": [
    "## 算法"
   ]
  },
  {
   "cell_type": "code",
   "execution_count": null,
   "id": "51fb5731",
   "metadata": {},
   "outputs": [],
   "source": [
    "## xdt"
   ]
  }
 ],
 "metadata": {
  "hide_input": false,
  "kernelspec": {
   "display_name": "Python 3 (ipykernel)",
   "language": "python",
   "name": "python3"
  },
  "language_info": {
   "codemirror_mode": {
    "name": "ipython",
    "version": 3
   },
   "file_extension": ".py",
   "mimetype": "text/x-python",
   "name": "python",
   "nbconvert_exporter": "python",
   "pygments_lexer": "ipython3",
   "version": "3.9.12"
  },
  "nbTranslate": {
   "displayLangs": [
    "*"
   ],
   "hotkey": "alt-t",
   "langInMainMenu": true,
   "sourceLang": "en",
   "targetLang": "fr",
   "useGoogleTranslate": true
  },
  "toc": {
   "base_numbering": 1,
   "nav_menu": {},
   "number_sections": true,
   "sideBar": true,
   "skip_h1_title": false,
   "title_cell": "Table of Contents",
   "title_sidebar": "Contents",
   "toc_cell": false,
   "toc_position": {},
   "toc_section_display": true,
   "toc_window_display": false
  },
  "varInspector": {
   "cols": {
    "lenName": 16,
    "lenType": 16,
    "lenVar": 40
   },
   "kernels_config": {
    "python": {
     "delete_cmd_postfix": "",
     "delete_cmd_prefix": "del ",
     "library": "var_list.py",
     "varRefreshCmd": "print(var_dic_list())"
    },
    "r": {
     "delete_cmd_postfix": ") ",
     "delete_cmd_prefix": "rm(",
     "library": "var_list.r",
     "varRefreshCmd": "cat(var_dic_list()) "
    }
   },
   "types_to_exclude": [
    "module",
    "function",
    "builtin_function_or_method",
    "instance",
    "_Feature"
   ],
   "window_display": false
  }
 },
 "nbformat": 4,
 "nbformat_minor": 5
}
