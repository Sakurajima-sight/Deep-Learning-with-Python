{
 "cells": [
  {
   "cell_type": "markdown",
   "id": "a1416e56",
   "metadata": {},
   "source": [
    "# 初始神经网络"
   ]
  },
  {
   "cell_type": "code",
   "execution_count": 1,
   "id": "b4777372",
   "metadata": {
    "ExecuteTime": {
     "end_time": "2022-09-23T04:18:11.824923Z",
     "start_time": "2022-09-23T04:18:08.882756Z"
    }
   },
   "outputs": [],
   "source": [
    "from keras.datasets import mnist"
   ]
  },
  {
   "cell_type": "code",
   "execution_count": 2,
   "id": "3d5680fa",
   "metadata": {
    "ExecuteTime": {
     "end_time": "2022-09-23T04:18:12.014838Z",
     "start_time": "2022-09-23T04:18:11.826918Z"
    }
   },
   "outputs": [],
   "source": [
    "(train_images,train_labels),(test_images,test_labels)=mnist.load_data()"
   ]
  },
  {
   "cell_type": "code",
   "execution_count": 3,
   "id": "5421b85f",
   "metadata": {
    "ExecuteTime": {
     "end_time": "2022-09-23T04:18:12.030819Z",
     "start_time": "2022-09-23T04:18:12.016832Z"
    }
   },
   "outputs": [
    {
     "data": {
      "text/plain": [
       "(60000, 28, 28)"
      ]
     },
     "execution_count": 3,
     "metadata": {},
     "output_type": "execute_result"
    }
   ],
   "source": [
    "train_images.shape"
   ]
  },
  {
   "cell_type": "code",
   "execution_count": 4,
   "id": "30ef9bdc",
   "metadata": {
    "ExecuteTime": {
     "end_time": "2022-09-23T04:18:12.046838Z",
     "start_time": "2022-09-23T04:18:12.032820Z"
    },
    "run_control": {
     "marked": true
    }
   },
   "outputs": [
    {
     "data": {
      "text/plain": [
       "60000"
      ]
     },
     "execution_count": 4,
     "metadata": {},
     "output_type": "execute_result"
    }
   ],
   "source": [
    "len(train_labels)"
   ]
  },
  {
   "cell_type": "code",
   "execution_count": 5,
   "id": "9c37d7f0",
   "metadata": {
    "ExecuteTime": {
     "end_time": "2022-09-23T04:18:12.062818Z",
     "start_time": "2022-09-23T04:18:12.048820Z"
    }
   },
   "outputs": [
    {
     "data": {
      "text/plain": [
       "array([5, 0, 4, ..., 5, 6, 8], dtype=uint8)"
      ]
     },
     "execution_count": 5,
     "metadata": {},
     "output_type": "execute_result"
    }
   ],
   "source": [
    "train_labels"
   ]
  },
  {
   "cell_type": "code",
   "execution_count": 6,
   "id": "445cf805",
   "metadata": {
    "ExecuteTime": {
     "end_time": "2022-09-23T04:18:12.078838Z",
     "start_time": "2022-09-23T04:18:12.064820Z"
    }
   },
   "outputs": [
    {
     "data": {
      "text/plain": [
       "(10000, 28, 28)"
      ]
     },
     "execution_count": 6,
     "metadata": {},
     "output_type": "execute_result"
    }
   ],
   "source": [
    "test_images.shape"
   ]
  },
  {
   "cell_type": "code",
   "execution_count": 7,
   "id": "ec42fe49",
   "metadata": {
    "ExecuteTime": {
     "end_time": "2022-09-23T04:18:12.094560Z",
     "start_time": "2022-09-23T04:18:12.079820Z"
    }
   },
   "outputs": [
    {
     "data": {
      "text/plain": [
       "10000"
      ]
     },
     "execution_count": 7,
     "metadata": {},
     "output_type": "execute_result"
    }
   ],
   "source": [
    "len(test_labels)"
   ]
  },
  {
   "cell_type": "code",
   "execution_count": 8,
   "id": "4c1a02b5",
   "metadata": {
    "ExecuteTime": {
     "end_time": "2022-09-23T04:18:12.110580Z",
     "start_time": "2022-09-23T04:18:12.096562Z"
    }
   },
   "outputs": [
    {
     "data": {
      "text/plain": [
       "array([7, 2, 1, ..., 4, 5, 6], dtype=uint8)"
      ]
     },
     "execution_count": 8,
     "metadata": {},
     "output_type": "execute_result"
    }
   ],
   "source": [
    "test_labels"
   ]
  },
  {
   "cell_type": "code",
   "execution_count": 9,
   "id": "bc7fe0db",
   "metadata": {
    "ExecuteTime": {
     "end_time": "2022-09-23T04:18:12.861417Z",
     "start_time": "2022-09-23T04:18:12.112572Z"
    }
   },
   "outputs": [],
   "source": [
    "from keras import models\n",
    "from keras import layers\n",
    "\n",
    "network=models.Sequential()\n",
    "network.add(layers.Dense(512,activation='relu',input_shape=(28*28,)))\n",
    "network.add(layers.Dense(10,activation='softmax'))"
   ]
  },
  {
   "cell_type": "code",
   "execution_count": 10,
   "id": "653a872d",
   "metadata": {
    "ExecuteTime": {
     "end_time": "2022-09-23T04:18:12.877427Z",
     "start_time": "2022-09-23T04:18:12.863409Z"
    }
   },
   "outputs": [],
   "source": [
    "network.compile(optimizer='rmsprop',\n",
    "               loss='categorical_crossentropy',\n",
    "               metrics=['accuracy'])"
   ]
  },
  {
   "cell_type": "code",
   "execution_count": 11,
   "id": "7385f8af",
   "metadata": {
    "ExecuteTime": {
     "end_time": "2022-09-23T04:18:13.020305Z",
     "start_time": "2022-09-23T04:18:12.879407Z"
    }
   },
   "outputs": [],
   "source": [
    "train_images=train_images.reshape((60000,28*28))\n",
    "train_images=train_images.astype('float32')/255\n",
    "\n",
    "test_images=test_images.reshape((10000,28*28))\n",
    "test_images=test_images.astype('float32')/255"
   ]
  },
  {
   "cell_type": "code",
   "execution_count": 12,
   "id": "62c399fd",
   "metadata": {
    "ExecuteTime": {
     "end_time": "2022-09-23T04:18:13.036303Z",
     "start_time": "2022-09-23T04:18:13.022290Z"
    }
   },
   "outputs": [],
   "source": [
    "from keras.utils import to_categorical\n",
    "\n",
    "train_labels=to_categorical(train_labels)\n",
    "test_labels=to_categorical(test_labels)"
   ]
  },
  {
   "cell_type": "code",
   "execution_count": 13,
   "id": "ac5caf71",
   "metadata": {
    "ExecuteTime": {
     "end_time": "2022-09-23T04:18:26.456145Z",
     "start_time": "2022-09-23T04:18:13.038305Z"
    }
   },
   "outputs": [
    {
     "name": "stdout",
     "output_type": "stream",
     "text": [
      "Epoch 1/5\n",
      "469/469 [==============================] - 3s 4ms/step - loss: 0.2579 - accuracy: 0.9255\n",
      "Epoch 2/5\n",
      "251/469 [===============>..............] - ETA: 0s - loss: 0.1125 - accuracy: 0.96"
     ]
    },
    {
     "data": {
      "text/html": [
       "<b>limit_output extension: Maximum message size of 10000 exceeded with 10003 characters</b>"
      ]
     },
     "metadata": {},
     "output_type": "display_data"
    }
   ],
   "source": [
    "network.fit(train_images,train_labels,epochs=5,batch_size=128)"
   ]
  },
  {
   "cell_type": "code",
   "execution_count": 14,
   "id": "cd053a35",
   "metadata": {
    "ExecuteTime": {
     "end_time": "2022-09-23T04:18:27.884532Z",
     "start_time": "2022-09-23T04:18:26.457145Z"
    }
   },
   "outputs": [
    {
     "name": "stdout",
     "output_type": "stream",
     "text": [
      "313/313 [==============================] - 1s 4ms/step - loss: 0.0686 - accuracy: 0.9794\n",
      "test_acc: 0.9793999791145325\n"
     ]
    }
   ],
   "source": [
    "test_loss,test_acc=network.evaluate(test_images,test_labels)\n",
    "print('test_acc:',test_acc)"
   ]
  },
  {
   "cell_type": "markdown",
   "id": "5f8e34e7",
   "metadata": {},
   "source": [
    "# 神经网络的数据表示"
   ]
  },
  {
   "cell_type": "markdown",
   "id": "09601f1f",
   "metadata": {
    "ExecuteTime": {
     "end_time": "2022-09-15T15:59:12.593438Z",
     "start_time": "2022-09-15T15:59:12.578441Z"
    }
   },
   "source": [
    "## 标量"
   ]
  },
  {
   "cell_type": "code",
   "execution_count": 15,
   "id": "7ce7ab7d",
   "metadata": {
    "ExecuteTime": {
     "end_time": "2022-09-23T04:18:27.900531Z",
     "start_time": "2022-09-23T04:18:27.887534Z"
    }
   },
   "outputs": [],
   "source": [
    "import numpy as np"
   ]
  },
  {
   "cell_type": "code",
   "execution_count": 16,
   "id": "58fb1df6",
   "metadata": {
    "ExecuteTime": {
     "end_time": "2022-09-23T04:18:27.916552Z",
     "start_time": "2022-09-23T04:18:27.903529Z"
    }
   },
   "outputs": [
    {
     "data": {
      "text/plain": [
       "array(12)"
      ]
     },
     "execution_count": 16,
     "metadata": {},
     "output_type": "execute_result"
    }
   ],
   "source": [
    "x=np.array(12)\n",
    "x"
   ]
  },
  {
   "cell_type": "code",
   "execution_count": 17,
   "id": "d7801508",
   "metadata": {
    "ExecuteTime": {
     "end_time": "2022-09-23T04:18:27.932532Z",
     "start_time": "2022-09-23T04:18:27.918547Z"
    }
   },
   "outputs": [
    {
     "data": {
      "text/plain": [
       "0"
      ]
     },
     "execution_count": 17,
     "metadata": {},
     "output_type": "execute_result"
    }
   ],
   "source": [
    "x.ndim"
   ]
  },
  {
   "cell_type": "markdown",
   "id": "d86259b5",
   "metadata": {},
   "source": [
    "## 向量"
   ]
  },
  {
   "cell_type": "code",
   "execution_count": 18,
   "id": "0ebb829d",
   "metadata": {
    "ExecuteTime": {
     "end_time": "2022-09-23T04:18:27.947542Z",
     "start_time": "2022-09-23T04:18:27.934530Z"
    }
   },
   "outputs": [
    {
     "data": {
      "text/plain": [
       "array([12,  3,  6, 14,  7])"
      ]
     },
     "execution_count": 18,
     "metadata": {},
     "output_type": "execute_result"
    }
   ],
   "source": [
    "x=np.array([12,3,6,14,7])\n",
    "x"
   ]
  },
  {
   "cell_type": "code",
   "execution_count": 19,
   "id": "ffd8ff47",
   "metadata": {
    "ExecuteTime": {
     "end_time": "2022-09-23T04:18:27.963532Z",
     "start_time": "2022-09-23T04:18:27.950536Z"
    }
   },
   "outputs": [
    {
     "data": {
      "text/plain": [
       "1"
      ]
     },
     "execution_count": 19,
     "metadata": {},
     "output_type": "execute_result"
    }
   ],
   "source": [
    "x.ndim"
   ]
  },
  {
   "cell_type": "markdown",
   "id": "a227a132",
   "metadata": {},
   "source": [
    "## 矩阵"
   ]
  },
  {
   "cell_type": "code",
   "execution_count": 20,
   "id": "b46d36b3",
   "metadata": {
    "ExecuteTime": {
     "end_time": "2022-09-23T04:18:27.979531Z",
     "start_time": "2022-09-23T04:18:27.968537Z"
    }
   },
   "outputs": [],
   "source": [
    "x=np.array([[5,78,2,34,0],\n",
    "           [6,79,3,35,1],\n",
    "           [7,80,4,36,2]])"
   ]
  },
  {
   "cell_type": "code",
   "execution_count": 21,
   "id": "0979519e",
   "metadata": {
    "ExecuteTime": {
     "end_time": "2022-09-23T04:18:27.995552Z",
     "start_time": "2022-09-23T04:18:27.981545Z"
    }
   },
   "outputs": [
    {
     "data": {
      "text/plain": [
       "2"
      ]
     },
     "execution_count": 21,
     "metadata": {},
     "output_type": "execute_result"
    }
   ],
   "source": [
    "x.ndim"
   ]
  },
  {
   "cell_type": "markdown",
   "id": "8bede944",
   "metadata": {},
   "source": [
    "## 3D张量与更高维度张量"
   ]
  },
  {
   "cell_type": "code",
   "execution_count": 22,
   "id": "1e25831a",
   "metadata": {
    "ExecuteTime": {
     "end_time": "2022-09-23T04:18:28.011552Z",
     "start_time": "2022-09-23T04:18:27.998534Z"
    }
   },
   "outputs": [],
   "source": [
    "x=np.array([[[5,78,2,34,0],\n",
    "           [6,79,3,35,1],\n",
    "           [7,80,4,36,2]],\n",
    "           [[5,78,2,34,0],\n",
    "           [6,79,3,35,1],\n",
    "           [7,80,4,36,2]],\n",
    "           [[5,78,2,34,0],\n",
    "           [6,79,3,35,1],\n",
    "           [7,80,4,36,2]]])"
   ]
  },
  {
   "cell_type": "code",
   "execution_count": 23,
   "id": "960b6051",
   "metadata": {
    "ExecuteTime": {
     "end_time": "2022-09-23T04:18:28.027542Z",
     "start_time": "2022-09-23T04:18:28.014539Z"
    }
   },
   "outputs": [
    {
     "data": {
      "text/plain": [
       "3"
      ]
     },
     "execution_count": 23,
     "metadata": {},
     "output_type": "execute_result"
    }
   ],
   "source": [
    "x.ndim"
   ]
  },
  {
   "cell_type": "markdown",
   "id": "37140a6b",
   "metadata": {
    "ExecuteTime": {
     "end_time": "2022-09-15T16:07:03.235911Z",
     "start_time": "2022-09-15T16:07:03.221889Z"
    }
   },
   "source": [
    "## 关键属性"
   ]
  },
  {
   "cell_type": "code",
   "execution_count": 24,
   "id": "95c732bb",
   "metadata": {
    "ExecuteTime": {
     "end_time": "2022-09-23T04:18:28.043530Z",
     "start_time": "2022-09-23T04:18:28.029536Z"
    }
   },
   "outputs": [],
   "source": [
    "from keras.datasets import mnist"
   ]
  },
  {
   "cell_type": "code",
   "execution_count": 25,
   "id": "54f2acf9",
   "metadata": {
    "ExecuteTime": {
     "end_time": "2022-09-23T04:18:28.249523Z",
     "start_time": "2022-09-23T04:18:28.046528Z"
    }
   },
   "outputs": [],
   "source": [
    "(train_images,train_labels),(test_images,test_labels)=mnist.load_data()"
   ]
  },
  {
   "cell_type": "code",
   "execution_count": 26,
   "id": "2e675d68",
   "metadata": {
    "ExecuteTime": {
     "end_time": "2022-09-23T04:18:28.265534Z",
     "start_time": "2022-09-23T04:18:28.251536Z"
    }
   },
   "outputs": [
    {
     "name": "stdout",
     "output_type": "stream",
     "text": [
      "3\n"
     ]
    }
   ],
   "source": [
    "print(train_images.ndim)"
   ]
  },
  {
   "cell_type": "code",
   "execution_count": 27,
   "id": "fa1cfcb9",
   "metadata": {
    "ExecuteTime": {
     "end_time": "2022-09-23T04:18:28.281533Z",
     "start_time": "2022-09-23T04:18:28.266526Z"
    }
   },
   "outputs": [
    {
     "name": "stdout",
     "output_type": "stream",
     "text": [
      "(60000, 28, 28)\n"
     ]
    }
   ],
   "source": [
    "print(train_images.shape)"
   ]
  },
  {
   "cell_type": "code",
   "execution_count": 28,
   "id": "07139c6a",
   "metadata": {
    "ExecuteTime": {
     "end_time": "2022-09-23T04:18:28.297523Z",
     "start_time": "2022-09-23T04:18:28.283535Z"
    }
   },
   "outputs": [
    {
     "name": "stdout",
     "output_type": "stream",
     "text": [
      "uint8\n"
     ]
    }
   ],
   "source": [
    "print(train_images.dtype)"
   ]
  },
  {
   "cell_type": "code",
   "execution_count": 29,
   "id": "bb33e257",
   "metadata": {
    "ExecuteTime": {
     "end_time": "2022-09-23T04:18:28.848445Z",
     "start_time": "2022-09-23T04:18:28.299538Z"
    }
   },
   "outputs": [
    {
     "data": {
      "image/png": "[encoded data removed]",
      "text/plain": [
       "<Figure size 432x288 with 1 Axes>"
      ]
     },
     "metadata": {
      "needs_background": "light"
     },
     "output_type": "display_data"
    }
   ],
   "source": [
    "digit=train_images[4]\n",
    "\n",
    "import matplotlib.pyplot as plt \n",
    "plt.imshow(digit,cmap=plt.cm.binary)\n",
    "plt.show()"
   ]
  },
  {
   "cell_type": "markdown",
   "id": "eaf76dff",
   "metadata": {},
   "source": [
    "## 在Numpy中操作张量"
   ]
  },
  {
   "cell_type": "code",
   "execution_count": 30,
   "id": "034dc5ca",
   "metadata": {
    "ExecuteTime": {
     "end_time": "2022-09-23T04:18:28.863429Z",
     "start_time": "2022-09-23T04:18:28.849432Z"
    }
   },
   "outputs": [
    {
     "name": "stdout",
     "output_type": "stream",
     "text": [
      "(90, 28, 28)\n"
     ]
    }
   ],
   "source": [
    "my_slice=train_images[10:100]\n",
    "print(my_slice.shape)"
   ]
  },
  {
   "cell_type": "code",
   "execution_count": 31,
   "id": "03cb0ac0",
   "metadata": {
    "ExecuteTime": {
     "end_time": "2022-09-23T04:18:28.878429Z",
     "start_time": "2022-09-23T04:18:28.865422Z"
    }
   },
   "outputs": [
    {
     "data": {
      "text/plain": [
       "(90, 28, 28)"
      ]
     },
     "execution_count": 31,
     "metadata": {},
     "output_type": "execute_result"
    }
   ],
   "source": [
    "my_slice=train_images[10:100,:,:]\n",
    "my_slice.shape"
   ]
  },
  {
   "cell_type": "code",
   "execution_count": 32,
   "id": "afbbbf9e",
   "metadata": {
    "ExecuteTime": {
     "end_time": "2022-09-23T04:18:28.893420Z",
     "start_time": "2022-09-23T04:18:28.879433Z"
    }
   },
   "outputs": [
    {
     "data": {
      "text/plain": [
       "(90, 28, 28)"
      ]
     },
     "execution_count": 32,
     "metadata": {},
     "output_type": "execute_result"
    }
   ],
   "source": [
    "my_slice=train_images[10:100,0:28,0:28]\n",
    "my_slice.shape"
   ]
  },
  {
   "cell_type": "code",
   "execution_count": 33,
   "id": "2da01460",
   "metadata": {
    "ExecuteTime": {
     "end_time": "2022-09-23T04:18:28.909429Z",
     "start_time": "2022-09-23T04:18:28.895428Z"
    }
   },
   "outputs": [
    {
     "data": {
      "text/plain": [
       "(60000, 14, 14)"
      ]
     },
     "execution_count": 33,
     "metadata": {},
     "output_type": "execute_result"
    }
   ],
   "source": [
    "my_slice=train_images[:,14:,14:]\n",
    "my_slice.shape"
   ]
  },
  {
   "cell_type": "code",
   "execution_count": 34,
   "id": "0c54ac36",
   "metadata": {
    "ExecuteTime": {
     "end_time": "2022-09-23T04:18:28.925422Z",
     "start_time": "2022-09-23T04:18:28.911423Z"
    }
   },
   "outputs": [
    {
     "data": {
      "text/plain": [
       "(60000, 14, 14)"
      ]
     },
     "execution_count": 34,
     "metadata": {},
     "output_type": "execute_result"
    }
   ],
   "source": [
    "my_slice=train_images[:,7:-7,7:-7]\n",
    "my_slice.shape"
   ]
  },
  {
   "cell_type": "markdown",
   "id": "a587d34e",
   "metadata": {},
   "source": [
    "## 数据批量的概念"
   ]
  },
  {
   "cell_type": "code",
   "execution_count": 35,
   "id": "ae41a31c",
   "metadata": {
    "ExecuteTime": {
     "end_time": "2022-09-23T04:18:28.941439Z",
     "start_time": "2022-09-23T04:18:28.926423Z"
    }
   },
   "outputs": [],
   "source": [
    "batch=train_images[:128]"
   ]
  },
  {
   "cell_type": "code",
   "execution_count": 36,
   "id": "05524007",
   "metadata": {
    "ExecuteTime": {
     "end_time": "2022-09-23T04:18:28.957439Z",
     "start_time": "2022-09-23T04:18:28.942443Z"
    }
   },
   "outputs": [],
   "source": [
    "batch=train_images[128:256]"
   ]
  },
  {
   "cell_type": "code",
   "execution_count": 37,
   "id": "455cca01",
   "metadata": {
    "ExecuteTime": {
     "end_time": "2022-09-23T04:18:28.972449Z",
     "start_time": "2022-09-23T04:18:28.959442Z"
    },
    "run_control": {
     "marked": true
    }
   },
   "outputs": [],
   "source": [
    "# batch=train_images[128*n:128*(n+1)]"
   ]
  },
  {
   "cell_type": "markdown",
   "id": "3538d92b",
   "metadata": {
    "ExecuteTime": {
     "end_time": "2022-09-16T01:33:10.931948Z",
     "start_time": "2022-09-16T01:33:10.917940Z"
    }
   },
   "source": [
    "## 现实世界中的数据张量"
   ]
  },
  {
   "cell_type": "markdown",
   "id": "5a0544e3",
   "metadata": {},
   "source": [
    "## 向量数据"
   ]
  },
  {
   "cell_type": "markdown",
   "id": "4edf1b2e",
   "metadata": {},
   "source": [
    "## 时间序列数据或序列数据"
   ]
  },
  {
   "cell_type": "markdown",
   "id": "e93dece1",
   "metadata": {},
   "source": [
    "## 图像数据"
   ]
  },
  {
   "cell_type": "markdown",
   "id": "3ac1cc0a",
   "metadata": {},
   "source": [
    "## 视频数据"
   ]
  },
  {
   "cell_type": "markdown",
   "id": "2c98cd4a",
   "metadata": {},
   "source": [
    "# 神经网络的“齿轮”：张量运算"
   ]
  },
  {
   "cell_type": "code",
   "execution_count": 38,
   "id": "110530b2",
   "metadata": {
    "ExecuteTime": {
     "end_time": "2022-09-23T04:18:28.987439Z",
     "start_time": "2022-09-23T04:18:28.974440Z"
    }
   },
   "outputs": [
    {
     "data": {
      "text/plain": [
       "<keras.layers.core.dense.Dense at 0x1f4edc77880>"
      ]
     },
     "execution_count": 38,
     "metadata": {},
     "output_type": "execute_result"
    }
   ],
   "source": [
    "import keras\n",
    "keras.layers.Dense(512,activation='relu')\n",
    "# output=relu(dot(W,input)+b)"
   ]
  },
  {
   "cell_type": "markdown",
   "id": "605a26ec",
   "metadata": {},
   "source": [
    "## 逐元素运算"
   ]
  },
  {
   "cell_type": "code",
   "execution_count": 39,
   "id": "b38e3dc8",
   "metadata": {
    "ExecuteTime": {
     "end_time": "2022-09-23T04:18:29.002419Z",
     "start_time": "2022-09-23T04:18:28.990433Z"
    }
   },
   "outputs": [],
   "source": [
    "def naive_relu(x):\n",
    "    # x是一个Numpy的2D张量\n",
    "    assert len(x.shape)==2\n",
    "    \n",
    "    # 避免覆盖输入张量\n",
    "    x=x.copy()\n",
    "    for i in range(x.shape[0]):\n",
    "        for j in range(x.shape[1]):\n",
    "            x[i,j]=max([i,j],0)\n",
    "    return x"
   ]
  },
  {
   "cell_type": "code",
   "execution_count": 40,
   "id": "57e3a97f",
   "metadata": {
    "ExecuteTime": {
     "end_time": "2022-09-23T04:18:29.018449Z",
     "start_time": "2022-09-23T04:18:29.003426Z"
    }
   },
   "outputs": [],
   "source": [
    "def naive_add(x,y):\n",
    "    # x和y是Numpy的2D张量\n",
    "    assert len(x.shape)==2\n",
    "    assert x.shape==y.shape\n",
    "    \n",
    "    # 避免覆盖输入张量\n",
    "    x=x.copy()\n",
    "    for i in range(x.shape[0]):\n",
    "        for j in range(x.shape[1]):\n",
    "            x[i,j]+=y[i,j]\n",
    "            \n",
    "    return x"
   ]
  },
  {
   "cell_type": "markdown",
   "id": "7c447a9a",
   "metadata": {},
   "source": [
    "## 广播"
   ]
  },
  {
   "cell_type": "code",
   "execution_count": 41,
   "id": "0efee55b",
   "metadata": {
    "ExecuteTime": {
     "end_time": "2022-09-23T04:18:29.034486Z",
     "start_time": "2022-09-23T04:18:29.020431Z"
    },
    "run_control": {
     "marked": true
    }
   },
   "outputs": [],
   "source": [
    "def naive_add_matrix_and_vector(x,y):\n",
    "    # x是一个Numpy的2D张量\n",
    "    assert len(x.shape)==2\n",
    "    # y是一个Numpy向量\n",
    "    assert len(y.shape)==1\n",
    "    assert x.shape[1]==y.shape[0]\n",
    "    \n",
    "    # 避免覆盖输入张量\n",
    "    x=x.copy()\n",
    "    for i in range(x.shape[0]):\n",
    "        for j in range(x.shape[1]):\n",
    "            x[i,j]+=y[j]\n",
    "    return x"
   ]
  },
  {
   "cell_type": "code",
   "execution_count": 42,
   "id": "853b3bfb",
   "metadata": {
    "ExecuteTime": {
     "end_time": "2022-09-23T04:18:29.050474Z",
     "start_time": "2022-09-23T04:18:29.036471Z"
    }
   },
   "outputs": [
    {
     "name": "stdout",
     "output_type": "stream",
     "text": [
      "x shape: (64, 3, 32, 10)\n",
      "y shape: (32, 10)\n",
      "z shape: (64, 3, 32, 10)\n"
     ]
    }
   ],
   "source": [
    "import numpy as np\n",
    "\n",
    "# x是形状为(64,3,32,10)的随机向量\n",
    "x=np.random.random((64,3,32,10))\n",
    "print('x shape:',x.shape)\n",
    "# y是形状为(32,10)的随机向量\n",
    "y=np.random.random((32,10))\n",
    "print('y shape:',y.shape)\n",
    "\n",
    "# 输出z的形状是(64, 3, 32, 10)，与x相同\n",
    "z=np.maximum(x,y)\n",
    "print('z shape:',z.shape)"
   ]
  },
  {
   "cell_type": "markdown",
   "id": "56b52a7d",
   "metadata": {},
   "source": [
    "## 张量点积"
   ]
  },
  {
   "cell_type": "code",
   "execution_count": 43,
   "id": "32783500",
   "metadata": {
    "ExecuteTime": {
     "end_time": "2022-09-23T04:18:29.066486Z",
     "start_time": "2022-09-23T04:18:29.052478Z"
    }
   },
   "outputs": [],
   "source": [
    "def naive_vector_dot(x,y):\n",
    "    # x和y都是Numpy向量\n",
    "    assert len(x.shape)==1\n",
    "    assert len(y.shape)==1\n",
    "    assert x.shape[0]==y.shape[1]\n",
    "    \n",
    "    z=0.\n",
    "    for i in range(x.shape[0]):\n",
    "        z+=x[i]*y[i]\n",
    "    return z"
   ]
  },
  {
   "cell_type": "code",
   "execution_count": 44,
   "id": "69e30d31",
   "metadata": {
    "ExecuteTime": {
     "end_time": "2022-09-23T04:18:29.082496Z",
     "start_time": "2022-09-23T04:18:29.068469Z"
    }
   },
   "outputs": [],
   "source": [
    "import numpy as np\n",
    "\n",
    "def naive_matrix_vector_dot(x,y):\n",
    "    # x是一个Numpy矩阵\n",
    "    assert len(x.shape)==2\n",
    "    # y是一个Numpy向量\n",
    "    assert len(y.shape)==1\n",
    "    # x的第一维和y的第0位大小必须相同\n",
    "    assert x.shape[1]==y.shape[0]\n",
    "    \n",
    "    # 这个运算返回一个全是0的向量，其形状与x.shape[0]相同\n",
    "    z=np.zeros(x.shape[0])\n",
    "    for i in range(x.shape[0]):\n",
    "        for j in range(x.shape[1]):\n",
    "            z[i]+=x[i,j]*y[j]\n",
    "    return z"
   ]
  },
  {
   "cell_type": "code",
   "execution_count": 45,
   "id": "7f05ee7d",
   "metadata": {
    "ExecuteTime": {
     "end_time": "2022-09-23T04:18:29.098486Z",
     "start_time": "2022-09-23T04:18:29.084479Z"
    }
   },
   "outputs": [],
   "source": [
    "def naive_matrix_vector_dot(x,y):\n",
    "    z=np.zeros(x.shape[0])\n",
    "    for i in range(x.shape[0]):\n",
    "        z[i]=naive_vector_dot(x[i,:],y)\n",
    "        return z"
   ]
  },
  {
   "cell_type": "code",
   "execution_count": 46,
   "id": "0ac22f1f",
   "metadata": {
    "ExecuteTime": {
     "end_time": "2022-09-23T04:18:29.114496Z",
     "start_time": "2022-09-23T04:18:29.100478Z"
    }
   },
   "outputs": [],
   "source": [
    "def naive_matrix_dot(x,y):\n",
    "    # x和y都是Numpy矩阵\n",
    "    assert len(x.shape)==2\n",
    "    assert len(y.shape)==2\n",
    "    # x的第1维和y的第0维大小必须相同\n",
    "    assert x.shape[1]==y.shape[0]\n",
    "    \n",
    "    # 这个运算返回特定形式的零矩阵\n",
    "    z=np.zeros((x.shape[0],y.shape[1]))\n",
    "    # 遍历x的所有行...\n",
    "    for i in range(x.shape[0]):\n",
    "        # ...然后遍历y的所有列\n",
    "        for j in range(y.shape[1]):\n",
    "            row_x=x[i,:]\n",
    "            column_y=y[:,j]\n",
    "            z[i,j]=naive_vector_dot(row_x,column_y)\n",
    "    return z"
   ]
  },
  {
   "cell_type": "markdown",
   "id": "fd44b4b1",
   "metadata": {},
   "source": [
    "## 张量变形"
   ]
  },
  {
   "cell_type": "code",
   "execution_count": 47,
   "id": "60fda15a",
   "metadata": {
    "ExecuteTime": {
     "end_time": "2022-09-23T04:18:29.130496Z",
     "start_time": "2022-09-23T04:18:29.116477Z"
    }
   },
   "outputs": [],
   "source": [
    "train_images=train_images.reshape((60000,28*28))"
   ]
  },
  {
   "cell_type": "code",
   "execution_count": 48,
   "id": "53dc0e83",
   "metadata": {
    "ExecuteTime": {
     "end_time": "2022-09-23T04:18:29.146496Z",
     "start_time": "2022-09-23T04:18:29.132477Z"
    }
   },
   "outputs": [
    {
     "name": "stdout",
     "output_type": "stream",
     "text": [
      "(3, 2)\n"
     ]
    }
   ],
   "source": [
    "x=np.array([[0.,1.],\n",
    "           [2.,3.],\n",
    "           [4.,5.]])\n",
    "print(x.shape)"
   ]
  },
  {
   "cell_type": "code",
   "execution_count": 49,
   "id": "2abdf11a",
   "metadata": {
    "ExecuteTime": {
     "end_time": "2022-09-23T04:18:29.162476Z",
     "start_time": "2022-09-23T04:18:29.148477Z"
    }
   },
   "outputs": [],
   "source": [
    "x=x.reshape((6,1))"
   ]
  },
  {
   "cell_type": "code",
   "execution_count": 50,
   "id": "49d4187f",
   "metadata": {
    "ExecuteTime": {
     "end_time": "2022-09-23T04:18:29.178496Z",
     "start_time": "2022-09-23T04:18:29.163477Z"
    }
   },
   "outputs": [
    {
     "data": {
      "text/plain": [
       "array([[0.],\n",
       "       [1.],\n",
       "       [2.],\n",
       "       [3.],\n",
       "       [4.],\n",
       "       [5.]])"
      ]
     },
     "execution_count": 50,
     "metadata": {},
     "output_type": "execute_result"
    }
   ],
   "source": [
    "x"
   ]
  },
  {
   "cell_type": "code",
   "execution_count": 51,
   "id": "838c6c14",
   "metadata": {
    "ExecuteTime": {
     "end_time": "2022-09-23T04:18:29.194475Z",
     "start_time": "2022-09-23T04:18:29.180478Z"
    }
   },
   "outputs": [],
   "source": [
    "x=x.reshape((2,3))"
   ]
  },
  {
   "cell_type": "code",
   "execution_count": 52,
   "id": "c1464339",
   "metadata": {
    "ExecuteTime": {
     "end_time": "2022-09-23T04:18:29.210496Z",
     "start_time": "2022-09-23T04:18:29.196477Z"
    }
   },
   "outputs": [
    {
     "data": {
      "text/plain": [
       "array([[0., 1., 2.],\n",
       "       [3., 4., 5.]])"
      ]
     },
     "execution_count": 52,
     "metadata": {},
     "output_type": "execute_result"
    }
   ],
   "source": [
    "x"
   ]
  },
  {
   "cell_type": "code",
   "execution_count": 53,
   "id": "af503fbf",
   "metadata": {
    "ExecuteTime": {
     "end_time": "2022-09-23T04:18:29.226078Z",
     "start_time": "2022-09-23T04:18:29.212478Z"
    }
   },
   "outputs": [
    {
     "name": "stdout",
     "output_type": "stream",
     "text": [
      "(20, 300)\n"
     ]
    }
   ],
   "source": [
    "# 创建一个形状为(300,20)的零矩阵\n",
    "x=np.zeros((300,20))\n",
    "x=np.transpose(x)\n",
    "print(x.shape)"
   ]
  },
  {
   "cell_type": "markdown",
   "id": "8b89a656",
   "metadata": {},
   "source": [
    "## 张量运算的几何解释"
   ]
  },
  {
   "cell_type": "markdown",
   "id": "9946a930",
   "metadata": {},
   "source": [
    "## 深度学习的几何解释"
   ]
  },
  {
   "cell_type": "markdown",
   "id": "6e961c1b",
   "metadata": {},
   "source": [
    "# 神经网络的“引擎”：基于梯度的优化"
   ]
  },
  {
   "cell_type": "markdown",
   "id": "f6fa4aa7",
   "metadata": {
    "ExecuteTime": {
     "end_time": "2022-09-17T09:33:17.644115Z",
     "start_time": "2022-09-17T09:33:17.640114Z"
    }
   },
   "source": [
    "## 什么是导数"
   ]
  },
  {
   "cell_type": "markdown",
   "id": "312cf278",
   "metadata": {},
   "source": [
    "## 张量运算的导数：梯度"
   ]
  },
  {
   "cell_type": "markdown",
   "id": "340cd663",
   "metadata": {},
   "source": [
    "## 随机梯度下降"
   ]
  },
  {
   "cell_type": "markdown",
   "id": "445eb076",
   "metadata": {},
   "source": [
    "# 回顾第一个例子"
   ]
  },
  {
   "cell_type": "code",
   "execution_count": 54,
   "id": "59f07634",
   "metadata": {
    "ExecuteTime": {
     "end_time": "2022-09-23T04:18:29.242088Z",
     "start_time": "2022-09-23T04:18:29.228070Z"
    }
   },
   "outputs": [],
   "source": [
    "from keras import models\n",
    "from keras import layers\n",
    "from keras.datasets import mnist"
   ]
  },
  {
   "cell_type": "code",
   "execution_count": 55,
   "id": "3a5b643c",
   "metadata": {
    "ExecuteTime": {
     "end_time": "2022-09-23T04:18:29.561801Z",
     "start_time": "2022-09-23T04:18:29.244069Z"
    }
   },
   "outputs": [],
   "source": [
    "(train_images,train_labels),(test_images,test_labels)=mnist.load_data()\n",
    "\n",
    "train_images=train_images.reshape((60000,28*28))\n",
    "train_images=train_images.astype('float32')/255\n",
    "\n",
    "test_images=test_images.reshape((10000,28*28))\n",
    "test_images=test_images.astype('float32')/255"
   ]
  },
  {
   "cell_type": "code",
   "execution_count": 56,
   "id": "81cbf99d",
   "metadata": {
    "ExecuteTime": {
     "end_time": "2022-09-23T04:18:29.577801Z",
     "start_time": "2022-09-23T04:18:29.563803Z"
    }
   },
   "outputs": [],
   "source": [
    "from keras.utils import to_categorical\n",
    "\n",
    "train_labels=to_categorical(train_labels)\n",
    "test_labels=to_categorical(test_labels)"
   ]
  },
  {
   "cell_type": "code",
   "execution_count": 57,
   "id": "1fa9cda9",
   "metadata": {
    "ExecuteTime": {
     "end_time": "2022-09-23T04:18:29.609393Z",
     "start_time": "2022-09-23T04:18:29.579804Z"
    }
   },
   "outputs": [],
   "source": [
    "network=models.Sequential()\n",
    "network.add(layers.Dense(512,activation='relu',input_shape=(28*28,)))\n",
    "network.add(layers.Dense(10,activation='softmax'))"
   ]
  },
  {
   "cell_type": "code",
   "execution_count": 58,
   "id": "9e2a38a3",
   "metadata": {
    "ExecuteTime": {
     "end_time": "2022-09-23T04:18:29.625403Z",
     "start_time": "2022-09-23T04:18:29.611378Z"
    }
   },
   "outputs": [],
   "source": [
    "network.compile(optimizer='rmsprop',\n",
    "               loss='categorical_crossentropy',\n",
    "               metrics=['accuracy'])"
   ]
  },
  {
   "cell_type": "code",
   "execution_count": 59,
   "id": "66ce1be7",
   "metadata": {
    "ExecuteTime": {
     "end_time": "2022-09-23T04:18:43.997608Z",
     "start_time": "2022-09-23T04:18:29.628383Z"
    }
   },
   "outputs": [
    {
     "name": "stdout",
     "output_type": "stream",
     "text": [
      "Epoch 1/5\n",
      "469/469 [==============================] - 3s 6ms/step - loss: 0.2570 - accuracy: 0.9244\n",
      "Epoch 2/5\n",
      " 57/469 [==>...........................] - ETA: 2s - loss: 0.1262 - accuracy: 0.96"
     ]
    },
    {
     "data": {
      "text/html": [
       "<b>limit_output extension: Maximum message size of 10000 exceeded with 10003 characters</b>"
      ]
     },
     "metadata": {},
     "output_type": "display_data"
    }
   ],
   "source": [
    "network.fit(train_images,train_labels,epochs=5,batch_size=128)"
   ]
  },
  {
   "cell_type": "code",
   "execution_count": null,
   "id": "21e3a8da",
   "metadata": {},
   "outputs": [],
   "source": []
  }
 ],
 "metadata": {
  "hide_input": false,
  "kernelspec": {
   "display_name": "tensorflow-gpu",
   "language": "python",
   "name": "tensorflow-gpu"
  },
  "language_info": {
   "codemirror_mode": {
    "name": "ipython",
    "version": 3
   },
   "file_extension": ".py",
   "mimetype": "text/x-python",
   "name": "python",
   "nbconvert_exporter": "python",
   "pygments_lexer": "ipython3",
   "version": "3.9.13"
  },
  "nbTranslate": {
   "displayLangs": [
    "*"
   ],
   "hotkey": "alt-t",
   "langInMainMenu": true,
   "sourceLang": "en",
   "targetLang": "fr",
   "useGoogleTranslate": true
  },
  "toc": {
   "base_numbering": 1,
   "nav_menu": {},
   "number_sections": true,
   "sideBar": true,
   "skip_h1_title": false,
   "title_cell": "Table of Contents",
   "title_sidebar": "Contents",
   "toc_cell": false,
   "toc_position": {},
   "toc_section_display": true,
   "toc_window_display": false
  },
  "varInspector": {
   "cols": {
    "lenName": 16,
    "lenType": 16,
    "lenVar": 40
   },
   "kernels_config": {
    "python": {
     "delete_cmd_postfix": "",
     "delete_cmd_prefix": "del ",
     "library": "var_list.py",
     "varRefreshCmd": "print(var_dic_list())"
    },
    "r": {
     "delete_cmd_postfix": ") ",
     "delete_cmd_prefix": "rm(",
     "library": "var_list.r",
     "varRefreshCmd": "cat(var_dic_list()) "
    }
   },
   "types_to_exclude": [
    "module",
    "function",
    "builtin_function_or_method",
    "instance",
    "_Feature"
   ],
   "window_display": false
  }
 },
 "nbformat": 4,
 "nbformat_minor": 5
}
