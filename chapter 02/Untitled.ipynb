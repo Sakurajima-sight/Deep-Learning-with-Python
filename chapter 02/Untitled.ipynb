{
 "cells": [
  {
   "cell_type": "markdown",
   "id": "a1416e56",
   "metadata": {},
   "source": [
    "# 初始神经网络"
   ]
  },
  {
   "cell_type": "code",
   "execution_count": null,
   "id": "b4777372",
   "metadata": {
    "ExecuteTime": {
     "end_time": "2022-09-17T09:37:20.042160Z",
     "start_time": "2022-09-17T09:37:14.395143Z"
    }
   },
   "outputs": [],
   "source": [
    "from keras.datasets import mnist"
   ]
  },
  {
   "cell_type": "code",
   "execution_count": null,
   "id": "3d5680fa",
   "metadata": {
    "ExecuteTime": {
     "end_time": "2022-09-17T09:37:20.264698Z",
     "start_time": "2022-09-17T09:37:20.045146Z"
    }
   },
   "outputs": [],
   "source": [
    "(train_images,train_labels),(test_images,test_labels)=mnist.load_data()"
   ]
  },
  {
   "cell_type": "code",
   "execution_count": null,
   "id": "5421b85f",
   "metadata": {
    "ExecuteTime": {
     "end_time": "2022-09-17T09:37:20.280698Z",
     "start_time": "2022-09-17T09:37:20.265709Z"
    }
   },
   "outputs": [],
   "source": [
    "train_images.shape"
   ]
  },
  {
   "cell_type": "code",
   "execution_count": null,
   "id": "30ef9bdc",
   "metadata": {
    "ExecuteTime": {
     "end_time": "2022-09-17T09:37:20.296690Z",
     "start_time": "2022-09-17T09:37:20.282691Z"
    },
    "run_control": {
     "marked": true
    }
   },
   "outputs": [],
   "source": [
    "len(train_labels)"
   ]
  },
  {
   "cell_type": "code",
   "execution_count": null,
   "id": "9c37d7f0",
   "metadata": {
    "ExecuteTime": {
     "end_time": "2022-09-17T09:37:20.312709Z",
     "start_time": "2022-09-17T09:37:20.298694Z"
    }
   },
   "outputs": [],
   "source": [
    "train_labels"
   ]
  },
  {
   "cell_type": "code",
   "execution_count": null,
   "id": "445cf805",
   "metadata": {
    "ExecuteTime": {
     "end_time": "2022-09-17T09:37:20.328704Z",
     "start_time": "2022-09-17T09:37:20.315692Z"
    }
   },
   "outputs": [],
   "source": [
    "test_images.shape"
   ]
  },
  {
   "cell_type": "code",
   "execution_count": null,
   "id": "ec42fe49",
   "metadata": {
    "ExecuteTime": {
     "end_time": "2022-09-17T09:37:20.344716Z",
     "start_time": "2022-09-17T09:37:20.330684Z"
    }
   },
   "outputs": [],
   "source": [
    "len(test_labels)"
   ]
  },
  {
   "cell_type": "code",
   "execution_count": null,
   "id": "4c1a02b5",
   "metadata": {
    "ExecuteTime": {
     "end_time": "2022-09-17T09:37:20.360293Z",
     "start_time": "2022-09-17T09:37:20.347270Z"
    }
   },
   "outputs": [],
   "source": [
    "test_labels"
   ]
  },
  {
   "cell_type": "code",
   "execution_count": null,
   "id": "bc7fe0db",
   "metadata": {
    "ExecuteTime": {
     "end_time": "2022-09-17T09:37:20.583266Z",
     "start_time": "2022-09-17T09:37:20.363268Z"
    }
   },
   "outputs": [],
   "source": [
    "from keras import models\n",
    "from keras import layers\n",
    "\n",
    "network=models.Sequential()\n",
    "network.add(layers.Dense(512,activation='relu',input_shape=(28*28,)))\n",
    "network.add(layers.Dense(10,activation='softmax'))"
   ]
  },
  {
   "cell_type": "code",
   "execution_count": null,
   "id": "653a872d",
   "metadata": {
    "ExecuteTime": {
     "end_time": "2022-09-17T09:37:20.599284Z",
     "start_time": "2022-09-17T09:37:20.585268Z"
    }
   },
   "outputs": [],
   "source": [
    "network.compile(optimizer='rmsprop',\n",
    "               loss='categorical_crossentropy',\n",
    "               metrics=['accuracy'])"
   ]
  },
  {
   "cell_type": "code",
   "execution_count": null,
   "id": "7385f8af",
   "metadata": {
    "ExecuteTime": {
     "end_time": "2022-09-17T09:37:20.742293Z",
     "start_time": "2022-09-17T09:37:20.602287Z"
    }
   },
   "outputs": [],
   "source": [
    "train_images=train_images.reshape((60000,28*28))\n",
    "train_images=train_images.astype('float32')/255\n",
    "\n",
    "test_images=test_images.reshape((10000,28*28))\n",
    "test_images=test_images.astype('float32')/255"
   ]
  },
  {
   "cell_type": "code",
   "execution_count": null,
   "id": "62c399fd",
   "metadata": {
    "ExecuteTime": {
     "end_time": "2022-09-17T09:37:20.758273Z",
     "start_time": "2022-09-17T09:37:20.744284Z"
    }
   },
   "outputs": [],
   "source": [
    "from keras.utils import to_categorical\n",
    "\n",
    "train_labels=to_categorical(train_labels)\n",
    "test_labels=to_categorical(test_labels)"
   ]
  },
  {
   "cell_type": "code",
   "execution_count": null,
   "id": "ac5caf71",
   "metadata": {
    "ExecuteTime": {
     "end_time": "2022-09-17T09:37:33.664696Z",
     "start_time": "2022-09-17T09:37:20.760284Z"
    }
   },
   "outputs": [],
   "source": [
    "network.fit(train_images,train_labels,epochs=5,batch_size=128)"
   ]
  },
  {
   "cell_type": "code",
   "execution_count": null,
   "id": "cd053a35",
   "metadata": {
    "ExecuteTime": {
     "end_time": "2022-09-17T09:37:34.334363Z",
     "start_time": "2022-09-17T09:37:33.666688Z"
    }
   },
   "outputs": [],
   "source": [
    "test_loss,test_acc=network.evaluate(test_images,test_labels)\n",
    "print('test_acc:',test_acc)"
   ]
  },
  {
   "cell_type": "markdown",
   "id": "5f8e34e7",
   "metadata": {},
   "source": [
    "# 神经网络的数据表示"
   ]
  },
  {
   "cell_type": "markdown",
   "id": "09601f1f",
   "metadata": {
    "ExecuteTime": {
     "end_time": "2022-09-15T15:59:12.593438Z",
     "start_time": "2022-09-15T15:59:12.578441Z"
    }
   },
   "source": [
    "## 标量"
   ]
  },
  {
   "cell_type": "code",
   "execution_count": null,
   "id": "7ce7ab7d",
   "metadata": {
    "ExecuteTime": {
     "end_time": "2022-09-17T09:37:34.350347Z",
     "start_time": "2022-09-17T09:37:34.336363Z"
    }
   },
   "outputs": [],
   "source": [
    "import numpy as np"
   ]
  },
  {
   "cell_type": "code",
   "execution_count": null,
   "id": "58fb1df6",
   "metadata": {
    "ExecuteTime": {
     "end_time": "2022-09-17T09:37:34.366346Z",
     "start_time": "2022-09-17T09:37:34.351351Z"
    }
   },
   "outputs": [],
   "source": [
    "x=np.array(12)\n",
    "x"
   ]
  },
  {
   "cell_type": "code",
   "execution_count": null,
   "id": "d7801508",
   "metadata": {
    "ExecuteTime": {
     "end_time": "2022-09-17T09:37:34.382360Z",
     "start_time": "2022-09-17T09:37:34.368356Z"
    }
   },
   "outputs": [],
   "source": [
    "x.ndim"
   ]
  },
  {
   "cell_type": "markdown",
   "id": "d86259b5",
   "metadata": {},
   "source": [
    "## 向量"
   ]
  },
  {
   "cell_type": "code",
   "execution_count": null,
   "id": "0ebb829d",
   "metadata": {
    "ExecuteTime": {
     "end_time": "2022-09-17T09:37:34.398350Z",
     "start_time": "2022-09-17T09:37:34.384350Z"
    }
   },
   "outputs": [],
   "source": [
    "x=np.array([12,3,6,14,7])\n",
    "x"
   ]
  },
  {
   "cell_type": "code",
   "execution_count": null,
   "id": "ffd8ff47",
   "metadata": {
    "ExecuteTime": {
     "end_time": "2022-09-17T09:37:34.414366Z",
     "start_time": "2022-09-17T09:37:34.400357Z"
    }
   },
   "outputs": [],
   "source": [
    "x.ndim"
   ]
  },
  {
   "cell_type": "markdown",
   "id": "a227a132",
   "metadata": {},
   "source": [
    "## 矩阵"
   ]
  },
  {
   "cell_type": "code",
   "execution_count": null,
   "id": "b46d36b3",
   "metadata": {
    "ExecuteTime": {
     "end_time": "2022-09-17T09:37:34.430366Z",
     "start_time": "2022-09-17T09:37:34.418344Z"
    }
   },
   "outputs": [],
   "source": [
    "x=np.array([[5,78,2,34,0],\n",
    "           [6,79,3,35,1],\n",
    "           [7,80,4,36,2]])"
   ]
  },
  {
   "cell_type": "code",
   "execution_count": null,
   "id": "0979519e",
   "metadata": {
    "ExecuteTime": {
     "end_time": "2022-09-17T09:37:34.446356Z",
     "start_time": "2022-09-17T09:37:34.432346Z"
    }
   },
   "outputs": [],
   "source": [
    "x.ndim"
   ]
  },
  {
   "cell_type": "markdown",
   "id": "8bede944",
   "metadata": {},
   "source": [
    "## 3D张量与更高维度张量"
   ]
  },
  {
   "cell_type": "code",
   "execution_count": null,
   "id": "1e25831a",
   "metadata": {
    "ExecuteTime": {
     "end_time": "2022-09-17T09:37:34.462371Z",
     "start_time": "2022-09-17T09:37:34.448346Z"
    }
   },
   "outputs": [],
   "source": [
    "x=np.array([[[5,78,2,34,0],\n",
    "           [6,79,3,35,1],\n",
    "           [7,80,4,36,2]],\n",
    "           [[5,78,2,34,0],\n",
    "           [6,79,3,35,1],\n",
    "           [7,80,4,36,2]],\n",
    "           [[5,78,2,34,0],\n",
    "           [6,79,3,35,1],\n",
    "           [7,80,4,36,2]]])"
   ]
  },
  {
   "cell_type": "code",
   "execution_count": null,
   "id": "960b6051",
   "metadata": {
    "ExecuteTime": {
     "end_time": "2022-09-17T09:37:34.478356Z",
     "start_time": "2022-09-17T09:37:34.464346Z"
    }
   },
   "outputs": [],
   "source": [
    "x.ndim"
   ]
  },
  {
   "cell_type": "markdown",
   "id": "37140a6b",
   "metadata": {
    "ExecuteTime": {
     "end_time": "2022-09-15T16:07:03.235911Z",
     "start_time": "2022-09-15T16:07:03.221889Z"
    }
   },
   "source": [
    "## 关键属性"
   ]
  },
  {
   "cell_type": "code",
   "execution_count": null,
   "id": "95c732bb",
   "metadata": {
    "ExecuteTime": {
     "end_time": "2022-09-17T09:37:34.494354Z",
     "start_time": "2022-09-17T09:37:34.480347Z"
    }
   },
   "outputs": [],
   "source": [
    "from keras.datasets import mnist"
   ]
  },
  {
   "cell_type": "code",
   "execution_count": null,
   "id": "54f2acf9",
   "metadata": {
    "ExecuteTime": {
     "end_time": "2022-09-17T09:37:34.718343Z",
     "start_time": "2022-09-17T09:37:34.496345Z"
    }
   },
   "outputs": [],
   "source": [
    "(train_images,train_labels),(test_images,test_labels)=mnist.load_data()"
   ]
  },
  {
   "cell_type": "code",
   "execution_count": null,
   "id": "2e675d68",
   "metadata": {
    "ExecuteTime": {
     "end_time": "2022-09-17T09:37:34.734337Z",
     "start_time": "2022-09-17T09:37:34.720340Z"
    }
   },
   "outputs": [],
   "source": [
    "print(train_images.ndim)"
   ]
  },
  {
   "cell_type": "code",
   "execution_count": null,
   "id": "fa1cfcb9",
   "metadata": {
    "ExecuteTime": {
     "end_time": "2022-09-17T09:37:34.750335Z",
     "start_time": "2022-09-17T09:37:34.737342Z"
    }
   },
   "outputs": [],
   "source": [
    "print(train_images.shape)"
   ]
  },
  {
   "cell_type": "code",
   "execution_count": null,
   "id": "07139c6a",
   "metadata": {
    "ExecuteTime": {
     "end_time": "2022-09-17T09:37:34.766337Z",
     "start_time": "2022-09-17T09:37:34.752338Z"
    }
   },
   "outputs": [],
   "source": [
    "print(train_images.dtype)"
   ]
  },
  {
   "cell_type": "code",
   "execution_count": null,
   "id": "bb33e257",
   "metadata": {
    "ExecuteTime": {
     "end_time": "2022-09-17T09:37:35.524086Z",
     "start_time": "2022-09-17T09:37:34.768335Z"
    }
   },
   "outputs": [],
   "source": [
    "digit=train_images[4]\n",
    "\n",
    "import matplotlib.pyplot as plt \n",
    "plt.imshow(digit,cmap=plt.cm.binary)\n",
    "plt.show()"
   ]
  },
  {
   "cell_type": "markdown",
   "id": "eaf76dff",
   "metadata": {},
   "source": [
    "## 在Numpy中操作张量"
   ]
  },
  {
   "cell_type": "code",
   "execution_count": null,
   "id": "034dc5ca",
   "metadata": {
    "ExecuteTime": {
     "end_time": "2022-09-17T09:37:35.540086Z",
     "start_time": "2022-09-17T09:37:35.526071Z"
    }
   },
   "outputs": [],
   "source": [
    "my_slice=train_images[10:100]\n",
    "print(my_slice.shape)"
   ]
  },
  {
   "cell_type": "code",
   "execution_count": null,
   "id": "03cb0ac0",
   "metadata": {
    "ExecuteTime": {
     "end_time": "2022-09-17T09:37:35.555089Z",
     "start_time": "2022-09-17T09:37:35.542066Z"
    }
   },
   "outputs": [],
   "source": [
    "my_slice=train_images[10:100,:,:]\n",
    "my_slice.shape"
   ]
  },
  {
   "cell_type": "code",
   "execution_count": null,
   "id": "afbbbf9e",
   "metadata": {
    "ExecuteTime": {
     "end_time": "2022-09-17T09:37:35.571076Z",
     "start_time": "2022-09-17T09:37:35.557070Z"
    }
   },
   "outputs": [],
   "source": [
    "my_slice=train_images[10:100,0:28,0:28]\n",
    "my_slice.shape"
   ]
  },
  {
   "cell_type": "code",
   "execution_count": null,
   "id": "2da01460",
   "metadata": {
    "ExecuteTime": {
     "end_time": "2022-09-17T09:37:35.587066Z",
     "start_time": "2022-09-17T09:37:35.573066Z"
    }
   },
   "outputs": [],
   "source": [
    "my_slice=train_images[:,14:,14:]\n",
    "my_slice.shape"
   ]
  },
  {
   "cell_type": "code",
   "execution_count": null,
   "id": "0c54ac36",
   "metadata": {
    "ExecuteTime": {
     "end_time": "2022-09-17T09:37:35.603087Z",
     "start_time": "2022-09-17T09:37:35.589065Z"
    }
   },
   "outputs": [],
   "source": [
    "my_slice=train_images[:,7:-7,7:-7]\n",
    "my_slice.shape"
   ]
  },
  {
   "cell_type": "markdown",
   "id": "a587d34e",
   "metadata": {},
   "source": [
    "## 数据批量的概念"
   ]
  },
  {
   "cell_type": "code",
   "execution_count": null,
   "id": "ae41a31c",
   "metadata": {
    "ExecuteTime": {
     "end_time": "2022-09-17T09:37:35.619088Z",
     "start_time": "2022-09-17T09:37:35.605056Z"
    }
   },
   "outputs": [],
   "source": [
    "batch=train_images[:128]"
   ]
  },
  {
   "cell_type": "code",
   "execution_count": null,
   "id": "05524007",
   "metadata": {
    "ExecuteTime": {
     "end_time": "2022-09-17T09:37:35.635071Z",
     "start_time": "2022-09-17T09:37:35.621068Z"
    }
   },
   "outputs": [],
   "source": [
    "batch=train_images[128:256]"
   ]
  },
  {
   "cell_type": "code",
   "execution_count": null,
   "id": "455cca01",
   "metadata": {
    "ExecuteTime": {
     "end_time": "2022-09-17T09:37:35.651066Z",
     "start_time": "2022-09-17T09:37:35.637069Z"
    },
    "run_control": {
     "marked": true
    }
   },
   "outputs": [],
   "source": [
    "# batch=train_images[128*n:128*(n+1)]"
   ]
  },
  {
   "cell_type": "markdown",
   "id": "3538d92b",
   "metadata": {
    "ExecuteTime": {
     "end_time": "2022-09-16T01:33:10.931948Z",
     "start_time": "2022-09-16T01:33:10.917940Z"
    }
   },
   "source": [
    "## 现实世界中的数据张量"
   ]
  },
  {
   "cell_type": "markdown",
   "id": "5a0544e3",
   "metadata": {},
   "source": [
    "## 向量数据"
   ]
  },
  {
   "cell_type": "markdown",
   "id": "4edf1b2e",
   "metadata": {},
   "source": [
    "## 时间序列数据或序列数据"
   ]
  },
  {
   "cell_type": "markdown",
   "id": "e93dece1",
   "metadata": {},
   "source": [
    "## 图像数据"
   ]
  },
  {
   "cell_type": "markdown",
   "id": "3ac1cc0a",
   "metadata": {},
   "source": [
    "## 视频数据"
   ]
  },
  {
   "cell_type": "markdown",
   "id": "2c98cd4a",
   "metadata": {},
   "source": [
    "# 神经网络的“齿轮”：张量运算"
   ]
  },
  {
   "cell_type": "code",
   "execution_count": null,
   "id": "110530b2",
   "metadata": {
    "ExecuteTime": {
     "end_time": "2022-09-17T09:37:35.667076Z",
     "start_time": "2022-09-17T09:37:35.653064Z"
    }
   },
   "outputs": [],
   "source": [
    "import keras\n",
    "keras.layers.Dense(512,activation='relu')\n",
    "# output=relu(dot(W,input)+b)"
   ]
  },
  {
   "cell_type": "markdown",
   "id": "605a26ec",
   "metadata": {},
   "source": [
    "## 逐元素运算"
   ]
  },
  {
   "cell_type": "code",
   "execution_count": null,
   "id": "b38e3dc8",
   "metadata": {
    "ExecuteTime": {
     "end_time": "2022-09-17T09:37:35.794077Z",
     "start_time": "2022-09-17T09:37:35.668078Z"
    }
   },
   "outputs": [],
   "source": [
    "def naive_relu(x):\n",
    "    # x是一个Numpy的2D张量\n",
    "    assert len(x.shape)==2\n",
    "    \n",
    "    # 避免覆盖输入张量\n",
    "    x=x.copy()\n",
    "    for i in range(x.shape[0]):\n",
    "        for j in range(x.shape[1]):\n",
    "            x[i,j]=max([i,j],0)\n",
    "    return x"
   ]
  },
  {
   "cell_type": "code",
   "execution_count": null,
   "id": "57e3a97f",
   "metadata": {
    "ExecuteTime": {
     "end_time": "2022-09-17T09:37:35.810125Z",
     "start_time": "2022-09-17T09:37:35.796072Z"
    }
   },
   "outputs": [],
   "source": [
    "def naive_add(x,y):\n",
    "    # x和y是Numpy的2D张量\n",
    "    assert len(x.shape)==2\n",
    "    assert x.shape==y.shape\n",
    "    \n",
    "    # 避免覆盖输入张量\n",
    "    x=x.copy()\n",
    "    for i in range(x.shape[0]):\n",
    "        for j in range(x.shape[1]):\n",
    "            x[i,j]+=y[i,j]\n",
    "            \n",
    "    return x"
   ]
  },
  {
   "cell_type": "markdown",
   "id": "7c447a9a",
   "metadata": {},
   "source": [
    "## 广播"
   ]
  },
  {
   "cell_type": "code",
   "execution_count": null,
   "id": "0efee55b",
   "metadata": {
    "ExecuteTime": {
     "end_time": "2022-09-17T09:37:35.825399Z",
     "start_time": "2022-09-17T09:37:35.812107Z"
    },
    "run_control": {
     "marked": true
    }
   },
   "outputs": [],
   "source": [
    "def naive_add_matrix_and_vector(x,y):\n",
    "    # x是一个Numpy的2D张量\n",
    "    assert len(x.shape)==2\n",
    "    # y是一个Numpy向量\n",
    "    assert len(y.shape)==1\n",
    "    assert x.shape[1]==y.shape[0]\n",
    "    \n",
    "    # 避免覆盖输入张量\n",
    "    x=x.copy()\n",
    "    for i in range(x.shape[0]):\n",
    "        for j in range(x.shape[1]):\n",
    "            x[i,j]+=y[j]\n",
    "    return x"
   ]
  },
  {
   "cell_type": "code",
   "execution_count": null,
   "id": "853b3bfb",
   "metadata": {
    "ExecuteTime": {
     "end_time": "2022-09-17T09:37:35.841125Z",
     "start_time": "2022-09-17T09:37:35.828111Z"
    }
   },
   "outputs": [],
   "source": [
    "import numpy as np\n",
    "\n",
    "# x是形状为(64,3,32,10)的随机向量\n",
    "x=np.random.random((64,3,32,10))\n",
    "print('x shape:',x.shape)\n",
    "# y是形状为(32,10)的随机向量\n",
    "y=np.random.random((32,10))\n",
    "print('y shape:',y.shape)\n",
    "\n",
    "# 输出z的形状是(64, 3, 32, 10)，与x相同\n",
    "z=np.maximum(x,y)\n",
    "print('z shape:',z.shape)"
   ]
  },
  {
   "cell_type": "markdown",
   "id": "56b52a7d",
   "metadata": {},
   "source": [
    "## 张量点积"
   ]
  },
  {
   "cell_type": "code",
   "execution_count": null,
   "id": "32783500",
   "metadata": {
    "ExecuteTime": {
     "end_time": "2022-09-17T09:37:35.857115Z",
     "start_time": "2022-09-17T09:37:35.843105Z"
    }
   },
   "outputs": [],
   "source": [
    "def naive_vector_dot(x,y):\n",
    "    # x和y都是Numpy向量\n",
    "    assert len(x.shape)==1\n",
    "    assert len(y.shape)==1\n",
    "    assert x.shape[0]==y.shape[1]\n",
    "    \n",
    "    z=0.\n",
    "    for i in range(x.shape[0]):\n",
    "        z+=x[i]*y[i]\n",
    "    return z"
   ]
  },
  {
   "cell_type": "code",
   "execution_count": null,
   "id": "69e30d31",
   "metadata": {
    "ExecuteTime": {
     "end_time": "2022-09-17T09:37:35.873125Z",
     "start_time": "2022-09-17T09:37:35.859106Z"
    }
   },
   "outputs": [],
   "source": [
    "import numpy as np\n",
    "\n",
    "def naive_matrix_vector_dot(x,y):\n",
    "    # x是一个Numpy矩阵\n",
    "    assert len(x.shape)==2\n",
    "    # y是一个Numpy向量\n",
    "    assert len(y.shape)==1\n",
    "    # x的第一维和y的第0位大小必须相同\n",
    "    assert x.shape[1]==y.shape[0]\n",
    "    \n",
    "    # 这个运算返回一个全是0的向量，其形状与x.shape[0]相同\n",
    "    z=np.zeros(x.shape[0])\n",
    "    for i in range(x.shape[0]):\n",
    "        for j in range(x.shape[1]):\n",
    "            z[i]+=x[i,j]*y[j]\n",
    "    return z"
   ]
  },
  {
   "cell_type": "code",
   "execution_count": null,
   "id": "7f05ee7d",
   "metadata": {
    "ExecuteTime": {
     "end_time": "2022-09-17T09:37:35.889125Z",
     "start_time": "2022-09-17T09:37:35.876115Z"
    }
   },
   "outputs": [],
   "source": [
    "def naive_matrix_vector_dot(x,y):\n",
    "    z=np.zeros(x.shape[0])\n",
    "    for i in range(x.shape[0]):\n",
    "        z[i]=naive_vector_dot(x[i,:],y)\n",
    "        return z"
   ]
  },
  {
   "cell_type": "code",
   "execution_count": null,
   "id": "0ac22f1f",
   "metadata": {
    "ExecuteTime": {
     "end_time": "2022-09-17T09:37:35.905125Z",
     "start_time": "2022-09-17T09:37:35.891104Z"
    }
   },
   "outputs": [],
   "source": [
    "def naive_matrix_dot(x,y):\n",
    "    # x和y都是Numpy矩阵\n",
    "    assert len(x.shape)==2\n",
    "    assert len(y.shape)==2\n",
    "    # x的第1维和y的第0维大小必须相同\n",
    "    assert x.shape[1]==y.shape[0]\n",
    "    \n",
    "    # 这个运算返回特定形式的零矩阵\n",
    "    z=np.zeros((x.shape[0],y.shape[1]))\n",
    "    # 遍历x的所有行...\n",
    "    for i in range(x.shape[0]):\n",
    "        # ...然后遍历y的所有列\n",
    "        for j in range(y.shape[1]):\n",
    "            row_x=x[i,:]\n",
    "            column_y=y[:,j]\n",
    "            z[i,j]=naive_vector_dot(row_x,column_y)\n",
    "    return z"
   ]
  },
  {
   "cell_type": "markdown",
   "id": "fd44b4b1",
   "metadata": {},
   "source": [
    "## 张量变形"
   ]
  },
  {
   "cell_type": "code",
   "execution_count": null,
   "id": "60fda15a",
   "metadata": {
    "ExecuteTime": {
     "end_time": "2022-09-17T09:37:35.921125Z",
     "start_time": "2022-09-17T09:37:35.907105Z"
    }
   },
   "outputs": [],
   "source": [
    "train_images=train_images.reshape((60000,28*28))"
   ]
  },
  {
   "cell_type": "code",
   "execution_count": null,
   "id": "53dc0e83",
   "metadata": {
    "ExecuteTime": {
     "end_time": "2022-09-17T09:37:35.937125Z",
     "start_time": "2022-09-17T09:37:35.923106Z"
    }
   },
   "outputs": [],
   "source": [
    "x=np.array([[0.,1.],\n",
    "           [2.,3.],\n",
    "           [4.,5.]])\n",
    "print(x.shape)"
   ]
  },
  {
   "cell_type": "code",
   "execution_count": null,
   "id": "2abdf11a",
   "metadata": {
    "ExecuteTime": {
     "end_time": "2022-09-17T09:37:35.953125Z",
     "start_time": "2022-09-17T09:37:35.939101Z"
    }
   },
   "outputs": [],
   "source": [
    "x=x.reshape((6,1))"
   ]
  },
  {
   "cell_type": "code",
   "execution_count": null,
   "id": "49d4187f",
   "metadata": {
    "ExecuteTime": {
     "end_time": "2022-09-17T09:37:35.969128Z",
     "start_time": "2022-09-17T09:37:35.955108Z"
    }
   },
   "outputs": [],
   "source": [
    "x"
   ]
  },
  {
   "cell_type": "code",
   "execution_count": null,
   "id": "838c6c14",
   "metadata": {
    "ExecuteTime": {
     "end_time": "2022-09-17T09:37:35.985125Z",
     "start_time": "2022-09-17T09:37:35.971105Z"
    }
   },
   "outputs": [],
   "source": [
    "x=x.reshape((2,3))"
   ]
  },
  {
   "cell_type": "code",
   "execution_count": null,
   "id": "c1464339",
   "metadata": {
    "ExecuteTime": {
     "end_time": "2022-09-17T09:37:36.001108Z",
     "start_time": "2022-09-17T09:37:35.987104Z"
    }
   },
   "outputs": [],
   "source": [
    "x"
   ]
  },
  {
   "cell_type": "code",
   "execution_count": null,
   "id": "af503fbf",
   "metadata": {
    "ExecuteTime": {
     "end_time": "2022-09-17T09:37:36.017115Z",
     "start_time": "2022-09-17T09:37:36.003113Z"
    }
   },
   "outputs": [],
   "source": [
    "# 创建一个形状为(300,20)的零矩阵\n",
    "x=np.zeros((300,20))\n",
    "x=np.transpose(x)\n",
    "print(x.shape)"
   ]
  },
  {
   "cell_type": "markdown",
   "id": "8b89a656",
   "metadata": {},
   "source": [
    "## 张量运算的几何解释"
   ]
  },
  {
   "cell_type": "markdown",
   "id": "9946a930",
   "metadata": {},
   "source": [
    "## 深度学习的几何解释"
   ]
  },
  {
   "cell_type": "markdown",
   "id": "6e961c1b",
   "metadata": {},
   "source": [
    "# 神经网络的“引擎”：基于梯度的优化"
   ]
  },
  {
   "cell_type": "markdown",
   "id": "f6fa4aa7",
   "metadata": {
    "ExecuteTime": {
     "end_time": "2022-09-17T09:33:17.644115Z",
     "start_time": "2022-09-17T09:33:17.640114Z"
    }
   },
   "source": [
    "## 什么是导数"
   ]
  },
  {
   "cell_type": "markdown",
   "id": "312cf278",
   "metadata": {},
   "source": [
    "## 张量运算的导数：梯度"
   ]
  },
  {
   "cell_type": "markdown",
   "id": "340cd663",
   "metadata": {},
   "source": [
    "## 随机梯度下降"
   ]
  },
  {
   "cell_type": "markdown",
   "id": "445eb076",
   "metadata": {},
   "source": [
    "# 回顾第一个例子"
   ]
  },
  {
   "cell_type": "code",
   "execution_count": 3,
   "id": "59f07634",
   "metadata": {
    "ExecuteTime": {
     "end_time": "2022-09-17T10:29:10.900922Z",
     "start_time": "2022-09-17T10:29:10.884924Z"
    }
   },
   "outputs": [],
   "source": [
    "from keras import models\n",
    "from keras import layers\n",
    "from keras.datasets import mnist"
   ]
  },
  {
   "cell_type": "code",
   "execution_count": 4,
   "id": "3a5b643c",
   "metadata": {
    "ExecuteTime": {
     "end_time": "2022-09-17T10:29:11.951626Z",
     "start_time": "2022-09-17T10:29:11.635522Z"
    }
   },
   "outputs": [],
   "source": [
    "(train_images,train_labels),(test_images,test_labels)=mnist.load_data()\n",
    "\n",
    "train_images=train_images.reshape((60000,28*28))\n",
    "train_images=train_images.astype('float32')/255\n",
    "\n",
    "test_images=test_images.reshape((10000,28*28))\n",
    "test_images=test_images.astype('float32')/255"
   ]
  },
  {
   "cell_type": "code",
   "execution_count": 8,
   "id": "81cbf99d",
   "metadata": {
    "ExecuteTime": {
     "end_time": "2022-09-17T10:30:40.830985Z",
     "start_time": "2022-09-17T10:30:40.816984Z"
    }
   },
   "outputs": [
    {
     "ename": "NameError",
     "evalue": "name 'to_categorical' is not defined",
     "output_type": "error",
     "traceback": [
      "\u001b[1;31m---------------------------------------------------------------------------\u001b[0m",
      "\u001b[1;31mNameError\u001b[0m                                 Traceback (most recent call last)",
      "Input \u001b[1;32mIn [8]\u001b[0m, in \u001b[0;36m<cell line: 1>\u001b[1;34m()\u001b[0m\n\u001b[1;32m----> 1\u001b[0m train_labels\u001b[38;5;241m=\u001b[39m\u001b[43mto_categorical\u001b[49m(train_labels)\n\u001b[0;32m      2\u001b[0m test_labels\u001b[38;5;241m=\u001b[39mto_categorical(test_labels)\n",
      "\u001b[1;31mNameError\u001b[0m: name 'to_categorical' is not defined"
     ]
    }
   ],
   "source": [
    "from keras import \n",
    "\n",
    "train_labels=to_categorical(train_labels)\n",
    "test_labels=to_categorical(test_labels)"
   ]
  },
  {
   "cell_type": "code",
   "execution_count": 9,
   "id": "1fa9cda9",
   "metadata": {
    "ExecuteTime": {
     "end_time": "2022-09-17T10:30:41.023023Z",
     "start_time": "2022-09-17T10:30:40.992018Z"
    }
   },
   "outputs": [],
   "source": [
    "network=models.Sequential()\n",
    "network.add(layers.Dense(512,activation='relu',input_shape=(28*28,)))\n",
    "network.add(layers.Dense(10,activation='softmax'))"
   ]
  },
  {
   "cell_type": "code",
   "execution_count": 10,
   "id": "9e2a38a3",
   "metadata": {
    "ExecuteTime": {
     "end_time": "2022-09-17T10:30:41.135024Z",
     "start_time": "2022-09-17T10:30:41.123016Z"
    }
   },
   "outputs": [],
   "source": [
    "network.compile(optimizer='rmsprop',\n",
    "               loss='categorical_crossentropy',\n",
    "               metrics=['accuracy'])"
   ]
  },
  {
   "cell_type": "code",
   "execution_count": 11,
   "id": "66ce1be7",
   "metadata": {
    "ExecuteTime": {
     "end_time": "2022-09-17T10:30:41.359031Z",
     "start_time": "2022-09-17T10:30:41.260040Z"
    }
   },
   "outputs": [
    {
     "name": "stdout",
     "output_type": "stream",
     "text": [
      "Epoch 1/5\n"
     ]
    },
    {
     "ename": "ValueError",
     "evalue": "in user code:\n\n    File \"C:\\Users\\ROG\\anaconda3\\lib\\site-packages\\keras\\engine\\training.py\", line 1160, in train_function  *\n        return step_function(self, iterator)\n    File \"C:\\Users\\ROG\\anaconda3\\lib\\site-packages\\keras\\engine\\training.py\", line 1146, in step_function  **\n        outputs = model.distribute_strategy.run(run_step, args=(data,))\n    File \"C:\\Users\\ROG\\anaconda3\\lib\\site-packages\\keras\\engine\\training.py\", line 1135, in run_step  **\n        outputs = model.train_step(data)\n    File \"C:\\Users\\ROG\\anaconda3\\lib\\site-packages\\keras\\engine\\training.py\", line 994, in train_step\n        loss = self.compute_loss(x, y, y_pred, sample_weight)\n    File \"C:\\Users\\ROG\\anaconda3\\lib\\site-packages\\keras\\engine\\training.py\", line 1052, in compute_loss\n        return self.compiled_loss(\n    File \"C:\\Users\\ROG\\anaconda3\\lib\\site-packages\\keras\\engine\\compile_utils.py\", line 265, in __call__\n        loss_value = loss_obj(y_t, y_p, sample_weight=sw)\n    File \"C:\\Users\\ROG\\anaconda3\\lib\\site-packages\\keras\\losses.py\", line 152, in __call__\n        losses = call_fn(y_true, y_pred)\n    File \"C:\\Users\\ROG\\anaconda3\\lib\\site-packages\\keras\\losses.py\", line 272, in call  **\n        return ag_fn(y_true, y_pred, **self._fn_kwargs)\n    File \"C:\\Users\\ROG\\anaconda3\\lib\\site-packages\\keras\\losses.py\", line 1990, in categorical_crossentropy\n        return backend.categorical_crossentropy(\n    File \"C:\\Users\\ROG\\anaconda3\\lib\\site-packages\\keras\\backend.py\", line 5529, in categorical_crossentropy\n        target.shape.assert_is_compatible_with(output.shape)\n\n    ValueError: Shapes (None, 1) and (None, 10) are incompatible\n",
     "output_type": "error",
     "traceback": [
      "\u001b[1;31m---------------------------------------------------------------------------\u001b[0m",
      "\u001b[1;31mValueError\u001b[0m                                Traceback (most recent call last)",
      "Input \u001b[1;32mIn [11]\u001b[0m, in \u001b[0;36m<cell line: 1>\u001b[1;34m()\u001b[0m\n\u001b[1;32m----> 1\u001b[0m \u001b[43mnetwork\u001b[49m\u001b[38;5;241;43m.\u001b[39;49m\u001b[43mfit\u001b[49m\u001b[43m(\u001b[49m\u001b[43mtrain_images\u001b[49m\u001b[43m,\u001b[49m\u001b[43mtrain_labels\u001b[49m\u001b[43m,\u001b[49m\u001b[43mepochs\u001b[49m\u001b[38;5;241;43m=\u001b[39;49m\u001b[38;5;241;43m5\u001b[39;49m\u001b[43m,\u001b[49m\u001b[43mbatch_size\u001b[49m\u001b[38;5;241;43m=\u001b[39;49m\u001b[38;5;241;43m128\u001b[39;49m\u001b[43m)\u001b[49m\n",
      "File \u001b[1;32m~\\anaconda3\\lib\\site-packages\\keras\\utils\\traceback_utils.py:70\u001b[0m, in \u001b[0;36mfilter_traceback.<locals>.error_handler\u001b[1;34m(*args, **kwargs)\u001b[0m\n\u001b[0;32m     67\u001b[0m     filtered_tb \u001b[38;5;241m=\u001b[39m _process_traceback_frames(e\u001b[38;5;241m.\u001b[39m__traceback__)\n\u001b[0;32m     68\u001b[0m     \u001b[38;5;66;03m# To get the full stack trace, call:\u001b[39;00m\n\u001b[0;32m     69\u001b[0m     \u001b[38;5;66;03m# `tf.debugging.disable_traceback_filtering()`\u001b[39;00m\n\u001b[1;32m---> 70\u001b[0m     \u001b[38;5;28;01mraise\u001b[39;00m e\u001b[38;5;241m.\u001b[39mwith_traceback(filtered_tb) \u001b[38;5;28;01mfrom\u001b[39;00m \u001b[38;5;28mNone\u001b[39m\n\u001b[0;32m     71\u001b[0m \u001b[38;5;28;01mfinally\u001b[39;00m:\n\u001b[0;32m     72\u001b[0m     \u001b[38;5;28;01mdel\u001b[39;00m filtered_tb\n",
      "File \u001b[1;32m~\\AppData\\Local\\Temp\\__autograph_generated_file69r726je.py:15\u001b[0m, in \u001b[0;36mouter_factory.<locals>.inner_factory.<locals>.tf__train_function\u001b[1;34m(iterator)\u001b[0m\n\u001b[0;32m     13\u001b[0m \u001b[38;5;28;01mtry\u001b[39;00m:\n\u001b[0;32m     14\u001b[0m     do_return \u001b[38;5;241m=\u001b[39m \u001b[38;5;28;01mTrue\u001b[39;00m\n\u001b[1;32m---> 15\u001b[0m     retval_ \u001b[38;5;241m=\u001b[39m ag__\u001b[38;5;241m.\u001b[39mconverted_call(ag__\u001b[38;5;241m.\u001b[39mld(step_function), (ag__\u001b[38;5;241m.\u001b[39mld(\u001b[38;5;28mself\u001b[39m), ag__\u001b[38;5;241m.\u001b[39mld(iterator)), \u001b[38;5;28;01mNone\u001b[39;00m, fscope)\n\u001b[0;32m     16\u001b[0m \u001b[38;5;28;01mexcept\u001b[39;00m:\n\u001b[0;32m     17\u001b[0m     do_return \u001b[38;5;241m=\u001b[39m \u001b[38;5;28;01mFalse\u001b[39;00m\n",
      "\u001b[1;31mValueError\u001b[0m: in user code:\n\n    File \"C:\\Users\\ROG\\anaconda3\\lib\\site-packages\\keras\\engine\\training.py\", line 1160, in train_function  *\n        return step_function(self, iterator)\n    File \"C:\\Users\\ROG\\anaconda3\\lib\\site-packages\\keras\\engine\\training.py\", line 1146, in step_function  **\n        outputs = model.distribute_strategy.run(run_step, args=(data,))\n    File \"C:\\Users\\ROG\\anaconda3\\lib\\site-packages\\keras\\engine\\training.py\", line 1135, in run_step  **\n        outputs = model.train_step(data)\n    File \"C:\\Users\\ROG\\anaconda3\\lib\\site-packages\\keras\\engine\\training.py\", line 994, in train_step\n        loss = self.compute_loss(x, y, y_pred, sample_weight)\n    File \"C:\\Users\\ROG\\anaconda3\\lib\\site-packages\\keras\\engine\\training.py\", line 1052, in compute_loss\n        return self.compiled_loss(\n    File \"C:\\Users\\ROG\\anaconda3\\lib\\site-packages\\keras\\engine\\compile_utils.py\", line 265, in __call__\n        loss_value = loss_obj(y_t, y_p, sample_weight=sw)\n    File \"C:\\Users\\ROG\\anaconda3\\lib\\site-packages\\keras\\losses.py\", line 152, in __call__\n        losses = call_fn(y_true, y_pred)\n    File \"C:\\Users\\ROG\\anaconda3\\lib\\site-packages\\keras\\losses.py\", line 272, in call  **\n        return ag_fn(y_true, y_pred, **self._fn_kwargs)\n    File \"C:\\Users\\ROG\\anaconda3\\lib\\site-packages\\keras\\losses.py\", line 1990, in categorical_crossentropy\n        return backend.categorical_crossentropy(\n    File \"C:\\Users\\ROG\\anaconda3\\lib\\site-packages\\keras\\backend.py\", line 5529, in categorical_crossentropy\n        target.shape.assert_is_compatible_with(output.shape)\n\n    ValueError: Shapes (None, 1) and (None, 10) are incompatible\n"
     ]
    }
   ],
   "source": [
    "network.fit(train_images,train_labels,epochs=5,batch_size=128)"
   ]
  },
  {
   "cell_type": "code",
   "execution_count": null,
   "id": "21e3a8da",
   "metadata": {},
   "outputs": [],
   "source": []
  }
 ],
 "metadata": {
  "hide_input": false,
  "kernelspec": {
   "display_name": "Python 3 (ipykernel)",
   "language": "python",
   "name": "python3"
  },
  "language_info": {
   "codemirror_mode": {
    "name": "ipython",
    "version": 3
   },
   "file_extension": ".py",
   "mimetype": "text/x-python",
   "name": "python",
   "nbconvert_exporter": "python",
   "pygments_lexer": "ipython3",
   "version": "3.9.12"
  },
  "nbTranslate": {
   "displayLangs": [
    "*"
   ],
   "hotkey": "alt-t",
   "langInMainMenu": true,
   "sourceLang": "en",
   "targetLang": "fr",
   "useGoogleTranslate": true
  },
  "toc": {
   "base_numbering": 1,
   "nav_menu": {},
   "number_sections": true,
   "sideBar": true,
   "skip_h1_title": false,
   "title_cell": "Table of Contents",
   "title_sidebar": "Contents",
   "toc_cell": false,
   "toc_position": {},
   "toc_section_display": true,
   "toc_window_display": false
  },
  "varInspector": {
   "cols": {
    "lenName": 16,
    "lenType": 16,
    "lenVar": 40
   },
   "kernels_config": {
    "python": {
     "delete_cmd_postfix": "",
     "delete_cmd_prefix": "del ",
     "library": "var_list.py",
     "varRefreshCmd": "print(var_dic_list())"
    },
    "r": {
     "delete_cmd_postfix": ") ",
     "delete_cmd_prefix": "rm(",
     "library": "var_list.r",
     "varRefreshCmd": "cat(var_dic_list()) "
    }
   },
   "types_to_exclude": [
    "module",
    "function",
    "builtin_function_or_method",
    "instance",
    "_Feature"
   ],
   "window_display": false
  }
 },
 "nbformat": 4,
 "nbformat_minor": 5
}
