{
 "cells": [
  {
   "cell_type": "markdown",
   "id": "a1416e56",
   "metadata": {},
   "source": [
    "# 初始神经网络"
   ]
  },
  {
   "cell_type": "code",
   "execution_count": 1,
   "id": "b4777372",
   "metadata": {
    "ExecuteTime": {
     "end_time": "2022-09-16T08:23:08.519261Z",
     "start_time": "2022-09-16T08:23:02.796466Z"
    }
   },
   "outputs": [],
   "source": [
    "from keras.datasets import mnist"
   ]
  },
  {
   "cell_type": "code",
   "execution_count": 2,
   "id": "3d5680fa",
   "metadata": {
    "ExecuteTime": {
     "end_time": "2022-09-16T08:23:08.759263Z",
     "start_time": "2022-09-16T08:23:08.521255Z"
    }
   },
   "outputs": [],
   "source": [
    "(train_images,train_labels),(test_images,test_labels)=mnist.load_data()"
   ]
  },
  {
   "cell_type": "code",
   "execution_count": 3,
   "id": "5421b85f",
   "metadata": {
    "ExecuteTime": {
     "end_time": "2022-09-16T08:23:08.775242Z",
     "start_time": "2022-09-16T08:23:08.761242Z"
    }
   },
   "outputs": [
    {
     "data": {
      "text/plain": [
       "(60000, 28, 28)"
      ]
     },
     "execution_count": 3,
     "metadata": {},
     "output_type": "execute_result"
    }
   ],
   "source": [
    "train_images.shape"
   ]
  },
  {
   "cell_type": "code",
   "execution_count": 4,
   "id": "30ef9bdc",
   "metadata": {
    "ExecuteTime": {
     "end_time": "2022-09-16T08:23:08.791261Z",
     "start_time": "2022-09-16T08:23:08.777252Z"
    },
    "run_control": {
     "marked": true
    }
   },
   "outputs": [
    {
     "data": {
      "text/plain": [
       "60000"
      ]
     },
     "execution_count": 4,
     "metadata": {},
     "output_type": "execute_result"
    }
   ],
   "source": [
    "len(train_labels)"
   ]
  },
  {
   "cell_type": "code",
   "execution_count": 5,
   "id": "9c37d7f0",
   "metadata": {
    "ExecuteTime": {
     "end_time": "2022-09-16T08:23:08.807261Z",
     "start_time": "2022-09-16T08:23:08.793253Z"
    }
   },
   "outputs": [
    {
     "data": {
      "text/plain": [
       "array([5, 0, 4, ..., 5, 6, 8], dtype=uint8)"
      ]
     },
     "execution_count": 5,
     "metadata": {},
     "output_type": "execute_result"
    }
   ],
   "source": [
    "train_labels"
   ]
  },
  {
   "cell_type": "code",
   "execution_count": 6,
   "id": "445cf805",
   "metadata": {
    "ExecuteTime": {
     "end_time": "2022-09-16T08:23:08.822261Z",
     "start_time": "2022-09-16T08:23:08.809254Z"
    }
   },
   "outputs": [
    {
     "data": {
      "text/plain": [
       "(10000, 28, 28)"
      ]
     },
     "execution_count": 6,
     "metadata": {},
     "output_type": "execute_result"
    }
   ],
   "source": [
    "test_images.shape"
   ]
  },
  {
   "cell_type": "code",
   "execution_count": 7,
   "id": "ec42fe49",
   "metadata": {
    "ExecuteTime": {
     "end_time": "2022-09-16T08:23:08.838242Z",
     "start_time": "2022-09-16T08:23:08.824254Z"
    }
   },
   "outputs": [
    {
     "data": {
      "text/plain": [
       "10000"
      ]
     },
     "execution_count": 7,
     "metadata": {},
     "output_type": "execute_result"
    }
   ],
   "source": [
    "len(test_labels)"
   ]
  },
  {
   "cell_type": "code",
   "execution_count": 8,
   "id": "4c1a02b5",
   "metadata": {
    "ExecuteTime": {
     "end_time": "2022-09-16T08:23:08.854241Z",
     "start_time": "2022-09-16T08:23:08.841243Z"
    }
   },
   "outputs": [
    {
     "data": {
      "text/plain": [
       "array([7, 2, 1, ..., 4, 5, 6], dtype=uint8)"
      ]
     },
     "execution_count": 8,
     "metadata": {},
     "output_type": "execute_result"
    }
   ],
   "source": [
    "test_labels"
   ]
  },
  {
   "cell_type": "code",
   "execution_count": 9,
   "id": "bc7fe0db",
   "metadata": {
    "ExecuteTime": {
     "end_time": "2022-09-16T08:23:09.077261Z",
     "start_time": "2022-09-16T08:23:08.856239Z"
    }
   },
   "outputs": [],
   "source": [
    "from keras import models\n",
    "from keras import layers\n",
    "\n",
    "network=models.Sequential()\n",
    "network.add(layers.Dense(512,activation='relu',input_shape=(28*28,)))\n",
    "network.add(layers.Dense(10,activation='softmax'))"
   ]
  },
  {
   "cell_type": "code",
   "execution_count": 10,
   "id": "653a872d",
   "metadata": {
    "ExecuteTime": {
     "end_time": "2022-09-16T08:23:09.093261Z",
     "start_time": "2022-09-16T08:23:09.079246Z"
    }
   },
   "outputs": [],
   "source": [
    "network.compile(optimizer='rmsprop',\n",
    "               loss='categorical_crossentropy',\n",
    "               metrics=['accuracy'])"
   ]
  },
  {
   "cell_type": "code",
   "execution_count": 11,
   "id": "7385f8af",
   "metadata": {
    "ExecuteTime": {
     "end_time": "2022-09-16T08:23:09.205261Z",
     "start_time": "2022-09-16T08:23:09.095245Z"
    }
   },
   "outputs": [],
   "source": [
    "train_images=train_images.reshape((60000,28*28))\n",
    "train_images=train_images.astype('float32')/255\n",
    "\n",
    "test_images=test_images.reshape((10000,28*28))\n",
    "test_images=test_images.astype('float32')/255"
   ]
  },
  {
   "cell_type": "code",
   "execution_count": 12,
   "id": "62c399fd",
   "metadata": {
    "ExecuteTime": {
     "end_time": "2022-09-16T08:23:09.221261Z",
     "start_time": "2022-09-16T08:23:09.207245Z"
    }
   },
   "outputs": [],
   "source": [
    "from keras.utils import to_categorical\n",
    "\n",
    "train_labels=to_categorical(train_labels)\n",
    "test_labels=to_categorical(test_labels)"
   ]
  },
  {
   "cell_type": "code",
   "execution_count": 13,
   "id": "ac5caf71",
   "metadata": {
    "ExecuteTime": {
     "end_time": "2022-09-16T08:23:21.826252Z",
     "start_time": "2022-09-16T08:23:09.223253Z"
    }
   },
   "outputs": [
    {
     "name": "stdout",
     "output_type": "stream",
     "text": [
      "Epoch 1/5\n",
      "469/469 [==============================] - 3s 5ms/step - loss: 0.2602 - accuracy: 0.9234\n",
      "Epoch 2/5\n",
      "111/469 [======>.......................] - ETA: 1s - loss: 0.1202 - accuracy: 0.96"
     ]
    },
    {
     "data": {
      "text/html": [
       "<b>limit_output extension: Maximum message size of 10000 exceeded with 10003 characters</b>"
      ]
     },
     "metadata": {},
     "output_type": "display_data"
    }
   ],
   "source": [
    "network.fit(train_images,train_labels,epochs=5,batch_size=128)"
   ]
  },
  {
   "cell_type": "code",
   "execution_count": 14,
   "id": "cd053a35",
   "metadata": {
    "ExecuteTime": {
     "end_time": "2022-09-16T08:23:22.463251Z",
     "start_time": "2022-09-16T08:23:21.829257Z"
    }
   },
   "outputs": [
    {
     "name": "stdout",
     "output_type": "stream",
     "text": [
      "313/313 [==============================] - 1s 1ms/step - loss: 0.0683 - accuracy: 0.9785\n",
      "test_acc: 0.9785000085830688\n"
     ]
    }
   ],
   "source": [
    "test_loss,test_acc=network.evaluate(test_images,test_labels)\n",
    "print('test_acc:',test_acc)"
   ]
  },
  {
   "cell_type": "markdown",
   "id": "5f8e34e7",
   "metadata": {},
   "source": [
    "# 神经网络的数据表示"
   ]
  },
  {
   "cell_type": "markdown",
   "id": "09601f1f",
   "metadata": {
    "ExecuteTime": {
     "end_time": "2022-09-15T15:59:12.593438Z",
     "start_time": "2022-09-15T15:59:12.578441Z"
    }
   },
   "source": [
    "## 标量"
   ]
  },
  {
   "cell_type": "code",
   "execution_count": 15,
   "id": "7ce7ab7d",
   "metadata": {
    "ExecuteTime": {
     "end_time": "2022-09-16T08:23:22.479252Z",
     "start_time": "2022-09-16T08:23:22.465259Z"
    }
   },
   "outputs": [],
   "source": [
    "import numpy as np"
   ]
  },
  {
   "cell_type": "code",
   "execution_count": 16,
   "id": "58fb1df6",
   "metadata": {
    "ExecuteTime": {
     "end_time": "2022-09-16T08:23:22.494911Z",
     "start_time": "2022-09-16T08:23:22.481255Z"
    }
   },
   "outputs": [
    {
     "data": {
      "text/plain": [
       "array(12)"
      ]
     },
     "execution_count": 16,
     "metadata": {},
     "output_type": "execute_result"
    }
   ],
   "source": [
    "x=np.array(12)\n",
    "x"
   ]
  },
  {
   "cell_type": "code",
   "execution_count": 17,
   "id": "d7801508",
   "metadata": {
    "ExecuteTime": {
     "end_time": "2022-09-16T08:23:22.510949Z",
     "start_time": "2022-09-16T08:23:22.497930Z"
    }
   },
   "outputs": [
    {
     "data": {
      "text/plain": [
       "0"
      ]
     },
     "execution_count": 17,
     "metadata": {},
     "output_type": "execute_result"
    }
   ],
   "source": [
    "x.ndim"
   ]
  },
  {
   "cell_type": "markdown",
   "id": "d86259b5",
   "metadata": {},
   "source": [
    "## 向量"
   ]
  },
  {
   "cell_type": "code",
   "execution_count": 18,
   "id": "0ebb829d",
   "metadata": {
    "ExecuteTime": {
     "end_time": "2022-09-16T08:23:22.527274Z",
     "start_time": "2022-09-16T08:23:22.512933Z"
    }
   },
   "outputs": [
    {
     "data": {
      "text/plain": [
       "array([12,  3,  6, 14,  7])"
      ]
     },
     "execution_count": 18,
     "metadata": {},
     "output_type": "execute_result"
    }
   ],
   "source": [
    "x=np.array([12,3,6,14,7])\n",
    "x"
   ]
  },
  {
   "cell_type": "code",
   "execution_count": 19,
   "id": "ffd8ff47",
   "metadata": {
    "ExecuteTime": {
     "end_time": "2022-09-16T08:23:22.542949Z",
     "start_time": "2022-09-16T08:23:22.528933Z"
    }
   },
   "outputs": [
    {
     "data": {
      "text/plain": [
       "1"
      ]
     },
     "execution_count": 19,
     "metadata": {},
     "output_type": "execute_result"
    }
   ],
   "source": [
    "x.ndim"
   ]
  },
  {
   "cell_type": "markdown",
   "id": "a227a132",
   "metadata": {},
   "source": [
    "## 矩阵"
   ]
  },
  {
   "cell_type": "code",
   "execution_count": 20,
   "id": "b46d36b3",
   "metadata": {
    "ExecuteTime": {
     "end_time": "2022-09-16T08:23:22.558949Z",
     "start_time": "2022-09-16T08:23:22.544922Z"
    }
   },
   "outputs": [],
   "source": [
    "x=np.array([[5,78,2,34,0],\n",
    "           [6,79,3,35,1],\n",
    "           [7,80,4,36,2]])"
   ]
  },
  {
   "cell_type": "code",
   "execution_count": 21,
   "id": "0979519e",
   "metadata": {
    "ExecuteTime": {
     "end_time": "2022-09-16T08:23:22.574940Z",
     "start_time": "2022-09-16T08:23:22.560924Z"
    }
   },
   "outputs": [
    {
     "data": {
      "text/plain": [
       "2"
      ]
     },
     "execution_count": 21,
     "metadata": {},
     "output_type": "execute_result"
    }
   ],
   "source": [
    "x.ndim"
   ]
  },
  {
   "cell_type": "markdown",
   "id": "8bede944",
   "metadata": {},
   "source": [
    "## 3D张量与更高维度张量"
   ]
  },
  {
   "cell_type": "code",
   "execution_count": 22,
   "id": "1e25831a",
   "metadata": {
    "ExecuteTime": {
     "end_time": "2022-09-16T08:23:22.589949Z",
     "start_time": "2022-09-16T08:23:22.576922Z"
    }
   },
   "outputs": [],
   "source": [
    "x=np.array([[[5,78,2,34,0],\n",
    "           [6,79,3,35,1],\n",
    "           [7,80,4,36,2]],\n",
    "           [[5,78,2,34,0],\n",
    "           [6,79,3,35,1],\n",
    "           [7,80,4,36,2]],\n",
    "           [[5,78,2,34,0],\n",
    "           [6,79,3,35,1],\n",
    "           [7,80,4,36,2]]])"
   ]
  },
  {
   "cell_type": "code",
   "execution_count": 23,
   "id": "960b6051",
   "metadata": {
    "ExecuteTime": {
     "end_time": "2022-09-16T08:23:22.605949Z",
     "start_time": "2022-09-16T08:23:22.591920Z"
    }
   },
   "outputs": [
    {
     "data": {
      "text/plain": [
       "3"
      ]
     },
     "execution_count": 23,
     "metadata": {},
     "output_type": "execute_result"
    }
   ],
   "source": [
    "x.ndim"
   ]
  },
  {
   "cell_type": "markdown",
   "id": "37140a6b",
   "metadata": {
    "ExecuteTime": {
     "end_time": "2022-09-15T16:07:03.235911Z",
     "start_time": "2022-09-15T16:07:03.221889Z"
    }
   },
   "source": [
    "## 关键属性"
   ]
  },
  {
   "cell_type": "code",
   "execution_count": 24,
   "id": "95c732bb",
   "metadata": {
    "ExecuteTime": {
     "end_time": "2022-09-16T08:23:22.621950Z",
     "start_time": "2022-09-16T08:23:22.607926Z"
    }
   },
   "outputs": [],
   "source": [
    "from keras.datasets import mnist"
   ]
  },
  {
   "cell_type": "code",
   "execution_count": 25,
   "id": "54f2acf9",
   "metadata": {
    "ExecuteTime": {
     "end_time": "2022-09-16T08:23:22.812919Z",
     "start_time": "2022-09-16T08:23:22.623921Z"
    }
   },
   "outputs": [],
   "source": [
    "(train_images,train_labels),(test_images,test_labels)=mnist.load_data()"
   ]
  },
  {
   "cell_type": "code",
   "execution_count": 26,
   "id": "2e675d68",
   "metadata": {
    "ExecuteTime": {
     "end_time": "2022-09-16T08:23:22.828922Z",
     "start_time": "2022-09-16T08:23:22.814926Z"
    }
   },
   "outputs": [
    {
     "name": "stdout",
     "output_type": "stream",
     "text": [
      "3\n"
     ]
    }
   ],
   "source": [
    "print(train_images.ndim)"
   ]
  },
  {
   "cell_type": "code",
   "execution_count": 27,
   "id": "fa1cfcb9",
   "metadata": {
    "ExecuteTime": {
     "end_time": "2022-09-16T08:23:22.844922Z",
     "start_time": "2022-09-16T08:23:22.830927Z"
    }
   },
   "outputs": [
    {
     "name": "stdout",
     "output_type": "stream",
     "text": [
      "(60000, 28, 28)\n"
     ]
    }
   ],
   "source": [
    "print(train_images.shape)"
   ]
  },
  {
   "cell_type": "code",
   "execution_count": 28,
   "id": "07139c6a",
   "metadata": {
    "ExecuteTime": {
     "end_time": "2022-09-16T08:23:22.860929Z",
     "start_time": "2022-09-16T08:23:22.849922Z"
    }
   },
   "outputs": [
    {
     "name": "stdout",
     "output_type": "stream",
     "text": [
      "uint8\n"
     ]
    }
   ],
   "source": [
    "print(train_images.dtype)"
   ]
  },
  {
   "cell_type": "code",
   "execution_count": 29,
   "id": "bb33e257",
   "metadata": {
    "ExecuteTime": {
     "end_time": "2022-09-16T08:23:23.609921Z",
     "start_time": "2022-09-16T08:23:22.862924Z"
    }
   },
   "outputs": [
    {
     "data": {
      "image/png": "[encoded data removed]",
      "text/plain": [
       "<Figure size 432x288 with 1 Axes>"
      ]
     },
     "metadata": {
      "needs_background": "light"
     },
     "output_type": "display_data"
    }
   ],
   "source": [
    "digit=train_images[4]\n",
    "\n",
    "import matplotlib.pyplot as plt \n",
    "plt.imshow(digit,cmap=plt.cm.binary)\n",
    "plt.show()"
   ]
  },
  {
   "cell_type": "markdown",
   "id": "eaf76dff",
   "metadata": {},
   "source": [
    "## 在Numpy中操作张量"
   ]
  },
  {
   "cell_type": "code",
   "execution_count": 30,
   "id": "034dc5ca",
   "metadata": {
    "ExecuteTime": {
     "end_time": "2022-09-16T08:23:23.624921Z",
     "start_time": "2022-09-16T08:23:23.611923Z"
    }
   },
   "outputs": [
    {
     "name": "stdout",
     "output_type": "stream",
     "text": [
      "(90, 28, 28)\n"
     ]
    }
   ],
   "source": [
    "my_slice=train_images[10:100]\n",
    "print(my_slice.shape)"
   ]
  },
  {
   "cell_type": "code",
   "execution_count": 31,
   "id": "03cb0ac0",
   "metadata": {
    "ExecuteTime": {
     "end_time": "2022-09-16T08:23:23.640921Z",
     "start_time": "2022-09-16T08:23:23.626923Z"
    }
   },
   "outputs": [
    {
     "data": {
      "text/plain": [
       "(90, 28, 28)"
      ]
     },
     "execution_count": 31,
     "metadata": {},
     "output_type": "execute_result"
    }
   ],
   "source": [
    "my_slice=train_images[10:100,:,:]\n",
    "my_slice.shape"
   ]
  },
  {
   "cell_type": "code",
   "execution_count": 32,
   "id": "afbbbf9e",
   "metadata": {
    "ExecuteTime": {
     "end_time": "2022-09-16T08:23:23.656919Z",
     "start_time": "2022-09-16T08:23:23.642923Z"
    }
   },
   "outputs": [
    {
     "data": {
      "text/plain": [
       "(90, 28, 28)"
      ]
     },
     "execution_count": 32,
     "metadata": {},
     "output_type": "execute_result"
    }
   ],
   "source": [
    "my_slice=train_images[10:100,0:28,0:28]\n",
    "my_slice.shape"
   ]
  },
  {
   "cell_type": "code",
   "execution_count": 33,
   "id": "2da01460",
   "metadata": {
    "ExecuteTime": {
     "end_time": "2022-09-16T08:23:23.672949Z",
     "start_time": "2022-09-16T08:23:23.658925Z"
    }
   },
   "outputs": [
    {
     "data": {
      "text/plain": [
       "(60000, 14, 14)"
      ]
     },
     "execution_count": 33,
     "metadata": {},
     "output_type": "execute_result"
    }
   ],
   "source": [
    "my_slice=train_images[:,14:,14:]\n",
    "my_slice.shape"
   ]
  },
  {
   "cell_type": "code",
   "execution_count": 34,
   "id": "0c54ac36",
   "metadata": {
    "ExecuteTime": {
     "end_time": "2022-09-16T08:23:23.688949Z",
     "start_time": "2022-09-16T08:23:23.674924Z"
    }
   },
   "outputs": [
    {
     "data": {
      "text/plain": [
       "(60000, 14, 14)"
      ]
     },
     "execution_count": 34,
     "metadata": {},
     "output_type": "execute_result"
    }
   ],
   "source": [
    "my_slice=train_images[:,7:-7,7:-7]\n",
    "my_slice.shape"
   ]
  },
  {
   "cell_type": "markdown",
   "id": "a587d34e",
   "metadata": {},
   "source": [
    "## 数据批量的概念"
   ]
  },
  {
   "cell_type": "code",
   "execution_count": 35,
   "id": "ae41a31c",
   "metadata": {
    "ExecuteTime": {
     "end_time": "2022-09-16T08:23:23.704949Z",
     "start_time": "2022-09-16T08:23:23.690921Z"
    }
   },
   "outputs": [],
   "source": [
    "batch=train_images[:128]"
   ]
  },
  {
   "cell_type": "code",
   "execution_count": 36,
   "id": "05524007",
   "metadata": {
    "ExecuteTime": {
     "end_time": "2022-09-16T08:23:23.720949Z",
     "start_time": "2022-09-16T08:23:23.706922Z"
    }
   },
   "outputs": [],
   "source": [
    "batch=train_images[128:256]"
   ]
  },
  {
   "cell_type": "code",
   "execution_count": 37,
   "id": "455cca01",
   "metadata": {
    "ExecuteTime": {
     "end_time": "2022-09-16T08:23:23.735949Z",
     "start_time": "2022-09-16T08:23:23.722921Z"
    },
    "run_control": {
     "marked": true
    }
   },
   "outputs": [],
   "source": [
    "# batch=train_images[128*n:128*(n+1)]"
   ]
  },
  {
   "cell_type": "markdown",
   "id": "3538d92b",
   "metadata": {
    "ExecuteTime": {
     "end_time": "2022-09-16T01:33:10.931948Z",
     "start_time": "2022-09-16T01:33:10.917940Z"
    }
   },
   "source": [
    "## 现实世界中的数据张量"
   ]
  },
  {
   "cell_type": "markdown",
   "id": "5a0544e3",
   "metadata": {},
   "source": [
    "## 向量数据"
   ]
  },
  {
   "cell_type": "markdown",
   "id": "4edf1b2e",
   "metadata": {},
   "source": [
    "## 时间序列数据或序列数据"
   ]
  },
  {
   "cell_type": "markdown",
   "id": "e93dece1",
   "metadata": {},
   "source": [
    "## 图像数据"
   ]
  },
  {
   "cell_type": "markdown",
   "id": "3ac1cc0a",
   "metadata": {},
   "source": [
    "## 视频数据"
   ]
  },
  {
   "cell_type": "markdown",
   "id": "2c98cd4a",
   "metadata": {},
   "source": [
    "# 神经网络的“齿轮”：张量运算"
   ]
  },
  {
   "cell_type": "code",
   "execution_count": 38,
   "id": "110530b2",
   "metadata": {
    "ExecuteTime": {
     "end_time": "2022-09-16T08:23:23.751929Z",
     "start_time": "2022-09-16T08:23:23.738925Z"
    }
   },
   "outputs": [
    {
     "data": {
      "text/plain": [
       "<keras.layers.core.dense.Dense at 0x24357231850>"
      ]
     },
     "execution_count": 38,
     "metadata": {},
     "output_type": "execute_result"
    }
   ],
   "source": [
    "import keras\n",
    "keras.layers.Dense(512,activation='relu')\n",
    "# output=relu(dot(W,input)+b)"
   ]
  },
  {
   "cell_type": "markdown",
   "id": "605a26ec",
   "metadata": {},
   "source": [
    "## 逐元素运算"
   ]
  },
  {
   "cell_type": "code",
   "execution_count": 39,
   "id": "b38e3dc8",
   "metadata": {
    "ExecuteTime": {
     "end_time": "2022-09-16T08:23:23.863918Z",
     "start_time": "2022-09-16T08:23:23.753924Z"
    }
   },
   "outputs": [],
   "source": [
    "def naive_relu(x):\n",
    "    # x是一个Numpy的2D张量\n",
    "    assert len(x.shape)==2\n",
    "    \n",
    "    # 避免覆盖输入张量\n",
    "    x=x.copy()\n",
    "    for i in range(x.shape[0]):\n",
    "        for j in range(x.shape[1]):\n",
    "            x[i,j]=max([i,j],0)\n",
    "    return x"
   ]
  },
  {
   "cell_type": "code",
   "execution_count": 40,
   "id": "57e3a97f",
   "metadata": {
    "ExecuteTime": {
     "end_time": "2022-09-16T08:23:23.879921Z",
     "start_time": "2022-09-16T08:23:23.865925Z"
    }
   },
   "outputs": [],
   "source": [
    "def naive_add(x,y):\n",
    "    # x和y是Numpy的2D张量\n",
    "    assert len(x.shape)==2\n",
    "    assert x.shape==y.shape\n",
    "    \n",
    "    # 避免覆盖输入张量\n",
    "    x=x.copy()\n",
    "    for i in range(x.shape[0]):\n",
    "        for j in range(x.shape[1]):\n",
    "            x[i,j]+=y[i,j]\n",
    "            \n",
    "    return x"
   ]
  },
  {
   "cell_type": "markdown",
   "id": "7c447a9a",
   "metadata": {},
   "source": [
    "## 广播"
   ]
  },
  {
   "cell_type": "code",
   "execution_count": 41,
   "id": "0efee55b",
   "metadata": {
    "ExecuteTime": {
     "end_time": "2022-09-16T08:23:23.895921Z",
     "start_time": "2022-09-16T08:23:23.881924Z"
    },
    "run_control": {
     "marked": true
    }
   },
   "outputs": [],
   "source": [
    "def naive_add_matrix_and_vector(x,y):\n",
    "    # x是一个Numpy的2D张量\n",
    "    assert len(x.shape)==2\n",
    "    # y是一个Numpy向量\n",
    "    assert len(y.shape)==1\n",
    "    assert x.shape[1]==y.shape[0]\n",
    "    \n",
    "    # 避免覆盖输入张量\n",
    "    x=x.copy()\n",
    "    for i in range(x.shape[0]):\n",
    "        for j in range(x.shape[1]):\n",
    "            x[i,j]+=y[j]\n",
    "    return x"
   ]
  },
  {
   "cell_type": "code",
   "execution_count": 42,
   "id": "853b3bfb",
   "metadata": {
    "ExecuteTime": {
     "end_time": "2022-09-16T08:23:23.911921Z",
     "start_time": "2022-09-16T08:23:23.897923Z"
    }
   },
   "outputs": [
    {
     "name": "stdout",
     "output_type": "stream",
     "text": [
      "x shape: (64, 3, 32, 10)\n",
      "y shape: (32, 10)\n",
      "z shape: (64, 3, 32, 10)\n"
     ]
    }
   ],
   "source": [
    "import numpy as np\n",
    "\n",
    "# x是形状为(64,3,32,10)的随机向量\n",
    "x=np.random.random((64,3,32,10))\n",
    "print('x shape:',x.shape)\n",
    "# y是形状为(32,10)的随机向量\n",
    "y=np.random.random((32,10))\n",
    "print('y shape:',y.shape)\n",
    "\n",
    "# 输出z的形状是(64, 3, 32, 10)，与x相同\n",
    "z=np.maximum(x,y)\n",
    "print('z shape:',z.shape)"
   ]
  },
  {
   "cell_type": "markdown",
   "id": "56b52a7d",
   "metadata": {},
   "source": [
    "## 张量点积"
   ]
  },
  {
   "cell_type": "code",
   "execution_count": 43,
   "id": "32783500",
   "metadata": {
    "ExecuteTime": {
     "end_time": "2022-09-16T08:23:23.927918Z",
     "start_time": "2022-09-16T08:23:23.913927Z"
    }
   },
   "outputs": [],
   "source": [
    "def naive_vector_dot(x,y):\n",
    "    # x和y都是Numpy向量\n",
    "    assert len(x.shape)==1\n",
    "    assert len(y.shape)==1\n",
    "    assert x.shape[0]==y.shape[1]\n",
    "    \n",
    "    z=0.\n",
    "    for i in range(x.shape[0]):\n",
    "        z+=x[i]*y[i]\n",
    "    return z"
   ]
  },
  {
   "cell_type": "code",
   "execution_count": 44,
   "id": "69e30d31",
   "metadata": {
    "ExecuteTime": {
     "end_time": "2022-09-16T08:23:23.943921Z",
     "start_time": "2022-09-16T08:23:23.929926Z"
    }
   },
   "outputs": [],
   "source": [
    "import numpy as np\n",
    "\n",
    "def naive_matrix_vector_dot(x,y):\n",
    "    # x是一个Numpy矩阵\n",
    "    assert len(x.shape)==2\n",
    "    # y是一个Numpy向量\n",
    "    assert len(y.shape)==1\n",
    "    # x的第一维和y的第0位大小必须相同\n",
    "    assert x.shape[1]==y.shape[0]\n",
    "    \n",
    "    # 这个运算返回一个全是0的向量，其形状与x.shape[0]相同\n",
    "    z=np.zeros(x.shape[0])\n",
    "    for i in range(x.shape[0]):\n",
    "        for j in range(x.shape[1]):\n",
    "            z[i]+=x[i,j]*y[j]\n",
    "    return z"
   ]
  },
  {
   "cell_type": "code",
   "execution_count": 45,
   "id": "7f05ee7d",
   "metadata": {
    "ExecuteTime": {
     "end_time": "2022-09-16T08:23:23.959929Z",
     "start_time": "2022-09-16T08:23:23.945928Z"
    }
   },
   "outputs": [],
   "source": [
    "def naive_matrix_vector_dot(x,y):\n",
    "    z=np.zeros(x.shape[0])\n",
    "    for i in range(x.shape[0]):\n",
    "        z[i]=naive_vector_dot(x[i,:],y)\n",
    "        return z"
   ]
  },
  {
   "cell_type": "code",
   "execution_count": 46,
   "id": "0ac22f1f",
   "metadata": {
    "ExecuteTime": {
     "end_time": "2022-09-16T08:23:23.975950Z",
     "start_time": "2022-09-16T08:23:23.961924Z"
    }
   },
   "outputs": [],
   "source": [
    "def naive_matrix_dot(x,y):\n",
    "    # x和y都是Numpy矩阵\n",
    "    assert len(x.shape)==2\n",
    "    assert len(y.shape)==2\n",
    "    # x的第1维和y的第0维大小必须相同\n",
    "    assert x.shape[1]==y.shape[0]\n",
    "    \n",
    "    # 这个运算返回特定形式的零矩阵\n",
    "    z=np.zeros((x.shape[0],y.shape[1]))\n",
    "    # 遍历x的所有行...\n",
    "    for i in range(x.shape[0]):\n",
    "        # ...然后遍历y的所有列\n",
    "        for j in range(y.shape[1]):\n",
    "            row_x=x[i,:]\n",
    "            column_y=y[:,j]\n",
    "            z[i,j]=naive_vector_dot(row_x,column_y)\n",
    "    return z"
   ]
  },
  {
   "cell_type": "markdown",
   "id": "fd44b4b1",
   "metadata": {},
   "source": [
    "## 张量变形"
   ]
  },
  {
   "cell_type": "code",
   "execution_count": 47,
   "id": "60fda15a",
   "metadata": {
    "ExecuteTime": {
     "end_time": "2022-09-16T08:23:23.991940Z",
     "start_time": "2022-09-16T08:23:23.977926Z"
    }
   },
   "outputs": [],
   "source": [
    "train_images=train_images.reshape((60000,28*28))"
   ]
  },
  {
   "cell_type": "code",
   "execution_count": 48,
   "id": "53dc0e83",
   "metadata": {
    "ExecuteTime": {
     "end_time": "2022-09-16T08:24:02.263623Z",
     "start_time": "2022-09-16T08:24:02.248602Z"
    }
   },
   "outputs": [
    {
     "name": "stdout",
     "output_type": "stream",
     "text": [
      "(3, 2)\n"
     ]
    }
   ],
   "source": [
    "x=np.array([[0.,1.],\n",
    "           [2.,3.],\n",
    "           [4.,5.]])\n",
    "print(x.shape)"
   ]
  },
  {
   "cell_type": "code",
   "execution_count": 49,
   "id": "2abdf11a",
   "metadata": {
    "ExecuteTime": {
     "end_time": "2022-09-16T08:24:15.606553Z",
     "start_time": "2022-09-16T08:24:15.593554Z"
    }
   },
   "outputs": [],
   "source": [
    "x=x.reshape((6,1))"
   ]
  },
  {
   "cell_type": "code",
   "execution_count": 50,
   "id": "49d4187f",
   "metadata": {
    "ExecuteTime": {
     "end_time": "2022-09-16T08:24:17.616746Z",
     "start_time": "2022-09-16T08:24:17.607739Z"
    }
   },
   "outputs": [
    {
     "data": {
      "text/plain": [
       "array([[0.],\n",
       "       [1.],\n",
       "       [2.],\n",
       "       [3.],\n",
       "       [4.],\n",
       "       [5.]])"
      ]
     },
     "execution_count": 50,
     "metadata": {},
     "output_type": "execute_result"
    }
   ],
   "source": [
    "x"
   ]
  },
  {
   "cell_type": "code",
   "execution_count": 51,
   "id": "838c6c14",
   "metadata": {
    "ExecuteTime": {
     "end_time": "2022-09-16T08:24:27.948967Z",
     "start_time": "2022-09-16T08:24:27.941976Z"
    }
   },
   "outputs": [],
   "source": [
    "x=x.reshape((2,3))"
   ]
  },
  {
   "cell_type": "code",
   "execution_count": 52,
   "id": "c1464339",
   "metadata": {
    "ExecuteTime": {
     "end_time": "2022-09-16T08:24:29.708400Z",
     "start_time": "2022-09-16T08:24:29.695375Z"
    }
   },
   "outputs": [
    {
     "data": {
      "text/plain": [
       "array([[0., 1., 2.],\n",
       "       [3., 4., 5.]])"
      ]
     },
     "execution_count": 52,
     "metadata": {},
     "output_type": "execute_result"
    }
   ],
   "source": [
    "x"
   ]
  },
  {
   "cell_type": "code",
   "execution_count": 53,
   "id": "af503fbf",
   "metadata": {
    "ExecuteTime": {
     "end_time": "2022-09-16T08:25:38.202757Z",
     "start_time": "2022-09-16T08:25:38.192749Z"
    }
   },
   "outputs": [
    {
     "name": "stdout",
     "output_type": "stream",
     "text": [
      "(20, 300)\n"
     ]
    }
   ],
   "source": [
    "# 创建一个形状为(300,20)的零矩阵\n",
    "x=np.zeros((300,20))\n",
    "x=np.transpose(x)\n",
    "print(x.shape)"
   ]
  },
  {
   "cell_type": "markdown",
   "id": "8b89a656",
   "metadata": {},
   "source": [
    "## 张量运算的几何解释"
   ]
  },
  {
   "cell_type": "markdown",
   "id": "9946a930",
   "metadata": {},
   "source": [
    "## 深度学习的几何解释"
   ]
  },
  {
   "cell_type": "markdown",
   "id": "6e961c1b",
   "metadata": {},
   "source": [
    "# 神经网络的“引擎”：基于梯度的优化"
   ]
  },
  {
   "cell_type": "code",
   "execution_count": null,
   "id": "d559cd63",
   "metadata": {},
   "outputs": [],
   "source": []
  }
 ],
 "metadata": {
  "hide_input": false,
  "kernelspec": {
   "display_name": "Python 3 (ipykernel)",
   "language": "python",
   "name": "python3"
  },
  "language_info": {
   "codemirror_mode": {
    "name": "ipython",
    "version": 3
   },
   "file_extension": ".py",
   "mimetype": "text/x-python",
   "name": "python",
   "nbconvert_exporter": "python",
   "pygments_lexer": "ipython3",
   "version": "3.9.12"
  },
  "nbTranslate": {
   "displayLangs": [
    "*"
   ],
   "hotkey": "alt-t",
   "langInMainMenu": true,
   "sourceLang": "en",
   "targetLang": "fr",
   "useGoogleTranslate": true
  },
  "toc": {
   "base_numbering": 1,
   "nav_menu": {},
   "number_sections": true,
   "sideBar": true,
   "skip_h1_title": false,
   "title_cell": "Table of Contents",
   "title_sidebar": "Contents",
   "toc_cell": false,
   "toc_position": {},
   "toc_section_display": true,
   "toc_window_display": false
  },
  "varInspector": {
   "cols": {
    "lenName": 16,
    "lenType": 16,
    "lenVar": 40
   },
   "kernels_config": {
    "python": {
     "delete_cmd_postfix": "",
     "delete_cmd_prefix": "del ",
     "library": "var_list.py",
     "varRefreshCmd": "print(var_dic_list())"
    },
    "r": {
     "delete_cmd_postfix": ") ",
     "delete_cmd_prefix": "rm(",
     "library": "var_list.r",
     "varRefreshCmd": "cat(var_dic_list()) "
    }
   },
   "types_to_exclude": [
    "module",
    "function",
    "builtin_function_or_method",
    "instance",
    "_Feature"
   ],
   "window_display": false
  }
 },
 "nbformat": 4,
 "nbformat_minor": 5
}
