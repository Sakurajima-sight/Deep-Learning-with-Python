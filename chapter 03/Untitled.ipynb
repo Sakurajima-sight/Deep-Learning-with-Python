{
 "cells": [
  {
   "cell_type": "markdown",
   "id": "d5472036",
   "metadata": {},
   "source": [
    "# 神经网络剖析"
   ]
  },
  {
   "cell_type": "markdown",
   "id": "fa54be39",
   "metadata": {},
   "source": [
    "## 层：深度学习的基础组件"
   ]
  },
  {
   "cell_type": "code",
   "execution_count": 1,
   "id": "94bd9c5d",
   "metadata": {
    "ExecuteTime": {
     "end_time": "2022-09-21T15:17:14.464827Z",
     "start_time": "2022-09-21T15:17:10.254655Z"
    },
    "run_control": {
     "marked": true
    }
   },
   "outputs": [],
   "source": [
    "from keras import layers\n",
    "\n",
    "# 有32个输出单元的密集层\n",
    "layers=layers.Dense(32,input_shape=(784,))"
   ]
  },
  {
   "cell_type": "code",
   "execution_count": 2,
   "id": "0626036d",
   "metadata": {
    "ExecuteTime": {
     "end_time": "2022-09-21T15:17:15.715248Z",
     "start_time": "2022-09-21T15:17:14.466847Z"
    }
   },
   "outputs": [],
   "source": [
    "from keras import models\n",
    "from keras import layers\n",
    "\n",
    "model=models.Sequential()\n",
    "model.add(layers.Dense(32,input_shape=(784,)))\n",
    "model.add(layers.Dense(32))"
   ]
  },
  {
   "cell_type": "markdown",
   "id": "a0f1df15",
   "metadata": {},
   "source": [
    "## 模型：层构成的网络"
   ]
  },
  {
   "cell_type": "markdown",
   "id": "ee70001a",
   "metadata": {},
   "source": [
    "## 损失函数与优化器：配置学习过程的关键"
   ]
  },
  {
   "cell_type": "markdown",
   "id": "090277bf",
   "metadata": {},
   "source": [
    "# Keras简介"
   ]
  },
  {
   "cell_type": "markdown",
   "id": "e6502fa4",
   "metadata": {
    "ExecuteTime": {
     "end_time": "2022-09-17T15:42:14.963801Z",
     "start_time": "2022-09-17T15:42:14.952802Z"
    }
   },
   "source": [
    "## Keras、TensorFlow、Theano和CNTK"
   ]
  },
  {
   "cell_type": "markdown",
   "id": "01a19583",
   "metadata": {},
   "source": [
    "## 使用Keras开发：概述"
   ]
  },
  {
   "cell_type": "code",
   "execution_count": 3,
   "id": "efdf91af",
   "metadata": {
    "ExecuteTime": {
     "end_time": "2022-09-21T15:17:15.762241Z",
     "start_time": "2022-09-21T15:17:15.717251Z"
    }
   },
   "outputs": [],
   "source": [
    "from keras import models\n",
    "from keras import layers\n",
    "\n",
    "model=models.Sequential()\n",
    "model.add(layers.Dense(32,activation='relu',input_shape=(784,)))\n",
    "model.add(layers.Dense(10,activation='softmax'))"
   ]
  },
  {
   "cell_type": "code",
   "execution_count": 4,
   "id": "1849affd",
   "metadata": {
    "ExecuteTime": {
     "end_time": "2022-09-21T15:17:15.794250Z",
     "start_time": "2022-09-21T15:17:15.764249Z"
    }
   },
   "outputs": [],
   "source": [
    "input_tensor=layers.Input(shape=(784,))\n",
    "x=layers.Dense(32,activation='relu')(input_tensor)\n",
    "output_tensor=layers.Dense(10,activation='softmax')(x)\n",
    "\n",
    "model=models.Model(inputs=input_tensor,outputs=output_tensor)"
   ]
  },
  {
   "cell_type": "code",
   "execution_count": 5,
   "id": "0392c4fd",
   "metadata": {
    "ExecuteTime": {
     "end_time": "2022-09-21T15:17:15.810274Z",
     "start_time": "2022-09-21T15:17:15.796253Z"
    }
   },
   "outputs": [],
   "source": [
    "from keras import optimizers\n",
    "\n",
    "model.compile(optimizer=optimizers.RMSprop(learning_rate=0.01),\n",
    "             loss='mse',\n",
    "             metrics=['accuracy'])"
   ]
  },
  {
   "cell_type": "code",
   "execution_count": 6,
   "id": "2589fcd7",
   "metadata": {
    "ExecuteTime": {
     "end_time": "2022-09-21T15:17:15.825260Z",
     "start_time": "2022-09-21T15:17:15.813242Z"
    }
   },
   "outputs": [],
   "source": [
    "# model.fit(input_tensor,target_tensor,batch_size=128,epochs=10)"
   ]
  },
  {
   "cell_type": "markdown",
   "id": "18eeabee",
   "metadata": {},
   "source": [
    "# 建立深度学习工作站"
   ]
  },
  {
   "cell_type": "markdown",
   "id": "9ee92ad1",
   "metadata": {},
   "source": [
    "## Jupyter笔记本：运行深度学习实验的首选方法"
   ]
  },
  {
   "cell_type": "markdown",
   "id": "26206efc",
   "metadata": {},
   "source": [
    "## 运行Keras：两种选择"
   ]
  },
  {
   "cell_type": "markdown",
   "id": "beb091ae",
   "metadata": {
    "ExecuteTime": {
     "end_time": "2022-09-20T02:41:48.485615Z",
     "start_time": "2022-09-20T02:41:48.480609Z"
    }
   },
   "source": [
    "## 在云端运行深度学习任务：优点和缺点"
   ]
  },
  {
   "cell_type": "markdown",
   "id": "73eb9e71",
   "metadata": {},
   "source": [
    "## 深度学习的最佳GPU"
   ]
  },
  {
   "cell_type": "markdown",
   "id": "04c046fb",
   "metadata": {},
   "source": [
    "# 电影评论分类：二分类问题"
   ]
  },
  {
   "cell_type": "markdown",
   "id": "acbc34bf",
   "metadata": {},
   "source": [
    "## IMBD数据集"
   ]
  },
  {
   "cell_type": "code",
   "execution_count": 7,
   "id": "4a96a0f4",
   "metadata": {
    "ExecuteTime": {
     "end_time": "2022-09-21T15:17:15.920470Z",
     "start_time": "2022-09-21T15:17:15.828260Z"
    }
   },
   "outputs": [],
   "source": [
    "from keras.datasets import imdb"
   ]
  },
  {
   "cell_type": "code",
   "execution_count": 8,
   "id": "58422741",
   "metadata": {
    "ExecuteTime": {
     "end_time": "2022-09-21T15:17:18.611250Z",
     "start_time": "2022-09-21T15:17:15.922467Z"
    }
   },
   "outputs": [],
   "source": [
    "(train_data,train_labels),(test_data,test_labels)=imdb.load_data(num_words=10000)"
   ]
  },
  {
   "cell_type": "code",
   "execution_count": 9,
   "id": "231c0061",
   "metadata": {
    "ExecuteTime": {
     "end_time": "2022-09-21T15:17:18.627276Z",
     "start_time": "2022-09-21T15:17:18.612240Z"
    },
    "scrolled": true
   },
   "outputs": [
    {
     "data": {
      "text/plain": [
       "[1,\n",
       " 14,\n",
       " 22,\n",
       " 16,\n",
       " 43,\n",
       " 530,\n",
       " 973,\n",
       " 1622,\n",
       " 1385,\n",
       " 65,\n",
       " 458,\n",
       " 4468,\n",
       " 66,\n",
       " 3941,\n",
       " 4,\n",
       " 173,\n",
       " 36,\n",
       " 256,\n",
       " 5,\n",
       " 25,\n",
       " 100,\n",
       " 43,\n",
       " 838,\n",
       " 112,\n",
       " 50,\n",
       " 670,\n",
       " 2,\n",
       " 9,\n",
       " 35,\n",
       " 480,\n",
       " 284,\n",
       " 5,\n",
       " 150,\n",
       " 4,\n",
       " 172,\n",
       " 112,\n",
       " 167,\n",
       " 2,\n",
       " 336,\n",
       " 385,\n",
       " 39,\n",
       " 4,\n",
       " 172,\n",
       " 4536,\n",
       " 1111,\n",
       " 17,\n",
       " 546,\n",
       " 38,\n",
       " 13,\n",
       " 447,\n",
       " 4,\n",
       " 192,\n",
       " 50,\n",
       " 16,\n",
       " 6,\n",
       " 147,\n",
       " 2025,\n",
       " 19,\n",
       " 14,\n",
       " 22,\n",
       " 4,\n",
       " 1920,\n",
       " 4613,\n",
       " 469,\n",
       " 4,\n",
       " 22,\n",
       " 71,\n",
       " 87,\n",
       " 12,\n",
       " 16,\n",
       " 43,\n",
       " 530,\n",
       " 38,\n",
       " 76,\n",
       " 15,\n",
       " 13,\n",
       " 1247,\n",
       " 4,\n",
       " 22,\n",
       " 17,\n",
       " 515,\n",
       " 17,\n",
       " 12,\n",
       " 16,\n",
       " 626,\n",
       " 18,\n",
       " 2,\n",
       " 5,\n",
       " 62,\n",
       " 386,\n",
       " 12,\n",
       " 8,\n",
       " 316,\n",
       " 8,\n",
       " 106,\n",
       " 5,\n",
       " 4,\n",
       " 2223,\n",
       " 5244,\n",
       " 16,\n",
       " 480,\n",
       " 66,\n",
       " 3785,\n",
       " 33,\n",
       " 4,\n",
       " 130,\n",
       " 12,\n",
       " 16,\n",
       " 38,\n",
       " 619,\n",
       " 5,\n",
       " 25,\n",
       " 124,\n",
       " 51,\n",
       " 36,\n",
       " 135,\n",
       " 48,\n",
       " 25,\n",
       " 1415,\n",
       " 33,\n",
       " 6,\n",
       " 22,\n",
       " 12,\n",
       " 215,\n",
       " 28,\n",
       " 77,\n",
       " 52,\n",
       " 5,\n",
       " 14,\n",
       " 407,\n",
       " 16,\n",
       " 82,\n",
       " 2,\n",
       " 8,\n",
       " 4,\n",
       " 107,\n",
       " 117,\n",
       " 5952,\n",
       " 15,\n",
       " 256,\n",
       " 4,\n",
       " 2,\n",
       " 7,\n",
       " 3766,\n",
       " 5,\n",
       " 723,\n",
       " 36,\n",
       " 71,\n",
       " 43,\n",
       " 530,\n",
       " 476,\n",
       " 26,\n",
       " 400,\n",
       " 317,\n",
       " 46,\n",
       " 7,\n",
       " 4,\n",
       " 2,\n",
       " 1029,\n",
       " 13,\n",
       " 104,\n",
       " 88,\n",
       " 4,\n",
       " 381,\n",
       " 15,\n",
       " 297,\n",
       " 98,\n",
       " 32,\n",
       " 2071,\n",
       " 56,\n",
       " 26,\n",
       " 141,\n",
       " 6,\n",
       " 194,\n",
       " 7486,\n",
       " 18,\n",
       " 4,\n",
       " 226,\n",
       " 22,\n",
       " 21,\n",
       " 134,\n",
       " 476,\n",
       " 26,\n",
       " 480,\n",
       " 5,\n",
       " 144,\n",
       " 30,\n",
       " 5535,\n",
       " 18,\n",
       " 51,\n",
       " 36,\n",
       " 28,\n",
       " 224,\n",
       " 92,\n",
       " 25,\n",
       " 104,\n",
       " 4,\n",
       " 226,\n",
       " 65,\n",
       " 16,\n",
       " 38,\n",
       " 1334,\n",
       " 88,\n",
       " 12,\n",
       " 16,\n",
       " 283,\n",
       " 5,\n",
       " 16,\n",
       " 4472,\n",
       " 113,\n",
       " 103,\n",
       " 32,\n",
       " 15,\n",
       " 16,\n",
       " 5345,\n",
       " 19,\n",
       " 178,\n",
       " 32]"
      ]
     },
     "execution_count": 9,
     "metadata": {},
     "output_type": "execute_result"
    }
   ],
   "source": [
    "train_data[0]"
   ]
  },
  {
   "cell_type": "code",
   "execution_count": 10,
   "id": "dbd39706",
   "metadata": {
    "ExecuteTime": {
     "end_time": "2022-09-21T15:17:18.643303Z",
     "start_time": "2022-09-21T15:17:18.629267Z"
    }
   },
   "outputs": [
    {
     "data": {
      "text/plain": [
       "1"
      ]
     },
     "execution_count": 10,
     "metadata": {},
     "output_type": "execute_result"
    }
   ],
   "source": [
    "train_labels[0]"
   ]
  },
  {
   "cell_type": "code",
   "execution_count": 11,
   "id": "f5ac9a92",
   "metadata": {
    "ExecuteTime": {
     "end_time": "2022-09-21T15:17:18.706699Z",
     "start_time": "2022-09-21T15:17:18.645311Z"
    }
   },
   "outputs": [
    {
     "data": {
      "text/plain": [
       "9999"
      ]
     },
     "execution_count": 11,
     "metadata": {},
     "output_type": "execute_result"
    }
   ],
   "source": [
    "max([max(sequence) for sequence in train_data])"
   ]
  },
  {
   "cell_type": "code",
   "execution_count": 12,
   "id": "6d6fdef0",
   "metadata": {
    "ExecuteTime": {
     "end_time": "2022-09-21T15:17:18.802705Z",
     "start_time": "2022-09-21T15:17:18.707687Z"
    }
   },
   "outputs": [
    {
     "data": {
      "text/plain": [
       "\"? this film was just brilliant casting location scenery story direction everyone's really suited the part they played and you could just imagine being there robert ? is an amazing actor and now the same being director ? father came from the same scottish island as myself so i loved the fact there was a real connection with this film the witty remarks throughout the film were great it was just brilliant so much that i bought the film as soon as it was released for ? and would recommend it to everyone to watch and the fly fishing was amazing really cried at the end it was so sad and you know what they say if you cry at a film it must have been good and this definitely was also ? to the two little boy's that played the ? of norman and paul they were just brilliant children are often left out of the ? list i think because the stars that play them all grown up are such a big profile for the whole film but these children are amazing and should be praised for what they have done don't you think the whole story was so lovely because it was true and was someone's life after all that was shared with us all\""
      ]
     },
     "execution_count": 12,
     "metadata": {},
     "output_type": "execute_result"
    }
   ],
   "source": [
    "# word_index是一个将单词映射为整数索引的字典\n",
    "word_index=imdb.get_word_index()\n",
    "# 键值颠倒，将整数索引映射为单词\n",
    "reverse_word_index=dict([(value,key) for (key,value) in word_index.items()])\n",
    "# 将评论解码。注意，索引减去了3，因为0、1、2是为“padding”（填充），“start of sequence”（序列开始）,“unknown”（未知值）分别保留的索引\n",
    "decoded_review=' '.join([reverse_word_index.get(i-3,'?') for i in train_data[0]])\n",
    "decoded_review\n",
    "\n",
    "# 帮助代码\n",
    "# c='abcghidefjkl'\n",
    "# new_c = list(c)\n",
    "# cc =' '.join(new_c)\n",
    "# print('2.通过空分隔符把new_c列表里面元素进行分隔,赋值给到cc:',cc)\n",
    "\n",
    "# test_dict=dict({'one':1,'two':2})\n",
    "# print(test_dict.get(-1))\n",
    "# print(test_dict.get(-1,'?')) # ''?'用与填充该索引值\n",
    "# print(test_dict.get(-2,'?'))\n",
    "\n",
    "# 测试i-3的作用\n",
    "# test_decode_review=' '.join([reverse_word_index.get(i-3,'?') for i in train_data[0]])\n",
    "# test_decode_review"
   ]
  },
  {
   "cell_type": "markdown",
   "id": "37695b87",
   "metadata": {},
   "source": [
    "## 准备数据"
   ]
  },
  {
   "cell_type": "code",
   "execution_count": 13,
   "id": "183443bb",
   "metadata": {
    "ExecuteTime": {
     "end_time": "2022-09-21T15:17:20.253097Z",
     "start_time": "2022-09-21T15:17:18.803701Z"
    }
   },
   "outputs": [],
   "source": [
    "import numpy as np\n",
    "\n",
    "def vectorize_sequences(sequences,dimension=10000):\n",
    "    # 创建一个形状为(len(sequences),dimension)的零矩阵\n",
    "    results=np.zeros((len(sequences),dimension))\n",
    "    for i,sequence in enumerate(sequences):\n",
    "        # 将result[i]的指定索引设为1\n",
    "        results[i,sequence]=1.\n",
    "    return results\n",
    "\n",
    "# 将训练数据向量化\n",
    "x_train=vectorize_sequences(train_data)\n",
    "# 将测试数据向量化\n",
    "x_test=vectorize_sequences(test_data)\n",
    "\n",
    "# 帮助代码\n",
    "# test=[[1,3],[0,3],[2,3],[1]]\n",
    "# test_zeros=np.zeros((4,4))\n",
    "# for i,sequence in enumerate(test):\n",
    "#     test_zeros[i,sequence]=1.\n",
    "# test_zeros"
   ]
  },
  {
   "cell_type": "code",
   "execution_count": 14,
   "id": "c439ff31",
   "metadata": {
    "ExecuteTime": {
     "end_time": "2022-09-21T15:17:20.269112Z",
     "start_time": "2022-09-21T15:17:20.255070Z"
    }
   },
   "outputs": [
    {
     "data": {
      "text/plain": [
       "array([0., 1., 1., ..., 0., 0., 0.])"
      ]
     },
     "execution_count": 14,
     "metadata": {},
     "output_type": "execute_result"
    }
   ],
   "source": [
    "x_train[0]"
   ]
  },
  {
   "cell_type": "code",
   "execution_count": 15,
   "id": "2e8a26d3",
   "metadata": {
    "ExecuteTime": {
     "end_time": "2022-09-21T15:17:20.285108Z",
     "start_time": "2022-09-21T15:17:20.271112Z"
    }
   },
   "outputs": [],
   "source": [
    "y_train=np.asarray(train_labels).astype('float32')\n",
    "y_test=np.asarray(test_labels).astype('float32')"
   ]
  },
  {
   "cell_type": "markdown",
   "id": "a2eb10b1",
   "metadata": {},
   "source": [
    "## 构建网路"
   ]
  },
  {
   "cell_type": "code",
   "execution_count": 16,
   "id": "b09198c2",
   "metadata": {
    "ExecuteTime": {
     "end_time": "2022-09-21T15:17:20.348101Z",
     "start_time": "2022-09-21T15:17:20.286101Z"
    }
   },
   "outputs": [],
   "source": [
    "from keras import models\n",
    "from keras import layers\n",
    "\n",
    "model=models.Sequential()\n",
    "model.add(layers.Dense(16,activation='relu',input_shape=(10000,)))\n",
    "model.add(layers.Dense(16,activation='relu'))\n",
    "model.add(layers.Dense(1,activation='sigmoid'))"
   ]
  },
  {
   "cell_type": "code",
   "execution_count": 17,
   "id": "abe61dba",
   "metadata": {
    "ExecuteTime": {
     "end_time": "2022-09-21T15:17:20.364111Z",
     "start_time": "2022-09-21T15:17:20.350095Z"
    }
   },
   "outputs": [],
   "source": [
    "model.compile(optimizer='rmsprop',loss='binary_crossentropy',metrics=['accuracy'])"
   ]
  },
  {
   "cell_type": "code",
   "execution_count": 18,
   "id": "a160eedb",
   "metadata": {
    "ExecuteTime": {
     "end_time": "2022-09-21T15:17:20.380114Z",
     "start_time": "2022-09-21T15:17:20.367115Z"
    }
   },
   "outputs": [],
   "source": [
    "from keras import optimizers\n",
    "\n",
    "model.compile(optimizer=optimizers.RMSprop(learning_rate=0.001),\n",
    "             loss='binary_crossentropy',\n",
    "             metrics=['accuracy'])"
   ]
  },
  {
   "cell_type": "code",
   "execution_count": 19,
   "id": "ab680d67",
   "metadata": {
    "ExecuteTime": {
     "end_time": "2022-09-21T15:17:20.396099Z",
     "start_time": "2022-09-21T15:17:20.383113Z"
    }
   },
   "outputs": [],
   "source": [
    "from keras import losses\n",
    "from keras import metrics\n",
    "\n",
    "model.compile(optimizer=optimizers.RMSprop(learning_rate=0.001),\n",
    "             loss=losses.binary_crossentropy,\n",
    "             metrics=[metrics.binary_accuracy])"
   ]
  },
  {
   "cell_type": "markdown",
   "id": "31804f67",
   "metadata": {
    "ExecuteTime": {
     "end_time": "2022-09-20T14:07:51.391841Z",
     "start_time": "2022-09-20T14:07:51.383829Z"
    }
   },
   "source": [
    "## 验证你的方法"
   ]
  },
  {
   "cell_type": "code",
   "execution_count": 20,
   "id": "8d7eb834",
   "metadata": {
    "ExecuteTime": {
     "end_time": "2022-09-21T15:17:20.412118Z",
     "start_time": "2022-09-21T15:17:20.398104Z"
    }
   },
   "outputs": [],
   "source": [
    "x_val=x_train[:10000]\n",
    "partial_x_train=x_train[10000:]\n",
    "\n",
    "y_val=y_train[:10000]\n",
    "partial_y_train=y_train[10000:]"
   ]
  },
  {
   "cell_type": "code",
   "execution_count": 21,
   "id": "076c603e",
   "metadata": {
    "ExecuteTime": {
     "end_time": "2022-09-21T15:17:33.850179Z",
     "start_time": "2022-09-21T15:17:20.414106Z"
    }
   },
   "outputs": [
    {
     "name": "stdout",
     "output_type": "stream",
     "text": [
      "Epoch 1/20\n",
      "30/30 [==============================] - 2s 41ms/step - loss: 0.5639 - acc: 0.7629 - val_loss: 0.4435 - val_acc: 0.8430\n",
      "Epoch 2/20\n",
      "30/30 [==============================] - 1s 18ms/step - loss: 0.3503 - acc: 0.8935 - val_loss: 0.3296 - val_acc: 0.8839\n",
      "Epoch 3/20\n",
      "30/30 [==============================] - 1s 18ms/step - loss: 0.2500 - acc: 0.9210 - val_loss: 0.2860 - val_acc: 0.8904\n",
      "Epoch 4/20\n",
      "30/30 [==============================] - 1s 18ms/step - loss: 0.1951 - acc: 0.9394 - val_loss: 0.2747 - val_acc: 0.8901\n",
      "Epoch 5/20\n",
      "30/30 [==============================] - 1s 18ms/step - loss: 0.1567 - acc: 0.9502 - val_loss: 0.2805 - val_acc: 0.8863\n",
      "Epoch 6/20\n",
      "30/30 [==============================] - 1s 18ms/step - loss: 0.1269 - acc: 0.9615 - val_loss: 0.2996 - val_acc: 0.8838\n",
      "Epoch 7/20\n",
      "30/30 [==============================] - 1s 18ms/step - loss: 0.1058 - acc: 0.9701 - val_loss: 0.3225 - val_acc: 0.8814\n",
      "Epoch 8/20\n",
      "30/30 [==============================] - 1s 18ms/step - loss: 0.0893 - acc: 0.9745 - val_loss: 0.3228 - val_acc: 0.8810\n",
      "Epoch 9/20\n",
      "30/30 [==============================] - 1s 18ms/step - loss: 0.0718 - acc: 0.9823 - val_loss: 0.3634 - val_acc: 0.8782\n",
      "Epoch 10/20\n",
      "11/30 [==========>...................] - ETA: 0s - loss: 0.0551 - acc: 0.988"
     ]
    },
    {
     "data": {
      "text/html": [
       "<b>limit_output extension: Maximum message size of 10000 exceeded with 10116 characters</b>"
      ]
     },
     "metadata": {},
     "output_type": "display_data"
    }
   ],
   "source": [
    "model.compile(optimizer='rmsprop',loss='binary_crossentropy',metrics=['acc'])\n",
    "\n",
    "history=model.fit(partial_x_train,\n",
    "                 partial_y_train,\n",
    "                 epochs=20,\n",
    "                 batch_size=512,\n",
    "                 validation_data=(x_val,y_val))"
   ]
  },
  {
   "cell_type": "code",
   "execution_count": 22,
   "id": "cfa5f956",
   "metadata": {
    "ExecuteTime": {
     "end_time": "2022-09-21T15:17:33.866189Z",
     "start_time": "2022-09-21T15:17:33.853182Z"
    }
   },
   "outputs": [
    {
     "data": {
      "text/plain": [
       "dict_keys(['loss', 'acc', 'val_loss', 'val_acc'])"
      ]
     },
     "execution_count": 22,
     "metadata": {},
     "output_type": "execute_result"
    }
   ],
   "source": [
    "history_dict=history.history\n",
    "history_dict.keys()"
   ]
  },
  {
   "cell_type": "code",
   "execution_count": 23,
   "id": "610de984",
   "metadata": {
    "ExecuteTime": {
     "end_time": "2022-09-21T15:17:34.818883Z",
     "start_time": "2022-09-21T15:17:33.871189Z"
    }
   },
   "outputs": [
    {
     "data": {
      "image/png": "[encoded data removed]",
      "text/plain": [
       "<Figure size 432x288 with 1 Axes>"
      ]
     },
     "metadata": {
      "needs_background": "light"
     },
     "output_type": "display_data"
    }
   ],
   "source": [
    "import matplotlib.pyplot as plt\n",
    "\n",
    "history_dict=history.history\n",
    "loss_values=history_dict['loss']\n",
    "val_loss_values=history_dict['val_loss']\n",
    "\n",
    "epochs=range(1,len(loss_values)+1)\n",
    "\n",
    "# 'bo'表示蓝色圆点\n",
    "plt.plot(epochs,loss_values,'bo',label='Training loss')\n",
    "# 'b'表示蓝色实线\n",
    "plt.plot(epochs,val_loss_values,'b',label='Validation loss')\n",
    "plt.title('Training and validation loss')\n",
    "plt.xlabel('Epochs')\n",
    "plt.ylabel('Loss')\n",
    "plt.legend()\n",
    "\n",
    "plt.show()"
   ]
  },
  {
   "cell_type": "code",
   "execution_count": 24,
   "id": "a4c9b542",
   "metadata": {
    "ExecuteTime": {
     "end_time": "2022-09-21T15:17:34.929859Z",
     "start_time": "2022-09-21T15:17:34.820858Z"
    }
   },
   "outputs": [
    {
     "data": {
      "image/png": "[encoded data removed]",
      "text/plain": [
       "<Figure size 432x288 with 1 Axes>"
      ]
     },
     "metadata": {
      "needs_background": "light"
     },
     "output_type": "display_data"
    }
   ],
   "source": [
    "# 清空图像\n",
    "plt.clf()\n",
    "acc=history_dict['acc']\n",
    "val_acc=history_dict['val_acc']\n",
    "\n",
    "plt.plot(epochs,acc,'bo',label='Training loss')\n",
    "plt.plot(epochs,val_acc,'b',label='Validation loss')\n",
    "plt.title('Training and validation accuracy')\n",
    "plt.xlabel('Epochs')\n",
    "plt.ylabel('Accuracy')\n",
    "plt.legend()\n",
    "\n",
    "plt.show()"
   ]
  },
  {
   "cell_type": "code",
   "execution_count": 25,
   "id": "ca82da91",
   "metadata": {
    "ExecuteTime": {
     "end_time": "2022-09-21T15:17:42.381521Z",
     "start_time": "2022-09-21T15:17:34.931859Z"
    }
   },
   "outputs": [
    {
     "name": "stdout",
     "output_type": "stream",
     "text": [
      "Epoch 1/4\n",
      "49/49 [==============================] - 1s 11ms/step - loss: 0.4507 - acc: 0.8164\n",
      "Epoch 2/4\n",
      "49/49 [==============================] - 1s 11ms/step - loss: 0.2540 - acc: 0.9108\n",
      "Epoch 3/4\n",
      "49/49 [==============================] - 1s 11ms/step - loss: 0.1966 - acc: 0.9296\n",
      "Epoch 4/4\n",
      "49/49 [==============================] - 1s 11ms/step - loss: 0.1667 - acc: 0.9413\n",
      "334/782 [===========>..................] - ETA: 1s - loss: 0.3072 - acc: 0.878"
     ]
    },
    {
     "data": {
      "text/html": [
       "<b>limit_output extension: Maximum message size of 10000 exceeded with 10004 characters</b>"
      ]
     },
     "metadata": {},
     "output_type": "display_data"
    }
   ],
   "source": [
    "model=models.Sequential()\n",
    "model.add(layers.Dense(16,activation='relu',input_shape=(10000,)))\n",
    "model.add(layers.Dense(16,activation='relu'))\n",
    "model.add(layers.Dense(1,activation='sigmoid'))\n",
    "\n",
    "model.compile(optimizer='rmsprop',loss='binary_crossentropy',metrics=['acc'])\n",
    "\n",
    "model.fit(x_train,y_train,epochs=4,batch_size=512)\n",
    "results=model.evaluate(x_test,y_test)"
   ]
  },
  {
   "cell_type": "code",
   "execution_count": 26,
   "id": "ae82a6df",
   "metadata": {
    "ExecuteTime": {
     "end_time": "2022-09-21T15:17:42.397533Z",
     "start_time": "2022-09-21T15:17:42.384535Z"
    }
   },
   "outputs": [
    {
     "data": {
      "text/plain": [
       "[0.2966582477092743, 0.8828399777412415]"
      ]
     },
     "execution_count": 26,
     "metadata": {},
     "output_type": "execute_result"
    }
   ],
   "source": [
    "results"
   ]
  },
  {
   "cell_type": "markdown",
   "id": "af88eb69",
   "metadata": {},
   "source": [
    "## 使用训练好的网络在新数据上生成预测结果"
   ]
  },
  {
   "cell_type": "code",
   "execution_count": 27,
   "id": "a4495621",
   "metadata": {
    "ExecuteTime": {
     "end_time": "2022-09-21T15:17:45.649750Z",
     "start_time": "2022-09-21T15:17:42.400519Z"
    },
    "scrolled": false
   },
   "outputs": [
    {
     "name": "stdout",
     "output_type": "stream",
     "text": [
      "782/782 [==============================] - 2s 2ms/step\n"
     ]
    },
    {
     "data": {
      "text/plain": [
       "array([[0.20868039],\n",
       "       [0.9999703 ],\n",
       "       [0.93041897],\n",
       "       ...,\n",
       "       [0.13958427],\n",
       "       [0.09707289],\n",
       "       [0.7006389 ]], dtype=float32)"
      ]
     },
     "execution_count": 27,
     "metadata": {},
     "output_type": "execute_result"
    }
   ],
   "source": [
    "model.predict(x_test)"
   ]
  },
  {
   "cell_type": "markdown",
   "id": "e9247ae9",
   "metadata": {},
   "source": [
    "## 进一步实验"
   ]
  },
  {
   "cell_type": "code",
   "execution_count": 28,
   "id": "0d4b157c",
   "metadata": {
    "ExecuteTime": {
     "end_time": "2022-09-21T15:17:58.462707Z",
     "start_time": "2022-09-21T15:17:45.652759Z"
    }
   },
   "outputs": [
    {
     "name": "stdout",
     "output_type": "stream",
     "text": [
      "Epoch 1/4\n",
      "49/49 [==============================] - 1s 11ms/step - loss: 0.1295 - acc: 0.8179\n",
      "Epoch 2/4\n",
      "49/49 [==============================] - 1s 11ms/step - loss: 0.0647 - acc: 0.9146\n",
      "Epoch 3/4\n",
      "49/49 [==============================] - 1s 11ms/step - loss: 0.0531 - acc: 0.9309\n",
      "Epoch 4/4\n",
      "49/49 [==============================] - 1s 11ms/step - loss: 0.0451 - acc: 0.9424\n",
      "349/782 [============>.................] - ETA: 1s - loss: 0.0975 - acc: 0.869"
     ]
    },
    {
     "data": {
      "text/html": [
       "<b>limit_output extension: Maximum message size of 10000 exceeded with 10004 characters</b>"
      ]
     },
     "metadata": {},
     "output_type": "display_data"
    }
   ],
   "source": [
    "from keras import models\n",
    "from keras import layers\n",
    "import numpy as np\n",
    "from keras.datasets import imdb\n",
    "\n",
    "(train_data,train_labels),(test_data,test_labels)=imdb.load_data(num_words=10000)\n",
    "\n",
    "def vectorize_sequences(sequences,dimension=10000):\n",
    "    # 创建一个形状为(len(sequences),dimension)的零矩阵\n",
    "    results=np.zeros((len(sequences),dimension))\n",
    "    for i,sequence in enumerate(sequences):\n",
    "        # 将result[i]的指定索引设为1\n",
    "        results[i,sequence]=1.\n",
    "    return results\n",
    "\n",
    "# 将训练数据向量化\n",
    "x_train=vectorize_sequences(train_data)\n",
    "# 将测试数据向量化\n",
    "x_test=vectorize_sequences(test_data)\n",
    "\n",
    "y_train=np.asarray(train_labels).astype('float32')\n",
    "y_test=np.asarray(test_labels).astype('float32')\n",
    "\n",
    "model=models.Sequential()\n",
    "model.add(layers.Dense(64,activation='tanh',input_shape=(10000,)))\n",
    "model.add(layers.Dense(32,activation='tanh'))\n",
    "model.add(layers.Dense(16,activation='tanh'))\n",
    "model.add(layers.Dense(1,activation='sigmoid'))\n",
    "\n",
    "model.compile(optimizer='rmsprop',loss='mse',metrics=['acc'])\n",
    "model.fit(x_train,y_train,epochs=4,batch_size=512)\n",
    "results=model.evaluate(x_test,y_test)"
   ]
  },
  {
   "cell_type": "code",
   "execution_count": 29,
   "id": "d198cf00",
   "metadata": {
    "ExecuteTime": {
     "end_time": "2022-09-21T15:17:58.478709Z",
     "start_time": "2022-09-21T15:17:58.465694Z"
    }
   },
   "outputs": [
    {
     "data": {
      "text/plain": [
       "[0.09518827497959137, 0.8748800158500671]"
      ]
     },
     "execution_count": 29,
     "metadata": {},
     "output_type": "execute_result"
    }
   ],
   "source": [
    "results"
   ]
  },
  {
   "cell_type": "markdown",
   "id": "d4064284",
   "metadata": {},
   "source": [
    "## 小结"
   ]
  },
  {
   "cell_type": "markdown",
   "id": "1e3d1a19",
   "metadata": {},
   "source": [
    "# 新闻分类：多分类问题"
   ]
  },
  {
   "cell_type": "markdown",
   "id": "d8707491",
   "metadata": {},
   "source": [
    "## 路透社数据"
   ]
  },
  {
   "cell_type": "code",
   "execution_count": 30,
   "id": "c59114e0",
   "metadata": {
    "ExecuteTime": {
     "end_time": "2022-09-21T15:17:58.954035Z",
     "start_time": "2022-09-21T15:17:58.480688Z"
    }
   },
   "outputs": [],
   "source": [
    "from keras.datasets import reuters\n",
    "\n",
    "(train_data,train_labels),(test_data,test_labels)=reuters.load_data(num_words=10000)"
   ]
  },
  {
   "cell_type": "code",
   "execution_count": 31,
   "id": "36c4d29d",
   "metadata": {
    "ExecuteTime": {
     "end_time": "2022-09-21T15:17:58.969998Z",
     "start_time": "2022-09-21T15:17:58.956034Z"
    }
   },
   "outputs": [
    {
     "data": {
      "text/plain": [
       "8982"
      ]
     },
     "execution_count": 31,
     "metadata": {},
     "output_type": "execute_result"
    }
   ],
   "source": [
    "len(train_data)"
   ]
  },
  {
   "cell_type": "code",
   "execution_count": 32,
   "id": "168e931f",
   "metadata": {
    "ExecuteTime": {
     "end_time": "2022-09-21T15:17:58.986005Z",
     "start_time": "2022-09-21T15:17:58.970997Z"
    }
   },
   "outputs": [
    {
     "data": {
      "text/plain": [
       "2246"
      ]
     },
     "execution_count": 32,
     "metadata": {},
     "output_type": "execute_result"
    }
   ],
   "source": [
    "len(test_data)"
   ]
  },
  {
   "cell_type": "code",
   "execution_count": 33,
   "id": "c87167b4",
   "metadata": {
    "ExecuteTime": {
     "end_time": "2022-09-21T15:17:59.001979Z",
     "start_time": "2022-09-21T15:17:58.986994Z"
    },
    "scrolled": true
   },
   "outputs": [
    {
     "data": {
      "text/plain": [
       "[1,\n",
       " 245,\n",
       " 273,\n",
       " 207,\n",
       " 156,\n",
       " 53,\n",
       " 74,\n",
       " 160,\n",
       " 26,\n",
       " 14,\n",
       " 46,\n",
       " 296,\n",
       " 26,\n",
       " 39,\n",
       " 74,\n",
       " 2979,\n",
       " 3554,\n",
       " 14,\n",
       " 46,\n",
       " 4689,\n",
       " 4329,\n",
       " 86,\n",
       " 61,\n",
       " 3499,\n",
       " 4795,\n",
       " 14,\n",
       " 61,\n",
       " 451,\n",
       " 4329,\n",
       " 17,\n",
       " 12]"
      ]
     },
     "execution_count": 33,
     "metadata": {},
     "output_type": "execute_result"
    }
   ],
   "source": [
    "train_data[10]"
   ]
  },
  {
   "cell_type": "code",
   "execution_count": 34,
   "id": "1fbb4ee7",
   "metadata": {
    "ExecuteTime": {
     "end_time": "2022-09-21T15:17:59.049551Z",
     "start_time": "2022-09-21T15:17:59.003973Z"
    }
   },
   "outputs": [
    {
     "data": {
      "text/plain": [
       "'? ? ? said as a result of its december acquisition of space co it expects earnings per share in 1987 of 1 15 to 1 30 dlrs per share up from 70 cts in 1986 the company said pretax net should rise to nine to 10 mln dlrs from six mln dlrs in 1986 and rental operation revenues to 19 to 22 mln dlrs from 12 5 mln dlrs it said cash flow per share this year should be 2 50 to three dlrs reuter 3'"
      ]
     },
     "execution_count": 34,
     "metadata": {},
     "output_type": "execute_result"
    }
   ],
   "source": [
    "word_index=reuters.get_word_index()\n",
    "reverse_word_index=dict([(value,key) for (key,value) in word_index.items()])\n",
    "# 注意，索引减去了3，因为0、1、2是为“padding”（填充），“start of ”（序列开始），“unknown”（未知词）分别保留的索引\n",
    "decoded_newsize=' '.join([reverse_word_index.get(i-3,'?') for i in train_data[0]])\n",
    "decoded_newsize"
   ]
  },
  {
   "cell_type": "code",
   "execution_count": 35,
   "id": "ffa2a9ba",
   "metadata": {
    "ExecuteTime": {
     "end_time": "2022-09-21T15:17:59.064554Z",
     "start_time": "2022-09-21T15:17:59.051556Z"
    }
   },
   "outputs": [
    {
     "data": {
      "text/plain": [
       "3"
      ]
     },
     "execution_count": 35,
     "metadata": {},
     "output_type": "execute_result"
    }
   ],
   "source": [
    "train_labels[10]"
   ]
  },
  {
   "cell_type": "markdown",
   "id": "f86b3972",
   "metadata": {},
   "source": [
    "## 准备数据"
   ]
  },
  {
   "cell_type": "code",
   "execution_count": 36,
   "id": "ba567ab3",
   "metadata": {
    "ExecuteTime": {
     "end_time": "2022-09-21T15:17:59.597421Z",
     "start_time": "2022-09-21T15:17:59.066545Z"
    }
   },
   "outputs": [],
   "source": [
    "import numpy as np\n",
    "\n",
    "def vectorize_sequences(sequences,dimension=10000):\n",
    "    results=np.zeros((len(sequences),dimension))\n",
    "    for i,sequence in enumerate(sequences):\n",
    "        results[i,sequence]=1.\n",
    "    return results\n",
    "\n",
    "# 将训练数据向量化\n",
    "x_train=vectorize_sequences(train_data)\n",
    "# 将测试标签向量化\n",
    "x_test=vectorize_sequences(test_data)"
   ]
  },
  {
   "cell_type": "code",
   "execution_count": 37,
   "id": "ebed0b5a",
   "metadata": {
    "ExecuteTime": {
     "end_time": "2022-09-21T15:17:59.612985Z",
     "start_time": "2022-09-21T15:17:59.599401Z"
    }
   },
   "outputs": [],
   "source": [
    "def to_one_hot(labels,dimension=46):\n",
    "    results=np.zeros((len(labels),dimension))\n",
    "    for i,label in enumerate(labels):\n",
    "        results[i,label]=1.\n",
    "    return results\n",
    "\n",
    "# 将训练标签向量化\n",
    "one_hot_train_labels=to_one_hot(train_labels)\n",
    "# 将测试标签向量化\n",
    "one_hot_test_labels=to_one_hot(test_labels)"
   ]
  },
  {
   "cell_type": "code",
   "execution_count": 38,
   "id": "73f5e90e",
   "metadata": {
    "ExecuteTime": {
     "end_time": "2022-09-21T15:17:59.627992Z",
     "start_time": "2022-09-21T15:17:59.614964Z"
    }
   },
   "outputs": [],
   "source": [
    "from keras.utils.np_utils import to_categorical\n",
    "\n",
    "one_hot_train_labels=to_categorical(train_labels)\n",
    "one_hot_test_labels=to_categorical(test_labels)"
   ]
  },
  {
   "cell_type": "markdown",
   "id": "64de3539",
   "metadata": {},
   "source": [
    "## 构建网络"
   ]
  },
  {
   "cell_type": "code",
   "execution_count": 39,
   "id": "621c22ab",
   "metadata": {
    "ExecuteTime": {
     "end_time": "2022-09-21T15:17:59.705979Z",
     "start_time": "2022-09-21T15:17:59.630971Z"
    }
   },
   "outputs": [],
   "source": [
    "from keras import models\n",
    "from keras import layers\n",
    "\n",
    "model=models.Sequential()\n",
    "model.add(layers.Dense(64,activation='relu',input_shape=(10000,)))\n",
    "model.add(layers.Dense(64,activation='relu'))\n",
    "model.add(layers.Dense(46,activation='softmax'))"
   ]
  },
  {
   "cell_type": "code",
   "execution_count": 40,
   "id": "14b91e63",
   "metadata": {
    "ExecuteTime": {
     "end_time": "2022-09-21T15:17:59.720979Z",
     "start_time": "2022-09-21T15:17:59.707960Z"
    }
   },
   "outputs": [],
   "source": [
    "model.compile(optimizer='rmsprop',loss='categorical_crossentropy',metrics=['accuracy'])"
   ]
  },
  {
   "cell_type": "markdown",
   "id": "553a333a",
   "metadata": {},
   "source": [
    "## 验证你的方法"
   ]
  },
  {
   "cell_type": "code",
   "execution_count": 41,
   "id": "5dbf9590",
   "metadata": {
    "ExecuteTime": {
     "end_time": "2022-09-21T15:17:59.736970Z",
     "start_time": "2022-09-21T15:17:59.722980Z"
    }
   },
   "outputs": [],
   "source": [
    "x_val=x_train[:1000]\n",
    "partial_x_train=x_train[1000:]\n",
    "\n",
    "y_val=one_hot_train_labels[:1000]\n",
    "partial_y_train=one_hot_train_labels[1000:]"
   ]
  },
  {
   "cell_type": "code",
   "execution_count": 42,
   "id": "643667c1",
   "metadata": {
    "ExecuteTime": {
     "end_time": "2022-09-21T15:18:05.942670Z",
     "start_time": "2022-09-21T15:17:59.738982Z"
    }
   },
   "outputs": [
    {
     "name": "stdout",
     "output_type": "stream",
     "text": [
      "Epoch 1/20\n",
      "16/16 [==============================] - 1s 27ms/step - loss: 2.8113 - accuracy: 0.4969 - val_loss: 1.8676 - val_accuracy: 0.6380\n",
      "Epoch 2/20\n",
      "16/16 [==============================] - 0s 14ms/step - loss: 1.4856 - accuracy: 0.7012 - val_loss: 1.3397 - val_accuracy: 0.7050\n",
      "Epoch 3/20\n",
      "16/16 [==============================] - 0s 14ms/step - loss: 1.0666 - accuracy: 0.7795 - val_loss: 1.1558 - val_accuracy: 0.7560\n",
      "Epoch 4/20\n",
      "16/16 [==============================] - 0s 19ms/step - loss: 0.8316 - accuracy: 0.8282 - val_loss: 1.0239 - val_accuracy: 0.7930\n",
      "Epoch 5/20\n",
      "16/16 [==============================] - 0s 14ms/step - loss: 0.6639 - accuracy: 0.8634 - val_loss: 0.9644 - val_accuracy: 0.7900\n",
      "Epoch 6/20\n",
      "16/16 [==============================] - 0s 14ms/step - loss: 0.5308 - accuracy: 0.8906 - val_loss: 0.9109 - val_accuracy: 0.8130\n",
      "Epoch 7/20\n",
      "16/16 [==============================] - 0s 14ms/step - loss: 0.4282 - accuracy: 0.9124 - val_loss: 0.9542 - val_accuracy: 0.7880\n",
      "Epoch 8/20\n",
      "16/16 [==============================] - 0s 14ms/step - loss: 0.3543 - accuracy: 0.9248 - val_loss: 0.8734 - val_accuracy: 0.8170\n",
      "Epoch 9/20\n",
      "16/16 [==============================] - 0s 13ms/step - loss: 0.2902 - accuracy: 0.9362 - val_loss: 0.8608 - val_accuracy: 0.8270\n",
      "Epoch 10/20\n",
      "16/16 [==============================] - 0s 14ms/step - loss: 0.2489 - accuracy: 0.9449 - val_loss: 0.8890 - val_accuracy: 0.8120\n",
      "Epoch 11/20\n",
      "16/16 [==============================] - 0s 14ms/step - loss: 0.2125 - accuracy: 0.9481 - val_loss: 0.9101 - val_accuracy: 0.8120\n",
      "Epoch 12/20\n",
      "16/16 [==============================] - 0s 14ms/step - loss: 0.1847 - accuracy: 0.9495 - val_loss: 0.9343 - val_accuracy: 0.8110\n",
      "Epoch 13/20\n",
      "16/16 [===================>..........] - ETA: 0s - loss: 0.1556 - accuracy: 0.95"
     ]
    },
    {
     "data": {
      "text/html": [
       "<b>limit_output extension: Maximum message size of 10000 exceeded with 10067 characters</b>"
      ]
     },
     "metadata": {},
     "output_type": "display_data"
    }
   ],
   "source": [
    "history=model.fit(partial_x_train,\n",
    "                 partial_y_train,\n",
    "                 epochs=20,\n",
    "                 batch_size=512,\n",
    "                 validation_data=(x_val,y_val))"
   ]
  },
  {
   "cell_type": "code",
   "execution_count": 43,
   "id": "2def3a33",
   "metadata": {
    "ExecuteTime": {
     "end_time": "2022-09-21T15:18:06.054665Z",
     "start_time": "2022-09-21T15:18:05.945685Z"
    }
   },
   "outputs": [
    {
     "data": {
      "image/png": "[encoded data removed]",
      "text/plain": [
       "<Figure size 432x288 with 1 Axes>"
      ]
     },
     "metadata": {
      "needs_background": "light"
     },
     "output_type": "display_data"
    }
   ],
   "source": [
    "import matplotlib.pyplot as plt\n",
    "\n",
    "loss=history.history['loss']\n",
    "val_loss=history.history['val_loss']\n",
    "\n",
    "epochs=range(1,len(loss_values)+1)\n",
    "\n",
    "plt.plot(epochs,loss,'bo',label='Training loss')\n",
    "plt.plot(epochs,val_loss,'b',label='Validation loss')\n",
    "plt.title('Training and validation loss')\n",
    "plt.xlabel('Epochs')\n",
    "plt.ylabel('Loss')\n",
    "plt.legend()\n",
    "\n",
    "plt.show()"
   ]
  },
  {
   "cell_type": "code",
   "execution_count": 44,
   "id": "d84ec3c7",
   "metadata": {
    "ExecuteTime": {
     "end_time": "2022-09-21T15:18:06.165685Z",
     "start_time": "2022-09-21T15:18:06.056665Z"
    }
   },
   "outputs": [
    {
     "data": {
      "image/png": "[encoded data removed]",
      "text/plain": [
       "<Figure size 432x288 with 1 Axes>"
      ]
     },
     "metadata": {
      "needs_background": "light"
     },
     "output_type": "display_data"
    }
   ],
   "source": [
    "# 清空图像\n",
    "plt.clf()\n",
    "\n",
    "acc=history.history['accuracy']\n",
    "val_acc=history.history['val_accuracy']\n",
    "\n",
    "plt.plot(epochs,acc,'bo',label='Training loss')\n",
    "plt.plot(epochs,val_acc,'b',label='Validation loss')\n",
    "plt.title('Training and validation accuracy')\n",
    "plt.xlabel('Epochs')\n",
    "plt.ylabel('Accuracy')\n",
    "plt.legend()\n",
    "\n",
    "plt.show()"
   ]
  },
  {
   "cell_type": "code",
   "execution_count": 45,
   "id": "28953f65",
   "metadata": {
    "ExecuteTime": {
     "end_time": "2022-09-21T15:18:12.166617Z",
     "start_time": "2022-09-21T15:18:06.167695Z"
    }
   },
   "outputs": [
    {
     "name": "stdout",
     "output_type": "stream",
     "text": [
      "Epoch 1/20\n",
      "16/16 [==============================] - 1s 27ms/step - loss: 2.4711 - accuracy: 0.4817 - val_loss: 1.6689 - val_accuracy: 0.6250\n",
      "Epoch 2/20\n",
      "16/16 [==============================] - 0s 14ms/step - loss: 1.3988 - accuracy: 0.6982 - val_loss: 1.3056 - val_accuracy: 0.7100\n",
      "Epoch 3/20\n",
      "16/16 [==============================] - 0s 15ms/step - loss: 1.0462 - accuracy: 0.7801 - val_loss: 1.1271 - val_accuracy: 0.7770\n",
      "Epoch 4/20\n",
      "16/16 [==============================] - 0s 14ms/step - loss: 0.8194 - accuracy: 0.8275 - val_loss: 1.0364 - val_accuracy: 0.7790\n",
      "Epoch 5/20\n",
      "16/16 [==============================] - 0s 14ms/step - loss: 0.6460 - accuracy: 0.8644 - val_loss: 0.9575 - val_accuracy: 0.8010\n",
      "Epoch 6/20\n",
      "16/16 [==============================] - 0s 19ms/step - loss: 0.5126 - accuracy: 0.8944 - val_loss: 0.9241 - val_accuracy: 0.7990\n",
      "Epoch 7/20\n",
      "16/16 [==============================] - 0s 14ms/step - loss: 0.4087 - accuracy: 0.9144 - val_loss: 0.9036 - val_accuracy: 0.8050\n",
      "Epoch 8/20\n",
      "16/16 [==============================] - 0s 14ms/step - loss: 0.3347 - accuracy: 0.9278 - val_loss: 0.8816 - val_accuracy: 0.8180\n",
      "Epoch 9/20\n",
      "16/16 [==============================] - 0s 14ms/step - loss: 0.2763 - accuracy: 0.9384 - val_loss: 0.8674 - val_accuracy: 0.8270\n",
      "Epoch 10/20\n",
      "16/16 [==============================] - 0s 14ms/step - loss: 0.2350 - accuracy: 0.9455 - val_loss: 0.9075 - val_accuracy: 0.8150\n",
      "Epoch 11/20\n",
      "16/16 [==============================] - 0s 15ms/step - loss: 0.2015 - accuracy: 0.9503 - val_loss: 0.8858 - val_accuracy: 0.8140\n",
      "Epoch 12/20\n",
      "16/16 [==============================] - 0s 14ms/step - loss: 0.1790 - accuracy: 0.9514 - val_loss: 0.9389 - val_accuracy: 0.8090\n",
      "Epoch 13/20\n",
      "11/16 [===================>..........] - ETA: 0s - loss: 0.1544 - accuracy: 0.95"
     ]
    },
    {
     "data": {
      "text/html": [
       "<b>limit_output extension: Maximum message size of 10000 exceeded with 10052 characters</b>"
      ]
     },
     "metadata": {},
     "output_type": "display_data"
    }
   ],
   "source": [
    "model=models.Sequential()\n",
    "model.add(layers.Dense(64,activation='relu',input_shape=(10000,)))\n",
    "model.add(layers.Dense(64,activation='relu'))\n",
    "model.add(layers.Dense(46,activation='softmax'))\n",
    "\n",
    "model.compile(optimizer='rmsprop',loss='categorical_crossentropy',metrics=['accuracy'])\n",
    "\n",
    "history=model.fit(partial_x_train,\n",
    "                 partial_y_train,\n",
    "                 epochs=20,\n",
    "                 batch_size=512,\n",
    "                 validation_data=(x_val,y_val))\n",
    "\n",
    "results=model.evaluate(x_test,one_hot_test_labels)"
   ]
  },
  {
   "cell_type": "code",
   "execution_count": 46,
   "id": "46fc594e",
   "metadata": {
    "ExecuteTime": {
     "end_time": "2022-09-21T15:18:12.181595Z",
     "start_time": "2022-09-21T15:18:12.169594Z"
    }
   },
   "outputs": [
    {
     "data": {
      "text/plain": [
       "[1.3010824918746948, 0.7747105956077576]"
      ]
     },
     "execution_count": 46,
     "metadata": {},
     "output_type": "execute_result"
    }
   ],
   "source": [
    "results"
   ]
  },
  {
   "cell_type": "code",
   "execution_count": 47,
   "id": "b2ae6274",
   "metadata": {
    "ExecuteTime": {
     "end_time": "2022-09-21T15:18:12.197598Z",
     "start_time": "2022-09-21T15:18:12.182594Z"
    }
   },
   "outputs": [
    {
     "data": {
      "text/plain": [
       "0.18967052537845058"
      ]
     },
     "execution_count": 47,
     "metadata": {},
     "output_type": "execute_result"
    }
   ],
   "source": [
    "import copy\n",
    "test_labels_copy=copy.copy(test_labels)\n",
    "np.random.shuffle(test_labels_copy)\n",
    "hist_array=np.array(test_labels)==np.array(test_labels_copy)\n",
    "float(np.sum(hist_array))/len(test_labels)"
   ]
  },
  {
   "cell_type": "markdown",
   "id": "851e2615",
   "metadata": {
    "ExecuteTime": {
     "end_time": "2022-09-21T15:14:18.316675Z",
     "start_time": "2022-09-21T15:14:18.305655Z"
    }
   },
   "source": [
    "## 在新数据上生成预测结果"
   ]
  },
  {
   "cell_type": "code",
   "execution_count": 48,
   "id": "9bc201cf",
   "metadata": {
    "ExecuteTime": {
     "end_time": "2022-09-21T15:18:12.588222Z",
     "start_time": "2022-09-21T15:18:12.199584Z"
    }
   },
   "outputs": [
    {
     "name": "stdout",
     "output_type": "stream",
     "text": [
      "71/71 [==============================] - 0s 2ms/step\n"
     ]
    }
   ],
   "source": [
    "prediction=model.predict(x_test)"
   ]
  },
  {
   "cell_type": "code",
   "execution_count": 49,
   "id": "f26c4d14",
   "metadata": {
    "ExecuteTime": {
     "end_time": "2022-09-21T15:18:12.604220Z",
     "start_time": "2022-09-21T15:18:12.590210Z"
    }
   },
   "outputs": [
    {
     "data": {
      "text/plain": [
       "(46,)"
      ]
     },
     "execution_count": 49,
     "metadata": {},
     "output_type": "execute_result"
    }
   ],
   "source": [
    "prediction[0].shape"
   ]
  },
  {
   "cell_type": "code",
   "execution_count": 50,
   "id": "e851ab55",
   "metadata": {
    "ExecuteTime": {
     "end_time": "2022-09-21T15:18:12.620210Z",
     "start_time": "2022-09-21T15:18:12.605211Z"
    }
   },
   "outputs": [
    {
     "data": {
      "text/plain": [
       "1.0"
      ]
     },
     "execution_count": 50,
     "metadata": {},
     "output_type": "execute_result"
    }
   ],
   "source": [
    "np.sum(prediction[0])"
   ]
  },
  {
   "cell_type": "code",
   "execution_count": 51,
   "id": "ad2a29da",
   "metadata": {
    "ExecuteTime": {
     "end_time": "2022-09-21T15:18:12.636219Z",
     "start_time": "2022-09-21T15:18:12.622220Z"
    }
   },
   "outputs": [
    {
     "data": {
      "text/plain": [
       "3"
      ]
     },
     "execution_count": 51,
     "metadata": {},
     "output_type": "execute_result"
    }
   ],
   "source": [
    "np.argmax(prediction[0])"
   ]
  },
  {
   "cell_type": "markdown",
   "id": "556c762c",
   "metadata": {
    "ExecuteTime": {
     "end_time": "2022-09-21T15:18:13.725406Z",
     "start_time": "2022-09-21T15:18:13.725406Z"
    }
   },
   "source": [
    "## 处理标签和损失的另一种方法"
   ]
  },
  {
   "cell_type": "code",
   "execution_count": 52,
   "id": "d08360a0",
   "metadata": {
    "ExecuteTime": {
     "end_time": "2022-09-21T15:18:36.122563Z",
     "start_time": "2022-09-21T15:18:36.103563Z"
    }
   },
   "outputs": [],
   "source": [
    "y_train=np.array(train_labels)\n",
    "y_test=np.array(test_labels)"
   ]
  },
  {
   "cell_type": "code",
   "execution_count": 53,
   "id": "26faf7ac",
   "metadata": {
    "ExecuteTime": {
     "end_time": "2022-09-21T15:19:46.866062Z",
     "start_time": "2022-09-21T15:19:46.853073Z"
    }
   },
   "outputs": [],
   "source": [
    "model.compile(optimizer='rmsprop',loss='sparse_categorical_crossentropy',metrics=['acc'])"
   ]
  },
  {
   "cell_type": "markdown",
   "id": "901ba9c4",
   "metadata": {},
   "source": [
    "## 中间维度足够大的重要性"
   ]
  },
  {
   "cell_type": "code",
   "execution_count": 54,
   "id": "fa59ed8a",
   "metadata": {
    "ExecuteTime": {
     "end_time": "2022-09-21T15:22:49.859778Z",
     "start_time": "2022-09-21T15:22:43.072022Z"
    }
   },
   "outputs": [
    {
     "name": "stdout",
     "output_type": "stream",
     "text": [
      "Epoch 1/20\n",
      "16/16 [==============================] - 1s 37ms/step - loss: 3.5256 - accuracy: 0.2988 - val_loss: 3.2430 - val_accuracy: 0.3580\n",
      "Epoch 2/20\n",
      "16/16 [==============================] - 0s 17ms/step - loss: 2.9766 - accuracy: 0.4075 - val_loss: 2.7580 - val_accuracy: 0.4210\n",
      "Epoch 3/20\n",
      "16/16 [==============================] - 0s 14ms/step - loss: 2.4474 - accuracy: 0.4579 - val_loss: 2.3544 - val_accuracy: 0.4360\n",
      "Epoch 4/20\n",
      "16/16 [==============================] - 0s 14ms/step - loss: 2.0880 - accuracy: 0.4807 - val_loss: 2.0976 - val_accuracy: 0.4600\n",
      "Epoch 5/20\n",
      "16/16 [==============================] - 0s 14ms/step - loss: 1.8321 - accuracy: 0.4902 - val_loss: 1.8988 - val_accuracy: 0.4720\n",
      "Epoch 6/20\n",
      "16/16 [==============================] - 0s 15ms/step - loss: 1.6061 - accuracy: 0.5690 - val_loss: 1.7044 - val_accuracy: 0.6330\n",
      "Epoch 7/20\n",
      "16/16 [==============================] - 0s 15ms/step - loss: 1.3902 - accuracy: 0.6986 - val_loss: 1.5409 - val_accuracy: 0.6790\n",
      "Epoch 8/20\n",
      "16/16 [==============================] - 0s 14ms/step - loss: 1.2197 - accuracy: 0.7278 - val_loss: 1.4367 - val_accuracy: 0.6870\n",
      "Epoch 9/20\n",
      "16/16 [==============================] - 0s 14ms/step - loss: 1.1061 - accuracy: 0.7413 - val_loss: 1.3845 - val_accuracy: 0.6940\n",
      "Epoch 10/20\n",
      "16/16 [==============================] - 0s 19ms/step - loss: 1.0220 - accuracy: 0.7503 - val_loss: 1.3704 - val_accuracy: 0.6880\n",
      "Epoch 11/20\n",
      "16/16 [==============================] - 0s 14ms/step - loss: 0.9608 - accuracy: 0.7534 - val_loss: 1.3531 - val_accuracy: 0.6980\n",
      "Epoch 12/20\n",
      "16/16 [==============================] - ETA: 0s - loss: 0.9056 - accuracy: 0.75"
     ]
    },
    {
     "data": {
      "text/html": [
       "<b>limit_output extension: Maximum message size of 10000 exceeded with 10125 characters</b>"
      ]
     },
     "metadata": {},
     "output_type": "display_data"
    }
   ],
   "source": [
    "model=models.Sequential()\n",
    "model.add(layers.Dense(64,activation='relu',input_shape=(10000,)))\n",
    "model.add(layers.Dense(4,activation='relu'))\n",
    "model.add(layers.Dense(46,activation='softmax'))\n",
    "\n",
    "model.compile(optimizer='rmsprop',loss='categorical_crossentropy',metrics=['accuracy'])\n",
    "\n",
    "history=model.fit(partial_x_train,\n",
    "                 partial_y_train,\n",
    "                 epochs=20,\n",
    "                 batch_size=512,\n",
    "                 validation_data=(x_val,y_val))\n",
    "\n",
    "results=model.evaluate(x_test,one_hot_test_labels)"
   ]
  },
  {
   "cell_type": "code",
   "execution_count": 56,
   "id": "4bc8770f",
   "metadata": {
    "ExecuteTime": {
     "end_time": "2022-09-21T15:22:56.144578Z",
     "start_time": "2022-09-21T15:22:56.126583Z"
    }
   },
   "outputs": [
    {
     "data": {
      "text/plain": [
       "[1.473522424697876, 0.6945680975914001]"
      ]
     },
     "execution_count": 56,
     "metadata": {},
     "output_type": "execute_result"
    }
   ],
   "source": [
    "results"
   ]
  },
  {
   "cell_type": "markdown",
   "id": "7bb8fa4f",
   "metadata": {},
   "source": [
    "## 进一步的实验"
   ]
  },
  {
   "cell_type": "code",
   "execution_count": 64,
   "id": "78d508dd",
   "metadata": {
    "ExecuteTime": {
     "end_time": "2022-09-21T15:29:16.205062Z",
     "start_time": "2022-09-21T15:29:11.885150Z"
    }
   },
   "outputs": [
    {
     "name": "stdout",
     "output_type": "stream",
     "text": [
      "Epoch 1/9\n",
      "16/16 [==============================] - 1s 27ms/step - loss: 2.4795 - accuracy: 0.5207 - val_loss: 1.5745 - val_accuracy: 0.6560\n",
      "Epoch 2/9\n",
      "16/16 [==============================] - 0s 15ms/step - loss: 1.2966 - accuracy: 0.7179 - val_loss: 1.2482 - val_accuracy: 0.7280\n",
      "Epoch 3/9\n",
      "16/16 [==============================] - 0s 15ms/step - loss: 0.9801 - accuracy: 0.7721 - val_loss: 1.1409 - val_accuracy: 0.7420\n",
      "Epoch 4/9\n",
      "16/16 [==============================] - 0s 15ms/step - loss: 0.7608 - accuracy: 0.8251 - val_loss: 1.0392 - val_accuracy: 0.7680\n",
      "Epoch 5/9\n",
      "16/16 [==============================] - 0s 15ms/step - loss: 0.5942 - accuracy: 0.8711 - val_loss: 1.0067 - val_accuracy: 0.7850\n",
      "Epoch 6/9\n",
      "16/16 [==============================] - 0s 16ms/step - loss: 0.4601 - accuracy: 0.9007 - val_loss: 1.0350 - val_accuracy: 0.7690\n",
      "Epoch 7/9\n",
      "16/16 [==============================] - 0s 15ms/step - loss: 0.3569 - accuracy: 0.9217 - val_loss: 1.0417 - val_accuracy: 0.7760\n",
      "Epoch 8/9\n",
      "16/16 [==============================] - 0s 15ms/step - loss: 0.3039 - accuracy: 0.9308 - val_loss: 1.0328 - val_accuracy: 0.7950\n",
      "Epoch 9/9\n",
      "16/16 [==============================] - 0s 14ms/step - loss: 0.2435 - accuracy: 0.9444 - val_loss: 1.0178 - val_accuracy: 0.8020\n",
      "71/71 [==============================] - 0s 4ms/step - loss: 1.1651 - accuracy: 0.7671\n"
     ]
    }
   ],
   "source": [
    "model=models.Sequential()\n",
    "model.add(layers.Dense(128,activation='relu',input_shape=(10000,)))\n",
    "model.add(layers.Dense(64,activation='relu'))\n",
    "model.add(layers.Dense(32,activation='relu'))\n",
    "model.add(layers.Dense(46,activation='softmax'))\n",
    "\n",
    "model.compile(optimizer='rmsprop',loss='categorical_crossentropy',metrics=['accuracy'])\n",
    "\n",
    "history=model.fit(partial_x_train,\n",
    "                 partial_y_train,\n",
    "                 epochs=9,\n",
    "                 batch_size=512,\n",
    "                 validation_data=(x_val,y_val))\n",
    "\n",
    "results=model.evaluate(x_test,one_hot_test_labels)"
   ]
  },
  {
   "cell_type": "code",
   "execution_count": 65,
   "id": "18a36933",
   "metadata": {
    "ExecuteTime": {
     "end_time": "2022-09-21T15:29:16.630060Z",
     "start_time": "2022-09-21T15:29:16.617045Z"
    }
   },
   "outputs": [
    {
     "data": {
      "text/plain": [
       "[1.1650680303573608, 0.767141580581665]"
      ]
     },
     "execution_count": 65,
     "metadata": {},
     "output_type": "execute_result"
    }
   ],
   "source": [
    "results"
   ]
  },
  {
   "cell_type": "markdown",
   "id": "d5b471e7",
   "metadata": {},
   "source": [
    "## 小结"
   ]
  },
  {
   "cell_type": "code",
   "execution_count": null,
   "id": "1613bd29",
   "metadata": {},
   "outputs": [],
   "source": []
  }
 ],
 "metadata": {
  "hide_input": false,
  "kernelspec": {
   "display_name": "Python 3 (ipykernel)",
   "language": "python",
   "name": "python3"
  },
  "language_info": {
   "codemirror_mode": {
    "name": "ipython",
    "version": 3
   },
   "file_extension": ".py",
   "mimetype": "text/x-python",
   "name": "python",
   "nbconvert_exporter": "python",
   "pygments_lexer": "ipython3",
   "version": "3.9.12"
  },
  "nbTranslate": {
   "displayLangs": [
    "*"
   ],
   "hotkey": "alt-t",
   "langInMainMenu": true,
   "sourceLang": "en",
   "targetLang": "fr",
   "useGoogleTranslate": true
  },
  "toc": {
   "base_numbering": 1,
   "nav_menu": {},
   "number_sections": true,
   "sideBar": true,
   "skip_h1_title": false,
   "title_cell": "Table of Contents",
   "title_sidebar": "Contents",
   "toc_cell": false,
   "toc_position": {},
   "toc_section_display": true,
   "toc_window_display": false
  },
  "varInspector": {
   "cols": {
    "lenName": 16,
    "lenType": 16,
    "lenVar": 40
   },
   "kernels_config": {
    "python": {
     "delete_cmd_postfix": "",
     "delete_cmd_prefix": "del ",
     "library": "var_list.py",
     "varRefreshCmd": "print(var_dic_list())"
    },
    "r": {
     "delete_cmd_postfix": ") ",
     "delete_cmd_prefix": "rm(",
     "library": "var_list.r",
     "varRefreshCmd": "cat(var_dic_list()) "
    }
   },
   "types_to_exclude": [
    "module",
    "function",
    "builtin_function_or_method",
    "instance",
    "_Feature"
   ],
   "window_display": false
  }
 },
 "nbformat": 4,
 "nbformat_minor": 5
}
