{
 "cells": [
  {
   "cell_type": "markdown",
   "id": "d5472036",
   "metadata": {},
   "source": [
    "# 神经网络剖析"
   ]
  },
  {
   "cell_type": "markdown",
   "id": "fa54be39",
   "metadata": {},
   "source": [
    "## 层：深度学习的基础组件"
   ]
  },
  {
   "cell_type": "code",
   "execution_count": 1,
   "id": "94bd9c5d",
   "metadata": {
    "ExecuteTime": {
     "end_time": "2022-09-18T14:30:34.069393Z",
     "start_time": "2022-09-18T14:30:28.644488Z"
    },
    "run_control": {
     "marked": true
    }
   },
   "outputs": [],
   "source": [
    "from keras import layers\n",
    "\n",
    "# 有32个输出单元的密集层\n",
    "layers=layers.Dense(32,input_shape=(784,))"
   ]
  },
  {
   "cell_type": "code",
   "execution_count": 2,
   "id": "0626036d",
   "metadata": {
    "ExecuteTime": {
     "end_time": "2022-09-18T14:30:34.275267Z",
     "start_time": "2022-09-18T14:30:34.070398Z"
    }
   },
   "outputs": [],
   "source": [
    "from keras import models\n",
    "from keras import layers\n",
    "\n",
    "model=models.Sequential()\n",
    "model.add(layers.Dense(32,input_shape=(784,)))\n",
    "model.add(layers.Dense(32))"
   ]
  },
  {
   "cell_type": "markdown",
   "id": "a0f1df15",
   "metadata": {},
   "source": [
    "## 模型：层构成的网络"
   ]
  },
  {
   "cell_type": "markdown",
   "id": "ee70001a",
   "metadata": {},
   "source": [
    "## 损失函数与优化器：配置学习过程的关键"
   ]
  },
  {
   "cell_type": "markdown",
   "id": "090277bf",
   "metadata": {},
   "source": [
    "# Keras简介"
   ]
  },
  {
   "cell_type": "markdown",
   "id": "e6502fa4",
   "metadata": {
    "ExecuteTime": {
     "end_time": "2022-09-17T15:42:14.963801Z",
     "start_time": "2022-09-17T15:42:14.952802Z"
    }
   },
   "source": [
    "## Keras、TensorFlow、Theano和CNTK"
   ]
  },
  {
   "cell_type": "markdown",
   "id": "01a19583",
   "metadata": {},
   "source": [
    "## 使用Keras开发：概述"
   ]
  },
  {
   "cell_type": "code",
   "execution_count": 3,
   "id": "efdf91af",
   "metadata": {
    "ExecuteTime": {
     "end_time": "2022-09-18T14:30:34.307237Z",
     "start_time": "2022-09-18T14:30:34.277240Z"
    }
   },
   "outputs": [],
   "source": [
    "from keras import models\n",
    "from keras import layers\n",
    "\n",
    "model=models.Sequential()\n",
    "model.add(layers.Dense(32,activation='relu',input_shape=(784,)))\n",
    "model.add(layers.Dense(10,activation='softmax'))"
   ]
  },
  {
   "cell_type": "code",
   "execution_count": 4,
   "id": "1849affd",
   "metadata": {
    "ExecuteTime": {
     "end_time": "2022-09-18T14:30:34.339237Z",
     "start_time": "2022-09-18T14:30:34.309248Z"
    }
   },
   "outputs": [],
   "source": [
    "input_tensor=layers.Input(shape=(784,))\n",
    "x=layers.Dense(32,activation='relu')(input_tensor)\n",
    "output_tensor=layers.Dense(10,activation='softmax')(x)\n",
    "\n",
    "model=models.Model(inputs=input_tensor,outputs=output_tensor)"
   ]
  },
  {
   "cell_type": "code",
   "execution_count": 5,
   "id": "0392c4fd",
   "metadata": {
    "ExecuteTime": {
     "end_time": "2022-09-18T14:30:34.355235Z",
     "start_time": "2022-09-18T14:30:34.341239Z"
    }
   },
   "outputs": [],
   "source": [
    "from keras import optimizers\n",
    "\n",
    "model.compile(optimizer=optimizers.RMSprop(learning_rate=0.01),\n",
    "             loss='mse',\n",
    "             metrics=['accuracy'])"
   ]
  },
  {
   "cell_type": "code",
   "execution_count": 6,
   "id": "2589fcd7",
   "metadata": {
    "ExecuteTime": {
     "end_time": "2022-09-18T14:30:34.370245Z",
     "start_time": "2022-09-18T14:30:34.358238Z"
    }
   },
   "outputs": [],
   "source": [
    "# model.fit(input_tensor,target_tensor,batch_size=128,epochs=10)"
   ]
  },
  {
   "cell_type": "code",
   "execution_count": null,
   "id": "052b36f1",
   "metadata": {},
   "outputs": [],
   "source": []
  }
 ],
 "metadata": {
  "hide_input": false,
  "kernelspec": {
   "display_name": "Python 3 (ipykernel)",
   "language": "python",
   "name": "python3"
  },
  "language_info": {
   "codemirror_mode": {
    "name": "ipython",
    "version": 3
   },
   "file_extension": ".py",
   "mimetype": "text/x-python",
   "name": "python",
   "nbconvert_exporter": "python",
   "pygments_lexer": "ipython3",
   "version": "3.9.12"
  },
  "nbTranslate": {
   "displayLangs": [
    "*"
   ],
   "hotkey": "alt-t",
   "langInMainMenu": true,
   "sourceLang": "en",
   "targetLang": "fr",
   "useGoogleTranslate": true
  },
  "toc": {
   "base_numbering": 1,
   "nav_menu": {},
   "number_sections": true,
   "sideBar": true,
   "skip_h1_title": false,
   "title_cell": "Table of Contents",
   "title_sidebar": "Contents",
   "toc_cell": false,
   "toc_position": {},
   "toc_section_display": true,
   "toc_window_display": false
  },
  "varInspector": {
   "cols": {
    "lenName": 16,
    "lenType": 16,
    "lenVar": 40
   },
   "kernels_config": {
    "python": {
     "delete_cmd_postfix": "",
     "delete_cmd_prefix": "del ",
     "library": "var_list.py",
     "varRefreshCmd": "print(var_dic_list())"
    },
    "r": {
     "delete_cmd_postfix": ") ",
     "delete_cmd_prefix": "rm(",
     "library": "var_list.r",
     "varRefreshCmd": "cat(var_dic_list()) "
    }
   },
   "types_to_exclude": [
    "module",
    "function",
    "builtin_function_or_method",
    "instance",
    "_Feature"
   ],
   "window_display": false
  }
 },
 "nbformat": 4,
 "nbformat_minor": 5
}
