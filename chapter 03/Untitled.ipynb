{
 "cells": [
  {
   "cell_type": "markdown",
   "id": "d5472036",
   "metadata": {},
   "source": [
    "# 神经网络剖析"
   ]
  },
  {
   "cell_type": "markdown",
   "id": "fa54be39",
   "metadata": {},
   "source": [
    "## 层：深度学习的基础组件"
   ]
  },
  {
   "cell_type": "code",
   "execution_count": 1,
   "id": "94bd9c5d",
   "metadata": {
    "ExecuteTime": {
     "end_time": "2022-09-20T14:47:47.379224Z",
     "start_time": "2022-09-20T14:47:44.358130Z"
    },
    "run_control": {
     "marked": true
    }
   },
   "outputs": [],
   "source": [
    "from keras import layers\n",
    "\n",
    "# 有32个输出单元的密集层\n",
    "layers=layers.Dense(32,input_shape=(784,))"
   ]
  },
  {
   "cell_type": "code",
   "execution_count": 2,
   "id": "0626036d",
   "metadata": {
    "ExecuteTime": {
     "end_time": "2022-09-20T14:47:48.643461Z",
     "start_time": "2022-09-20T14:47:47.381230Z"
    }
   },
   "outputs": [],
   "source": [
    "from keras import models\n",
    "from keras import layers\n",
    "\n",
    "model=models.Sequential()\n",
    "model.add(layers.Dense(32,input_shape=(784,)))\n",
    "model.add(layers.Dense(32))"
   ]
  },
  {
   "cell_type": "markdown",
   "id": "a0f1df15",
   "metadata": {},
   "source": [
    "## 模型：层构成的网络"
   ]
  },
  {
   "cell_type": "markdown",
   "id": "ee70001a",
   "metadata": {},
   "source": [
    "## 损失函数与优化器：配置学习过程的关键"
   ]
  },
  {
   "cell_type": "markdown",
   "id": "090277bf",
   "metadata": {},
   "source": [
    "# Keras简介"
   ]
  },
  {
   "cell_type": "markdown",
   "id": "e6502fa4",
   "metadata": {
    "ExecuteTime": {
     "end_time": "2022-09-17T15:42:14.963801Z",
     "start_time": "2022-09-17T15:42:14.952802Z"
    }
   },
   "source": [
    "## Keras、TensorFlow、Theano和CNTK"
   ]
  },
  {
   "cell_type": "markdown",
   "id": "01a19583",
   "metadata": {},
   "source": [
    "## 使用Keras开发：概述"
   ]
  },
  {
   "cell_type": "code",
   "execution_count": 3,
   "id": "efdf91af",
   "metadata": {
    "ExecuteTime": {
     "end_time": "2022-09-20T14:47:48.675446Z",
     "start_time": "2022-09-20T14:47:48.645454Z"
    }
   },
   "outputs": [],
   "source": [
    "from keras import models\n",
    "from keras import layers\n",
    "\n",
    "model=models.Sequential()\n",
    "model.add(layers.Dense(32,activation='relu',input_shape=(784,)))\n",
    "model.add(layers.Dense(10,activation='softmax'))"
   ]
  },
  {
   "cell_type": "code",
   "execution_count": 4,
   "id": "1849affd",
   "metadata": {
    "ExecuteTime": {
     "end_time": "2022-09-20T14:47:48.707431Z",
     "start_time": "2022-09-20T14:47:48.676434Z"
    }
   },
   "outputs": [],
   "source": [
    "input_tensor=layers.Input(shape=(784,))\n",
    "x=layers.Dense(32,activation='relu')(input_tensor)\n",
    "output_tensor=layers.Dense(10,activation='softmax')(x)\n",
    "\n",
    "model=models.Model(inputs=input_tensor,outputs=output_tensor)"
   ]
  },
  {
   "cell_type": "code",
   "execution_count": 5,
   "id": "0392c4fd",
   "metadata": {
    "ExecuteTime": {
     "end_time": "2022-09-20T14:47:48.723431Z",
     "start_time": "2022-09-20T14:47:48.708433Z"
    }
   },
   "outputs": [],
   "source": [
    "from keras import optimizers\n",
    "\n",
    "model.compile(optimizer=optimizers.RMSprop(learning_rate=0.01),\n",
    "             loss='mse',\n",
    "             metrics=['accuracy'])"
   ]
  },
  {
   "cell_type": "code",
   "execution_count": 6,
   "id": "2589fcd7",
   "metadata": {
    "ExecuteTime": {
     "end_time": "2022-09-20T14:47:48.738437Z",
     "start_time": "2022-09-20T14:47:48.724436Z"
    }
   },
   "outputs": [],
   "source": [
    "# model.fit(input_tensor,target_tensor,batch_size=128,epochs=10)"
   ]
  },
  {
   "cell_type": "markdown",
   "id": "18eeabee",
   "metadata": {},
   "source": [
    "# 建立深度学习工作站"
   ]
  },
  {
   "cell_type": "markdown",
   "id": "9ee92ad1",
   "metadata": {},
   "source": [
    "## Jupyter笔记本：运行深度学习实验的首选方法"
   ]
  },
  {
   "cell_type": "markdown",
   "id": "26206efc",
   "metadata": {},
   "source": [
    "## 运行Keras：两种选择"
   ]
  },
  {
   "cell_type": "markdown",
   "id": "beb091ae",
   "metadata": {
    "ExecuteTime": {
     "end_time": "2022-09-20T02:41:48.485615Z",
     "start_time": "2022-09-20T02:41:48.480609Z"
    }
   },
   "source": [
    "## 在云端运行深度学习任务：优点和缺点"
   ]
  },
  {
   "cell_type": "markdown",
   "id": "73eb9e71",
   "metadata": {},
   "source": [
    "## 深度学习的最佳GPU"
   ]
  },
  {
   "cell_type": "markdown",
   "id": "04c046fb",
   "metadata": {},
   "source": [
    "# 电影评论分类：二分类问题"
   ]
  },
  {
   "cell_type": "markdown",
   "id": "acbc34bf",
   "metadata": {},
   "source": [
    "## IMBD数据集"
   ]
  },
  {
   "cell_type": "code",
   "execution_count": 7,
   "id": "4a96a0f4",
   "metadata": {
    "ExecuteTime": {
     "end_time": "2022-09-20T14:47:48.802436Z",
     "start_time": "2022-09-20T14:47:48.740437Z"
    }
   },
   "outputs": [],
   "source": [
    "from keras.datasets import imdb"
   ]
  },
  {
   "cell_type": "code",
   "execution_count": 8,
   "id": "58422741",
   "metadata": {
    "ExecuteTime": {
     "end_time": "2022-09-20T14:47:51.588394Z",
     "start_time": "2022-09-20T14:47:48.804436Z"
    }
   },
   "outputs": [],
   "source": [
    "(train_data,train_labels),(test_data,test_labels)=imdb.load_data(num_words=10000)"
   ]
  },
  {
   "cell_type": "code",
   "execution_count": 9,
   "id": "231c0061",
   "metadata": {
    "ExecuteTime": {
     "end_time": "2022-09-20T14:47:51.604389Z",
     "start_time": "2022-09-20T14:47:51.589386Z"
    },
    "scrolled": true
   },
   "outputs": [
    {
     "data": {
      "text/plain": [
       "[1,\n",
       " 14,\n",
       " 22,\n",
       " 16,\n",
       " 43,\n",
       " 530,\n",
       " 973,\n",
       " 1622,\n",
       " 1385,\n",
       " 65,\n",
       " 458,\n",
       " 4468,\n",
       " 66,\n",
       " 3941,\n",
       " 4,\n",
       " 173,\n",
       " 36,\n",
       " 256,\n",
       " 5,\n",
       " 25,\n",
       " 100,\n",
       " 43,\n",
       " 838,\n",
       " 112,\n",
       " 50,\n",
       " 670,\n",
       " 2,\n",
       " 9,\n",
       " 35,\n",
       " 480,\n",
       " 284,\n",
       " 5,\n",
       " 150,\n",
       " 4,\n",
       " 172,\n",
       " 112,\n",
       " 167,\n",
       " 2,\n",
       " 336,\n",
       " 385,\n",
       " 39,\n",
       " 4,\n",
       " 172,\n",
       " 4536,\n",
       " 1111,\n",
       " 17,\n",
       " 546,\n",
       " 38,\n",
       " 13,\n",
       " 447,\n",
       " 4,\n",
       " 192,\n",
       " 50,\n",
       " 16,\n",
       " 6,\n",
       " 147,\n",
       " 2025,\n",
       " 19,\n",
       " 14,\n",
       " 22,\n",
       " 4,\n",
       " 1920,\n",
       " 4613,\n",
       " 469,\n",
       " 4,\n",
       " 22,\n",
       " 71,\n",
       " 87,\n",
       " 12,\n",
       " 16,\n",
       " 43,\n",
       " 530,\n",
       " 38,\n",
       " 76,\n",
       " 15,\n",
       " 13,\n",
       " 1247,\n",
       " 4,\n",
       " 22,\n",
       " 17,\n",
       " 515,\n",
       " 17,\n",
       " 12,\n",
       " 16,\n",
       " 626,\n",
       " 18,\n",
       " 2,\n",
       " 5,\n",
       " 62,\n",
       " 386,\n",
       " 12,\n",
       " 8,\n",
       " 316,\n",
       " 8,\n",
       " 106,\n",
       " 5,\n",
       " 4,\n",
       " 2223,\n",
       " 5244,\n",
       " 16,\n",
       " 480,\n",
       " 66,\n",
       " 3785,\n",
       " 33,\n",
       " 4,\n",
       " 130,\n",
       " 12,\n",
       " 16,\n",
       " 38,\n",
       " 619,\n",
       " 5,\n",
       " 25,\n",
       " 124,\n",
       " 51,\n",
       " 36,\n",
       " 135,\n",
       " 48,\n",
       " 25,\n",
       " 1415,\n",
       " 33,\n",
       " 6,\n",
       " 22,\n",
       " 12,\n",
       " 215,\n",
       " 28,\n",
       " 77,\n",
       " 52,\n",
       " 5,\n",
       " 14,\n",
       " 407,\n",
       " 16,\n",
       " 82,\n",
       " 2,\n",
       " 8,\n",
       " 4,\n",
       " 107,\n",
       " 117,\n",
       " 5952,\n",
       " 15,\n",
       " 256,\n",
       " 4,\n",
       " 2,\n",
       " 7,\n",
       " 3766,\n",
       " 5,\n",
       " 723,\n",
       " 36,\n",
       " 71,\n",
       " 43,\n",
       " 530,\n",
       " 476,\n",
       " 26,\n",
       " 400,\n",
       " 317,\n",
       " 46,\n",
       " 7,\n",
       " 4,\n",
       " 2,\n",
       " 1029,\n",
       " 13,\n",
       " 104,\n",
       " 88,\n",
       " 4,\n",
       " 381,\n",
       " 15,\n",
       " 297,\n",
       " 98,\n",
       " 32,\n",
       " 2071,\n",
       " 56,\n",
       " 26,\n",
       " 141,\n",
       " 6,\n",
       " 194,\n",
       " 7486,\n",
       " 18,\n",
       " 4,\n",
       " 226,\n",
       " 22,\n",
       " 21,\n",
       " 134,\n",
       " 476,\n",
       " 26,\n",
       " 480,\n",
       " 5,\n",
       " 144,\n",
       " 30,\n",
       " 5535,\n",
       " 18,\n",
       " 51,\n",
       " 36,\n",
       " 28,\n",
       " 224,\n",
       " 92,\n",
       " 25,\n",
       " 104,\n",
       " 4,\n",
       " 226,\n",
       " 65,\n",
       " 16,\n",
       " 38,\n",
       " 1334,\n",
       " 88,\n",
       " 12,\n",
       " 16,\n",
       " 283,\n",
       " 5,\n",
       " 16,\n",
       " 4472,\n",
       " 113,\n",
       " 103,\n",
       " 32,\n",
       " 15,\n",
       " 16,\n",
       " 5345,\n",
       " 19,\n",
       " 178,\n",
       " 32]"
      ]
     },
     "execution_count": 9,
     "metadata": {},
     "output_type": "execute_result"
    }
   ],
   "source": [
    "train_data[0]"
   ]
  },
  {
   "cell_type": "code",
   "execution_count": 10,
   "id": "dbd39706",
   "metadata": {
    "ExecuteTime": {
     "end_time": "2022-09-20T14:47:51.620388Z",
     "start_time": "2022-09-20T14:47:51.605391Z"
    }
   },
   "outputs": [
    {
     "data": {
      "text/plain": [
       "1"
      ]
     },
     "execution_count": 10,
     "metadata": {},
     "output_type": "execute_result"
    }
   ],
   "source": [
    "train_labels[0]"
   ]
  },
  {
   "cell_type": "code",
   "execution_count": 11,
   "id": "f5ac9a92",
   "metadata": {
    "ExecuteTime": {
     "end_time": "2022-09-20T14:47:51.683391Z",
     "start_time": "2022-09-20T14:47:51.621392Z"
    }
   },
   "outputs": [
    {
     "data": {
      "text/plain": [
       "9999"
      ]
     },
     "execution_count": 11,
     "metadata": {},
     "output_type": "execute_result"
    }
   ],
   "source": [
    "max([max(sequence) for sequence in train_data])"
   ]
  },
  {
   "cell_type": "code",
   "execution_count": 12,
   "id": "6d6fdef0",
   "metadata": {
    "ExecuteTime": {
     "end_time": "2022-09-20T14:47:51.779388Z",
     "start_time": "2022-09-20T14:47:51.685392Z"
    }
   },
   "outputs": [
    {
     "data": {
      "text/plain": [
       "\"? this film was just brilliant casting location scenery story direction everyone's really suited the part they played and you could just imagine being there robert ? is an amazing actor and now the same being director ? father came from the same scottish island as myself so i loved the fact there was a real connection with this film the witty remarks throughout the film were great it was just brilliant so much that i bought the film as soon as it was released for ? and would recommend it to everyone to watch and the fly fishing was amazing really cried at the end it was so sad and you know what they say if you cry at a film it must have been good and this definitely was also ? to the two little boy's that played the ? of norman and paul they were just brilliant children are often left out of the ? list i think because the stars that play them all grown up are such a big profile for the whole film but these children are amazing and should be praised for what they have done don't you think the whole story was so lovely because it was true and was someone's life after all that was shared with us all\""
      ]
     },
     "execution_count": 12,
     "metadata": {},
     "output_type": "execute_result"
    }
   ],
   "source": [
    "# word_index是一个将单词映射为整数索引的字典\n",
    "word_index=imdb.get_word_index()\n",
    "# 键值颠倒，将整数索引映射为单词\n",
    "reverse_word_index=dict([(value,key) for (key,value) in word_index.items()])\n",
    "# 将评论解码。注意，索引减去了3，因为0、1、2是为“padding”（填充），“start of sequence”（序列开始）,“unknown”（未知值）分别保留的索引\n",
    "decode_review=' '.join([reverse_word_index.get(i-3,'?') for i in train_data[0]])\n",
    "decode_review\n",
    "\n",
    "# 帮助代码\n",
    "# c='abcghidefjkl'\n",
    "# new_c = list(c)\n",
    "# cc =' '.join(new_c)\n",
    "# print('2.通过空分隔符把new_c列表里面元素进行分隔,赋值给到cc:',cc)\n",
    "\n",
    "# test_dict=dict({'one':1,'two':2})\n",
    "# print(test_dict.get(-1))\n",
    "# print(test_dict.get(-1,'?')) # ''?'用与填充该索引值\n",
    "# print(test_dict.get(-2,'?'))\n",
    "\n",
    "# 测试i-3的作用\n",
    "# test_decode_review=' '.join([reverse_word_index.get(i-3,'?') for i in train_data[0]])\n",
    "# test_decode_review"
   ]
  },
  {
   "cell_type": "markdown",
   "id": "37695b87",
   "metadata": {},
   "source": [
    "## 准备数据"
   ]
  },
  {
   "cell_type": "code",
   "execution_count": 13,
   "id": "183443bb",
   "metadata": {
    "ExecuteTime": {
     "end_time": "2022-09-20T14:47:53.321318Z",
     "start_time": "2022-09-20T14:47:51.781395Z"
    }
   },
   "outputs": [],
   "source": [
    "import numpy as np\n",
    "\n",
    "def vectorize_sequences(sequences,dimension=10000):\n",
    "    # 创建一个形状为(len(sequences),dimension)的零矩阵\n",
    "    results=np.zeros((len(sequences),dimension))\n",
    "    for i,sequence in enumerate(sequences):\n",
    "        # 将result[i]的指定索引设为1\n",
    "        results[i,sequence]=1.\n",
    "    return results\n",
    "\n",
    "# 将训练数据向量化\n",
    "x_train=vectorize_sequences(train_data)\n",
    "# 将测试数据向量化\n",
    "x_test=vectorize_sequences(test_data)\n",
    "\n",
    "# 帮助代码\n",
    "# test=[[1,3],[0,3],[2,3],[1]]\n",
    "# test_zeros=np.zeros((4,4))\n",
    "# for i,sequence in enumerate(test):\n",
    "#     test_zeros[i,sequence]=1.\n",
    "# test_zeros"
   ]
  },
  {
   "cell_type": "code",
   "execution_count": 14,
   "id": "c439ff31",
   "metadata": {
    "ExecuteTime": {
     "end_time": "2022-09-20T14:47:53.337318Z",
     "start_time": "2022-09-20T14:47:53.323320Z"
    }
   },
   "outputs": [
    {
     "data": {
      "text/plain": [
       "array([0., 1., 1., ..., 0., 0., 0.])"
      ]
     },
     "execution_count": 14,
     "metadata": {},
     "output_type": "execute_result"
    }
   ],
   "source": [
    "x_train[0]"
   ]
  },
  {
   "cell_type": "code",
   "execution_count": 15,
   "id": "2e8a26d3",
   "metadata": {
    "ExecuteTime": {
     "end_time": "2022-09-20T14:47:53.353320Z",
     "start_time": "2022-09-20T14:47:53.339322Z"
    }
   },
   "outputs": [],
   "source": [
    "y_train=np.asarray(train_labels).astype('float32')\n",
    "y_test=np.asarray(test_labels).astype('float32')"
   ]
  },
  {
   "cell_type": "markdown",
   "id": "ec4459ae",
   "metadata": {},
   "source": [
    "## 构建网路"
   ]
  },
  {
   "cell_type": "code",
   "execution_count": 16,
   "id": "3ceacba3",
   "metadata": {
    "ExecuteTime": {
     "end_time": "2022-09-20T14:47:53.416316Z",
     "start_time": "2022-09-20T14:47:53.355323Z"
    }
   },
   "outputs": [],
   "source": [
    "from keras import models\n",
    "from keras import layers\n",
    "\n",
    "model=models.Sequential()\n",
    "model.add(layers.Dense(16,activation='relu',input_shape=(10000,)))\n",
    "model.add(layers.Dense(16,activation='relu'))\n",
    "model.add(layers.Dense(1,activation='sigmoid'))"
   ]
  },
  {
   "cell_type": "code",
   "execution_count": 17,
   "id": "da011ee7",
   "metadata": {
    "ExecuteTime": {
     "end_time": "2022-09-20T14:47:53.432321Z",
     "start_time": "2022-09-20T14:47:53.419319Z"
    }
   },
   "outputs": [],
   "source": [
    "model.compile(optimizer='rmsprop',loss='binary_crossentropy',metrics=['accuracy'])"
   ]
  },
  {
   "cell_type": "code",
   "execution_count": 18,
   "id": "536201d4",
   "metadata": {
    "ExecuteTime": {
     "end_time": "2022-09-20T14:47:53.447318Z",
     "start_time": "2022-09-20T14:47:53.434320Z"
    }
   },
   "outputs": [],
   "source": [
    "from keras import optimizers\n",
    "\n",
    "model.compile(optimizer=optimizers.RMSprop(learning_rate=0.001),\n",
    "             loss='binary_crossentropy',\n",
    "             metrics=['accuracy'])"
   ]
  },
  {
   "cell_type": "code",
   "execution_count": 19,
   "id": "26980df0",
   "metadata": {
    "ExecuteTime": {
     "end_time": "2022-09-20T14:47:53.462326Z",
     "start_time": "2022-09-20T14:47:53.449320Z"
    }
   },
   "outputs": [],
   "source": [
    "from keras import losses\n",
    "from keras import metrics\n",
    "\n",
    "model.compile(optimizer=optimizers.RMSprop(learning_rate=0.001),\n",
    "             loss=losses.binary_crossentropy,\n",
    "             metrics=[metrics.binary_accuracy])"
   ]
  },
  {
   "cell_type": "markdown",
   "id": "84c389f9",
   "metadata": {
    "ExecuteTime": {
     "end_time": "2022-09-20T14:07:51.391841Z",
     "start_time": "2022-09-20T14:07:51.383829Z"
    }
   },
   "source": [
    "## 验证你的方法"
   ]
  },
  {
   "cell_type": "code",
   "execution_count": 20,
   "id": "2d99726f",
   "metadata": {
    "ExecuteTime": {
     "end_time": "2022-09-20T14:47:53.477326Z",
     "start_time": "2022-09-20T14:47:53.464320Z"
    }
   },
   "outputs": [],
   "source": [
    "x_val=x_train[:10000]\n",
    "partial_x_train=x_train[10000:]\n",
    "\n",
    "y_val=y_train[:10000]\n",
    "partial_y_train=y_train[10000:]"
   ]
  },
  {
   "cell_type": "code",
   "execution_count": 21,
   "id": "d4f2752c",
   "metadata": {
    "ExecuteTime": {
     "end_time": "2022-09-20T14:48:07.255739Z",
     "start_time": "2022-09-20T14:47:53.480319Z"
    }
   },
   "outputs": [
    {
     "name": "stdout",
     "output_type": "stream",
     "text": [
      "Epoch 1/20\n",
      "30/30 [==============================] - 2s 37ms/step - loss: 0.4993 - acc: 0.7969 - val_loss: 0.4142 - val_acc: 0.8375\n",
      "Epoch 2/20\n",
      "30/30 [==============================] - 1s 20ms/step - loss: 0.3010 - acc: 0.9065 - val_loss: 0.3048 - val_acc: 0.8871\n",
      "Epoch 3/20\n",
      "30/30 [==============================] - 1s 23ms/step - loss: 0.2236 - acc: 0.9293 - val_loss: 0.2786 - val_acc: 0.8897\n",
      "Epoch 4/20\n",
      "30/30 [==============================] - 1s 19ms/step - loss: 0.1756 - acc: 0.9437 - val_loss: 0.2810 - val_acc: 0.8859\n",
      "Epoch 5/20\n",
      "30/30 [==============================] - 1s 19ms/step - loss: 0.1426 - acc: 0.9575 - val_loss: 0.2806 - val_acc: 0.8870\n",
      "Epoch 6/20\n",
      "30/30 [==============================] - 1s 19ms/step - loss: 0.1208 - acc: 0.9618 - val_loss: 0.2939 - val_acc: 0.8842\n",
      "Epoch 7/20\n",
      "30/30 [==============================] - 1s 19ms/step - loss: 0.0973 - acc: 0.9715 - val_loss: 0.3534 - val_acc: 0.8706\n",
      "Epoch 8/20\n",
      "30/30 [==============================] - 1s 19ms/step - loss: 0.0793 - acc: 0.9790 - val_loss: 0.3314 - val_acc: 0.8801\n",
      "Epoch 9/20\n",
      "30/30 [==============================] - 1s 19ms/step - loss: 0.0686 - acc: 0.9809 - val_loss:"
     ]
    },
    {
     "data": {
      "text/html": [
       "<b>limit_output extension: Maximum message size of 10000 exceeded with 10026 characters</b>"
      ]
     },
     "metadata": {},
     "output_type": "display_data"
    }
   ],
   "source": [
    "model.compile(optimizer='rmsprop',loss='binary_crossentropy',metrics=['acc'])\n",
    "\n",
    "history=model.fit(partial_x_train,\n",
    "                 partial_y_train,\n",
    "                 epochs=20,\n",
    "                 batch_size=512,\n",
    "                 validation_data=(x_val,y_val))"
   ]
  },
  {
   "cell_type": "code",
   "execution_count": 22,
   "id": "6c64ac1e",
   "metadata": {
    "ExecuteTime": {
     "end_time": "2022-09-20T14:48:07.271737Z",
     "start_time": "2022-09-20T14:48:07.256739Z"
    }
   },
   "outputs": [
    {
     "data": {
      "text/plain": [
       "dict_keys(['loss', 'acc', 'val_loss', 'val_acc'])"
      ]
     },
     "execution_count": 22,
     "metadata": {},
     "output_type": "execute_result"
    }
   ],
   "source": [
    "history_dict=history.history\n",
    "history_dict.keys()"
   ]
  },
  {
   "cell_type": "code",
   "execution_count": 23,
   "id": "c4ee43be",
   "metadata": {
    "ExecuteTime": {
     "end_time": "2022-09-20T14:48:07.810742Z",
     "start_time": "2022-09-20T14:48:07.275744Z"
    }
   },
   "outputs": [
    {
     "data": {
      "image/png": "[encoded data removed]",
      "text/plain": [
       "<Figure size 432x288 with 1 Axes>"
      ]
     },
     "metadata": {
      "needs_background": "light"
     },
     "output_type": "display_data"
    }
   ],
   "source": [
    "import matplotlib.pyplot as plt\n",
    "\n",
    "history_dict=history.history\n",
    "loss_values=history_dict['loss']\n",
    "val_loss_values=history_dict['val_loss']\n",
    "\n",
    "epochs=range(1,len(loss_values)+1)\n",
    "\n",
    "# 'bo'表示蓝色圆点\n",
    "plt.plot(epochs,loss_values,'bo',label='Training loss')\n",
    "# 'b'表示蓝色实线\n",
    "plt.plot(epochs,val_loss_values,'b',label='Validation loss')\n",
    "plt.title('Training and validation loss')\n",
    "plt.xlabel('Epochs')\n",
    "plt.ylabel('Loss')\n",
    "plt.legend()\n",
    "\n",
    "plt.show()"
   ]
  },
  {
   "cell_type": "code",
   "execution_count": 24,
   "id": "0ecef74c",
   "metadata": {
    "ExecuteTime": {
     "end_time": "2022-09-20T14:48:07.953740Z",
     "start_time": "2022-09-20T14:48:07.812744Z"
    }
   },
   "outputs": [
    {
     "data": {
      "image/png": "[encoded data removed]",
      "text/plain": [
       "<Figure size 432x288 with 1 Axes>"
      ]
     },
     "metadata": {
      "needs_background": "light"
     },
     "output_type": "display_data"
    }
   ],
   "source": [
    "# 清空图像\n",
    "plt.clf()\n",
    "acc=history_dict['acc']\n",
    "val_acc=history_dict['val_acc']\n",
    "\n",
    "plt.plot(epochs,acc,'bo',label='Training loss')\n",
    "plt.plot(epochs,val_acc,'b',label='Validation loss')\n",
    "plt.title('Training and validation accuracy')\n",
    "plt.xlabel('Epochs')\n",
    "plt.ylabel('Accuracy')\n",
    "plt.legend()\n",
    "\n",
    "plt.show()"
   ]
  },
  {
   "cell_type": "code",
   "execution_count": 25,
   "id": "fac0bcb7",
   "metadata": {
    "ExecuteTime": {
     "end_time": "2022-09-20T14:48:15.711009Z",
     "start_time": "2022-09-20T14:48:07.955745Z"
    }
   },
   "outputs": [
    {
     "name": "stdout",
     "output_type": "stream",
     "text": [
      "Epoch 1/4\n",
      "49/49 [==============================] - 1s 11ms/step - loss: 0.4681 - acc: 0.8182\n",
      "Epoch 2/4\n",
      "49/49 [==============================] - 1s 11ms/step - loss: 0.2763 - acc: 0.9072\n",
      "Epoch 3/4\n",
      "49/49 [==============================] - 1s 11ms/step - loss: 0.2107 - acc: 0.9250\n",
      "Epoch 4/4\n",
      "49/49 [==============================] - 1s 11ms/step - loss: 0.1746 - acc: 0.9374\n",
      "332/782 [===========>..................] - ETA: 1s - loss: 0.2958 - acc: 0.880"
     ]
    },
    {
     "data": {
      "text/html": [
       "<b>limit_output extension: Maximum message size of 10000 exceeded with 10004 characters</b>"
      ]
     },
     "metadata": {},
     "output_type": "display_data"
    }
   ],
   "source": [
    "model=models.Sequential()\n",
    "model.add(layers.Dense(16,activation='relu',input_shape=(10000,)))\n",
    "model.add(layers.Dense(16,activation='relu'))\n",
    "model.add(layers.Dense(1,activation='sigmoid'))\n",
    "\n",
    "model.compile(optimizer='rmsprop',loss='binary_crossentropy',metrics=['acc'])\n",
    "\n",
    "model.fit(x_train,y_train,epochs=4,batch_size=512)\n",
    "results=model.evaluate(x_test,y_test)"
   ]
  },
  {
   "cell_type": "code",
   "execution_count": 26,
   "id": "5c4dd9c3",
   "metadata": {
    "ExecuteTime": {
     "end_time": "2022-09-20T14:48:41.021953Z",
     "start_time": "2022-09-20T14:48:41.002942Z"
    }
   },
   "outputs": [
    {
     "data": {
      "text/plain": [
       "[0.28706589341163635, 0.8855599761009216]"
      ]
     },
     "execution_count": 26,
     "metadata": {},
     "output_type": "execute_result"
    }
   ],
   "source": [
    "results"
   ]
  },
  {
   "cell_type": "code",
   "execution_count": 27,
   "id": "4d26b50b",
   "metadata": {
    "ExecuteTime": {
     "end_time": "2022-09-20T14:50:30.106783Z",
     "start_time": "2022-09-20T14:50:26.854313Z"
    },
    "scrolled": true
   },
   "outputs": [
    {
     "name": "stdout",
     "output_type": "stream",
     "text": [
      "782/782 [==============================] - 2s 2ms/step\n"
     ]
    },
    {
     "data": {
      "text/plain": [
       "array([[0.22709924],\n",
       "       [0.99969196],\n",
       "       [0.89478683],\n",
       "       ...,\n",
       "       [0.11051844],\n",
       "       [0.06414317],\n",
       "       [0.44116557]], dtype=float32)"
      ]
     },
     "execution_count": 27,
     "metadata": {},
     "output_type": "execute_result"
    }
   ],
   "source": [
    "model.predict(x_test)"
   ]
  },
  {
   "cell_type": "code",
   "execution_count": 59,
   "id": "318fec30",
   "metadata": {
    "ExecuteTime": {
     "end_time": "2022-09-20T15:30:19.365286Z",
     "start_time": "2022-09-20T15:30:05.883971Z"
    }
   },
   "outputs": [
    {
     "name": "stdout",
     "output_type": "stream",
     "text": [
      "Epoch 1/4\n",
      "49/49 [==============================] - 1s 11ms/step - loss: 0.1301 - acc: 0.8152\n",
      "Epoch 2/4\n",
      "49/49 [==============================] - 1s 11ms/step - loss: 0.0701 - acc: 0.9057\n",
      "Epoch 3/4\n",
      "49/49 [==============================] - 1s 11ms/step - loss: 0.0532 - acc: 0.9326\n",
      "Epoch 4/4\n",
      "49/49 [==============================] - 1s 11ms/step - loss: 0.0451 - acc: 0.9427\n",
      "352/782 [============>.................] - ETA: 1s - loss: 0.1006 - acc: 0.868"
     ]
    },
    {
     "data": {
      "text/html": [
       "<b>limit_output extension: Maximum message size of 10000 exceeded with 10004 characters</b>"
      ]
     },
     "metadata": {},
     "output_type": "display_data"
    }
   ],
   "source": [
    "from keras import models\n",
    "from keras import layers\n",
    "import numpy as np\n",
    "from keras.datasets import imdb\n",
    "\n",
    "(train_data,train_labels),(test_data,test_labels)=imdb.load_data(num_words=10000)\n",
    "\n",
    "def vectorize_sequences(sequences,dimension=10000):\n",
    "    # 创建一个形状为(len(sequences),dimension)的零矩阵\n",
    "    results=np.zeros((len(sequences),dimension))\n",
    "    for i,sequence in enumerate(sequences):\n",
    "        # 将result[i]的指定索引设为1\n",
    "        results[i,sequence]=1.\n",
    "    return results\n",
    "\n",
    "# 将训练数据向量化\n",
    "x_train=vectorize_sequences(train_data)\n",
    "# 将测试数据向量化\n",
    "x_test=vectorize_sequences(test_data)\n",
    "\n",
    "y_train=np.asarray(train_labels).astype('float32')\n",
    "y_test=np.asarray(test_labels).astype('float32')\n",
    "\n",
    "model=models.Sequential()\n",
    "model.add(layers.Dense(64,activation='tanh',input_shape=(10000,)))\n",
    "model.add(layers.Dense(32,activation='tanh'))\n",
    "model.add(layers.Dense(16,activation='tanh'))\n",
    "model.add(layers.Dense(1,activation='sigmoid'))\n",
    "\n",
    "model.compile(optimizer='rmsprop',loss='mse',metrics=['acc'])\n",
    "model.fit(x_train,y_train,epochs=4,batch_size=512)\n",
    "results=model.evaluate(x_test,y_test)"
   ]
  },
  {
   "cell_type": "code",
   "execution_count": 60,
   "id": "504e08b3",
   "metadata": {
    "ExecuteTime": {
     "end_time": "2022-09-20T15:30:19.666873Z",
     "start_time": "2022-09-20T15:30:19.652853Z"
    }
   },
   "outputs": [
    {
     "data": {
      "text/plain": [
       "[0.09721548855304718, 0.8717600107192993]"
      ]
     },
     "execution_count": 60,
     "metadata": {},
     "output_type": "execute_result"
    }
   ],
   "source": [
    "results"
   ]
  },
  {
   "cell_type": "code",
   "execution_count": null,
   "id": "aa2ec3b4",
   "metadata": {},
   "outputs": [],
   "source": []
  }
 ],
 "metadata": {
  "hide_input": false,
  "kernelspec": {
   "display_name": "Python 3 (ipykernel)",
   "language": "python",
   "name": "python3"
  },
  "language_info": {
   "codemirror_mode": {
    "name": "ipython",
    "version": 3
   },
   "file_extension": ".py",
   "mimetype": "text/x-python",
   "name": "python",
   "nbconvert_exporter": "python",
   "pygments_lexer": "ipython3",
   "version": "3.9.12"
  },
  "nbTranslate": {
   "displayLangs": [
    "*"
   ],
   "hotkey": "alt-t",
   "langInMainMenu": true,
   "sourceLang": "en",
   "targetLang": "fr",
   "useGoogleTranslate": true
  },
  "toc": {
   "base_numbering": 1,
   "nav_menu": {},
   "number_sections": true,
   "sideBar": true,
   "skip_h1_title": false,
   "title_cell": "Table of Contents",
   "title_sidebar": "Contents",
   "toc_cell": false,
   "toc_position": {},
   "toc_section_display": true,
   "toc_window_display": false
  },
  "varInspector": {
   "cols": {
    "lenName": 16,
    "lenType": 16,
    "lenVar": 40
   },
   "kernels_config": {
    "python": {
     "delete_cmd_postfix": "",
     "delete_cmd_prefix": "del ",
     "library": "var_list.py",
     "varRefreshCmd": "print(var_dic_list())"
    },
    "r": {
     "delete_cmd_postfix": ") ",
     "delete_cmd_prefix": "rm(",
     "library": "var_list.r",
     "varRefreshCmd": "cat(var_dic_list()) "
    }
   },
   "types_to_exclude": [
    "module",
    "function",
    "builtin_function_or_method",
    "instance",
    "_Feature"
   ],
   "window_display": false
  }
 },
 "nbformat": 4,
 "nbformat_minor": 5
}
