{
 "cells": [
  {
   "cell_type": "markdown",
   "id": "d5472036",
   "metadata": {},
   "source": [
    "# 神经网络剖析"
   ]
  },
  {
   "cell_type": "markdown",
   "id": "fa54be39",
   "metadata": {},
   "source": [
    "## 层：深度学习的基础组件"
   ]
  },
  {
   "cell_type": "code",
   "execution_count": 1,
   "id": "94bd9c5d",
   "metadata": {
    "ExecuteTime": {
     "end_time": "2022-09-22T05:45:15.513394Z",
     "start_time": "2022-09-22T05:45:10.765800Z"
    },
    "run_control": {
     "marked": true
    }
   },
   "outputs": [],
   "source": [
    "from keras import layers\n",
    "\n",
    "# 有32个输出单元的密集层\n",
    "layers=layers.Dense(32,input_shape=(784,))"
   ]
  },
  {
   "cell_type": "code",
   "execution_count": 2,
   "id": "0626036d",
   "metadata": {
    "ExecuteTime": {
     "end_time": "2022-09-22T05:45:17.284662Z",
     "start_time": "2022-09-22T05:45:15.515395Z"
    }
   },
   "outputs": [],
   "source": [
    "from keras import models\n",
    "from keras import layers\n",
    "\n",
    "model=models.Sequential()\n",
    "model.add(layers.Dense(32,input_shape=(784,)))\n",
    "model.add(layers.Dense(32))"
   ]
  },
  {
   "cell_type": "markdown",
   "id": "a0f1df15",
   "metadata": {},
   "source": [
    "## 模型：层构成的网络"
   ]
  },
  {
   "cell_type": "markdown",
   "id": "ee70001a",
   "metadata": {},
   "source": [
    "## 损失函数与优化器：配置学习过程的关键"
   ]
  },
  {
   "cell_type": "markdown",
   "id": "090277bf",
   "metadata": {},
   "source": [
    "# Keras简介"
   ]
  },
  {
   "cell_type": "markdown",
   "id": "e6502fa4",
   "metadata": {
    "ExecuteTime": {
     "end_time": "2022-09-17T15:42:14.963801Z",
     "start_time": "2022-09-17T15:42:14.952802Z"
    }
   },
   "source": [
    "## Keras、TensorFlow、Theano和CNTK"
   ]
  },
  {
   "cell_type": "markdown",
   "id": "01a19583",
   "metadata": {},
   "source": [
    "## 使用Keras开发：概述"
   ]
  },
  {
   "cell_type": "code",
   "execution_count": 3,
   "id": "efdf91af",
   "metadata": {
    "ExecuteTime": {
     "end_time": "2022-09-22T05:45:17.316634Z",
     "start_time": "2022-09-22T05:45:17.287658Z"
    }
   },
   "outputs": [],
   "source": [
    "from keras import models\n",
    "from keras import layers\n",
    "\n",
    "model=models.Sequential()\n",
    "model.add(layers.Dense(32,activation='relu',input_shape=(784,)))\n",
    "model.add(layers.Dense(10,activation='softmax'))"
   ]
  },
  {
   "cell_type": "code",
   "execution_count": 4,
   "id": "1849affd",
   "metadata": {
    "ExecuteTime": {
     "end_time": "2022-09-22T05:45:17.347624Z",
     "start_time": "2022-09-22T05:45:17.318648Z"
    }
   },
   "outputs": [],
   "source": [
    "input_tensor=layers.Input(shape=(784,))\n",
    "x=layers.Dense(32,activation='relu')(input_tensor)\n",
    "output_tensor=layers.Dense(10,activation='softmax')(x)\n",
    "\n",
    "model=models.Model(inputs=input_tensor,outputs=output_tensor)"
   ]
  },
  {
   "cell_type": "code",
   "execution_count": 5,
   "id": "0392c4fd",
   "metadata": {
    "ExecuteTime": {
     "end_time": "2022-09-22T05:45:17.363646Z",
     "start_time": "2022-09-22T05:45:17.349629Z"
    }
   },
   "outputs": [],
   "source": [
    "from keras import optimizers\n",
    "\n",
    "model.compile(optimizer=optimizers.RMSprop(learning_rate=0.01),\n",
    "             loss='mse',\n",
    "             metrics=['accuracy'])"
   ]
  },
  {
   "cell_type": "code",
   "execution_count": 6,
   "id": "2589fcd7",
   "metadata": {
    "ExecuteTime": {
     "end_time": "2022-09-22T05:45:17.379609Z",
     "start_time": "2022-09-22T05:45:17.364648Z"
    }
   },
   "outputs": [],
   "source": [
    "# model.fit(input_tensor,target_tensor,batch_size=128,epochs=10)"
   ]
  },
  {
   "cell_type": "markdown",
   "id": "18eeabee",
   "metadata": {},
   "source": [
    "# 建立深度学习工作站"
   ]
  },
  {
   "cell_type": "markdown",
   "id": "9ee92ad1",
   "metadata": {},
   "source": [
    "## Jupyter笔记本：运行深度学习实验的首选方法"
   ]
  },
  {
   "cell_type": "markdown",
   "id": "26206efc",
   "metadata": {},
   "source": [
    "## 运行Keras：两种选择"
   ]
  },
  {
   "cell_type": "markdown",
   "id": "beb091ae",
   "metadata": {
    "ExecuteTime": {
     "end_time": "2022-09-20T02:41:48.485615Z",
     "start_time": "2022-09-20T02:41:48.480609Z"
    }
   },
   "source": [
    "## 在云端运行深度学习任务：优点和缺点"
   ]
  },
  {
   "cell_type": "markdown",
   "id": "73eb9e71",
   "metadata": {},
   "source": [
    "## 深度学习的最佳GPU"
   ]
  },
  {
   "cell_type": "markdown",
   "id": "04c046fb",
   "metadata": {},
   "source": [
    "# 电影评论分类：二分类问题"
   ]
  },
  {
   "cell_type": "markdown",
   "id": "acbc34bf",
   "metadata": {},
   "source": [
    "## IMBD数据集"
   ]
  },
  {
   "cell_type": "code",
   "execution_count": 7,
   "id": "4a96a0f4",
   "metadata": {
    "ExecuteTime": {
     "end_time": "2022-09-22T05:45:17.459243Z",
     "start_time": "2022-09-22T05:45:17.381599Z"
    }
   },
   "outputs": [],
   "source": [
    "from keras.datasets import imdb"
   ]
  },
  {
   "cell_type": "code",
   "execution_count": 8,
   "id": "58422741",
   "metadata": {
    "ExecuteTime": {
     "end_time": "2022-09-22T05:45:20.386491Z",
     "start_time": "2022-09-22T05:45:17.461244Z"
    }
   },
   "outputs": [],
   "source": [
    "(train_data,train_labels),(test_data,test_labels)=imdb.load_data(num_words=10000)"
   ]
  },
  {
   "cell_type": "code",
   "execution_count": 9,
   "id": "231c0061",
   "metadata": {
    "ExecuteTime": {
     "end_time": "2022-09-22T05:45:20.402499Z",
     "start_time": "2022-09-22T05:45:20.387491Z"
    },
    "scrolled": true
   },
   "outputs": [
    {
     "data": {
      "text/plain": [
       "[1,\n",
       " 14,\n",
       " 22,\n",
       " 16,\n",
       " 43,\n",
       " 530,\n",
       " 973,\n",
       " 1622,\n",
       " 1385,\n",
       " 65,\n",
       " 458,\n",
       " 4468,\n",
       " 66,\n",
       " 3941,\n",
       " 4,\n",
       " 173,\n",
       " 36,\n",
       " 256,\n",
       " 5,\n",
       " 25,\n",
       " 100,\n",
       " 43,\n",
       " 838,\n",
       " 112,\n",
       " 50,\n",
       " 670,\n",
       " 2,\n",
       " 9,\n",
       " 35,\n",
       " 480,\n",
       " 284,\n",
       " 5,\n",
       " 150,\n",
       " 4,\n",
       " 172,\n",
       " 112,\n",
       " 167,\n",
       " 2,\n",
       " 336,\n",
       " 385,\n",
       " 39,\n",
       " 4,\n",
       " 172,\n",
       " 4536,\n",
       " 1111,\n",
       " 17,\n",
       " 546,\n",
       " 38,\n",
       " 13,\n",
       " 447,\n",
       " 4,\n",
       " 192,\n",
       " 50,\n",
       " 16,\n",
       " 6,\n",
       " 147,\n",
       " 2025,\n",
       " 19,\n",
       " 14,\n",
       " 22,\n",
       " 4,\n",
       " 1920,\n",
       " 4613,\n",
       " 469,\n",
       " 4,\n",
       " 22,\n",
       " 71,\n",
       " 87,\n",
       " 12,\n",
       " 16,\n",
       " 43,\n",
       " 530,\n",
       " 38,\n",
       " 76,\n",
       " 15,\n",
       " 13,\n",
       " 1247,\n",
       " 4,\n",
       " 22,\n",
       " 17,\n",
       " 515,\n",
       " 17,\n",
       " 12,\n",
       " 16,\n",
       " 626,\n",
       " 18,\n",
       " 2,\n",
       " 5,\n",
       " 62,\n",
       " 386,\n",
       " 12,\n",
       " 8,\n",
       " 316,\n",
       " 8,\n",
       " 106,\n",
       " 5,\n",
       " 4,\n",
       " 2223,\n",
       " 5244,\n",
       " 16,\n",
       " 480,\n",
       " 66,\n",
       " 3785,\n",
       " 33,\n",
       " 4,\n",
       " 130,\n",
       " 12,\n",
       " 16,\n",
       " 38,\n",
       " 619,\n",
       " 5,\n",
       " 25,\n",
       " 124,\n",
       " 51,\n",
       " 36,\n",
       " 135,\n",
       " 48,\n",
       " 25,\n",
       " 1415,\n",
       " 33,\n",
       " 6,\n",
       " 22,\n",
       " 12,\n",
       " 215,\n",
       " 28,\n",
       " 77,\n",
       " 52,\n",
       " 5,\n",
       " 14,\n",
       " 407,\n",
       " 16,\n",
       " 82,\n",
       " 2,\n",
       " 8,\n",
       " 4,\n",
       " 107,\n",
       " 117,\n",
       " 5952,\n",
       " 15,\n",
       " 256,\n",
       " 4,\n",
       " 2,\n",
       " 7,\n",
       " 3766,\n",
       " 5,\n",
       " 723,\n",
       " 36,\n",
       " 71,\n",
       " 43,\n",
       " 530,\n",
       " 476,\n",
       " 26,\n",
       " 400,\n",
       " 317,\n",
       " 46,\n",
       " 7,\n",
       " 4,\n",
       " 2,\n",
       " 1029,\n",
       " 13,\n",
       " 104,\n",
       " 88,\n",
       " 4,\n",
       " 381,\n",
       " 15,\n",
       " 297,\n",
       " 98,\n",
       " 32,\n",
       " 2071,\n",
       " 56,\n",
       " 26,\n",
       " 141,\n",
       " 6,\n",
       " 194,\n",
       " 7486,\n",
       " 18,\n",
       " 4,\n",
       " 226,\n",
       " 22,\n",
       " 21,\n",
       " 134,\n",
       " 476,\n",
       " 26,\n",
       " 480,\n",
       " 5,\n",
       " 144,\n",
       " 30,\n",
       " 5535,\n",
       " 18,\n",
       " 51,\n",
       " 36,\n",
       " 28,\n",
       " 224,\n",
       " 92,\n",
       " 25,\n",
       " 104,\n",
       " 4,\n",
       " 226,\n",
       " 65,\n",
       " 16,\n",
       " 38,\n",
       " 1334,\n",
       " 88,\n",
       " 12,\n",
       " 16,\n",
       " 283,\n",
       " 5,\n",
       " 16,\n",
       " 4472,\n",
       " 113,\n",
       " 103,\n",
       " 32,\n",
       " 15,\n",
       " 16,\n",
       " 5345,\n",
       " 19,\n",
       " 178,\n",
       " 32]"
      ]
     },
     "execution_count": 9,
     "metadata": {},
     "output_type": "execute_result"
    }
   ],
   "source": [
    "train_data[0]"
   ]
  },
  {
   "cell_type": "code",
   "execution_count": 10,
   "id": "dbd39706",
   "metadata": {
    "ExecuteTime": {
     "end_time": "2022-09-22T05:45:20.418481Z",
     "start_time": "2022-09-22T05:45:20.403487Z"
    }
   },
   "outputs": [
    {
     "data": {
      "text/plain": [
       "1"
      ]
     },
     "execution_count": 10,
     "metadata": {},
     "output_type": "execute_result"
    }
   ],
   "source": [
    "train_labels[0]"
   ]
  },
  {
   "cell_type": "code",
   "execution_count": 11,
   "id": "f5ac9a92",
   "metadata": {
    "ExecuteTime": {
     "end_time": "2022-09-22T05:45:20.482480Z",
     "start_time": "2022-09-22T05:45:20.420497Z"
    }
   },
   "outputs": [
    {
     "data": {
      "text/plain": [
       "9999"
      ]
     },
     "execution_count": 11,
     "metadata": {},
     "output_type": "execute_result"
    }
   ],
   "source": [
    "max([max(sequence) for sequence in train_data])"
   ]
  },
  {
   "cell_type": "code",
   "execution_count": 12,
   "id": "6d6fdef0",
   "metadata": {
    "ExecuteTime": {
     "end_time": "2022-09-22T05:45:20.578492Z",
     "start_time": "2022-09-22T05:45:20.483489Z"
    }
   },
   "outputs": [
    {
     "data": {
      "text/plain": [
       "\"? this film was just brilliant casting location scenery story direction everyone's really suited the part they played and you could just imagine being there robert ? is an amazing actor and now the same being director ? father came from the same scottish island as myself so i loved the fact there was a real connection with this film the witty remarks throughout the film were great it was just brilliant so much that i bought the film as soon as it was released for ? and would recommend it to everyone to watch and the fly fishing was amazing really cried at the end it was so sad and you know what they say if you cry at a film it must have been good and this definitely was also ? to the two little boy's that played the ? of norman and paul they were just brilliant children are often left out of the ? list i think because the stars that play them all grown up are such a big profile for the whole film but these children are amazing and should be praised for what they have done don't you think the whole story was so lovely because it was true and was someone's life after all that was shared with us all\""
      ]
     },
     "execution_count": 12,
     "metadata": {},
     "output_type": "execute_result"
    }
   ],
   "source": [
    "# word_index是一个将单词映射为整数索引的字典\n",
    "word_index=imdb.get_word_index()\n",
    "# 键值颠倒，将整数索引映射为单词\n",
    "reverse_word_index=dict([(value,key) for (key,value) in word_index.items()])\n",
    "# 将评论解码。注意，索引减去了3，因为0、1、2是为“padding”（填充），“start of sequence”（序列开始）,“unknown”（未知值）分别保留的索引\n",
    "decoded_review=' '.join([reverse_word_index.get(i-3,'?') for i in train_data[0]])\n",
    "decoded_review\n",
    "\n",
    "# 帮助代码\n",
    "# c='abcghidefjkl'\n",
    "# new_c = list(c)\n",
    "# cc =' '.join(new_c)\n",
    "# print('2.通过空分隔符把new_c列表里面元素进行分隔,赋值给到cc:',cc)\n",
    "\n",
    "# test_dict=dict({'one':1,'two':2})\n",
    "# print(test_dict.get(-1))\n",
    "# print(test_dict.get(-1,'?')) # ''?'用与填充该索引值\n",
    "# print(test_dict.get(-2,'?'))\n",
    "\n",
    "# 测试i-3的作用\n",
    "# test_decode_review=' '.join([reverse_word_index.get(i-3,'?') for i in train_data[0]])\n",
    "# test_decode_review"
   ]
  },
  {
   "cell_type": "markdown",
   "id": "37695b87",
   "metadata": {},
   "source": [
    "## 准备数据"
   ]
  },
  {
   "cell_type": "code",
   "execution_count": 13,
   "id": "183443bb",
   "metadata": {
    "ExecuteTime": {
     "end_time": "2022-09-22T05:45:22.149858Z",
     "start_time": "2022-09-22T05:45:20.580482Z"
    }
   },
   "outputs": [],
   "source": [
    "import numpy as np\n",
    "\n",
    "def vectorize_sequences(sequences,dimension=10000):\n",
    "    # 创建一个形状为(len(sequences),dimension)的零矩阵\n",
    "    results=np.zeros((len(sequences),dimension))\n",
    "    for i,sequence in enumerate(sequences):\n",
    "        # 将result[i]的指定索引设为1\n",
    "        results[i,sequence]=1.\n",
    "    return results\n",
    "\n",
    "# 将训练数据向量化\n",
    "x_train=vectorize_sequences(train_data)\n",
    "# 将测试数据向量化\n",
    "x_test=vectorize_sequences(test_data)\n",
    "\n",
    "# 帮助代码\n",
    "# test=[[1,3],[0,3],[2,3],[1]]\n",
    "# test_zeros=np.zeros((4,4))\n",
    "# for i,sequence in enumerate(test):\n",
    "#     test_zeros[i,sequence]=1.\n",
    "# test_zeros"
   ]
  },
  {
   "cell_type": "code",
   "execution_count": 14,
   "id": "c439ff31",
   "metadata": {
    "ExecuteTime": {
     "end_time": "2022-09-22T05:45:22.165866Z",
     "start_time": "2022-09-22T05:45:22.151857Z"
    }
   },
   "outputs": [
    {
     "data": {
      "text/plain": [
       "array([0., 1., 1., ..., 0., 0., 0.])"
      ]
     },
     "execution_count": 14,
     "metadata": {},
     "output_type": "execute_result"
    }
   ],
   "source": [
    "x_train[0]"
   ]
  },
  {
   "cell_type": "code",
   "execution_count": 15,
   "id": "2e8a26d3",
   "metadata": {
    "ExecuteTime": {
     "end_time": "2022-09-22T05:45:22.181874Z",
     "start_time": "2022-09-22T05:45:22.167861Z"
    }
   },
   "outputs": [],
   "source": [
    "y_train=np.asarray(train_labels).astype('float32')\n",
    "y_test=np.asarray(test_labels).astype('float32')"
   ]
  },
  {
   "cell_type": "markdown",
   "id": "a2eb10b1",
   "metadata": {},
   "source": [
    "## 构建网路"
   ]
  },
  {
   "cell_type": "code",
   "execution_count": 16,
   "id": "b09198c2",
   "metadata": {
    "ExecuteTime": {
     "end_time": "2022-09-22T05:45:22.227875Z",
     "start_time": "2022-09-22T05:45:22.182891Z"
    }
   },
   "outputs": [],
   "source": [
    "from keras import models\n",
    "from keras import layers\n",
    "\n",
    "model=models.Sequential()\n",
    "model.add(layers.Dense(16,activation='relu',input_shape=(10000,)))\n",
    "model.add(layers.Dense(16,activation='relu'))\n",
    "model.add(layers.Dense(1,activation='sigmoid'))"
   ]
  },
  {
   "cell_type": "code",
   "execution_count": 17,
   "id": "abe61dba",
   "metadata": {
    "ExecuteTime": {
     "end_time": "2022-09-22T05:45:22.243904Z",
     "start_time": "2022-09-22T05:45:22.228865Z"
    }
   },
   "outputs": [],
   "source": [
    "model.compile(optimizer='rmsprop',loss='binary_crossentropy',metrics=['accuracy'])"
   ]
  },
  {
   "cell_type": "code",
   "execution_count": 18,
   "id": "a160eedb",
   "metadata": {
    "ExecuteTime": {
     "end_time": "2022-09-22T05:45:22.260017Z",
     "start_time": "2022-09-22T05:45:22.245886Z"
    }
   },
   "outputs": [],
   "source": [
    "from keras import optimizers\n",
    "\n",
    "model.compile(optimizer=optimizers.RMSprop(learning_rate=0.001),\n",
    "             loss='binary_crossentropy',\n",
    "             metrics=['accuracy'])"
   ]
  },
  {
   "cell_type": "code",
   "execution_count": 19,
   "id": "ab680d67",
   "metadata": {
    "ExecuteTime": {
     "end_time": "2022-09-22T05:45:22.276014Z",
     "start_time": "2022-09-22T05:45:22.262996Z"
    }
   },
   "outputs": [],
   "source": [
    "from keras import losses\n",
    "from keras import metrics\n",
    "\n",
    "model.compile(optimizer=optimizers.RMSprop(learning_rate=0.001),\n",
    "             loss=losses.binary_crossentropy,\n",
    "             metrics=[metrics.binary_accuracy])"
   ]
  },
  {
   "cell_type": "markdown",
   "id": "31804f67",
   "metadata": {
    "ExecuteTime": {
     "end_time": "2022-09-20T14:07:51.391841Z",
     "start_time": "2022-09-20T14:07:51.383829Z"
    }
   },
   "source": [
    "## 验证你的方法"
   ]
  },
  {
   "cell_type": "code",
   "execution_count": 20,
   "id": "8d7eb834",
   "metadata": {
    "ExecuteTime": {
     "end_time": "2022-09-22T05:45:22.292008Z",
     "start_time": "2022-09-22T05:45:22.278009Z"
    }
   },
   "outputs": [],
   "source": [
    "x_val=x_train[:10000]\n",
    "partial_x_train=x_train[10000:]\n",
    "\n",
    "y_val=y_train[:10000]\n",
    "partial_y_train=y_train[10000:]"
   ]
  },
  {
   "cell_type": "code",
   "execution_count": 21,
   "id": "076c603e",
   "metadata": {
    "ExecuteTime": {
     "end_time": "2022-09-22T05:45:37.734000Z",
     "start_time": "2022-09-22T05:45:22.294001Z"
    }
   },
   "outputs": [
    {
     "name": "stdout",
     "output_type": "stream",
     "text": [
      "Epoch 1/20\n",
      "30/30 [==============================] - 4s 61ms/step - loss: 0.5169 - acc: 0.7943 - val_loss: 0.3955 - val_acc: 0.8664\n",
      "Epoch 2/20\n",
      "30/30 [==============================] - 1s 20ms/step - loss: 0.3156 - acc: 0.8969 - val_loss: 0.3112 - val_acc: 0.8876\n",
      "Epoch 3/20\n",
      "30/30 [==============================] - 1s 20ms/step - loss: 0.2313 - acc: 0.9251 - val_loss: 0.2817 - val_acc: 0.8927\n",
      "Epoch 4/20\n",
      "30/30 [==============================] - 1s 20ms/step - loss: 0.1809 - acc: 0.9421 - val_loss: 0.2742 - val_acc: 0.8917\n",
      "Epoch 5/20\n",
      "30/30 [==============================] - 1s 19ms/step - loss: 0.1477 - acc: 0.9523 - val_loss: 0.3062 - val_acc: 0.8758\n",
      "Epoch 6/20\n",
      "30/30 [==============================] - 1s 19ms/step - loss: 0.1225 - acc: 0.9629 - val_loss: 0.3086 - val_acc: 0.8827\n",
      "Epoch 7/20\n",
      "30/30 [==============================] - 1s 20ms/step - loss: 0.0987 - acc: 0.9724 - val_loss: 0.3042 - val_acc: 0.8848\n",
      "Epoch 8/20\n",
      "30/30 [==============================] - 1s 20ms/step - loss: 0.0861 - acc: 0.9738 - val_loss: 0.3270 - val_acc: 0.8803\n",
      "Epoch 9/20\n",
      "11/30 [==========>...................] - ETA: 0s - loss: 0.0637 - acc: 0.983"
     ]
    },
    {
     "data": {
      "text/html": [
       "<b>limit_output extension: Maximum message size of 10000 exceeded with 10138 characters</b>"
      ]
     },
     "metadata": {},
     "output_type": "display_data"
    }
   ],
   "source": [
    "model.compile(optimizer='rmsprop',loss='binary_crossentropy',metrics=['acc'])\n",
    "\n",
    "history=model.fit(partial_x_train,\n",
    "                 partial_y_train,\n",
    "                 epochs=20,\n",
    "                 batch_size=512,\n",
    "                 validation_data=(x_val,y_val))"
   ]
  },
  {
   "cell_type": "code",
   "execution_count": 22,
   "id": "cfa5f956",
   "metadata": {
    "ExecuteTime": {
     "end_time": "2022-09-22T05:45:37.749988Z",
     "start_time": "2022-09-22T05:45:37.735991Z"
    }
   },
   "outputs": [
    {
     "data": {
      "text/plain": [
       "dict_keys(['loss', 'acc', 'val_loss', 'val_acc'])"
      ]
     },
     "execution_count": 22,
     "metadata": {},
     "output_type": "execute_result"
    }
   ],
   "source": [
    "history_dict=history.history\n",
    "history_dict.keys()"
   ]
  },
  {
   "cell_type": "code",
   "execution_count": 23,
   "id": "610de984",
   "metadata": {
    "ExecuteTime": {
     "end_time": "2022-09-22T05:45:38.317336Z",
     "start_time": "2022-09-22T05:45:37.754006Z"
    }
   },
   "outputs": [
    {
     "data": {
      "image/png": "[encoded data removed]",
      "text/plain": [
       "<Figure size 432x288 with 1 Axes>"
      ]
     },
     "metadata": {
      "needs_background": "light"
     },
     "output_type": "display_data"
    }
   ],
   "source": [
    "import matplotlib.pyplot as plt\n",
    "\n",
    "history_dict=history.history\n",
    "loss_values=history_dict['loss']\n",
    "val_loss_values=history_dict['val_loss']\n",
    "\n",
    "epochs=range(1,len(loss_values)+1)\n",
    "\n",
    "# 'bo'表示蓝色圆点\n",
    "plt.plot(epochs,loss_values,'bo',label='Training loss')\n",
    "# 'b'表示蓝色实线\n",
    "plt.plot(epochs,val_loss_values,'b',label='Validation loss')\n",
    "plt.title('Training and validation loss')\n",
    "plt.xlabel('Epochs')\n",
    "plt.ylabel('Loss')\n",
    "plt.legend()\n",
    "\n",
    "plt.show()"
   ]
  },
  {
   "cell_type": "code",
   "execution_count": 24,
   "id": "a4c9b542",
   "metadata": {
    "ExecuteTime": {
     "end_time": "2022-09-22T05:45:38.443325Z",
     "start_time": "2022-09-22T05:45:38.318338Z"
    }
   },
   "outputs": [
    {
     "data": {
      "image/png": "[encoded data removed]",
      "text/plain": [
       "<Figure size 432x288 with 1 Axes>"
      ]
     },
     "metadata": {
      "needs_background": "light"
     },
     "output_type": "display_data"
    }
   ],
   "source": [
    "# 清空图像\n",
    "plt.clf()\n",
    "acc=history_dict['acc']\n",
    "val_acc=history_dict['val_acc']\n",
    "\n",
    "plt.plot(epochs,acc,'bo',label='Training loss')\n",
    "plt.plot(epochs,val_acc,'b',label='Validation loss')\n",
    "plt.title('Training and validation accuracy')\n",
    "plt.xlabel('Epochs')\n",
    "plt.ylabel('Accuracy')\n",
    "plt.legend()\n",
    "\n",
    "plt.show()"
   ]
  },
  {
   "cell_type": "code",
   "execution_count": 25,
   "id": "ca82da91",
   "metadata": {
    "ExecuteTime": {
     "end_time": "2022-09-22T05:45:46.332036Z",
     "start_time": "2022-09-22T05:45:38.445323Z"
    }
   },
   "outputs": [
    {
     "name": "stdout",
     "output_type": "stream",
     "text": [
      "Epoch 1/4\n",
      "49/49 [==============================] - 1s 11ms/step - loss: 0.4398 - acc: 0.8263\n",
      "Epoch 2/4\n",
      "49/49 [==============================] - 1s 11ms/step - loss: 0.2538 - acc: 0.9112\n",
      "Epoch 3/4\n",
      "49/49 [==============================] - 1s 11ms/step - loss: 0.1994 - acc: 0.9290\n",
      "Epoch 4/4\n",
      "49/49 [==============================] - 1s 11ms/step - loss: 0.1665 - acc: 0.9397\n",
      "314/782 [===========>..................] - ETA: 1s - loss: 0.3055 - acc: 0.8787"
     ]
    },
    {
     "data": {
      "text/html": [
       "<b>limit_output extension: Maximum message size of 10000 exceeded with 10159 characters</b>"
      ]
     },
     "metadata": {},
     "output_type": "display_data"
    }
   ],
   "source": [
    "model=models.Sequential()\n",
    "model.add(layers.Dense(16,activation='relu',input_shape=(10000,)))\n",
    "model.add(layers.Dense(16,activation='relu'))\n",
    "model.add(layers.Dense(1,activation='sigmoid'))\n",
    "\n",
    "model.compile(optimizer='rmsprop',loss='binary_crossentropy',metrics=['acc'])\n",
    "\n",
    "model.fit(x_train,y_train,epochs=4,batch_size=512)\n",
    "results=model.evaluate(x_test,y_test)"
   ]
  },
  {
   "cell_type": "code",
   "execution_count": 26,
   "id": "ae82a6df",
   "metadata": {
    "ExecuteTime": {
     "end_time": "2022-09-22T05:45:46.348038Z",
     "start_time": "2022-09-22T05:45:46.334038Z"
    }
   },
   "outputs": [
    {
     "data": {
      "text/plain": [
       "[0.3011723756790161, 0.8817600011825562]"
      ]
     },
     "execution_count": 26,
     "metadata": {},
     "output_type": "execute_result"
    }
   ],
   "source": [
    "results"
   ]
  },
  {
   "cell_type": "markdown",
   "id": "af88eb69",
   "metadata": {},
   "source": [
    "## 使用训练好的网络在新数据上生成预测结果"
   ]
  },
  {
   "cell_type": "code",
   "execution_count": 27,
   "id": "a4495621",
   "metadata": {
    "ExecuteTime": {
     "end_time": "2022-09-22T05:45:50.301404Z",
     "start_time": "2022-09-22T05:45:46.350027Z"
    },
    "scrolled": false
   },
   "outputs": [
    {
     "name": "stdout",
     "output_type": "stream",
     "text": [
      "782/782 [==============================] - 2s 2ms/step\n"
     ]
    },
    {
     "data": {
      "text/plain": [
       "array([[0.2364483 ],\n",
       "       [0.99937457],\n",
       "       [0.9365042 ],\n",
       "       ...,\n",
       "       [0.15233292],\n",
       "       [0.07355566],\n",
       "       [0.73146605]], dtype=float32)"
      ]
     },
     "execution_count": 27,
     "metadata": {},
     "output_type": "execute_result"
    }
   ],
   "source": [
    "model.predict(x_test)"
   ]
  },
  {
   "cell_type": "markdown",
   "id": "e9247ae9",
   "metadata": {},
   "source": [
    "## 进一步实验"
   ]
  },
  {
   "cell_type": "code",
   "execution_count": 28,
   "id": "0d4b157c",
   "metadata": {
    "ExecuteTime": {
     "end_time": "2022-09-22T05:46:04.526014Z",
     "start_time": "2022-09-22T05:45:50.303377Z"
    }
   },
   "outputs": [
    {
     "name": "stdout",
     "output_type": "stream",
     "text": [
      "Epoch 1/4\n",
      "49/49 [==============================] - 1s 11ms/step - loss: 0.1329 - acc: 0.8086\n",
      "Epoch 2/4\n",
      "49/49 [==============================] - 1s 11ms/step - loss: 0.0685 - acc: 0.9095\n",
      "Epoch 3/4\n",
      "49/49 [==============================] - 1s 11ms/step - loss: 0.0526 - acc: 0.9328\n",
      "Epoch 4/4\n",
      "49/49 [==============================] - 1s 11ms/step - loss: 0.0456 - acc: 0.9408\n",
      "309/782 [==========>...................] - ETA: 1s - loss: 0.1043 - acc: 0.864"
     ]
    },
    {
     "data": {
      "text/html": [
       "<b>limit_output extension: Maximum message size of 10000 exceeded with 10004 characters</b>"
      ]
     },
     "metadata": {},
     "output_type": "display_data"
    }
   ],
   "source": [
    "from keras import models\n",
    "from keras import layers\n",
    "import numpy as np\n",
    "from keras.datasets import imdb\n",
    "\n",
    "(train_data,train_labels),(test_data,test_labels)=imdb.load_data(num_words=10000)\n",
    "\n",
    "def vectorize_sequences(sequences,dimension=10000):\n",
    "    # 创建一个形状为(len(sequences),dimension)的零矩阵\n",
    "    results=np.zeros((len(sequences),dimension))\n",
    "    for i,sequence in enumerate(sequences):\n",
    "        # 将result[i]的指定索引设为1\n",
    "        results[i,sequence]=1.\n",
    "    return results\n",
    "\n",
    "# 将训练数据向量化\n",
    "x_train=vectorize_sequences(train_data)\n",
    "# 将测试数据向量化\n",
    "x_test=vectorize_sequences(test_data)\n",
    "\n",
    "y_train=np.asarray(train_labels).astype('float32')\n",
    "y_test=np.asarray(test_labels).astype('float32')\n",
    "\n",
    "model=models.Sequential()\n",
    "model.add(layers.Dense(64,activation='tanh',input_shape=(10000,)))\n",
    "model.add(layers.Dense(32,activation='tanh'))\n",
    "model.add(layers.Dense(16,activation='tanh'))\n",
    "model.add(layers.Dense(1,activation='sigmoid'))\n",
    "\n",
    "model.compile(optimizer='rmsprop',loss='mse',metrics=['acc'])\n",
    "model.fit(x_train,y_train,epochs=4,batch_size=512)\n",
    "results=model.evaluate(x_test,y_test)"
   ]
  },
  {
   "cell_type": "code",
   "execution_count": 29,
   "id": "d198cf00",
   "metadata": {
    "ExecuteTime": {
     "end_time": "2022-09-22T05:46:04.542025Z",
     "start_time": "2022-09-22T05:46:04.528011Z"
    }
   },
   "outputs": [
    {
     "data": {
      "text/plain": [
       "[0.10290373116731644, 0.8661999702453613]"
      ]
     },
     "execution_count": 29,
     "metadata": {},
     "output_type": "execute_result"
    }
   ],
   "source": [
    "results"
   ]
  },
  {
   "cell_type": "markdown",
   "id": "d4064284",
   "metadata": {},
   "source": [
    "## 小结"
   ]
  },
  {
   "cell_type": "markdown",
   "id": "1e3d1a19",
   "metadata": {},
   "source": [
    "# 新闻分类：多分类问题"
   ]
  },
  {
   "cell_type": "markdown",
   "id": "d8707491",
   "metadata": {},
   "source": [
    "## 路透社数据"
   ]
  },
  {
   "cell_type": "code",
   "execution_count": 30,
   "id": "c59114e0",
   "metadata": {
    "ExecuteTime": {
     "end_time": "2022-09-22T05:46:05.113856Z",
     "start_time": "2022-09-22T05:46:04.544009Z"
    }
   },
   "outputs": [],
   "source": [
    "from keras.datasets import reuters\n",
    "\n",
    "(train_data,train_labels),(test_data,test_labels)=reuters.load_data(num_words=10000)"
   ]
  },
  {
   "cell_type": "code",
   "execution_count": 31,
   "id": "36c4d29d",
   "metadata": {
    "ExecuteTime": {
     "end_time": "2022-09-22T05:46:05.129886Z",
     "start_time": "2022-09-22T05:46:05.115837Z"
    }
   },
   "outputs": [
    {
     "data": {
      "text/plain": [
       "8982"
      ]
     },
     "execution_count": 31,
     "metadata": {},
     "output_type": "execute_result"
    }
   ],
   "source": [
    "len(train_data)"
   ]
  },
  {
   "cell_type": "code",
   "execution_count": 32,
   "id": "168e931f",
   "metadata": {
    "ExecuteTime": {
     "end_time": "2022-09-22T05:46:05.145875Z",
     "start_time": "2022-09-22T05:46:05.131866Z"
    }
   },
   "outputs": [
    {
     "data": {
      "text/plain": [
       "2246"
      ]
     },
     "execution_count": 32,
     "metadata": {},
     "output_type": "execute_result"
    }
   ],
   "source": [
    "len(test_data)"
   ]
  },
  {
   "cell_type": "code",
   "execution_count": 33,
   "id": "c87167b4",
   "metadata": {
    "ExecuteTime": {
     "end_time": "2022-09-22T05:46:05.161902Z",
     "start_time": "2022-09-22T05:46:05.148870Z"
    },
    "scrolled": true
   },
   "outputs": [
    {
     "data": {
      "text/plain": [
       "[1,\n",
       " 245,\n",
       " 273,\n",
       " 207,\n",
       " 156,\n",
       " 53,\n",
       " 74,\n",
       " 160,\n",
       " 26,\n",
       " 14,\n",
       " 46,\n",
       " 296,\n",
       " 26,\n",
       " 39,\n",
       " 74,\n",
       " 2979,\n",
       " 3554,\n",
       " 14,\n",
       " 46,\n",
       " 4689,\n",
       " 4329,\n",
       " 86,\n",
       " 61,\n",
       " 3499,\n",
       " 4795,\n",
       " 14,\n",
       " 61,\n",
       " 451,\n",
       " 4329,\n",
       " 17,\n",
       " 12]"
      ]
     },
     "execution_count": 33,
     "metadata": {},
     "output_type": "execute_result"
    }
   ],
   "source": [
    "train_data[10]"
   ]
  },
  {
   "cell_type": "code",
   "execution_count": 34,
   "id": "1fbb4ee7",
   "metadata": {
    "ExecuteTime": {
     "end_time": "2022-09-22T05:46:05.224895Z",
     "start_time": "2022-09-22T05:46:05.164885Z"
    }
   },
   "outputs": [
    {
     "data": {
      "text/plain": [
       "'? ? ? said as a result of its december acquisition of space co it expects earnings per share in 1987 of 1 15 to 1 30 dlrs per share up from 70 cts in 1986 the company said pretax net should rise to nine to 10 mln dlrs from six mln dlrs in 1986 and rental operation revenues to 19 to 22 mln dlrs from 12 5 mln dlrs it said cash flow per share this year should be 2 50 to three dlrs reuter 3'"
      ]
     },
     "execution_count": 34,
     "metadata": {},
     "output_type": "execute_result"
    }
   ],
   "source": [
    "word_index=reuters.get_word_index()\n",
    "reverse_word_index=dict([(value,key) for (key,value) in word_index.items()])\n",
    "# 注意，索引减去了3，因为0、1、2是为“padding”（填充），“start of ”（序列开始），“unknown”（未知词）分别保留的索引\n",
    "decoded_newsize=' '.join([reverse_word_index.get(i-3,'?') for i in train_data[0]])\n",
    "decoded_newsize"
   ]
  },
  {
   "cell_type": "code",
   "execution_count": 35,
   "id": "ffa2a9ba",
   "metadata": {
    "ExecuteTime": {
     "end_time": "2022-09-22T05:46:05.240877Z",
     "start_time": "2022-09-22T05:46:05.227869Z"
    }
   },
   "outputs": [
    {
     "data": {
      "text/plain": [
       "3"
      ]
     },
     "execution_count": 35,
     "metadata": {},
     "output_type": "execute_result"
    }
   ],
   "source": [
    "train_labels[10]"
   ]
  },
  {
   "cell_type": "markdown",
   "id": "f86b3972",
   "metadata": {},
   "source": [
    "## 准备数据"
   ]
  },
  {
   "cell_type": "code",
   "execution_count": 36,
   "id": "ba567ab3",
   "metadata": {
    "ExecuteTime": {
     "end_time": "2022-09-22T05:46:05.890460Z",
     "start_time": "2022-09-22T05:46:05.242870Z"
    }
   },
   "outputs": [],
   "source": [
    "import numpy as np\n",
    "\n",
    "def vectorize_sequences(sequences,dimension=10000):\n",
    "    results=np.zeros((len(sequences),dimension))\n",
    "    for i,sequence in enumerate(sequences):\n",
    "        results[i,sequence]=1.\n",
    "    return results\n",
    "\n",
    "# 将训练数据向量化\n",
    "x_train=vectorize_sequences(train_data)\n",
    "# 将测试标签向量化\n",
    "x_test=vectorize_sequences(test_data)"
   ]
  },
  {
   "cell_type": "code",
   "execution_count": 37,
   "id": "ebed0b5a",
   "metadata": {
    "ExecuteTime": {
     "end_time": "2022-09-22T05:46:05.906456Z",
     "start_time": "2022-09-22T05:46:05.892453Z"
    }
   },
   "outputs": [],
   "source": [
    "def to_one_hot(labels,dimension=46):\n",
    "    results=np.zeros((len(labels),dimension))\n",
    "    for i,label in enumerate(labels):\n",
    "        results[i,label]=1.\n",
    "    return results\n",
    "\n",
    "# 将训练标签向量化\n",
    "one_hot_train_labels=to_one_hot(train_labels)\n",
    "# 将测试标签向量化\n",
    "one_hot_test_labels=to_one_hot(test_labels)"
   ]
  },
  {
   "cell_type": "code",
   "execution_count": 38,
   "id": "90c56f1b",
   "metadata": {
    "ExecuteTime": {
     "end_time": "2022-09-22T05:46:05.922457Z",
     "start_time": "2022-09-22T05:46:05.908450Z"
    }
   },
   "outputs": [],
   "source": [
    "from keras.utils.np_utils import to_categorical\n",
    "\n",
    "one_hot_train_labels=to_categorical(train_labels)\n",
    "one_hot_test_labels=to_categorical(test_labels)"
   ]
  },
  {
   "cell_type": "markdown",
   "id": "deefeffe",
   "metadata": {},
   "source": [
    "## 构建网络"
   ]
  },
  {
   "cell_type": "code",
   "execution_count": 39,
   "id": "d8fcb7f2",
   "metadata": {
    "ExecuteTime": {
     "end_time": "2022-09-22T05:46:05.984992Z",
     "start_time": "2022-09-22T05:46:05.924462Z"
    }
   },
   "outputs": [],
   "source": [
    "from keras import models\n",
    "from keras import layers\n",
    "\n",
    "model=models.Sequential()\n",
    "model.add(layers.Dense(64,activation='relu',input_shape=(10000,)))\n",
    "model.add(layers.Dense(64,activation='relu'))\n",
    "model.add(layers.Dense(46,activation='softmax'))"
   ]
  },
  {
   "cell_type": "code",
   "execution_count": 40,
   "id": "7702a67b",
   "metadata": {
    "ExecuteTime": {
     "end_time": "2022-09-22T05:46:06.000912Z",
     "start_time": "2022-09-22T05:46:05.986894Z"
    }
   },
   "outputs": [],
   "source": [
    "model.compile(optimizer='rmsprop',loss='categorical_crossentropy',metrics=['accuracy'])"
   ]
  },
  {
   "cell_type": "markdown",
   "id": "e708cae1",
   "metadata": {},
   "source": [
    "## 验证你的方法"
   ]
  },
  {
   "cell_type": "code",
   "execution_count": 41,
   "id": "b6ab3374",
   "metadata": {
    "ExecuteTime": {
     "end_time": "2022-09-22T05:46:06.016625Z",
     "start_time": "2022-09-22T05:46:06.003912Z"
    }
   },
   "outputs": [],
   "source": [
    "x_val=x_train[:1000]\n",
    "partial_x_train=x_train[1000:]\n",
    "\n",
    "y_val=one_hot_train_labels[:1000]\n",
    "partial_y_train=one_hot_train_labels[1000:]"
   ]
  },
  {
   "cell_type": "code",
   "execution_count": 42,
   "id": "aca31132",
   "metadata": {
    "ExecuteTime": {
     "end_time": "2022-09-22T05:46:11.884600Z",
     "start_time": "2022-09-22T05:46:06.018529Z"
    }
   },
   "outputs": [
    {
     "name": "stdout",
     "output_type": "stream",
     "text": [
      "Epoch 1/20\n",
      "16/16 [==============================] - 1s 31ms/step - loss: 2.5930 - accuracy: 0.4905 - val_loss: 1.7143 - val_accuracy: 0.6390\n",
      "Epoch 2/20\n",
      "16/16 [==============================] - 0s 14ms/step - loss: 1.3930 - accuracy: 0.7078 - val_loss: 1.2839 - val_accuracy: 0.7090\n",
      "Epoch 3/20\n",
      "16/16 [==============================] - 0s 14ms/step - loss: 1.0286 - accuracy: 0.7710 - val_loss: 1.1041 - val_accuracy: 0.7560\n",
      "Epoch 4/20\n",
      "16/16 [==============================] - 0s 14ms/step - loss: 0.8127 - accuracy: 0.8232 - val_loss: 1.0144 - val_accuracy: 0.7800\n",
      "Epoch 5/20\n",
      "16/16 [==============================] - 0s 14ms/step - loss: 0.6416 - accuracy: 0.8654 - val_loss: 0.9405 - val_accuracy: 0.7950\n",
      "Epoch 6/20\n",
      "16/16 [==============================] - 0s 14ms/step - loss: 0.5146 - accuracy: 0.8915 - val_loss: 0.9164 - val_accuracy: 0.8180\n",
      "Epoch 7/20\n",
      "16/16 [==============================] - 0s 14ms/step - loss: 0.4153 - accuracy: 0.9137 - val_loss: 0.8739 - val_accuracy: 0.8230\n",
      "Epoch 8/20\n",
      "16/16 [==============================] - 0s 14ms/step - loss: 0.3380 - accuracy: 0.9287 - val_loss: 0.8737 - val_accuracy: 0.8200\n",
      "Epoch 9/20\n",
      "16/16 [==============================] - 0s 14ms/step - loss: 0.2792 - accuracy: 0.9396 - val_loss: 0.8827 - val_accuracy: 0.8110\n",
      "Epoch 10/20\n",
      "16/16 [==============================] - 0s 14ms/step - loss: 0.2351 - accuracy: 0.9453 - val_loss: 0.8814 - val_accuracy: 0.8230\n",
      "Epoch 11/20\n",
      "16/16 [==============================] - 0s 14ms/step - loss: 0.2023 - accuracy: 0.9494 - val_loss: 0.9032 - val_accuracy: 0.8140\n",
      "Epoch 12/20\n",
      "16/16 [==============================] - 0s 14ms/step - loss: 0.1763 - accuracy: 0.9520 - val_loss: 0.9177 - val_accuracy: 0.8160\n",
      "Epoch 13/20\n",
      " 6/16 [==========>...................] - ETA: 0s - loss: 0.1279 - accuracy: 0.96"
     ]
    },
    {
     "data": {
      "text/html": [
       "<b>limit_output extension: Maximum message size of 10000 exceeded with 10052 characters</b>"
      ]
     },
     "metadata": {},
     "output_type": "display_data"
    }
   ],
   "source": [
    "history=model.fit(partial_x_train,\n",
    "                 partial_y_train,\n",
    "                 epochs=20,\n",
    "                 batch_size=512,\n",
    "                 validation_data=(x_val,y_val))"
   ]
  },
  {
   "cell_type": "code",
   "execution_count": 43,
   "id": "72cea67b",
   "metadata": {
    "ExecuteTime": {
     "end_time": "2022-09-22T05:46:12.313641Z",
     "start_time": "2022-09-22T05:46:11.885599Z"
    }
   },
   "outputs": [
    {
     "data": {
      "image/png": "[encoded data removed]",
      "text/plain": [
       "<Figure size 432x288 with 1 Axes>"
      ]
     },
     "metadata": {
      "needs_background": "light"
     },
     "output_type": "display_data"
    }
   ],
   "source": [
    "import matplotlib.pyplot as plt\n",
    "\n",
    "loss=history.history['loss']\n",
    "val_loss=history.history['val_loss']\n",
    "\n",
    "epochs=range(1,len(loss_values)+1)\n",
    "\n",
    "plt.plot(epochs,loss,'bo',label='Training loss')\n",
    "plt.plot(epochs,val_loss,'b',label='Validation loss')\n",
    "plt.title('Training and validation loss')\n",
    "plt.xlabel('Epochs')\n",
    "plt.ylabel('Loss')\n",
    "plt.legend()\n",
    "\n",
    "plt.show()"
   ]
  },
  {
   "cell_type": "code",
   "execution_count": 44,
   "id": "e766b473",
   "metadata": {
    "ExecuteTime": {
     "end_time": "2022-09-22T05:46:12.441650Z",
     "start_time": "2022-09-22T05:46:12.315652Z"
    }
   },
   "outputs": [
    {
     "data": {
      "image/png": "[encoded data removed]",
      "text/plain": [
       "<Figure size 432x288 with 1 Axes>"
      ]
     },
     "metadata": {
      "needs_background": "light"
     },
     "output_type": "display_data"
    }
   ],
   "source": [
    "# 清空图像\n",
    "plt.clf()\n",
    "\n",
    "acc=history.history['accuracy']\n",
    "val_acc=history.history['val_accuracy']\n",
    "\n",
    "plt.plot(epochs,acc,'bo',label='Training loss')\n",
    "plt.plot(epochs,val_acc,'b',label='Validation loss')\n",
    "plt.title('Training and validation accuracy')\n",
    "plt.xlabel('Epochs')\n",
    "plt.ylabel('Accuracy')\n",
    "plt.legend()\n",
    "\n",
    "plt.show()"
   ]
  },
  {
   "cell_type": "code",
   "execution_count": 45,
   "id": "bde49d01",
   "metadata": {
    "ExecuteTime": {
     "end_time": "2022-09-22T05:46:18.449865Z",
     "start_time": "2022-09-22T05:46:12.443659Z"
    }
   },
   "outputs": [
    {
     "name": "stdout",
     "output_type": "stream",
     "text": [
      "Epoch 1/20\n",
      "16/16 [==============================] - 1s 25ms/step - loss: 2.8245 - accuracy: 0.4987 - val_loss: 1.9081 - val_accuracy: 0.6480\n",
      "Epoch 2/20\n",
      "16/16 [==============================] - 0s 14ms/step - loss: 1.5192 - accuracy: 0.6942 - val_loss: 1.3368 - val_accuracy: 0.7170\n",
      "Epoch 3/20\n",
      "16/16 [==============================] - 0s 14ms/step - loss: 1.0815 - accuracy: 0.7770 - val_loss: 1.1432 - val_accuracy: 0.7430\n",
      "Epoch 4/20\n",
      "16/16 [==============================] - 0s 14ms/step - loss: 0.8419 - accuracy: 0.8242 - val_loss: 1.0410 - val_accuracy: 0.7720\n",
      "Epoch 5/20\n",
      "16/16 [==============================] - 0s 14ms/step - loss: 0.6726 - accuracy: 0.8628 - val_loss: 0.9645 - val_accuracy: 0.7980\n",
      "Epoch 6/20\n",
      "16/16 [==============================] - 0s 14ms/step - loss: 0.5399 - accuracy: 0.8911 - val_loss: 0.9100 - val_accuracy: 0.8000\n",
      "Epoch 7/20\n",
      "16/16 [==============================] - 0s 14ms/step - loss: 0.4353 - accuracy: 0.9131 - val_loss: 0.9037 - val_accuracy: 0.8010\n",
      "Epoch 8/20\n",
      "16/16 [==============================] - 0s 14ms/step - loss: 0.3591 - accuracy: 0.9285 - val_loss: 0.9043 - val_accuracy: 0.8010\n",
      "Epoch 9/20\n",
      "16/16 [==============================] - 0s 14ms/step - loss: 0.2930 - accuracy: 0.9365 - val_loss: 0.8927 - val_accuracy: 0.8130\n",
      "Epoch 10/20\n",
      "16/16 [==============================] - 0s 14ms/step - loss: 0.2496 - accuracy: 0.9449 - val_loss: 0.8876 - val_accuracy: 0.8190\n",
      "Epoch 11/20\n",
      "16/16 [==============================] - 0s 15ms/step - loss: 0.2128 - accuracy: 0.9493 - val_loss: 0.9446 - val_accuracy: 0.8060\n",
      "Epoch 12/20\n",
      "16/16 [==============================] - 0s 14ms/step - loss: 0.1879 - accuracy: 0.9530 - val_loss: 0.9279 - val_accuracy: 0.8150\n",
      "Epoch 13/20\n",
      "11/16 [===================>..........] - ETA: 0s - loss: 0.1416 - accuracy: 0.96"
     ]
    },
    {
     "data": {
      "text/html": [
       "<b>limit_output extension: Maximum message size of 10000 exceeded with 10052 characters</b>"
      ]
     },
     "metadata": {},
     "output_type": "display_data"
    }
   ],
   "source": [
    "model=models.Sequential()\n",
    "model.add(layers.Dense(64,activation='relu',input_shape=(10000,)))\n",
    "model.add(layers.Dense(64,activation='relu'))\n",
    "model.add(layers.Dense(46,activation='softmax'))\n",
    "\n",
    "model.compile(optimizer='rmsprop',loss='categorical_crossentropy',metrics=['accuracy'])\n",
    "\n",
    "history=model.fit(partial_x_train,\n",
    "                 partial_y_train,\n",
    "                 epochs=20,\n",
    "                 batch_size=512,\n",
    "                 validation_data=(x_val,y_val))\n",
    "\n",
    "results=model.evaluate(x_test,one_hot_test_labels)"
   ]
  },
  {
   "cell_type": "code",
   "execution_count": 46,
   "id": "0711045e",
   "metadata": {
    "ExecuteTime": {
     "end_time": "2022-09-22T05:46:18.464855Z",
     "start_time": "2022-09-22T05:46:18.451875Z"
    }
   },
   "outputs": [
    {
     "data": {
      "text/plain": [
       "[1.1797524690628052, 0.7934104800224304]"
      ]
     },
     "execution_count": 46,
     "metadata": {},
     "output_type": "execute_result"
    }
   ],
   "source": [
    "results"
   ]
  },
  {
   "cell_type": "code",
   "execution_count": 47,
   "id": "8f66909e",
   "metadata": {
    "ExecuteTime": {
     "end_time": "2022-09-22T05:46:18.480880Z",
     "start_time": "2022-09-22T05:46:18.466854Z"
    }
   },
   "outputs": [
    {
     "data": {
      "text/plain": [
       "0.18788958147818344"
      ]
     },
     "execution_count": 47,
     "metadata": {},
     "output_type": "execute_result"
    }
   ],
   "source": [
    "import copy\n",
    "test_labels_copy=copy.copy(test_labels)\n",
    "np.random.shuffle(test_labels_copy)\n",
    "hist_array=np.array(test_labels)==np.array(test_labels_copy)\n",
    "float(np.sum(hist_array))/len(test_labels)"
   ]
  },
  {
   "cell_type": "markdown",
   "id": "1da2936a",
   "metadata": {
    "ExecuteTime": {
     "end_time": "2022-09-21T15:14:18.316675Z",
     "start_time": "2022-09-21T15:14:18.305655Z"
    }
   },
   "source": [
    "## 在新数据上生成预测结果"
   ]
  },
  {
   "cell_type": "code",
   "execution_count": 48,
   "id": "985b8535",
   "metadata": {
    "ExecuteTime": {
     "end_time": "2022-09-22T05:46:18.853405Z",
     "start_time": "2022-09-22T05:46:18.482874Z"
    }
   },
   "outputs": [
    {
     "name": "stdout",
     "output_type": "stream",
     "text": [
      "71/71 [==============================] - 0s 2ms/step\n"
     ]
    }
   ],
   "source": [
    "prediction=model.predict(x_test)"
   ]
  },
  {
   "cell_type": "code",
   "execution_count": 49,
   "id": "5350d538",
   "metadata": {
    "ExecuteTime": {
     "end_time": "2022-09-22T05:46:18.869403Z",
     "start_time": "2022-09-22T05:46:18.854405Z"
    }
   },
   "outputs": [
    {
     "data": {
      "text/plain": [
       "(46,)"
      ]
     },
     "execution_count": 49,
     "metadata": {},
     "output_type": "execute_result"
    }
   ],
   "source": [
    "prediction[0].shape"
   ]
  },
  {
   "cell_type": "code",
   "execution_count": 50,
   "id": "ac11941f",
   "metadata": {
    "ExecuteTime": {
     "end_time": "2022-09-22T05:46:18.885415Z",
     "start_time": "2022-09-22T05:46:18.871405Z"
    }
   },
   "outputs": [
    {
     "data": {
      "text/plain": [
       "1.0"
      ]
     },
     "execution_count": 50,
     "metadata": {},
     "output_type": "execute_result"
    }
   ],
   "source": [
    "np.sum(prediction[0])"
   ]
  },
  {
   "cell_type": "code",
   "execution_count": 51,
   "id": "cf9c0f42",
   "metadata": {
    "ExecuteTime": {
     "end_time": "2022-09-22T05:46:18.901411Z",
     "start_time": "2022-09-22T05:46:18.886397Z"
    }
   },
   "outputs": [
    {
     "data": {
      "text/plain": [
       "3"
      ]
     },
     "execution_count": 51,
     "metadata": {},
     "output_type": "execute_result"
    }
   ],
   "source": [
    "np.argmax(prediction[0])"
   ]
  },
  {
   "cell_type": "markdown",
   "id": "c68f21bd",
   "metadata": {
    "ExecuteTime": {
     "end_time": "2022-09-21T15:18:13.725406Z",
     "start_time": "2022-09-21T15:18:13.725406Z"
    }
   },
   "source": [
    "## 处理标签和损失的另一种方法"
   ]
  },
  {
   "cell_type": "code",
   "execution_count": 52,
   "id": "8ccd25cb",
   "metadata": {
    "ExecuteTime": {
     "end_time": "2022-09-22T05:46:18.917389Z",
     "start_time": "2022-09-22T05:46:18.903406Z"
    }
   },
   "outputs": [],
   "source": [
    "y_train=np.array(train_labels)\n",
    "y_test=np.array(test_labels)"
   ]
  },
  {
   "cell_type": "code",
   "execution_count": 53,
   "id": "98b3930c",
   "metadata": {
    "ExecuteTime": {
     "end_time": "2022-09-22T05:46:18.933399Z",
     "start_time": "2022-09-22T05:46:18.919393Z"
    }
   },
   "outputs": [],
   "source": [
    "model.compile(optimizer='rmsprop',loss='sparse_categorical_crossentropy',metrics=['acc'])"
   ]
  },
  {
   "cell_type": "markdown",
   "id": "39107763",
   "metadata": {},
   "source": [
    "## 中间维度足够大的重要性"
   ]
  },
  {
   "cell_type": "code",
   "execution_count": 54,
   "id": "2a73a3e1",
   "metadata": {
    "ExecuteTime": {
     "end_time": "2022-09-22T05:46:25.001238Z",
     "start_time": "2022-09-22T05:46:18.935388Z"
    }
   },
   "outputs": [
    {
     "name": "stdout",
     "output_type": "stream",
     "text": [
      "Epoch 1/20\n",
      "16/16 [==============================] - 1s 24ms/step - loss: 3.2841 - accuracy: 0.2082 - val_loss: 2.8393 - val_accuracy: 0.2210\n",
      "Epoch 2/20\n",
      "16/16 [==============================] - 0s 15ms/step - loss: 2.5907 - accuracy: 0.2258 - val_loss: 2.3748 - val_accuracy: 0.2780\n",
      "Epoch 3/20\n",
      "16/16 [==============================] - 0s 14ms/step - loss: 2.1551 - accuracy: 0.4696 - val_loss: 2.0403 - val_accuracy: 0.5770\n",
      "Epoch 4/20\n",
      "16/16 [==============================] - 0s 14ms/step - loss: 1.8168 - accuracy: 0.6242 - val_loss: 1.7873 - val_accuracy: 0.6280\n",
      "Epoch 5/20\n",
      "16/16 [==============================] - 0s 15ms/step - loss: 1.5641 - accuracy: 0.6668 - val_loss: 1.6110 - val_accuracy: 0.6520\n",
      "Epoch 6/20\n",
      "16/16 [==============================] - 0s 14ms/step - loss: 1.3821 - accuracy: 0.6878 - val_loss: 1.5042 - val_accuracy: 0.6610\n",
      "Epoch 7/20\n",
      "16/16 [==============================] - 0s 20ms/step - loss: 1.2510 - accuracy: 0.7182 - val_loss: 1.4297 - val_accuracy: 0.6940\n",
      "Epoch 8/20\n",
      "16/16 [==============================] - 0s 14ms/step - loss: 1.1497 - accuracy: 0.7412 - val_loss: 1.3909 - val_accuracy: 0.7100\n",
      "Epoch 9/20\n",
      "16/16 [==============================] - 0s 14ms/step - loss: 1.0726 - accuracy: 0.7484 - val_loss: 1.3694 - val_accuracy: 0.7030\n",
      "Epoch 10/20\n",
      "16/16 [==============================] - 0s 14ms/step - loss: 1.0096 - accuracy: 0.7536 - val_loss: 1.3376 - val_accuracy: 0.7000\n",
      "Epoch 11/20\n",
      "16/16 [==============================] - 0s 16ms/step - loss: 0.9568 - accuracy: 0.7611 - val_loss: 1.3329 - val_accuracy: 0.7030\n",
      "Epoch 12/20\n",
      "16/16 [==============================] - 0s 14ms/step - loss: 0.9127 - accuracy: 0.7680 - val_loss: 1.3220 - val_accuracy: 0.7020\n",
      "Epoch 13/20\n",
      " 6/16 [==========>...................] - ETA: 0s - loss: 0.9518 - accuracy: 0.74"
     ]
    },
    {
     "data": {
      "text/html": [
       "<b>limit_output extension: Maximum message size of 10000 exceeded with 10052 characters</b>"
      ]
     },
     "metadata": {},
     "output_type": "display_data"
    }
   ],
   "source": [
    "model=models.Sequential()\n",
    "model.add(layers.Dense(64,activation='relu',input_shape=(10000,)))\n",
    "model.add(layers.Dense(4,activation='relu'))\n",
    "model.add(layers.Dense(46,activation='softmax'))\n",
    "\n",
    "model.compile(optimizer='rmsprop',loss='categorical_crossentropy',metrics=['accuracy'])\n",
    "\n",
    "history=model.fit(partial_x_train,\n",
    "                 partial_y_train,\n",
    "                 epochs=20,\n",
    "                 batch_size=512,\n",
    "                 validation_data=(x_val,y_val))\n",
    "\n",
    "results=model.evaluate(x_test,one_hot_test_labels)"
   ]
  },
  {
   "cell_type": "code",
   "execution_count": 55,
   "id": "3c0bee21",
   "metadata": {
    "ExecuteTime": {
     "end_time": "2022-09-22T05:46:25.017250Z",
     "start_time": "2022-09-22T05:46:25.003239Z"
    }
   },
   "outputs": [
    {
     "data": {
      "text/plain": [
       "[1.4755580425262451, 0.7025823593139648]"
      ]
     },
     "execution_count": 55,
     "metadata": {},
     "output_type": "execute_result"
    }
   ],
   "source": [
    "results"
   ]
  },
  {
   "cell_type": "markdown",
   "id": "9a031a93",
   "metadata": {},
   "source": [
    "## 进一步的实验"
   ]
  },
  {
   "cell_type": "code",
   "execution_count": 56,
   "id": "613c7efa",
   "metadata": {
    "ExecuteTime": {
     "end_time": "2022-09-22T05:46:28.734694Z",
     "start_time": "2022-09-22T05:46:25.020234Z"
    }
   },
   "outputs": [
    {
     "name": "stdout",
     "output_type": "stream",
     "text": [
      "Epoch 1/9\n",
      "16/16 [==============================] - 1s 26ms/step - loss: 2.6301 - accuracy: 0.4952 - val_loss: 1.6625 - val_accuracy: 0.6170\n",
      "Epoch 2/9\n",
      "16/16 [==============================] - 0s 14ms/step - loss: 1.3600 - accuracy: 0.7038 - val_loss: 1.2762 - val_accuracy: 0.7240\n",
      "Epoch 3/9\n",
      "16/16 [==============================] - 0s 14ms/step - loss: 0.9941 - accuracy: 0.7828 - val_loss: 1.1382 - val_accuracy: 0.7650\n",
      "Epoch 4/9\n",
      "16/16 [==============================] - 0s 15ms/step - loss: 0.7838 - accuracy: 0.8211 - val_loss: 1.1318 - val_accuracy: 0.7610\n",
      "Epoch 5/9\n",
      "16/16 [==============================] - 0s 15ms/step - loss: 0.5965 - accuracy: 0.8711 - val_loss: 1.0138 - val_accuracy: 0.7940\n",
      "Epoch 6/9\n",
      "16/16 [==============================] - 0s 16ms/step - loss: 0.4941 - accuracy: 0.8966 - val_loss: 0.9840 - val_accuracy: 0.8130\n",
      "Epoch 7/9\n",
      "16/16 [==============================] - 0s 15ms/step - loss: 0.3739 - accuracy: 0.9240 - val_loss: 1.0234 - val_accuracy: 0.7950\n",
      "Epoch 8/9\n",
      "16/16 [==============================] - 0s 15ms/step - loss: 0.3135 - accuracy: 0.9337 - val_loss: 1.0700 - val_accuracy: 0.7930\n",
      "Epoch 9/9\n",
      "16/16 [==============================] - 0s 14ms/step - loss: 0.2552 - accuracy: 0.9448 - val_loss: 1.0360 - val_accuracy: 0.8130\n",
      "71/71 [==============================] - 0s 4ms/step - loss: 1.1121 - accuracy: 0.7863\n"
     ]
    }
   ],
   "source": [
    "model=models.Sequential()\n",
    "model.add(layers.Dense(128,activation='relu',input_shape=(10000,)))\n",
    "model.add(layers.Dense(64,activation='relu'))\n",
    "model.add(layers.Dense(32,activation='relu'))\n",
    "model.add(layers.Dense(46,activation='softmax'))\n",
    "\n",
    "model.compile(optimizer='rmsprop',loss='categorical_crossentropy',metrics=['accuracy'])\n",
    "\n",
    "history=model.fit(partial_x_train,\n",
    "                 partial_y_train,\n",
    "                 epochs=9,\n",
    "                 batch_size=512,\n",
    "                 validation_data=(x_val,y_val))\n",
    "\n",
    "results=model.evaluate(x_test,one_hot_test_labels)"
   ]
  },
  {
   "cell_type": "code",
   "execution_count": 57,
   "id": "5e1ed3ed",
   "metadata": {
    "ExecuteTime": {
     "end_time": "2022-09-22T05:46:28.749683Z",
     "start_time": "2022-09-22T05:46:28.736695Z"
    }
   },
   "outputs": [
    {
     "data": {
      "text/plain": [
       "[1.1121329069137573, 0.7862867116928101]"
      ]
     },
     "execution_count": 57,
     "metadata": {},
     "output_type": "execute_result"
    }
   ],
   "source": [
    "results"
   ]
  },
  {
   "cell_type": "markdown",
   "id": "51173506",
   "metadata": {},
   "source": [
    "## 小结"
   ]
  },
  {
   "cell_type": "code",
   "execution_count": 58,
   "id": "d5ffa19e",
   "metadata": {
    "ExecuteTime": {
     "end_time": "2022-09-22T05:46:28.764695Z",
     "start_time": "2022-09-22T05:46:28.750687Z"
    }
   },
   "outputs": [
    {
     "data": {
      "text/plain": [
       "array([ 3,  4,  3, ..., 25,  3, 25], dtype=int64)"
      ]
     },
     "execution_count": 58,
     "metadata": {},
     "output_type": "execute_result"
    }
   ],
   "source": [
    "y_train"
   ]
  },
  {
   "cell_type": "markdown",
   "id": "e84a40d2",
   "metadata": {},
   "source": [
    "# 预测房价：回归问题"
   ]
  },
  {
   "cell_type": "markdown",
   "id": "4d00456c",
   "metadata": {},
   "source": [
    "## 波士顿房价数据集"
   ]
  },
  {
   "cell_type": "code",
   "execution_count": 59,
   "id": "cb29c179",
   "metadata": {
    "ExecuteTime": {
     "end_time": "2022-09-22T05:46:28.812695Z",
     "start_time": "2022-09-22T05:46:28.767685Z"
    }
   },
   "outputs": [],
   "source": [
    "from keras.datasets import boston_housing\n",
    "\n",
    "(train_data,train_targets),(test_data,test_targets)=boston_housing.load_data()"
   ]
  },
  {
   "cell_type": "code",
   "execution_count": 60,
   "id": "a1cdb6c6",
   "metadata": {
    "ExecuteTime": {
     "end_time": "2022-09-22T05:46:28.827692Z",
     "start_time": "2022-09-22T05:46:28.814685Z"
    }
   },
   "outputs": [
    {
     "data": {
      "text/plain": [
       "(404, 13)"
      ]
     },
     "execution_count": 60,
     "metadata": {},
     "output_type": "execute_result"
    }
   ],
   "source": [
    "train_data.shape"
   ]
  },
  {
   "cell_type": "code",
   "execution_count": 61,
   "id": "9eb321a1",
   "metadata": {
    "ExecuteTime": {
     "end_time": "2022-09-22T05:46:28.843701Z",
     "start_time": "2022-09-22T05:46:28.829675Z"
    }
   },
   "outputs": [
    {
     "data": {
      "text/plain": [
       "(102, 13)"
      ]
     },
     "execution_count": 61,
     "metadata": {},
     "output_type": "execute_result"
    }
   ],
   "source": [
    "test_data.shape"
   ]
  },
  {
   "cell_type": "code",
   "execution_count": 62,
   "id": "2254cd4b",
   "metadata": {
    "ExecuteTime": {
     "end_time": "2022-09-22T05:46:28.859690Z",
     "start_time": "2022-09-22T05:46:28.845678Z"
    },
    "scrolled": true
   },
   "outputs": [
    {
     "data": {
      "text/plain": [
       "array([15.2, 42.3, 50. , 21.1, 17.7, 18.5, 11.3, 15.6, 15.6, 14.4, 12.1,\n",
       "       17.9, 23.1, 19.9, 15.7,  8.8, 50. , 22.5, 24.1, 27.5, 10.9, 30.8,\n",
       "       32.9, 24. , 18.5, 13.3, 22.9, 34.7, 16.6, 17.5, 22.3, 16.1, 14.9,\n",
       "       23.1, 34.9, 25. , 13.9, 13.1, 20.4, 20. , 15.2, 24.7, 22.2, 16.7,\n",
       "       12.7, 15.6, 18.4, 21. , 30.1, 15.1, 18.7,  9.6, 31.5, 24.8, 19.1,\n",
       "       22. , 14.5, 11. , 32. , 29.4, 20.3, 24.4, 14.6, 19.5, 14.1, 14.3,\n",
       "       15.6, 10.5,  6.3, 19.3, 19.3, 13.4, 36.4, 17.8, 13.5, 16.5,  8.3,\n",
       "       14.3, 16. , 13.4, 28.6, 43.5, 20.2, 22. , 23. , 20.7, 12.5, 48.5,\n",
       "       14.6, 13.4, 23.7, 50. , 21.7, 39.8, 38.7, 22.2, 34.9, 22.5, 31.1,\n",
       "       28.7, 46. , 41.7, 21. , 26.6, 15. , 24.4, 13.3, 21.2, 11.7, 21.7,\n",
       "       19.4, 50. , 22.8, 19.7, 24.7, 36.2, 14.2, 18.9, 18.3, 20.6, 24.6,\n",
       "       18.2,  8.7, 44. , 10.4, 13.2, 21.2, 37. , 30.7, 22.9, 20. , 19.3,\n",
       "       31.7, 32. , 23.1, 18.8, 10.9, 50. , 19.6,  5. , 14.4, 19.8, 13.8,\n",
       "       19.6, 23.9, 24.5, 25. , 19.9, 17.2, 24.6, 13.5, 26.6, 21.4, 11.9,\n",
       "       22.6, 19.6,  8.5, 23.7, 23.1, 22.4, 20.5, 23.6, 18.4, 35.2, 23.1,\n",
       "       27.9, 20.6, 23.7, 28. , 13.6, 27.1, 23.6, 20.6, 18.2, 21.7, 17.1,\n",
       "        8.4, 25.3, 13.8, 22.2, 18.4, 20.7, 31.6, 30.5, 20.3,  8.8, 19.2,\n",
       "       19.4, 23.1, 23. , 14.8, 48.8, 22.6, 33.4, 21.1, 13.6, 32.2, 13.1,\n",
       "       23.4, 18.9, 23.9, 11.8, 23.3, 22.8, 19.6, 16.7, 13.4, 22.2, 20.4,\n",
       "       21.8, 26.4, 14.9, 24.1, 23.8, 12.3, 29.1, 21. , 19.5, 23.3, 23.8,\n",
       "       17.8, 11.5, 21.7, 19.9, 25. , 33.4, 28.5, 21.4, 24.3, 27.5, 33.1,\n",
       "       16.2, 23.3, 48.3, 22.9, 22.8, 13.1, 12.7, 22.6, 15. , 15.3, 10.5,\n",
       "       24. , 18.5, 21.7, 19.5, 33.2, 23.2,  5. , 19.1, 12.7, 22.3, 10.2,\n",
       "       13.9, 16.3, 17. , 20.1, 29.9, 17.2, 37.3, 45.4, 17.8, 23.2, 29. ,\n",
       "       22. , 18. , 17.4, 34.6, 20.1, 25. , 15.6, 24.8, 28.2, 21.2, 21.4,\n",
       "       23.8, 31. , 26.2, 17.4, 37.9, 17.5, 20. ,  8.3, 23.9,  8.4, 13.8,\n",
       "        7.2, 11.7, 17.1, 21.6, 50. , 16.1, 20.4, 20.6, 21.4, 20.6, 36.5,\n",
       "        8.5, 24.8, 10.8, 21.9, 17.3, 18.9, 36.2, 14.9, 18.2, 33.3, 21.8,\n",
       "       19.7, 31.6, 24.8, 19.4, 22.8,  7.5, 44.8, 16.8, 18.7, 50. , 50. ,\n",
       "       19.5, 20.1, 50. , 17.2, 20.8, 19.3, 41.3, 20.4, 20.5, 13.8, 16.5,\n",
       "       23.9, 20.6, 31.5, 23.3, 16.8, 14. , 33.8, 36.1, 12.8, 18.3, 18.7,\n",
       "       19.1, 29. , 30.1, 50. , 50. , 22. , 11.9, 37.6, 50. , 22.7, 20.8,\n",
       "       23.5, 27.9, 50. , 19.3, 23.9, 22.6, 15.2, 21.7, 19.2, 43.8, 20.3,\n",
       "       33.2, 19.9, 22.5, 32.7, 22. , 17.1, 19. , 15. , 16.1, 25.1, 23.7,\n",
       "       28.7, 37.2, 22.6, 16.4, 25. , 29.8, 22.1, 17.4, 18.1, 30.3, 17.5,\n",
       "       24.7, 12.6, 26.5, 28.7, 13.3, 10.4, 24.4, 23. , 20. , 17.8,  7. ,\n",
       "       11.8, 24.4, 13.8, 19.4, 25.2, 19.4, 19.4, 29.1])"
      ]
     },
     "execution_count": 62,
     "metadata": {},
     "output_type": "execute_result"
    }
   ],
   "source": [
    "train_targets"
   ]
  },
  {
   "cell_type": "markdown",
   "id": "59084ec0",
   "metadata": {},
   "source": [
    "## 准备数据"
   ]
  },
  {
   "cell_type": "code",
   "execution_count": 63,
   "id": "cb94e748",
   "metadata": {
    "ExecuteTime": {
     "end_time": "2022-09-22T05:46:28.875695Z",
     "start_time": "2022-09-22T05:46:28.861676Z"
    }
   },
   "outputs": [],
   "source": [
    "mean=train_data.mean(axis=0)\n",
    "train_data-=mean\n",
    "std=train_data.std(axis=0)\n",
    "train_data/=std\n",
    "\n",
    "test_data-=mean\n",
    "test_data/=std"
   ]
  },
  {
   "cell_type": "markdown",
   "id": "b43f083d",
   "metadata": {},
   "source": [
    "## 构建网络"
   ]
  },
  {
   "cell_type": "code",
   "execution_count": 64,
   "id": "bef6af41",
   "metadata": {
    "ExecuteTime": {
     "end_time": "2022-09-22T05:46:28.891684Z",
     "start_time": "2022-09-22T05:46:28.877675Z"
    }
   },
   "outputs": [],
   "source": [
    "from keras import models\n",
    "from keras import models\n",
    "\n",
    "def build_model():\n",
    "    # 因为需要将同一个模型多次实例化，所以用一个函数来构建模型\n",
    "    model=models.Sequential()\n",
    "    model.add(layers.Dense(64,activation='relu',input_shape=(train_data.shape[1],)))\n",
    "    model.add(layers.Dense(64,activation='relu'))\n",
    "    model.add(layers.Dense(1))\n",
    "    model.compile(optimizer='rmsprop',loss='mse',metrics=['mae'])\n",
    "    return model"
   ]
  },
  {
   "cell_type": "markdown",
   "id": "d900c3f1",
   "metadata": {
    "ExecuteTime": {
     "end_time": "2022-09-22T01:40:35.391541Z",
     "start_time": "2022-09-22T01:40:35.386538Z"
    }
   },
   "source": [
    "## 利用K折验证来验证你的方法"
   ]
  },
  {
   "cell_type": "code",
   "execution_count": 65,
   "id": "7ead93cd",
   "metadata": {
    "ExecuteTime": {
     "end_time": "2022-09-22T05:56:13.507163Z",
     "start_time": "2022-09-22T05:46:28.893680Z"
    }
   },
   "outputs": [
    {
     "name": "stdout",
     "output_type": "stream",
     "text": [
      "processing fold # 0\n",
      "processing fold # 1\n",
      "processing fold # 2\n",
      "processing fold # 3\n"
     ]
    }
   ],
   "source": [
    "import numpy as np\n",
    "\n",
    "k=4\n",
    "num_val_samples=len(train_data)//k\n",
    "num_epochs=100\n",
    "all_scores=[]\n",
    "\n",
    "for i in range(k):\n",
    "    print('processing fold #',i)\n",
    "    # 准备验证数据：第k个分区的数据\n",
    "    val_data=train_data[i*num_val_samples:(i+1)*num_val_samples]\n",
    "    val_targets=train_targets[i*num_val_samples:(i+1)*num_val_samples]\n",
    "    \n",
    "    # 准备训练数据：其他所有分区的数据\n",
    "    partial_train_data=np.concatenate(\n",
    "        [train_data[:i*num_val_samples],\n",
    "        train_data[(i+1)*num_val_samples:]],\n",
    "        axis=0)\n",
    "    partial_train_targets=np.concatenate(\n",
    "        [train_targets[:i*num_val_samples],\n",
    "        train_targets[(i+1)*num_val_samples:]],\n",
    "        axis=0)\n",
    "    \n",
    "    # 构建Keras模型（已编译）\n",
    "    model=build_model()\n",
    "    # 训练模型（静默模型，verbose=0）\n",
    "    model.fit(partial_train_data,\n",
    "              partial_train_targets,\n",
    "              epochs=num_epochs,\n",
    "              batch_size=1,\n",
    "              verbose=0)\n",
    "    # 在验证数据上评估模型\n",
    "    val_mse,val_mae=model.evaluate(val_data,val_targets,verbose=0)\n",
    "    all_scores.append(val_mae)"
   ]
  },
  {
   "cell_type": "code",
   "execution_count": 66,
   "id": "db07b849",
   "metadata": {
    "ExecuteTime": {
     "end_time": "2022-09-22T05:56:13.523163Z",
     "start_time": "2022-09-22T05:56:13.509157Z"
    }
   },
   "outputs": [
    {
     "data": {
      "text/plain": [
       "[2.0988805294036865, 2.8576624393463135, 2.7813541889190674, 2.667829990386963]"
      ]
     },
     "execution_count": 66,
     "metadata": {},
     "output_type": "execute_result"
    }
   ],
   "source": [
    "all_scores"
   ]
  },
  {
   "cell_type": "code",
   "execution_count": 67,
   "id": "e9b8459d",
   "metadata": {
    "ExecuteTime": {
     "end_time": "2022-09-22T05:56:13.539173Z",
     "start_time": "2022-09-22T05:56:13.525154Z"
    }
   },
   "outputs": [
    {
     "data": {
      "text/plain": [
       "2.6014317870140076"
      ]
     },
     "execution_count": 67,
     "metadata": {},
     "output_type": "execute_result"
    }
   ],
   "source": [
    "np.mean(all_scores)"
   ]
  },
  {
   "cell_type": "code",
   "execution_count": 68,
   "id": "d1e68b38",
   "metadata": {
    "ExecuteTime": {
     "end_time": "2022-09-22T06:52:24.138995Z",
     "start_time": "2022-09-22T05:56:13.549172Z"
    }
   },
   "outputs": [
    {
     "name": "stdout",
     "output_type": "stream",
     "text": [
      "processing fold # 0\n",
      "processing fold # 1\n",
      "processing fold # 2\n",
      "processing fold # 3\n"
     ]
    }
   ],
   "source": [
    "num_epochs=500\n",
    "all_mae_histories=[]\n",
    "for i in range(k):\n",
    "    print('processing fold #',i)\n",
    "    # 准备验证数据：第k个分区的数据\n",
    "    val_data=train_data[i*num_val_samples:(i+1)*num_val_samples]\n",
    "    val_targets=train_targets[i*num_val_samples:(i+1)*num_val_samples]\n",
    "    \n",
    "    # 准备训练数据：其他所有分区的数据\n",
    "    partial_train_data=np.concatenate(\n",
    "        [train_data[:i*num_val_samples],\n",
    "        train_data[(i+1)*num_val_samples:]],\n",
    "        axis=0)\n",
    "    partial_train_targets=np.concatenate(\n",
    "        [train_targets[:i*num_val_samples],\n",
    "        train_targets[(i+1)*num_val_samples:]],\n",
    "        axis=0)\n",
    "    \n",
    "    # 构建Keras模型（已编译）\n",
    "    model=build_model()\n",
    "    # 训练模型（静默模型，verbose=0）\n",
    "    history=model.fit(partial_train_data,\n",
    "              partial_train_targets,\n",
    "              validation_data=(val_data,val_targets),\n",
    "              epochs=num_epochs,\n",
    "              batch_size=1,\n",
    "              verbose=0)\n",
    "    mae_history=history.history['val_mae']\n",
    "    all_mae_histories.append(mae_history)\n",
    "    \n",
    "# 解释代码\n",
    "# print(history.history.keys())"
   ]
  },
  {
   "cell_type": "code",
   "execution_count": 69,
   "id": "11182721",
   "metadata": {
    "ExecuteTime": {
     "end_time": "2022-09-22T06:52:24.154970Z",
     "start_time": "2022-09-22T06:52:24.141971Z"
    }
   },
   "outputs": [],
   "source": [
    "average_mae_history=[np.mean([x[i] for x in all_mae_histories]) for i in range(num_epochs)]"
   ]
  },
  {
   "cell_type": "code",
   "execution_count": 70,
   "id": "91f2f0e4",
   "metadata": {
    "ExecuteTime": {
     "end_time": "2022-09-22T06:52:24.250970Z",
     "start_time": "2022-09-22T06:52:24.156972Z"
    }
   },
   "outputs": [
    {
     "data": {
      "image/png": "[encoded data removed]",
      "text/plain": [
       "<Figure size 432x288 with 1 Axes>"
      ]
     },
     "metadata": {
      "needs_background": "light"
     },
     "output_type": "display_data"
    }
   ],
   "source": [
    "import matplotlib.pyplot as plt\n",
    "\n",
    "plt.plot(range(1,len(average_mae_history)+1),average_mae_history)\n",
    "plt.xlabel('Epochs')\n",
    "plt.ylabel('Validation MAE')\n",
    "plt.show()"
   ]
  },
  {
   "cell_type": "code",
   "execution_count": 71,
   "id": "e5b37f53",
   "metadata": {
    "ExecuteTime": {
     "end_time": "2022-09-22T06:52:24.346990Z",
     "start_time": "2022-09-22T06:52:24.253962Z"
    }
   },
   "outputs": [
    {
     "data": {
      "image/png": "[encoded data removed]",
      "text/plain": [
       "<Figure size 432x288 with 1 Axes>"
      ]
     },
     "metadata": {
      "needs_background": "light"
     },
     "output_type": "display_data"
    }
   ],
   "source": [
    "def smooth_curve(points,factor=0.9):\n",
    "    smoothed_points=[]\n",
    "    for point in points:\n",
    "        if smoothed_points:\n",
    "            previous=smoothed_points[-1]\n",
    "            smoothed_points.append(previous*factor+point*(1-factor))\n",
    "        else:\n",
    "            smoothed_points.append(point)\n",
    "    return smoothed_points\n",
    "\n",
    "smooth_mae_history=smooth_curve(average_mae_history[10:])\n",
    "\n",
    "plt.plot(range(1,len(smooth_mae_history)+1),smooth_mae_history)\n",
    "plt.xlabel('Epochs')\n",
    "plt.ylabel('Validation MAE')\n",
    "plt.show()"
   ]
  },
  {
   "cell_type": "code",
   "execution_count": 72,
   "id": "83d6a9b0",
   "metadata": {
    "ExecuteTime": {
     "end_time": "2022-09-22T06:52:37.223433Z",
     "start_time": "2022-09-22T06:52:24.349965Z"
    }
   },
   "outputs": [
    {
     "name": "stdout",
     "output_type": "stream",
     "text": [
      "4/4 [==============================] - 0s 4ms/step - loss: 15.5146 - mae: 2.6329\n"
     ]
    }
   ],
   "source": [
    "# 一个全新的编译好的模型\n",
    "model=build_model()\n",
    "# 在所有训练数据上训练模型\n",
    "history=model.fit(train_data,\n",
    "          train_targets,\n",
    "          epochs=80,\n",
    "          batch_size=16,\n",
    "          verbose=0)\n",
    "test_mse_score,test_mae_score=model.evaluate(test_data,test_targets)"
   ]
  },
  {
   "cell_type": "code",
   "execution_count": 73,
   "id": "27dca428",
   "metadata": {
    "ExecuteTime": {
     "end_time": "2022-09-22T06:52:37.239428Z",
     "start_time": "2022-09-22T06:52:37.225443Z"
    }
   },
   "outputs": [
    {
     "data": {
      "text/plain": [
       "2.6328868865966797"
      ]
     },
     "execution_count": 73,
     "metadata": {},
     "output_type": "execute_result"
    }
   ],
   "source": [
    "test_mae_score"
   ]
  },
  {
   "cell_type": "code",
   "execution_count": null,
   "id": "ffa3b030",
   "metadata": {},
   "outputs": [],
   "source": []
  }
 ],
 "metadata": {
  "hide_input": false,
  "kernelspec": {
   "display_name": "tensorflow-gpu",
   "language": "python",
   "name": "tensorflow-gpu"
  },
  "language_info": {
   "codemirror_mode": {
    "name": "ipython",
    "version": 3
   },
   "file_extension": ".py",
   "mimetype": "text/x-python",
   "name": "python",
   "nbconvert_exporter": "python",
   "pygments_lexer": "ipython3",
   "version": "3.9.13"
  },
  "nbTranslate": {
   "displayLangs": [
    "*"
   ],
   "hotkey": "alt-t",
   "langInMainMenu": true,
   "sourceLang": "en",
   "targetLang": "fr",
   "useGoogleTranslate": true
  },
  "toc": {
   "base_numbering": 1,
   "nav_menu": {},
   "number_sections": true,
   "sideBar": true,
   "skip_h1_title": false,
   "title_cell": "Table of Contents",
   "title_sidebar": "Contents",
   "toc_cell": false,
   "toc_position": {},
   "toc_section_display": true,
   "toc_window_display": false
  },
  "varInspector": {
   "cols": {
    "lenName": 16,
    "lenType": 16,
    "lenVar": 40
   },
   "kernels_config": {
    "python": {
     "delete_cmd_postfix": "",
     "delete_cmd_prefix": "del ",
     "library": "var_list.py",
     "varRefreshCmd": "print(var_dic_list())"
    },
    "r": {
     "delete_cmd_postfix": ") ",
     "delete_cmd_prefix": "rm(",
     "library": "var_list.r",
     "varRefreshCmd": "cat(var_dic_list()) "
    }
   },
   "types_to_exclude": [
    "module",
    "function",
    "builtin_function_or_method",
    "instance",
    "_Feature"
   ],
   "window_display": false
  }
 },
 "nbformat": 4,
 "nbformat_minor": 5
}
