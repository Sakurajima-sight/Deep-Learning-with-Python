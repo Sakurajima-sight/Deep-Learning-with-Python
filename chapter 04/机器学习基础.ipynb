{
 "cells": [
  {
   "cell_type": "markdown",
   "id": "1a3dc38e",
   "metadata": {},
   "source": [
    "# 机器学习的四个分支"
   ]
  },
  {
   "cell_type": "markdown",
   "id": "9a085cd0",
   "metadata": {},
   "source": [
    "## 监督学习"
   ]
  },
  {
   "cell_type": "markdown",
   "id": "cefd6d6d",
   "metadata": {},
   "source": [
    "## 无监督学习"
   ]
  },
  {
   "cell_type": "markdown",
   "id": "a1f3eacc",
   "metadata": {},
   "source": [
    "## 自监督学习"
   ]
  },
  {
   "cell_type": "markdown",
   "id": "e14a84ed",
   "metadata": {},
   "source": [
    "## 强化学习"
   ]
  },
  {
   "cell_type": "markdown",
   "id": "39201880",
   "metadata": {},
   "source": [
    "# 评估机器学习模型"
   ]
  },
  {
   "cell_type": "markdown",
   "id": "73cc411f",
   "metadata": {},
   "source": [
    "## 训练集、验证集和测试集"
   ]
  },
  {
   "cell_type": "code",
   "execution_count": 1,
   "id": "312decb5",
   "metadata": {
    "ExecuteTime": {
     "end_time": "2022-09-22T15:51:50.047176Z",
     "start_time": "2022-09-22T15:51:50.042173Z"
    }
   },
   "outputs": [],
   "source": [
    "# num_validation_samples=10000\n",
    "\n",
    "# # 通常需要打乱数据\n",
    "# np.random.shuffle(data)\n",
    "\n",
    "# # 定义验证集\n",
    "# validation_data=data[:num_validation_samples]\n",
    "# data=data[num_validation_samples:]\n",
    "\n",
    "# # 定义训练集\n",
    "# training_data=data[:]\n",
    "\n",
    "# # 在训练数据上训练模型\n",
    "# model=get_model()\n",
    "# # 并在验证数据上评估模型\n",
    "# model.train(training_data)\n",
    "# validation_score=model.evaluate(validation_data)\n",
    "\n",
    "# # 现在你可以调节模型、重新训练、评估，然后再次调节...\n",
    "\n",
    "# # 一旦调节好了超参数，通常就在所有非测试数据上从头开始训练最终模型\n",
    "# model=get_model()\n",
    "# model.train(np.concatenate([training_data,\n",
    "#                            validation_data]))\n",
    "# test_score=model.evaluate(test_score)"
   ]
  },
  {
   "cell_type": "code",
   "execution_count": 2,
   "id": "7245e7d5",
   "metadata": {
    "ExecuteTime": {
     "end_time": "2022-09-22T15:51:50.079170Z",
     "start_time": "2022-09-22T15:51:50.074170Z"
    }
   },
   "outputs": [],
   "source": [
    "# k=4\n",
    "# num_validation_samples=len(data)//k\n",
    "\n",
    "# np.random.shuffle(data)\n",
    "\n",
    "# validation_scores=[]\n",
    "# for fold in range(k):\n",
    "#     # 选择验证数据分区\n",
    "#     validation_data=data[num_validation_samples*fold:num_validation_samples*(fold+1)]\n",
    "#     # 使用剩余数据作为训练数据，注意，+运算符是列表合并，并不是求和\n",
    "#     training_data=data[:num_validation_samples*fold]+data[num_validation_samples*(fold+1):]\n",
    "    \n",
    "#     # 创建一个全新的模型\n",
    "#     model=get_model()\n",
    "#     model.train(training_data)\n",
    "#     validation_score=model.evaluate(validation_data)\n",
    "#     validation_scores.append(validation_score)\n",
    "    \n",
    "# # 最终验证分数：K折验证分数的平均值\n",
    "# validation_scorea=np.average(validation_scoresa)\n",
    "\n",
    "# # 在所有非测试数据上训练最终模型\n",
    "# model=get_model()\n",
    "# model.train(data)\n",
    "# test_score=model.evaluate(test_score)"
   ]
  },
  {
   "cell_type": "markdown",
   "id": "0bc3b939",
   "metadata": {
    "ExecuteTime": {
     "end_time": "2022-09-22T10:06:14.470982Z",
     "start_time": "2022-09-22T10:06:14.456978Z"
    }
   },
   "source": [
    "## 评估模型的注意事项"
   ]
  },
  {
   "cell_type": "markdown",
   "id": "46ffe85c",
   "metadata": {},
   "source": [
    "# 数据预处理、特征工程和特征学习"
   ]
  },
  {
   "cell_type": "markdown",
   "id": "9d3ba815",
   "metadata": {},
   "source": [
    "## 神经网络的数据预处理"
   ]
  },
  {
   "cell_type": "code",
   "execution_count": 3,
   "id": "36e160cd",
   "metadata": {
    "ExecuteTime": {
     "end_time": "2022-09-22T15:51:50.252597Z",
     "start_time": "2022-09-22T15:51:50.236590Z"
    }
   },
   "outputs": [],
   "source": [
    "# # 假设x是一个形状为(samples,features)的二维矩阵\n",
    "# x-=x.mean(axis=0)\n",
    "# x/=x.std(axis=0)"
   ]
  },
  {
   "cell_type": "markdown",
   "id": "657f85c0",
   "metadata": {},
   "source": [
    "## 特征工程"
   ]
  },
  {
   "cell_type": "markdown",
   "id": "c2bfaafb",
   "metadata": {},
   "source": [
    "# 过拟合和欠拟合"
   ]
  },
  {
   "cell_type": "markdown",
   "id": "5333288a",
   "metadata": {},
   "source": [
    "## 减小网络大小"
   ]
  },
  {
   "cell_type": "code",
   "execution_count": 4,
   "id": "b57b511a",
   "metadata": {
    "ExecuteTime": {
     "end_time": "2022-09-22T15:51:57.830573Z",
     "start_time": "2022-09-22T15:51:50.409340Z"
    }
   },
   "outputs": [],
   "source": [
    "# 载入第三章电影评论分类的网络数据\n",
    "from keras.datasets import imdb\n",
    "import numpy as np\n",
    "\n",
    "(train_data,train_labels),(test_data,test_labels)=imdb.load_data(num_words=10000)\n",
    "\n",
    "def vectorize_sequences(sequences,dimension=10000):\n",
    "    # 创建一个形状为(len(sequences),dimension)的零矩阵\n",
    "    results=np.zeros((len(sequences),dimension))\n",
    "    for i,sequence in enumerate(sequences):\n",
    "        # 将result[i]的指定索引设为1\n",
    "        results[i,sequence]=1.\n",
    "    return results\n",
    "\n",
    "# 将训练数据向量化\n",
    "x_train=vectorize_sequences(train_data)\n",
    "# 将测试数据向量化\n",
    "x_test=vectorize_sequences(test_data)\n",
    "\n",
    "y_train=np.asarray(train_labels).astype('float32')\n",
    "y_test=np.asarray(test_labels).astype('float32')\n",
    "\n",
    "\n",
    "x_val=x_train[:10000]\n",
    "partial_x_train=x_train[10000:]\n",
    "\n",
    "y_val=y_train[:10000]\n",
    "partial_y_train=y_train[10000:]"
   ]
  },
  {
   "cell_type": "code",
   "execution_count": 5,
   "id": "24c75935",
   "metadata": {
    "ExecuteTime": {
     "end_time": "2022-09-22T15:52:13.984858Z",
     "start_time": "2022-09-22T15:51:57.833579Z"
    }
   },
   "outputs": [
    {
     "name": "stdout",
     "output_type": "stream",
     "text": [
      "Epoch 1/20\n",
      "30/30 [==============================] - 3s 50ms/step - loss: 0.5074 - accuracy: 0.7829 - val_loss: 0.3855 - val_accuracy: 0.8660\n",
      "Epoch 2/20\n",
      "30/30 [==============================] - 1s 19ms/step - loss: 0.2998 - accuracy: 0.9053 - val_loss: 0.3013 - val_accuracy: 0.8897\n",
      "Epoch 3/20\n",
      "30/30 [==============================] - 1s 19ms/step - loss: 0.2223 - accuracy: 0.9269 - val_loss: 0.2769 - val_accuracy: 0.8906\n",
      "Epoch 4/20\n",
      "30/30 [==============================] - 1s 19ms/step - loss: 0.1738 - accuracy: 0.9438 - val_loss: 0.2735 - val_accuracy: 0.8907\n",
      "Epoch 5/20\n",
      "30/30 [==============================] - 1s 19ms/step - loss: 0.1415 - accuracy: 0.9533 - val_loss: 0.2804 - val_accuracy: 0.8893\n",
      "Epoch 6/20\n",
      "30/30 [==============================] - 1s 19ms/step - loss: 0.1175 - accuracy: 0.9645 - val_loss: 0.3026 - val_accuracy: 0.8844\n",
      "Epoch 7/20\n",
      "30/30 [==============================] - 1s 20ms/step - loss: 0.0970 - accuracy: 0.9711 - val_loss: 0.3128 - val_accuracy: 0.8830\n",
      "Epoch 8/20\n",
      "30/30 [==============================] - 1s 19ms/step - loss: 0.0797 - accuracy: 0.9779 - val_loss: 0.3505 - val_accuracy: 0.8787\n",
      "Epoch 9/20\n",
      "16/30 [===============>..............] - ETA: 0s - loss: 0.0616 - accuracy: 0.98"
     ]
    },
    {
     "data": {
      "text/html": [
       "<b>limit_output extension: Maximum message size of 10000 exceeded with 10143 characters</b>"
      ]
     },
     "metadata": {},
     "output_type": "display_data"
    }
   ],
   "source": [
    "# 原始模型\n",
    "from keras import models\n",
    "from keras import layers\n",
    "\n",
    "model=models.Sequential()\n",
    "model.add(layers.Dense(16,activation='relu',input_shape=(10000,)))\n",
    "model.add(layers.Dense(16,activation='relu'))\n",
    "model.add(layers.Dense(1,activation='sigmoid'))\n",
    "\n",
    "model.compile(optimizer='rmsprop',loss='binary_crossentropy',metrics=['accuracy'])\n",
    "\n",
    "original_history=model.fit(partial_x_train,\n",
    "                 partial_y_train,\n",
    "                 epochs=20,\n",
    "                 batch_size=512,\n",
    "                 validation_data=(x_val,y_val))\n",
    "\n",
    "original_history_dict=original_history.history"
   ]
  },
  {
   "cell_type": "code",
   "execution_count": 6,
   "id": "8bed6401",
   "metadata": {
    "ExecuteTime": {
     "end_time": "2022-09-22T15:52:27.154830Z",
     "start_time": "2022-09-22T15:52:13.985861Z"
    }
   },
   "outputs": [
    {
     "name": "stdout",
     "output_type": "stream",
     "text": [
      "Epoch 1/20\n",
      "30/30 [==============================] - 2s 36ms/step - loss: 0.6163 - accuracy: 0.7165 - val_loss: 0.5520 - val_accuracy: 0.8356\n",
      "Epoch 2/20\n",
      "30/30 [==============================] - 1s 19ms/step - loss: 0.4952 - accuracy: 0.8515 - val_loss: 0.4666 - val_accuracy: 0.8559\n",
      "Epoch 3/20\n",
      "30/30 [==============================] - 1s 19ms/step - loss: 0.4055 - accuracy: 0.8963 - val_loss: 0.4020 - val_accuracy: 0.8630\n",
      "Epoch 4/20\n",
      "30/30 [==============================] - 1s 19ms/step - loss: 0.3318 - accuracy: 0.9149 - val_loss: 0.3505 - val_accuracy: 0.8832\n",
      "Epoch 5/20\n",
      "30/30 [==============================] - 1s 19ms/step - loss: 0.2758 - accuracy: 0.9263 - val_loss: 0.3179 - val_accuracy: 0.8864\n",
      "Epoch 6/20\n",
      "30/30 [==============================] - 1s 19ms/step - loss: 0.2342 - accuracy: 0.9374 - val_loss: 0.2978 - val_accuracy: 0.8898\n",
      "Epoch 7/20\n",
      "30/30 [==============================] - 1s 20ms/step - loss: 0.2039 - accuracy: 0.9427 - val_loss: 0.2857 - val_accuracy: 0.8905\n",
      "Epoch 8/20\n",
      "30/30 [==============================] - 1s 19ms/step - loss: 0.1790 - accuracy: 0.9492 - val_loss: 0.2860 - val_accuracy: 0.8833\n",
      "Epoch 9/20\n",
      "21/30 [====================>.........] - ETA: 0s - loss: 0.1594 - accuracy: 0.95"
     ]
    },
    {
     "data": {
      "text/html": [
       "<b>limit_output extension: Maximum message size of 10000 exceeded with 10143 characters</b>"
      ]
     },
     "metadata": {},
     "output_type": "display_data"
    }
   ],
   "source": [
    "# 容量更小的模型\n",
    "model=models.Sequential()\n",
    "model.add(layers.Dense(4,activation='relu',input_shape=(10000,)))\n",
    "model.add(layers.Dense(4,activation='relu'))\n",
    "model.add(layers.Dense(1,activation='sigmoid'))\n",
    "\n",
    "model.compile(optimizer='rmsprop',loss='binary_crossentropy',metrics=['accuracy'])\n",
    "\n",
    "smaller_history=model.fit(partial_x_train,\n",
    "                 partial_y_train,\n",
    "                 epochs=20,\n",
    "                 batch_size=512,\n",
    "                 validation_data=(x_val,y_val))\n",
    "\n",
    "smaller_history_dict=smaller_history.history"
   ]
  },
  {
   "cell_type": "code",
   "execution_count": 7,
   "id": "fb9372ea",
   "metadata": {
    "ExecuteTime": {
     "end_time": "2022-09-22T15:52:27.690834Z",
     "start_time": "2022-09-22T15:52:27.157838Z"
    }
   },
   "outputs": [
    {
     "data": {
      "image/png": "[encoded data removed]",
      "text/plain": [
       "<Figure size 432x288 with 1 Axes>"
      ]
     },
     "metadata": {
      "needs_background": "light"
     },
     "output_type": "display_data"
    }
   ],
   "source": [
    "import matplotlib.pyplot as plt\n",
    "\n",
    "original_val_loss_values=original_history_dict['val_loss']\n",
    "smaller_val_loss_values=smaller_history_dict['val_loss']\n",
    "\n",
    "epochs=range(1,len(original_val_loss_values)+1)\n",
    "\n",
    "plt.plot(epochs,original_val_loss_values,'b+',label='Original model')\n",
    "plt.plot(epochs,smaller_val_loss_values,'bo',label='Smaller model')\n",
    "plt.title('original and smaller validation loss')\n",
    "plt.xlabel('Epochs')\n",
    "plt.ylabel('Validation loss')\n",
    "plt.legend()\n",
    "\n",
    "plt.show()"
   ]
  },
  {
   "cell_type": "code",
   "execution_count": 8,
   "id": "9021b6e8",
   "metadata": {
    "ExecuteTime": {
     "end_time": "2022-09-22T15:52:42.964744Z",
     "start_time": "2022-09-22T15:52:27.692835Z"
    }
   },
   "outputs": [
    {
     "name": "stdout",
     "output_type": "stream",
     "text": [
      "Epoch 1/20\n",
      "30/30 [==============================] - 2s 37ms/step - loss: 0.5464 - accuracy: 0.7623 - val_loss: 0.3397 - val_accuracy: 0.8613\n",
      "Epoch 2/20\n",
      "30/30 [==============================] - 1s 22ms/step - loss: 0.2580 - accuracy: 0.8981 - val_loss: 0.2776 - val_accuracy: 0.8851\n",
      "Epoch 3/20\n",
      "30/30 [==============================] - 1s 22ms/step - loss: 0.1569 - accuracy: 0.9376 - val_loss: 0.2657 - val_accuracy: 0.8908\n",
      "Epoch 4/20\n",
      "30/30 [==============================] - 1s 22ms/step - loss: 0.0940 - accuracy: 0.9709 - val_loss: 0.3212 - val_accuracy: 0.8908\n",
      "Epoch 5/20\n",
      "30/30 [==============================] - 1s 22ms/step - loss: 0.0773 - accuracy: 0.9785 - val_loss: 0.3153 - val_accuracy: 0.8891\n",
      "Epoch 6/20\n",
      "30/30 [==============================] - 1s 22ms/step - loss: 0.0049 - accuracy: 0.9999 - val_loss: 0.4794 - val_accuracy: 0.8879\n",
      "Epoch 7/20\n",
      "29/30 [========================>.....] - ETA: 0s - loss: 5.9413e-04 - accuracy: 1.00"
     ]
    },
    {
     "data": {
      "text/html": [
       "<b>limit_output extension: Maximum message size of 10000 exceeded with 10084 characters</b>"
      ]
     },
     "metadata": {},
     "output_type": "display_data"
    }
   ],
   "source": [
    "# 容量更大的模型\n",
    "model=models.Sequential()\n",
    "model.add(layers.Dense(512,activation='relu',input_shape=(10000,)))\n",
    "model.add(layers.Dense(512,activation='relu'))\n",
    "model.add(layers.Dense(1,activation='sigmoid'))\n",
    "\n",
    "model.compile(optimizer='rmsprop',loss='binary_crossentropy',metrics=['accuracy'])\n",
    "\n",
    "bigger_history=model.fit(partial_x_train,\n",
    "                 partial_y_train,\n",
    "                 epochs=20,\n",
    "                 batch_size=512,\n",
    "                 validation_data=(x_val,y_val))\n",
    "\n",
    "bigger_history_dict=bigger_history.history"
   ]
  },
  {
   "cell_type": "code",
   "execution_count": 9,
   "id": "d1d104b3",
   "metadata": {
    "ExecuteTime": {
     "end_time": "2022-09-22T15:52:43.122749Z",
     "start_time": "2022-09-22T15:52:42.966749Z"
    }
   },
   "outputs": [
    {
     "data": {
      "image/png": "[encoded data removed]",
      "text/plain": [
       "<Figure size 432x288 with 1 Axes>"
      ]
     },
     "metadata": {
      "needs_background": "light"
     },
     "output_type": "display_data"
    }
   ],
   "source": [
    "import matplotlib.pyplot as plt\n",
    "\n",
    "original_val_loss_values=original_history_dict['val_loss']\n",
    "bigger_val_loss_values=bigger_history_dict['val_loss']\n",
    "\n",
    "epochs=range(1,len(original_val_loss_values)+1)\n",
    "\n",
    "plt.plot(epochs,original_val_loss_values,'b+',label='Original model')\n",
    "plt.plot(epochs,bigger_val_loss_values,'bo',label='Bigger model')\n",
    "plt.title('original and bigger validation loss')\n",
    "plt.xlabel('Epochs')\n",
    "plt.ylabel('Validation loss')\n",
    "plt.legend()\n",
    "\n",
    "plt.show()"
   ]
  },
  {
   "cell_type": "code",
   "execution_count": 10,
   "id": "68f3d9ca",
   "metadata": {
    "ExecuteTime": {
     "end_time": "2022-09-22T15:52:43.265743Z",
     "start_time": "2022-09-22T15:52:43.123746Z"
    }
   },
   "outputs": [
    {
     "data": {
      "image/png": "[encoded data removed]",
      "text/plain": [
       "<Figure size 432x288 with 1 Axes>"
      ]
     },
     "metadata": {
      "needs_background": "light"
     },
     "output_type": "display_data"
    }
   ],
   "source": [
    "import matplotlib.pyplot as plt\n",
    "\n",
    "original_val_loss_values=original_history_dict['loss']\n",
    "bigger_val_loss_values=bigger_history_dict['loss']\n",
    "\n",
    "epochs=range(1,len(original_val_loss_values)+1)\n",
    "\n",
    "plt.plot(epochs,original_val_loss_values,'b+',label='Original model')\n",
    "plt.plot(epochs,bigger_val_loss_values,'bo',label='Bigger model')\n",
    "plt.title('original and bigger training loss')\n",
    "plt.xlabel('Epochs')\n",
    "plt.ylabel('Training loss')\n",
    "plt.legend()\n",
    "\n",
    "plt.show()"
   ]
  },
  {
   "cell_type": "markdown",
   "id": "e673da32",
   "metadata": {},
   "source": [
    "## 添加权重正则化"
   ]
  },
  {
   "cell_type": "code",
   "execution_count": 11,
   "id": "1808c271",
   "metadata": {
    "ExecuteTime": {
     "end_time": "2022-09-22T15:52:56.445184Z",
     "start_time": "2022-09-22T15:52:43.267752Z"
    }
   },
   "outputs": [
    {
     "name": "stdout",
     "output_type": "stream",
     "text": [
      "Epoch 1/20\n",
      "30/30 [==============================] - 2s 36ms/step - loss: 0.5631 - accuracy: 0.7934 - val_loss: 0.4363 - val_accuracy: 0.8699\n",
      "Epoch 2/20\n",
      "30/30 [==============================] - 1s 19ms/step - loss: 0.3710 - accuracy: 0.8941 - val_loss: 0.3664 - val_accuracy: 0.8808\n",
      "Epoch 3/20\n",
      "30/30 [==============================] - 1s 19ms/step - loss: 0.3003 - accuracy: 0.9187 - val_loss: 0.3395 - val_accuracy: 0.8900\n",
      "Epoch 4/20\n",
      "30/30 [==============================] - 1s 19ms/step - loss: 0.2641 - accuracy: 0.9289 - val_loss: 0.3310 - val_accuracy: 0.8883\n",
      "Epoch 5/20\n",
      "30/30 [==============================] - 1s 19ms/step - loss: 0.2377 - accuracy: 0.9407 - val_loss: 0.3428 - val_accuracy: 0.8820\n",
      "Epoch 6/20\n",
      "30/30 [==============================] - 1s 19ms/step - loss: 0.2239 - accuracy: 0.9452 - val_loss: 0.3381 - val_accuracy: 0.8856\n",
      "Epoch 7/20\n",
      "30/30 [==============================] - 1s 19ms/step - loss: 0.2140 - accuracy: 0.9481 - val_loss: 0.3455 - val_accuracy: 0.8857\n",
      "Epoch 8/20\n",
      "30/30 [==============================] - 1s 19ms/step - loss: 0.2034 - accuracy: 0.9533 - val_loss: 0.3549 - val_accuracy: 0.8818\n",
      "Epoch 9/20\n",
      "25/30 [========================>.....] - ETA: 0s - loss: 0.1961 - accuracy: 0.95"
     ]
    },
    {
     "data": {
      "text/html": [
       "<b>limit_output extension: Maximum message size of 10000 exceeded with 10143 characters</b>"
      ]
     },
     "metadata": {},
     "output_type": "display_data"
    }
   ],
   "source": [
    "from keras import regularizers\n",
    "\n",
    "model=models.Sequential()\n",
    "model.add(layers.Dense(16,kernel_regularizer=regularizers.l2(0.001),activation='relu',input_shape=(10000,)))\n",
    "model.add(layers.Dense(16,kernel_regularizer=regularizers.l2(0.001),activation='relu'))\n",
    "model.add(layers.Dense(1,activation='sigmoid'))\n",
    "\n",
    "model.compile(optimizer='rmsprop',loss='binary_crossentropy',metrics=['accuracy'])\n",
    "\n",
    "l2_regularized_history=model.fit(partial_x_train,\n",
    "                 partial_y_train,\n",
    "                 epochs=20,\n",
    "                 batch_size=512,\n",
    "                 validation_data=(x_val,y_val))\n",
    "\n",
    "l2_regularized_history_dict=l2_regularized_history.history"
   ]
  },
  {
   "cell_type": "code",
   "execution_count": 12,
   "id": "f74fb87e",
   "metadata": {
    "ExecuteTime": {
     "end_time": "2022-09-22T15:52:56.605180Z",
     "start_time": "2022-09-22T15:52:56.446187Z"
    }
   },
   "outputs": [
    {
     "data": {
      "image/png": "[encoded data removed]",
      "text/plain": [
       "<Figure size 432x288 with 1 Axes>"
      ]
     },
     "metadata": {
      "needs_background": "light"
     },
     "output_type": "display_data"
    }
   ],
   "source": [
    "import matplotlib.pyplot as plt\n",
    "\n",
    "original_val_loss_values=original_history_dict['val_loss']\n",
    "l2_regularized_val_loss_values=l2_regularized_history_dict['val_loss']\n",
    "\n",
    "epochs=range(1,len(original_val_loss_values)+1)\n",
    "\n",
    "plt.plot(epochs,original_val_loss_values,'b+',label='Original model')\n",
    "plt.plot(epochs,l2_regularized_val_loss_values,'bo',label='L2-regularized model')\n",
    "plt.title('original and l2-regularized validation loss')\n",
    "plt.xlabel('Epochs')\n",
    "plt.ylabel('Validation loss')\n",
    "plt.legend()\n",
    "\n",
    "plt.show()"
   ]
  },
  {
   "cell_type": "code",
   "execution_count": 13,
   "id": "cb0152ad",
   "metadata": {
    "ExecuteTime": {
     "end_time": "2022-09-22T15:53:09.907911Z",
     "start_time": "2022-09-22T15:52:56.608354Z"
    }
   },
   "outputs": [
    {
     "name": "stdout",
     "output_type": "stream",
     "text": [
      "Epoch 1/20\n",
      "30/30 [==============================] - 2s 37ms/step - loss: 1.0801 - accuracy: 0.7423 - val_loss: 0.7113 - val_accuracy: 0.8428\n",
      "Epoch 2/20\n",
      "30/30 [==============================] - 1s 19ms/step - loss: 0.6619 - accuracy: 0.8470 - val_loss: 0.6735 - val_accuracy: 0.8168\n",
      "Epoch 3/20\n",
      "30/30 [==============================] - 1s 20ms/step - loss: 0.6127 - accuracy: 0.8535 - val_loss: 0.6193 - val_accuracy: 0.8477\n",
      "Epoch 4/20\n",
      "30/30 [==============================] - 1s 19ms/step - loss: 0.5817 - accuracy: 0.8661 - val_loss: 0.5933 - val_accuracy: 0.8525\n",
      "Epoch 5/20\n",
      "30/30 [==============================] - 1s 19ms/step - loss: 0.5643 - accuracy: 0.8649 - val_loss: 0.5687 - val_accuracy: 0.8678\n",
      "Epoch 6/20\n",
      "30/30 [==============================] - 1s 20ms/step - loss: 0.5522 - accuracy: 0.8706 - val_loss: 0.5699 - val_accuracy: 0.8595\n",
      "Epoch 7/20\n",
      "30/30 [==============================] - 1s 19ms/step - loss: 0.5444 - accuracy: 0.8703 - val_loss: 0.5501 - val_accuracy: 0.8703\n",
      "Epoch 8/20\n",
      "30/30 [==============================] - 1s 19ms/step - loss: 0.5332 - accuracy: 0.8746 - val_loss: 0.5424 - val_accuracy: 0.8706\n",
      "Epoch 9/20\n",
      "16/30 [===============>..............] - ETA: 0s - loss: 0.5293 - accuracy: 0.87"
     ]
    },
    {
     "data": {
      "text/html": [
       "<b>limit_output extension: Maximum message size of 10000 exceeded with 10143 characters</b>"
      ]
     },
     "metadata": {},
     "output_type": "display_data"
    }
   ],
   "source": [
    "from keras import regularizers\n",
    "\n",
    "model=models.Sequential()\n",
    "model.add(layers.Dense(16,kernel_regularizer=regularizers.l1(0.001),activation='relu',input_shape=(10000,)))\n",
    "model.add(layers.Dense(16,kernel_regularizer=regularizers.l1(0.001),activation='relu'))\n",
    "model.add(layers.Dense(1,activation='sigmoid'))\n",
    "\n",
    "model.compile(optimizer='rmsprop',loss='binary_crossentropy',metrics=['accuracy'])\n",
    "\n",
    "l1_regularized_history=model.fit(partial_x_train,\n",
    "                 partial_y_train,\n",
    "                 epochs=20,\n",
    "                 batch_size=512,\n",
    "                 validation_data=(x_val,y_val))\n",
    "\n",
    "l1_regularized_history_dict=l1_regularized_history.history"
   ]
  },
  {
   "cell_type": "code",
   "execution_count": 14,
   "id": "ff611f79",
   "metadata": {
    "ExecuteTime": {
     "end_time": "2022-09-22T15:53:10.050913Z",
     "start_time": "2022-09-22T15:53:09.909912Z"
    }
   },
   "outputs": [
    {
     "data": {
      "image/png": "[encoded data removed]",
      "text/plain": [
       "<Figure size 432x288 with 1 Axes>"
      ]
     },
     "metadata": {
      "needs_background": "light"
     },
     "output_type": "display_data"
    }
   ],
   "source": [
    "import matplotlib.pyplot as plt\n",
    "\n",
    "original_val_loss_values=original_history_dict['val_loss']\n",
    "l1_regularized_val_loss_values=l1_regularized_history_dict['val_loss']\n",
    "\n",
    "epochs=range(1,len(original_val_loss_values)+1)\n",
    "\n",
    "plt.plot(epochs,original_val_loss_values,'b+',label='Original model')\n",
    "plt.plot(epochs,l1_regularized_val_loss_values,'bo',label='L1-regularized model')\n",
    "plt.title('original and l1-regularized validation loss')\n",
    "plt.xlabel('Epochs')\n",
    "plt.ylabel('Validation loss')\n",
    "plt.legend()\n",
    "\n",
    "plt.show()"
   ]
  },
  {
   "cell_type": "code",
   "execution_count": 15,
   "id": "56a6f1a2",
   "metadata": {
    "ExecuteTime": {
     "end_time": "2022-09-22T15:53:23.133425Z",
     "start_time": "2022-09-22T15:53:10.053916Z"
    }
   },
   "outputs": [
    {
     "name": "stdout",
     "output_type": "stream",
     "text": [
      "Epoch 1/20\n",
      "30/30 [==============================] - 2s 36ms/step - loss: 1.0964 - accuracy: 0.7405 - val_loss: 0.7104 - val_accuracy: 0.8458\n",
      "Epoch 2/20\n",
      "30/30 [==============================] - 1s 19ms/step - loss: 0.6695 - accuracy: 0.8444 - val_loss: 0.6975 - val_accuracy: 0.7995\n",
      "Epoch 3/20\n",
      "30/30 [==============================] - 1s 19ms/step - loss: 0.6247 - accuracy: 0.8515 - val_loss: 0.6214 - val_accuracy: 0.8555\n",
      "Epoch 4/20\n",
      "30/30 [==============================] - 1s 19ms/step - loss: 0.5902 - accuracy: 0.8655 - val_loss: 0.5994 - val_accuracy: 0.8624\n",
      "Epoch 5/20\n",
      "30/30 [==============================] - 1s 19ms/step - loss: 0.5793 - accuracy: 0.8638 - val_loss: 0.5783 - val_accuracy: 0.8628\n",
      "Epoch 6/20\n",
      "30/30 [==============================] - 1s 19ms/step - loss: 0.5638 - accuracy: 0.8690 - val_loss: 0.5765 - val_accuracy: 0.8654\n",
      "Epoch 7/20\n",
      "30/30 [==============================] - 1s 19ms/step - loss: 0.5553 - accuracy: 0.8699 - val_loss: 0.5800 - val_accuracy: 0.8593\n",
      "Epoch 8/20\n",
      "30/30 [==============================] - 1s 19ms/step - loss: 0.5529 - accuracy: 0.8681 - val_loss: 0.5691 - val_accuracy: 0.8626\n",
      "Epoch 9/20\n",
      "16/30 [===============>..............] - ETA: 0s - loss: 0.5339 - accuracy: 0.87"
     ]
    },
    {
     "data": {
      "text/html": [
       "<b>limit_output extension: Maximum message size of 10000 exceeded with 10143 characters</b>"
      ]
     },
     "metadata": {},
     "output_type": "display_data"
    }
   ],
   "source": [
    "from keras import regularizers\n",
    "\n",
    "model=models.Sequential()\n",
    "model.add(layers.Dense(16,kernel_regularizer=regularizers.l1_l2(l1=0.001,l2=0.001),activation='relu',input_shape=(10000,)))\n",
    "model.add(layers.Dense(16,kernel_regularizer=regularizers.l1_l2(l1=0.001,l2=0.001),activation='relu'))\n",
    "model.add(layers.Dense(1,activation='sigmoid'))\n",
    "\n",
    "model.compile(optimizer='rmsprop',loss='binary_crossentropy',metrics=['accuracy'])\n",
    "\n",
    "l1_l2_regularized_history=model.fit(partial_x_train,\n",
    "                 partial_y_train,\n",
    "                 epochs=20,\n",
    "                 batch_size=512,\n",
    "                 validation_data=(x_val,y_val))\n",
    "\n",
    "l1_l2_regularized_history_dict=l1_l2_regularized_history.history"
   ]
  },
  {
   "cell_type": "code",
   "execution_count": 16,
   "id": "55320811",
   "metadata": {
    "ExecuteTime": {
     "end_time": "2022-09-22T15:53:23.275425Z",
     "start_time": "2022-09-22T15:53:23.135407Z"
    }
   },
   "outputs": [
    {
     "data": {
      "image/png": "[encoded data removed]",
      "text/plain": [
       "<Figure size 432x288 with 1 Axes>"
      ]
     },
     "metadata": {
      "needs_background": "light"
     },
     "output_type": "display_data"
    }
   ],
   "source": [
    "import matplotlib.pyplot as plt\n",
    "\n",
    "original_val_loss_values=original_history_dict['val_loss']\n",
    "l1_l2_regularized_val_loss_values=l1_l2_regularized_history_dict['val_loss']\n",
    "\n",
    "epochs=range(1,len(original_val_loss_values)+1)\n",
    "\n",
    "plt.plot(epochs,original_val_loss_values,'b+',label='Original model')\n",
    "plt.plot(epochs,l1_l2_regularized_val_loss_values,'bo',label='L1-l2-regularized model')\n",
    "plt.title('original and l1_l2-regularized validation loss')\n",
    "plt.xlabel('Epochs')\n",
    "plt.ylabel('Validation loss')\n",
    "plt.legend()\n",
    "\n",
    "plt.show()"
   ]
  },
  {
   "cell_type": "markdown",
   "id": "58cb11d2",
   "metadata": {},
   "source": [
    "## 添加dropout正则化"
   ]
  },
  {
   "cell_type": "code",
   "execution_count": 18,
   "id": "7835307b",
   "metadata": {
    "ExecuteTime": {
     "end_time": "2022-09-22T16:05:59.903165Z",
     "start_time": "2022-09-22T16:05:46.223307Z"
    }
   },
   "outputs": [
    {
     "name": "stdout",
     "output_type": "stream",
     "text": [
      "Epoch 1/20\n",
      "30/30 [==============================] - 2s 36ms/step - loss: 0.6165 - accuracy: 0.6548 - val_loss: 0.4748 - val_accuracy: 0.8532\n",
      "Epoch 2/20\n",
      "30/30 [==============================] - 1s 19ms/step - loss: 0.4797 - accuracy: 0.7850 - val_loss: 0.3696 - val_accuracy: 0.8796\n",
      "Epoch 3/20\n",
      "30/30 [==============================] - 1s 19ms/step - loss: 0.4001 - accuracy: 0.8393 - val_loss: 0.3302 - val_accuracy: 0.8765\n",
      "Epoch 4/20\n",
      "30/30 [==============================] - 1s 20ms/step - loss: 0.3340 - accuracy: 0.8714 - val_loss: 0.2883 - val_accuracy: 0.8900\n",
      "Epoch 5/20\n",
      "30/30 [==============================] - 1s 19ms/step - loss: 0.2936 - accuracy: 0.8970 - val_loss: 0.2794 - val_accuracy: 0.8899\n",
      "Epoch 6/20\n",
      "30/30 [==============================] - 1s 19ms/step - loss: 0.2542 - accuracy: 0.9153 - val_loss: 0.2745 - val_accuracy: 0.8922\n",
      "Epoch 7/20\n",
      "30/30 [==============================] - 1s 20ms/step - loss: 0.2241 - accuracy: 0.9233 - val_loss: 0.2808 - val_accuracy: 0.8907\n",
      "Epoch 8/20\n",
      "30/30 [==============================] - 1s 20ms/step - loss: 0.1974 - accuracy: 0.9381 - val_loss: 0.2886 - val_accuracy: 0.8892\n",
      "Epoch 9/20\n",
      "11/30 [==========>...................] - ETA: 0s - loss: 0.1812 - accuracy: 0.94"
     ]
    },
    {
     "data": {
      "text/html": [
       "<b>limit_output extension: Maximum message size of 10000 exceeded with 10143 characters</b>"
      ]
     },
     "metadata": {},
     "output_type": "display_data"
    }
   ],
   "source": [
    "# 原始模型\n",
    "from keras import models\n",
    "from keras import layers\n",
    "\n",
    "model=models.Sequential()\n",
    "model.add(layers.Dense(16,activation='relu',input_shape=(10000,)))\n",
    "model.add(layers.Dropout(0.5))\n",
    "model.add(layers.Dense(16,activation='relu'))\n",
    "model.add(layers.Dropout(0.5))\n",
    "model.add(layers.Dense(1,activation='sigmoid'))\n",
    "\n",
    "model.compile(optimizer='rmsprop',loss='binary_crossentropy',metrics=['accuracy'])\n",
    "\n",
    "dropout_history=model.fit(partial_x_train,\n",
    "                 partial_y_train,\n",
    "                 epochs=20,\n",
    "                 batch_size=512,\n",
    "                 validation_data=(x_val,y_val))\n",
    "dropout_history_dict=dropout_history.history"
   ]
  },
  {
   "cell_type": "code",
   "execution_count": 19,
   "id": "60b4f066",
   "metadata": {
    "ExecuteTime": {
     "end_time": "2022-09-22T16:06:16.020980Z",
     "start_time": "2022-09-22T16:06:15.896984Z"
    }
   },
   "outputs": [
    {
     "data": {
      "image/png": "[encoded data removed]",
      "text/plain": [
       "<Figure size 432x288 with 1 Axes>"
      ]
     },
     "metadata": {
      "needs_background": "light"
     },
     "output_type": "display_data"
    }
   ],
   "source": [
    "import matplotlib.pyplot as plt\n",
    "\n",
    "original_val_loss_values=original_history_dict['val_loss']\n",
    "dropout_val_loss_values=dropout_history_dict['val_loss']\n",
    "\n",
    "epochs=range(1,len(original_val_loss_values)+1)\n",
    "\n",
    "plt.plot(epochs,original_val_loss_values,'b+',label='Original model')\n",
    "plt.plot(epochs,dropout_val_loss_values,'bo',label='dropout-regularized model')\n",
    "plt.title('original and dropout-regularized validation loss')\n",
    "plt.xlabel('Epochs')\n",
    "plt.ylabel('Validation loss')\n",
    "plt.legend()\n",
    "\n",
    "plt.show()"
   ]
  },
  {
   "cell_type": "markdown",
   "id": "e33a5423",
   "metadata": {},
   "source": [
    "# 机器学习的通用工作流程"
   ]
  },
  {
   "cell_type": "markdown",
   "id": "a7a66efe",
   "metadata": {},
   "source": [
    "## 定义问题，收集数据集"
   ]
  },
  {
   "cell_type": "markdown",
   "id": "afe83d45",
   "metadata": {},
   "source": [
    "## 选择衡量成功的指标"
   ]
  },
  {
   "cell_type": "markdown",
   "id": "3736f168",
   "metadata": {},
   "source": [
    "## 确定评估方法"
   ]
  },
  {
   "cell_type": "markdown",
   "id": "1b2e8ef4",
   "metadata": {},
   "source": [
    "## 准备数据"
   ]
  },
  {
   "cell_type": "markdown",
   "id": "5181c453",
   "metadata": {},
   "source": [
    "## 开发比基准更好的模型"
   ]
  },
  {
   "cell_type": "markdown",
   "id": "8ae8a0f3",
   "metadata": {},
   "source": [
    "## 扩大模型规模：开发过拟合的模型"
   ]
  },
  {
   "cell_type": "markdown",
   "id": "27108675",
   "metadata": {},
   "source": [
    "## 模型正则化与调节超参数"
   ]
  },
  {
   "cell_type": "code",
   "execution_count": null,
   "id": "a1ef2898",
   "metadata": {},
   "outputs": [],
   "source": []
  }
 ],
 "metadata": {
  "hide_input": false,
  "kernelspec": {
   "display_name": "tensorflow-gpu",
   "language": "python",
   "name": "tensorflow-gpu"
  },
  "language_info": {
   "codemirror_mode": {
    "name": "ipython",
    "version": 3
   },
   "file_extension": ".py",
   "mimetype": "text/x-python",
   "name": "python",
   "nbconvert_exporter": "python",
   "pygments_lexer": "ipython3",
   "version": "3.9.13"
  },
  "nbTranslate": {
   "displayLangs": [
    "*"
   ],
   "hotkey": "alt-t",
   "langInMainMenu": true,
   "sourceLang": "en",
   "targetLang": "fr",
   "useGoogleTranslate": true
  },
  "toc": {
   "base_numbering": 1,
   "nav_menu": {},
   "number_sections": true,
   "sideBar": true,
   "skip_h1_title": false,
   "title_cell": "Table of Contents",
   "title_sidebar": "Contents",
   "toc_cell": false,
   "toc_position": {},
   "toc_section_display": true,
   "toc_window_display": false
  },
  "varInspector": {
   "cols": {
    "lenName": 16,
    "lenType": 16,
    "lenVar": 40
   },
   "kernels_config": {
    "python": {
     "delete_cmd_postfix": "",
     "delete_cmd_prefix": "del ",
     "library": "var_list.py",
     "varRefreshCmd": "print(var_dic_list())"
    },
    "r": {
     "delete_cmd_postfix": ") ",
     "delete_cmd_prefix": "rm(",
     "library": "var_list.r",
     "varRefreshCmd": "cat(var_dic_list()) "
    }
   },
   "types_to_exclude": [
    "module",
    "function",
    "builtin_function_or_method",
    "instance",
    "_Feature"
   ],
   "window_display": false
  }
 },
 "nbformat": 4,
 "nbformat_minor": 5
}
