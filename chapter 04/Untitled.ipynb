{
 "cells": [
  {
   "cell_type": "markdown",
   "id": "49b70443",
   "metadata": {},
   "source": [
    "# 机器学习的四个分支"
   ]
  },
  {
   "cell_type": "markdown",
   "id": "e34ea1d4",
   "metadata": {},
   "source": [
    "## 监督学习"
   ]
  },
  {
   "cell_type": "markdown",
   "id": "5be12095",
   "metadata": {},
   "source": [
    "## 无监督学习"
   ]
  },
  {
   "cell_type": "markdown",
   "id": "eb05b360",
   "metadata": {},
   "source": [
    "## 自监督学习"
   ]
  },
  {
   "cell_type": "markdown",
   "id": "e74423e2",
   "metadata": {},
   "source": [
    "## 强化学习"
   ]
  },
  {
   "cell_type": "markdown",
   "id": "f78303ef",
   "metadata": {},
   "source": [
    "# 评估机器学习模型"
   ]
  },
  {
   "cell_type": "markdown",
   "id": "67250b45",
   "metadata": {},
   "source": [
    "## 训练集、验证集和测试集"
   ]
  },
  {
   "cell_type": "code",
   "execution_count": 1,
   "id": "9dbfe80f",
   "metadata": {
    "ExecuteTime": {
     "end_time": "2022-09-22T14:53:53.300348Z",
     "start_time": "2022-09-22T14:53:53.281355Z"
    }
   },
   "outputs": [],
   "source": [
    "# num_validation_samples=10000\n",
    "\n",
    "# # 通常需要打乱数据\n",
    "# np.random.shuffle(data)\n",
    "\n",
    "# # 定义验证集\n",
    "# validation_data=data[:num_validation_samples]\n",
    "# data=data[num_validation_samples:]\n",
    "\n",
    "# # 定义训练集\n",
    "# training_data=data[:]\n",
    "\n",
    "# # 在训练数据上训练模型\n",
    "# model=get_model()\n",
    "# # 并在验证数据上评估模型\n",
    "# model.train(training_data)\n",
    "# validation_score=model.evaluate(validation_data)\n",
    "\n",
    "# # 现在你可以调节模型、重新训练、评估，然后再次调节...\n",
    "\n",
    "# # 一旦调节好了超参数，通常就在所有非测试数据上从头开始训练最终模型\n",
    "# model=get_model()\n",
    "# model.train(np.concatenate([training_data,\n",
    "#                            validation_data]))\n",
    "# test_score=model.evaluate(test_score)"
   ]
  },
  {
   "cell_type": "code",
   "execution_count": 2,
   "id": "c1dda05a",
   "metadata": {
    "ExecuteTime": {
     "end_time": "2022-09-22T14:53:53.332348Z",
     "start_time": "2022-09-22T14:53:53.321347Z"
    }
   },
   "outputs": [],
   "source": [
    "# k=4\n",
    "# num_validation_samples=len(data)//k\n",
    "\n",
    "# np.random.shuffle(data)\n",
    "\n",
    "# validation_scores=[]\n",
    "# for fold in range(k):\n",
    "#     # 选择验证数据分区\n",
    "#     validation_data=data[num_validation_samples*fold:num_validation_samples*(fold+1)]\n",
    "#     # 使用剩余数据作为训练数据，注意，+运算符是列表合并，并不是求和\n",
    "#     training_data=data[:num_validation_samples*fold]+data[num_validation_samples*(fold+1):]\n",
    "    \n",
    "#     # 创建一个全新的模型\n",
    "#     model=get_model()\n",
    "#     model.train(training_data)\n",
    "#     validation_score=model.evaluate(validation_data)\n",
    "#     validation_scores.append(validation_score)\n",
    "    \n",
    "# # 最终验证分数：K折验证分数的平均值\n",
    "# validation_scorea=np.average(validation_scoresa)\n",
    "\n",
    "# # 在所有非测试数据上训练最终模型\n",
    "# model=get_model()\n",
    "# model.train(data)\n",
    "# test_score=model.evaluate(test_score)"
   ]
  },
  {
   "cell_type": "markdown",
   "id": "7004e632",
   "metadata": {
    "ExecuteTime": {
     "end_time": "2022-09-22T10:06:14.470982Z",
     "start_time": "2022-09-22T10:06:14.456978Z"
    }
   },
   "source": [
    "## 评估模型的注意事项"
   ]
  },
  {
   "cell_type": "markdown",
   "id": "0d5e8ef8",
   "metadata": {},
   "source": [
    "# 数据预处理、特征工程和特征学习"
   ]
  },
  {
   "cell_type": "markdown",
   "id": "f868ad31",
   "metadata": {},
   "source": [
    "## 神经网络的数据预处理"
   ]
  },
  {
   "cell_type": "code",
   "execution_count": 3,
   "id": "8670b819",
   "metadata": {
    "ExecuteTime": {
     "end_time": "2022-09-22T14:53:53.490154Z",
     "start_time": "2022-09-22T14:53:53.484145Z"
    }
   },
   "outputs": [],
   "source": [
    "# # 假设x是一个形状为(samples,features)的二维矩阵\n",
    "# x-=x.mean(axis=0)\n",
    "# x/=x.std(axis=0)"
   ]
  },
  {
   "cell_type": "markdown",
   "id": "9fd75f7a",
   "metadata": {},
   "source": [
    "## 特征工程"
   ]
  },
  {
   "cell_type": "markdown",
   "id": "144b495f",
   "metadata": {},
   "source": [
    "# 过拟合和欠拟合"
   ]
  },
  {
   "cell_type": "markdown",
   "id": "d32d2205",
   "metadata": {},
   "source": [
    "## 减小网络大小"
   ]
  },
  {
   "cell_type": "code",
   "execution_count": 4,
   "id": "65c22722",
   "metadata": {
    "ExecuteTime": {
     "end_time": "2022-09-22T14:54:00.542615Z",
     "start_time": "2022-09-22T14:53:53.624767Z"
    }
   },
   "outputs": [],
   "source": [
    "# 载入第三章电影评论分类的网络数据\n",
    "from keras.datasets import imdb\n",
    "import numpy as np\n",
    "\n",
    "(train_data,train_labels),(test_data,test_labels)=imdb.load_data(num_words=10000)\n",
    "\n",
    "def vectorize_sequences(sequences,dimension=10000):\n",
    "    # 创建一个形状为(len(sequences),dimension)的零矩阵\n",
    "    results=np.zeros((len(sequences),dimension))\n",
    "    for i,sequence in enumerate(sequences):\n",
    "        # 将result[i]的指定索引设为1\n",
    "        results[i,sequence]=1.\n",
    "    return results\n",
    "\n",
    "# 将训练数据向量化\n",
    "x_train=vectorize_sequences(train_data)\n",
    "# 将测试数据向量化\n",
    "x_test=vectorize_sequences(test_data)\n",
    "\n",
    "y_train=np.asarray(train_labels).astype('float32')\n",
    "y_test=np.asarray(test_labels).astype('float32')\n",
    "\n",
    "\n",
    "x_val=x_train[:10000]\n",
    "partial_x_train=x_train[10000:]\n",
    "\n",
    "y_val=y_train[:10000]\n",
    "partial_y_train=y_train[10000:]"
   ]
  },
  {
   "cell_type": "code",
   "execution_count": 5,
   "id": "c27aa753",
   "metadata": {
    "ExecuteTime": {
     "end_time": "2022-09-22T14:54:16.141265Z",
     "start_time": "2022-09-22T14:54:00.545591Z"
    }
   },
   "outputs": [
    {
     "name": "stdout",
     "output_type": "stream",
     "text": [
      "Epoch 1/20\n",
      "30/30 [==============================] - 2s 37ms/step - loss: 0.5121 - accuracy: 0.7936 - val_loss: 0.4430 - val_accuracy: 0.8102\n",
      "Epoch 2/20\n",
      "30/30 [==============================] - 1s 19ms/step - loss: 0.3142 - accuracy: 0.9025 - val_loss: 0.3151 - val_accuracy: 0.8816\n",
      "Epoch 3/20\n",
      "30/30 [==============================] - 1s 19ms/step - loss: 0.2312 - accuracy: 0.9243 - val_loss: 0.2812 - val_accuracy: 0.8890\n",
      "Epoch 4/20\n",
      "30/30 [==============================] - 1s 19ms/step - loss: 0.1787 - accuracy: 0.9406 - val_loss: 0.2947 - val_accuracy: 0.8817\n",
      "Epoch 5/20\n",
      "30/30 [==============================] - 1s 19ms/step - loss: 0.1449 - accuracy: 0.9543 - val_loss: 0.2806 - val_accuracy: 0.8872\n",
      "Epoch 6/20\n",
      "30/30 [==============================] - 1s 18ms/step - loss: 0.1183 - accuracy: 0.9644 - val_loss: 0.3026 - val_accuracy: 0.8826\n",
      "Epoch 7/20\n",
      "30/30 [==============================] - 1s 19ms/step - loss: 0.0990 - accuracy: 0.9703 - val_loss: 0.3116 - val_accuracy: 0.8828\n",
      "Epoch 8/20\n",
      "30/30 [==============================] - 1s 19ms/step - loss: 0.0823 - accuracy: 0.9766 - val_loss: 0.3309 - val_accuracy: 0.8820\n",
      "Epoch 9/20\n",
      "24/30 [=======================>......] - ETA: 0s - loss: 0.0667 - accuracy: 0.98"
     ]
    },
    {
     "data": {
      "text/html": [
       "<b>limit_output extension: Maximum message size of 10000 exceeded with 10143 characters</b>"
      ]
     },
     "metadata": {},
     "output_type": "display_data"
    }
   ],
   "source": [
    "# 原始模型\n",
    "from keras import models\n",
    "from keras import layers\n",
    "\n",
    "model=models.Sequential()\n",
    "model.add(layers.Dense(16,activation='relu',input_shape=(10000,)))\n",
    "model.add(layers.Dense(16,activation='relu'))\n",
    "model.add(layers.Dense(1,activation='sigmoid'))\n",
    "\n",
    "model.compile(optimizer='rmsprop',loss='binary_crossentropy',metrics=['accuracy'])\n",
    "\n",
    "original_history=model.fit(partial_x_train,\n",
    "                 partial_y_train,\n",
    "                 epochs=20,\n",
    "                 batch_size=512,\n",
    "                 validation_data=(x_val,y_val))\n",
    "\n",
    "original_history_dict=original_history.history"
   ]
  },
  {
   "cell_type": "code",
   "execution_count": 6,
   "id": "57fea2b6",
   "metadata": {
    "ExecuteTime": {
     "end_time": "2022-09-22T14:54:29.176590Z",
     "start_time": "2022-09-22T14:54:16.143263Z"
    }
   },
   "outputs": [
    {
     "name": "stdout",
     "output_type": "stream",
     "text": [
      "Epoch 1/20\n",
      "30/30 [==============================] - 2s 36ms/step - loss: 0.6019 - accuracy: 0.6567 - val_loss: 0.5464 - val_accuracy: 0.7223\n",
      "Epoch 2/20\n",
      "30/30 [==============================] - 1s 19ms/step - loss: 0.4936 - accuracy: 0.8304 - val_loss: 0.4946 - val_accuracy: 0.8293\n",
      "Epoch 3/20\n",
      "30/30 [==============================] - 1s 19ms/step - loss: 0.4399 - accuracy: 0.8848 - val_loss: 0.4844 - val_accuracy: 0.8076\n",
      "Epoch 4/20\n",
      "30/30 [==============================] - 1s 19ms/step - loss: 0.4010 - accuracy: 0.9135 - val_loss: 0.4537 - val_accuracy: 0.8491\n",
      "Epoch 5/20\n",
      "30/30 [==============================] - 1s 19ms/step - loss: 0.3684 - accuracy: 0.9319 - val_loss: 0.4291 - val_accuracy: 0.8837\n",
      "Epoch 6/20\n",
      "30/30 [==============================] - 1s 19ms/step - loss: 0.3399 - accuracy: 0.9473 - val_loss: 0.4157 - val_accuracy: 0.8800\n",
      "Epoch 7/20\n",
      "30/30 [==============================] - 1s 19ms/step - loss: 0.3125 - accuracy: 0.9564 - val_loss: 0.4238 - val_accuracy: 0.8631\n",
      "Epoch 8/20\n",
      "30/30 [==============================] - 1s 19ms/step - loss: 0.2869 - accuracy: 0.9628 - val_loss: 0.3954 - val_accuracy: 0.8813\n",
      "Epoch 9/20\n",
      "21/30 [====================>.........] - ETA: 0s - loss: 0.2600 - accuracy: 0.97"
     ]
    },
    {
     "data": {
      "text/html": [
       "<b>limit_output extension: Maximum message size of 10000 exceeded with 10143 characters</b>"
      ]
     },
     "metadata": {},
     "output_type": "display_data"
    }
   ],
   "source": [
    "# 容量更小的模型\n",
    "model=models.Sequential()\n",
    "model.add(layers.Dense(4,activation='relu',input_shape=(10000,)))\n",
    "model.add(layers.Dense(4,activation='relu'))\n",
    "model.add(layers.Dense(1,activation='sigmoid'))\n",
    "\n",
    "model.compile(optimizer='rmsprop',loss='binary_crossentropy',metrics=['accuracy'])\n",
    "\n",
    "smaller_history=model.fit(partial_x_train,\n",
    "                 partial_y_train,\n",
    "                 epochs=20,\n",
    "                 batch_size=512,\n",
    "                 validation_data=(x_val,y_val))\n",
    "\n",
    "smaller_history_dict=smaller_history.history"
   ]
  },
  {
   "cell_type": "code",
   "execution_count": 7,
   "id": "b7734a65",
   "metadata": {
    "ExecuteTime": {
     "end_time": "2022-09-22T14:54:29.684140Z",
     "start_time": "2022-09-22T14:54:29.179583Z"
    }
   },
   "outputs": [
    {
     "data": {
      "image/png": "[encoded data removed]",
      "text/plain": [
       "<Figure size 432x288 with 1 Axes>"
      ]
     },
     "metadata": {
      "needs_background": "light"
     },
     "output_type": "display_data"
    }
   ],
   "source": [
    "import matplotlib.pyplot as plt\n",
    "\n",
    "original_val_loss_values=original_history_dict['val_loss']\n",
    "smaller_val_loss_values=smaller_history_dict['val_loss']\n",
    "\n",
    "epochs=range(1,len(original_val_loss_values)+1)\n",
    "\n",
    "plt.plot(epochs,original_val_loss_values,'b+',label='Original model')\n",
    "plt.plot(epochs,smaller_val_loss_values,'bo',label='Smaller model')\n",
    "plt.title('original and smaller validation loss')\n",
    "plt.xlabel('Epochs')\n",
    "plt.ylabel('Validation loss')\n",
    "plt.legend()\n",
    "\n",
    "plt.show()"
   ]
  },
  {
   "cell_type": "code",
   "execution_count": 8,
   "id": "7413ebdc",
   "metadata": {
    "ExecuteTime": {
     "end_time": "2022-09-22T14:54:45.154772Z",
     "start_time": "2022-09-22T14:54:29.686146Z"
    }
   },
   "outputs": [
    {
     "name": "stdout",
     "output_type": "stream",
     "text": [
      "Epoch 1/20\n",
      "30/30 [==============================] - 2s 38ms/step - loss: 0.5373 - accuracy: 0.7500 - val_loss: 0.3195 - val_accuracy: 0.8715\n",
      "Epoch 2/20\n",
      "30/30 [==============================] - 1s 23ms/step - loss: 0.2393 - accuracy: 0.9052 - val_loss: 0.5053 - val_accuracy: 0.7907\n",
      "Epoch 3/20\n",
      "30/30 [==============================] - 1s 23ms/step - loss: 0.1523 - accuracy: 0.9417 - val_loss: 0.6638 - val_accuracy: 0.7932\n",
      "Epoch 4/20\n",
      "30/30 [==============================] - 1s 22ms/step - loss: 0.1066 - accuracy: 0.9655 - val_loss: 0.3248 - val_accuracy: 0.8891\n",
      "Epoch 5/20\n",
      "30/30 [==============================] - 1s 23ms/step - loss: 0.0133 - accuracy: 0.9967 - val_loss: 1.2382 - val_accuracy: 0.7702\n",
      "Epoch 6/20\n",
      "30/30 [==============================] - 1s 23ms/step - loss: 0.0789 - accuracy: 0.9807 - val_loss: 0.4667 - val_accuracy: 0.8871\n",
      "Epoch 7/20\n",
      "29/30 [========================>.....] - ETA: 0s - loss: 8.7674e-04 - accuracy: 1.00"
     ]
    },
    {
     "data": {
      "text/html": [
       "<b>limit_output extension: Maximum message size of 10000 exceeded with 10064 characters</b>"
      ]
     },
     "metadata": {},
     "output_type": "display_data"
    }
   ],
   "source": [
    "# 容量更大的模型\n",
    "model=models.Sequential()\n",
    "model.add(layers.Dense(512,activation='relu',input_shape=(10000,)))\n",
    "model.add(layers.Dense(512,activation='relu'))\n",
    "model.add(layers.Dense(1,activation='sigmoid'))\n",
    "\n",
    "model.compile(optimizer='rmsprop',loss='binary_crossentropy',metrics=['accuracy'])\n",
    "\n",
    "bigger_history=model.fit(partial_x_train,\n",
    "                 partial_y_train,\n",
    "                 epochs=20,\n",
    "                 batch_size=512,\n",
    "                 validation_data=(x_val,y_val))\n",
    "\n",
    "bigger_history_dict=bigger_history.history"
   ]
  },
  {
   "cell_type": "code",
   "execution_count": 9,
   "id": "e7de3061",
   "metadata": {
    "ExecuteTime": {
     "end_time": "2022-09-22T14:54:45.309791Z",
     "start_time": "2022-09-22T14:54:45.155774Z"
    }
   },
   "outputs": [
    {
     "data": {
      "image/png": "[encoded data removed]",
      "text/plain": [
       "<Figure size 432x288 with 1 Axes>"
      ]
     },
     "metadata": {
      "needs_background": "light"
     },
     "output_type": "display_data"
    }
   ],
   "source": [
    "import matplotlib.pyplot as plt\n",
    "\n",
    "original_val_loss_values=original_history_dict['val_loss']\n",
    "bigger_val_loss_values=bigger_history_dict['val_loss']\n",
    "\n",
    "epochs=range(1,len(original_val_loss_values)+1)\n",
    "\n",
    "plt.plot(epochs,original_val_loss_values,'b+',label='Original model')\n",
    "plt.plot(epochs,bigger_val_loss_values,'bo',label='Bigger model')\n",
    "plt.title('original and bigger validation loss')\n",
    "plt.xlabel('Epochs')\n",
    "plt.ylabel('Validation loss')\n",
    "plt.legend()\n",
    "\n",
    "plt.show()"
   ]
  },
  {
   "cell_type": "code",
   "execution_count": 10,
   "id": "78267547",
   "metadata": {
    "ExecuteTime": {
     "end_time": "2022-09-22T14:54:45.453779Z",
     "start_time": "2022-09-22T14:54:45.312774Z"
    }
   },
   "outputs": [
    {
     "data": {
      "image/png": "[encoded data removed]",
      "text/plain": [
       "<Figure size 432x288 with 1 Axes>"
      ]
     },
     "metadata": {
      "needs_background": "light"
     },
     "output_type": "display_data"
    }
   ],
   "source": [
    "import matplotlib.pyplot as plt\n",
    "\n",
    "original_val_loss_values=original_history_dict['loss']\n",
    "bigger_val_loss_values=bigger_history_dict['loss']\n",
    "\n",
    "epochs=range(1,len(original_val_loss_values)+1)\n",
    "\n",
    "plt.plot(epochs,original_val_loss_values,'b+',label='Original model')\n",
    "plt.plot(epochs,bigger_val_loss_values,'bo',label='Bigger model')\n",
    "plt.title('original and bigger training loss')\n",
    "plt.xlabel('Epochs')\n",
    "plt.ylabel('Training loss')\n",
    "plt.legend()\n",
    "\n",
    "plt.show()"
   ]
  },
  {
   "cell_type": "code",
   "execution_count": 11,
   "id": "31e0089d",
   "metadata": {
    "ExecuteTime": {
     "end_time": "2022-09-22T14:54:58.622115Z",
     "start_time": "2022-09-22T14:54:45.455796Z"
    }
   },
   "outputs": [
    {
     "name": "stdout",
     "output_type": "stream",
     "text": [
      "Epoch 1/20\n",
      "30/30 [==============================] - 2s 35ms/step - loss: 0.5341 - accuracy: 0.7853 - val_loss: 0.4033 - val_accuracy: 0.8738\n",
      "Epoch 2/20\n",
      "30/30 [==============================] - 1s 18ms/step - loss: 0.3367 - accuracy: 0.9037 - val_loss: 0.3441 - val_accuracy: 0.8859\n",
      "Epoch 3/20\n",
      "30/30 [==============================] - 1s 19ms/step - loss: 0.2744 - accuracy: 0.9237 - val_loss: 0.3345 - val_accuracy: 0.8846\n",
      "Epoch 4/20\n",
      "30/30 [==============================] - 1s 19ms/step - loss: 0.2407 - accuracy: 0.9365 - val_loss: 0.3283 - val_accuracy: 0.8858\n",
      "Epoch 5/20\n",
      "30/30 [==============================] - 1s 19ms/step - loss: 0.2191 - accuracy: 0.9439 - val_loss: 0.3314 - val_accuracy: 0.8852\n",
      "Epoch 6/20\n",
      "30/30 [==============================] - 1s 19ms/step - loss: 0.2041 - accuracy: 0.9489 - val_loss: 0.3446 - val_accuracy: 0.8845\n",
      "Epoch 7/20\n",
      "30/30 [==============================] - 1s 19ms/step - loss: 0.1957 - accuracy: 0.9533 - val_loss: 0.3492 - val_accuracy: 0.8823\n",
      "Epoch 8/20\n",
      "30/30 [==============================] - 1s 19ms/step - loss: 0.1835 - accuracy: 0.9600 - val_loss: 0.3537 - val_accuracy: 0.8831\n",
      "Epoch 9/20\n",
      "21/30 [====================>.........] - ETA: 0s - loss: 0.1783 - accuracy: 0.96"
     ]
    },
    {
     "data": {
      "text/html": [
       "<b>limit_output extension: Maximum message size of 10000 exceeded with 10143 characters</b>"
      ]
     },
     "metadata": {},
     "output_type": "display_data"
    }
   ],
   "source": [
    "from keras import regularizers\n",
    "\n",
    "model=models.Sequential()\n",
    "model.add(layers.Dense(16,kernel_regularizer=regularizers.l2(0.001),activation='relu',input_shape=(10000,)))\n",
    "model.add(layers.Dense(16,kernel_regularizer=regularizers.l2(0.001),activation='relu'))\n",
    "model.add(layers.Dense(1,activation='sigmoid'))\n",
    "\n",
    "model.compile(optimizer='rmsprop',loss='binary_crossentropy',metrics=['accuracy'])\n",
    "\n",
    "l2_regularized_history=model.fit(partial_x_train,\n",
    "                 partial_y_train,\n",
    "                 epochs=20,\n",
    "                 batch_size=512,\n",
    "                 validation_data=(x_val,y_val))\n",
    "\n",
    "l2_regularized_history_dict=l2_regularized_history.history"
   ]
  },
  {
   "cell_type": "code",
   "execution_count": 12,
   "id": "b7da49f6",
   "metadata": {
    "ExecuteTime": {
     "end_time": "2022-09-22T14:54:58.781116Z",
     "start_time": "2022-09-22T14:54:58.623107Z"
    }
   },
   "outputs": [
    {
     "data": {
      "image/png": "[encoded data removed]",
      "text/plain": [
       "<Figure size 432x288 with 1 Axes>"
      ]
     },
     "metadata": {
      "needs_background": "light"
     },
     "output_type": "display_data"
    }
   ],
   "source": [
    "import matplotlib.pyplot as plt\n",
    "\n",
    "original_val_loss_values=original_history_dict['val_loss']\n",
    "l2_regularized_val_loss_values=l2_regularized_history_dict['val_loss']\n",
    "\n",
    "epochs=range(1,len(original_val_loss_values)+1)\n",
    "\n",
    "plt.plot(epochs,original_val_loss_values,'b+',label='Original model')\n",
    "plt.plot(epochs,l2_regularized_val_loss_values,'bo',label='L2-regularized model')\n",
    "plt.title('original and l2-regularized validation loss')\n",
    "plt.xlabel('Epochs')\n",
    "plt.ylabel('Validation loss')\n",
    "plt.legend()\n",
    "\n",
    "plt.show()"
   ]
  },
  {
   "cell_type": "code",
   "execution_count": 13,
   "id": "c831f9b7",
   "metadata": {
    "ExecuteTime": {
     "end_time": "2022-09-22T14:55:12.091005Z",
     "start_time": "2022-09-22T14:54:58.784113Z"
    }
   },
   "outputs": [
    {
     "name": "stdout",
     "output_type": "stream",
     "text": [
      "Epoch 1/20\n",
      "30/30 [==============================] - 2s 39ms/step - loss: 1.0788 - accuracy: 0.7281 - val_loss: 0.7156 - val_accuracy: 0.8211\n",
      "Epoch 2/20\n",
      "30/30 [==============================] - 1s 19ms/step - loss: 0.6700 - accuracy: 0.8366 - val_loss: 0.6738 - val_accuracy: 0.8236\n",
      "Epoch 3/20\n",
      "30/30 [==============================] - 1s 19ms/step - loss: 0.6199 - accuracy: 0.8535 - val_loss: 0.6243 - val_accuracy: 0.8484\n",
      "Epoch 4/20\n",
      "30/30 [==============================] - 1s 19ms/step - loss: 0.6007 - accuracy: 0.8545 - val_loss: 0.6005 - val_accuracy: 0.8552\n",
      "Epoch 5/20\n",
      "30/30 [==============================] - 1s 19ms/step - loss: 0.5746 - accuracy: 0.8642 - val_loss: 0.5835 - val_accuracy: 0.8590\n",
      "Epoch 6/20\n",
      "30/30 [==============================] - 1s 19ms/step - loss: 0.5623 - accuracy: 0.8662 - val_loss: 0.5819 - val_accuracy: 0.8575\n",
      "Epoch 7/20\n",
      "30/30 [==============================] - 1s 19ms/step - loss: 0.5520 - accuracy: 0.8696 - val_loss: 0.5784 - val_accuracy: 0.8552\n",
      "Epoch 8/20\n",
      "30/30 [==============================] - 1s 19ms/step - loss: 0.5536 - accuracy: 0.8657 - val_loss: 0.5535 - val_accuracy: 0.8689\n",
      "Epoch 9/20\n",
      "21/30 [====================>.........] - ETA: 0s - loss: 0.5410 - accuracy: 0.87"
     ]
    },
    {
     "data": {
      "text/html": [
       "<b>limit_output extension: Maximum message size of 10000 exceeded with 10143 characters</b>"
      ]
     },
     "metadata": {},
     "output_type": "display_data"
    }
   ],
   "source": [
    "from keras import regularizers\n",
    "\n",
    "model=models.Sequential()\n",
    "model.add(layers.Dense(16,kernel_regularizer=regularizers.l1(0.001),activation='relu',input_shape=(10000,)))\n",
    "model.add(layers.Dense(16,kernel_regularizer=regularizers.l1(0.001),activation='relu'))\n",
    "model.add(layers.Dense(1,activation='sigmoid'))\n",
    "\n",
    "model.compile(optimizer='rmsprop',loss='binary_crossentropy',metrics=['accuracy'])\n",
    "\n",
    "l1_regularized_history=model.fit(partial_x_train,\n",
    "                 partial_y_train,\n",
    "                 epochs=20,\n",
    "                 batch_size=512,\n",
    "                 validation_data=(x_val,y_val))\n",
    "\n",
    "l1_regularized_history_dict=l1_regularized_history.history"
   ]
  },
  {
   "cell_type": "code",
   "execution_count": 14,
   "id": "56f25bf7",
   "metadata": {
    "ExecuteTime": {
     "end_time": "2022-09-22T14:55:12.234004Z",
     "start_time": "2022-09-22T14:55:12.093011Z"
    }
   },
   "outputs": [
    {
     "data": {
      "image/png": "[encoded data removed]",
      "text/plain": [
       "<Figure size 432x288 with 1 Axes>"
      ]
     },
     "metadata": {
      "needs_background": "light"
     },
     "output_type": "display_data"
    }
   ],
   "source": [
    "import matplotlib.pyplot as plt\n",
    "\n",
    "original_val_loss_values=original_history_dict['val_loss']\n",
    "l1_regularized_val_loss_values=l1_regularized_history_dict['val_loss']\n",
    "\n",
    "epochs=range(1,len(original_val_loss_values)+1)\n",
    "\n",
    "plt.plot(epochs,original_val_loss_values,'b+',label='Original model')\n",
    "plt.plot(epochs,l1_regularized_val_loss_values,'bo',label='L1-regularized model')\n",
    "plt.title('original and l1-regularized validation loss')\n",
    "plt.xlabel('Epochs')\n",
    "plt.ylabel('Validation loss')\n",
    "plt.legend()\n",
    "\n",
    "plt.show()"
   ]
  },
  {
   "cell_type": "code",
   "execution_count": 17,
   "id": "67329817",
   "metadata": {
    "ExecuteTime": {
     "end_time": "2022-09-22T14:58:15.026945Z",
     "start_time": "2022-09-22T14:58:01.928218Z"
    }
   },
   "outputs": [
    {
     "name": "stdout",
     "output_type": "stream",
     "text": [
      "Epoch 1/20\n",
      "30/30 [==============================] - 2s 35ms/step - loss: 1.0885 - accuracy: 0.7363 - val_loss: 0.7249 - val_accuracy: 0.8212\n",
      "Epoch 2/20\n",
      "30/30 [==============================] - 1s 19ms/step - loss: 0.6759 - accuracy: 0.8416 - val_loss: 0.6893 - val_accuracy: 0.8004\n",
      "Epoch 3/20\n",
      "30/30 [==============================] - 1s 19ms/step - loss: 0.6247 - accuracy: 0.8535 - val_loss: 0.6136 - val_accuracy: 0.8571\n",
      "Epoch 4/20\n",
      "30/30 [==============================] - 1s 19ms/step - loss: 0.5898 - accuracy: 0.8638 - val_loss: 0.5922 - val_accuracy: 0.8600\n",
      "Epoch 5/20\n",
      "30/30 [==============================] - 1s 18ms/step - loss: 0.5721 - accuracy: 0.8643 - val_loss: 0.5935 - val_accuracy: 0.8523\n",
      "Epoch 6/20\n",
      "30/30 [==============================] - 1s 19ms/step - loss: 0.5547 - accuracy: 0.8693 - val_loss: 0.5943 - val_accuracy: 0.8441\n",
      "Epoch 7/20\n",
      "30/30 [==============================] - 1s 19ms/step - loss: 0.5479 - accuracy: 0.8731 - val_loss: 0.5996 - val_accuracy: 0.8410\n",
      "Epoch 8/20\n",
      "30/30 [==============================] - 1s 19ms/step - loss: 0.5415 - accuracy: 0.8701 - val_loss: 0.5542 - val_accuracy: 0.8643\n",
      "Epoch 9/20\n",
      "21/30 [====================>.........] - ETA: 0s - loss: 0.5276 - accuracy: 0.87"
     ]
    },
    {
     "data": {
      "text/html": [
       "<b>limit_output extension: Maximum message size of 10000 exceeded with 10143 characters</b>"
      ]
     },
     "metadata": {},
     "output_type": "display_data"
    }
   ],
   "source": [
    "from keras import regularizers\n",
    "\n",
    "model=models.Sequential()\n",
    "model.add(layers.Dense(16,kernel_regularizer=regularizers.l1_l2(l1=0.001,l2=0.001),activation='relu',input_shape=(10000,)))\n",
    "model.add(layers.Dense(16,kernel_regularizer=regularizers.l1_l2(l1=0.001,l2=0.001),activation='relu'))\n",
    "model.add(layers.Dense(1,activation='sigmoid'))\n",
    "\n",
    "model.compile(optimizer='rmsprop',loss='binary_crossentropy',metrics=['accuracy'])\n",
    "\n",
    "l1_l2_regularized_history=model.fit(partial_x_train,\n",
    "                 partial_y_train,\n",
    "                 epochs=20,\n",
    "                 batch_size=512,\n",
    "                 validation_data=(x_val,y_val))\n",
    "\n",
    "l1_l2_regularized_history_dict=l1_l2_regularized_history.history"
   ]
  },
  {
   "cell_type": "code",
   "execution_count": 18,
   "id": "21e3a559",
   "metadata": {
    "ExecuteTime": {
     "end_time": "2022-09-22T14:58:18.923976Z",
     "start_time": "2022-09-22T14:58:18.770351Z"
    }
   },
   "outputs": [
    {
     "data": {
      "image/png": "[encoded data removed]",
      "text/plain": [
       "<Figure size 432x288 with 1 Axes>"
      ]
     },
     "metadata": {
      "needs_background": "light"
     },
     "output_type": "display_data"
    }
   ],
   "source": [
    "import matplotlib.pyplot as plt\n",
    "\n",
    "original_val_loss_values=original_history_dict['val_loss']\n",
    "l1_l2_regularized_val_loss_values=l1_l2_regularized_history_dict['val_loss']\n",
    "\n",
    "epochs=range(1,len(original_val_loss_values)+1)\n",
    "\n",
    "plt.plot(epochs,original_val_loss_values,'b+',label='Original model')\n",
    "plt.plot(epochs,l1_l2_regularized_val_loss_values,'bo',label='L1-l2-regularized model')\n",
    "plt.title('original and l1_l2-regularized validation loss')\n",
    "plt.xlabel('Epochs')\n",
    "plt.ylabel('Validation loss')\n",
    "plt.legend()\n",
    "\n",
    "plt.show()"
   ]
  },
  {
   "cell_type": "code",
   "execution_count": 19,
   "id": "d1cf2353",
   "metadata": {
    "ExecuteTime": {
     "end_time": "2022-09-22T15:18:33.964815Z",
     "start_time": "2022-09-22T15:18:20.101431Z"
    }
   },
   "outputs": [
    {
     "name": "stdout",
     "output_type": "stream",
     "text": [
      "Epoch 1/20\n",
      "30/30 [==============================] - 2s 36ms/step - loss: 0.6350 - accuracy: 0.6366 - val_loss: 0.5520 - val_accuracy: 0.8158\n",
      "Epoch 2/20\n",
      "30/30 [==============================] - 1s 19ms/step - loss: 0.5324 - accuracy: 0.7531 - val_loss: 0.4529 - val_accuracy: 0.8522\n",
      "Epoch 3/20\n",
      "30/30 [==============================] - 1s 19ms/step - loss: 0.4511 - accuracy: 0.8103 - val_loss: 0.3619 - val_accuracy: 0.8817\n",
      "Epoch 4/20\n",
      "30/30 [==============================] - 1s 19ms/step - loss: 0.3854 - accuracy: 0.8493 - val_loss: 0.3148 - val_accuracy: 0.8863\n",
      "Epoch 5/20\n",
      "30/30 [==============================] - 1s 19ms/step - loss: 0.3342 - accuracy: 0.8775 - val_loss: 0.3001 - val_accuracy: 0.8824\n",
      "Epoch 6/20\n",
      "30/30 [==============================] - 1s 19ms/step - loss: 0.2866 - accuracy: 0.8995 - val_loss: 0.2783 - val_accuracy: 0.8884\n",
      "Epoch 7/20\n",
      "30/30 [==============================] - 1s 19ms/step - loss: 0.2567 - accuracy: 0.9135 - val_loss: 0.2693 - val_accuracy: 0.8927\n",
      "Epoch 8/20\n",
      "30/30 [==============================] - 1s 19ms/step - loss: 0.2220 - accuracy: 0.9261 - val_loss: 0.2760 - val_accuracy: 0.8911\n",
      "Epoch 9/20\n",
      "21/30 [====================>.........] - ETA: 0s - loss: 0.2000 - accuracy: 0.93"
     ]
    },
    {
     "data": {
      "text/html": [
       "<b>limit_output extension: Maximum message size of 10000 exceeded with 10143 characters</b>"
      ]
     },
     "metadata": {},
     "output_type": "display_data"
    }
   ],
   "source": [
    "# 原始模型\n",
    "from keras import models\n",
    "from keras import layers\n",
    "\n",
    "model=models.Sequential()\n",
    "model.add(layers.Dense(16,activation='relu',input_shape=(10000,)))\n",
    "model.add(layers.Dropout(0.5))\n",
    "model.add(layers.Dense(16,activation='relu'))\n",
    "model.add(layers.Dropout(0.5))\n",
    "model.add(layers.Dense(1,activation='sigmoid'))\n",
    "\n",
    "model.compile(optimizer='rmsprop',loss='binary_crossentropy',metrics=['accuracy'])\n",
    "\n",
    "dropout_history=model.fit(partial_x_train,\n",
    "                 partial_y_train,\n",
    "                 epochs=20,\n",
    "                 batch_size=512,\n",
    "                 validation_data=(x_val,y_val))\n",
    "dropout_history_dict=dropout_history.history"
   ]
  },
  {
   "cell_type": "code",
   "execution_count": 22,
   "id": "eb0dc14b",
   "metadata": {
    "ExecuteTime": {
     "end_time": "2022-09-22T15:20:22.263480Z",
     "start_time": "2022-09-22T15:20:22.134489Z"
    }
   },
   "outputs": [
    {
     "data": {
      "image/png": "[encoded data removed]",
      "text/plain": [
       "<Figure size 432x288 with 1 Axes>"
      ]
     },
     "metadata": {
      "needs_background": "light"
     },
     "output_type": "display_data"
    }
   ],
   "source": [
    "import matplotlib.pyplot as plt\n",
    "\n",
    "original_val_loss_values=original_history_dict['val_loss']\n",
    "dropout_val_loss_values=dropout_history_dict['val_loss']\n",
    "\n",
    "epochs=range(1,len(original_val_loss_values)+1)\n",
    "\n",
    "plt.plot(epochs,original_val_loss_values,'b+',label='Original model')\n",
    "plt.plot(epochs,dropout_val_loss_values,'bo',label='dropout-regularized model')\n",
    "plt.title('original and dropout-regularized validation loss')\n",
    "plt.xlabel('Epochs')\n",
    "plt.ylabel('Validation loss')\n",
    "plt.legend()\n",
    "\n",
    "plt.show()"
   ]
  },
  {
   "cell_type": "code",
   "execution_count": null,
   "id": "49be8552",
   "metadata": {},
   "outputs": [],
   "source": []
  }
 ],
 "metadata": {
  "hide_input": false,
  "kernelspec": {
   "display_name": "tensorflow-gpu",
   "language": "python",
   "name": "tensorflow-gpu"
  },
  "language_info": {
   "codemirror_mode": {
    "name": "ipython",
    "version": 3
   },
   "file_extension": ".py",
   "mimetype": "text/x-python",
   "name": "python",
   "nbconvert_exporter": "python",
   "pygments_lexer": "ipython3",
   "version": "3.9.13"
  },
  "nbTranslate": {
   "displayLangs": [
    "*"
   ],
   "hotkey": "alt-t",
   "langInMainMenu": true,
   "sourceLang": "en",
   "targetLang": "fr",
   "useGoogleTranslate": true
  },
  "toc": {
   "base_numbering": 1,
   "nav_menu": {},
   "number_sections": true,
   "sideBar": true,
   "skip_h1_title": false,
   "title_cell": "Table of Contents",
   "title_sidebar": "Contents",
   "toc_cell": false,
   "toc_position": {},
   "toc_section_display": true,
   "toc_window_display": false
  },
  "varInspector": {
   "cols": {
    "lenName": 16,
    "lenType": 16,
    "lenVar": 40
   },
   "kernels_config": {
    "python": {
     "delete_cmd_postfix": "",
     "delete_cmd_prefix": "del ",
     "library": "var_list.py",
     "varRefreshCmd": "print(var_dic_list())"
    },
    "r": {
     "delete_cmd_postfix": ") ",
     "delete_cmd_prefix": "rm(",
     "library": "var_list.r",
     "varRefreshCmd": "cat(var_dic_list()) "
    }
   },
   "types_to_exclude": [
    "module",
    "function",
    "builtin_function_or_method",
    "instance",
    "_Feature"
   ],
   "window_display": false
  }
 },
 "nbformat": 4,
 "nbformat_minor": 5
}
